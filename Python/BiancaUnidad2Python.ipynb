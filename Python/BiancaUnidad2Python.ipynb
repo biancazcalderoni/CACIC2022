{
  "cells": [
    {
      "cell_type": "markdown",
      "metadata": {},
      "source": [
        "## UNIDAD 2 \n",
        "# Condicionales y expresiones booleanas"
      ]
    },
    {
      "cell_type": "markdown",
      "metadata": {},
      "source": [
        "Definición de bloques, comentarios y ancho de línea"
      ]
    },
    {
      "cell_type": "markdown",
      "metadata": {},
      "source": [
        "A diferencia de otros lenguajes que utilizan llaves para definir los bloques de código,\n",
        "cuando Guido Van Rossum creó el lenguaje quiso evitar estos caracteres por considerarlos\n",
        "innecesarios. Es por ello que en Python los bloques de código se definen a través de\n",
        "espacios en blanco, preferiblemente 4.2 En términos técnicos se habla del tamaño\n",
        "de indentación."
      ]
    },
    {
      "cell_type": "markdown",
      "metadata": {},
      "source": [
        "Comentarios"
      ]
    },
    {
      "cell_type": "markdown",
      "metadata": {},
      "source": []
    },
    {
      "cell_type": "code",
      "execution_count": 36,
      "metadata": {},
      "outputs": [],
      "source": [
        "# Comentario en una línea\n",
        "a = 3 # linea comentada\n",
        "\n"
      ]
    },
    {
      "cell_type": "markdown",
      "metadata": {},
      "source": [
        "Reglas para escribir buenos comentarios: (Best practices for writing code comments)\n",
        "1. Los comentarios no deberían duplicar el código.\n",
        "2. Los buenos comentarios no arreglan un código poco claro.\n",
        "3. Si no puedes escribir un comentario claro, puede haber un problema en el código.\n",
        "4. Los comentarios deberían evitar la confusión, no crearla.\n",
        "5. Usa comentarios para explicar código no idiomático.\n",
        "6. Proporciona enlaces a la fuente original del código copiado.\n",
        "7. Incluye enlaces a referencias externas que sean de ayuda.\n",
        "8. Añade comentarios cuando arregles errores.\n",
        "9. Usa comentarios para destacar implementaciones incompletas."
      ]
    },
    {
      "cell_type": "markdown",
      "metadata": {},
      "source": [
        "Ancho de código\n",
        "Normalmente se utiliza 80 caracteres, por las caracteristicas originales del modo texto aunque algunos se permiten y permiten mayor ancho por la resolución de las nuevas computadoras. "
      ]
    },
    {
      "cell_type": "code",
      "execution_count": 37,
      "metadata": {},
      "outputs": [
        {
          "data": {
            "text/plain": [
              "24"
            ]
          },
          "execution_count": 37,
          "metadata": {},
          "output_type": "execute_result"
        }
      ],
      "source": [
        "# usar barra invertida \\:\n",
        "factorial = 4 * 3 * 2 * 1\n",
        "factorial = 4 *\\\n",
        "            3 *\\\n",
        "            2 *\\\n",
        "            1    \n",
        "factorial"
      ]
    },
    {
      "cell_type": "code",
      "execution_count": 38,
      "metadata": {},
      "outputs": [
        {
          "data": {
            "text/plain": [
              "15"
            ]
          },
          "execution_count": 38,
          "metadata": {},
          "output_type": "execute_result"
        }
      ],
      "source": [
        "# suma del 1 al 5\n",
        "suma1a5 = 1 + 2 + 3 + 4 + 5\n",
        "suma1a5 = 1 +\\\n",
        "          2 +\\\n",
        "          3 +\\\n",
        "          4 +\\\n",
        "          5\n",
        "suma1a5"
      ]
    },
    {
      "cell_type": "code",
      "execution_count": 39,
      "metadata": {},
      "outputs": [
        {
          "data": {
            "text/plain": [
              "15"
            ]
          },
          "execution_count": 39,
          "metadata": {},
          "output_type": "execute_result"
        }
      ],
      "source": [
        "suma1a5 = (5 +\n",
        "           4 +\n",
        "           3 +\n",
        "           2 +\n",
        "           1)\n",
        "suma1a5"
      ]
    },
    {
      "cell_type": "code",
      "execution_count": 40,
      "metadata": {},
      "outputs": [
        {
          "data": {
            "text/plain": [
              "24"
            ]
          },
          "execution_count": 40,
          "metadata": {},
          "output_type": "execute_result"
        }
      ],
      "source": [
        "# usar parentesis (...):\n",
        "factorial = 4 * 3 * 2 * 1\n",
        "factorial = (4 *\n",
        "            3 *\n",
        "            2 *\n",
        "            1 )   \n",
        "factorial"
      ]
    },
    {
      "cell_type": "markdown",
      "metadata": {},
      "source": [
        "Ejecución condicional"
      ]
    },
    {
      "cell_type": "code",
      "execution_count": 41,
      "metadata": {},
      "outputs": [
        {
          "name": "stdout",
          "output_type": "stream",
          "text": [
            "x es positivo\n"
          ]
        }
      ],
      "source": [
        "numero =input(\"Ingrese un número\")\n",
        "x = int(numero)\n",
        "if x > 0:\n",
        "    print('x es positivo')"
      ]
    },
    {
      "cell_type": "code",
      "execution_count": 42,
      "metadata": {},
      "outputs": [
        {
          "name": "stdout",
          "output_type": "stream",
          "text": [
            "x es positivo\n"
          ]
        }
      ],
      "source": [
        "numero =input(\"Ingrese un número\")\n",
        "x = int(numero)\n",
        "if x > 0:\n",
        "    print('x es positivo')\n",
        "else:\n",
        "    print('x es negativo')"
      ]
    },
    {
      "cell_type": "markdown",
      "metadata": {},
      "source": []
    },
    {
      "cell_type": "markdown",
      "metadata": {},
      "source": [
        "Ejecución alternativa"
      ]
    },
    {
      "cell_type": "code",
      "execution_count": 43,
      "metadata": {},
      "outputs": [
        {
          "name": "stdout",
          "output_type": "stream",
          "text": [
            "5 es impar\n"
          ]
        }
      ],
      "source": [
        "if x%2 == 0:\n",
        "    print (f'{x} es par')\n",
        "else:\n",
        "    print(f'{x} es impar')"
      ]
    },
    {
      "cell_type": "markdown",
      "metadata": {},
      "source": [
        "Condicionales anidados"
      ]
    },
    {
      "cell_type": "code",
      "execution_count": 44,
      "metadata": {},
      "outputs": [
        {
          "name": "stdout",
          "output_type": "stream",
          "text": [
            "Nivel naranja\n"
          ]
        }
      ],
      "source": [
        "temperature = 28\n",
        "if temperature < 20:\n",
        "    if temperature <10:\n",
        "        print('Nivel azul')\n",
        "    else:\n",
        "        print('Nivel verde')\n",
        "else:\n",
        "    if temperature < 30:\n",
        "        print('Nivel naranja')\n",
        "    else:\n",
        "        print('Nivel rojo')\n",
        "\n"
      ]
    },
    {
      "cell_type": "code",
      "execution_count": 45,
      "metadata": {},
      "outputs": [
        {
          "name": "stdout",
          "output_type": "stream",
          "text": [
            "Nivel naranja\n"
          ]
        }
      ],
      "source": [
        "temperature = 28\n",
        "if temperature < 20:\n",
        "    if temperature <10:\n",
        "        print('Nivel azul')\n",
        "    else:\n",
        "        print('Nivel verde')\n",
        "elif temperature < 30:\n",
        "    print('Nivel naranja')\n",
        "else:\n",
        "    print('Nivel rojo')"
      ]
    },
    {
      "cell_type": "markdown",
      "metadata": {},
      "source": [
        "Operadores de comparación\n",
        "\n"
      ]
    },
    {
      "cell_type": "code",
      "execution_count": 46,
      "metadata": {},
      "outputs": [
        {
          "data": {
            "text/plain": [
              "True"
            ]
          },
          "execution_count": 46,
          "metadata": {},
          "output_type": "execute_result"
        }
      ],
      "source": [
        "numero = input(\"Ingrese un valor\")\n",
        "x = int(numero)\n",
        "x == 8\n"
      ]
    },
    {
      "cell_type": "code",
      "execution_count": 47,
      "metadata": {},
      "outputs": [
        {
          "data": {
            "text/plain": [
              "False"
            ]
          },
          "execution_count": 47,
          "metadata": {},
          "output_type": "execute_result"
        }
      ],
      "source": [
        "x != 8 # x < 12    x <= 12   x > 12    x >= 12"
      ]
    },
    {
      "cell_type": "markdown",
      "metadata": {},
      "source": [
        "Podemos escribir condiciones más complejas usando los operadores lógicos:"
      ]
    },
    {
      "cell_type": "code",
      "execution_count": 48,
      "metadata": {},
      "outputs": [
        {
          "data": {
            "text/plain": [
              "True"
            ]
          },
          "execution_count": 48,
          "metadata": {},
          "output_type": "execute_result"
        }
      ],
      "source": [
        "# Asignación de valor inicial\n",
        "x = 8\n",
        "x > 4 or x > 12 \n",
        "\n",
        "# x < 4 or x > 12 # False or False\n",
        "# x > 4 and x > 12 # True and False\n",
        "# x > 4 and x < 12 # True and True\n",
        "# not(x != 8) # not False"
      ]
    },
    {
      "cell_type": "code",
      "execution_count": 49,
      "metadata": {},
      "outputs": [
        {
          "data": {
            "text/plain": [
              "True"
            ]
          },
          "execution_count": 49,
          "metadata": {},
          "output_type": "execute_result"
        }
      ],
      "source": [
        "4 <= x <=8"
      ]
    },
    {
      "cell_type": "markdown",
      "metadata": {},
      "source": [
        "Booleanos en condicionales"
      ]
    },
    {
      "cell_type": "code",
      "execution_count": 50,
      "metadata": {},
      "outputs": [
        {
          "name": "stdout",
          "output_type": "stream",
          "text": [
            "usar campera\n"
          ]
        }
      ],
      "source": [
        "esta_frio = True\n",
        "if esta_frio == True :     # también puede escribir if esta_frio: y puede usar el operador not\n",
        "    print('usar campera')\n",
        "else:\n",
        "    print('usa remera')"
      ]
    },
    {
      "cell_type": "markdown",
      "metadata": {},
      "source": [
        "Valores nulos\n"
      ]
    },
    {
      "cell_type": "code",
      "execution_count": 51,
      "metadata": {},
      "outputs": [
        {
          "name": "stdout",
          "output_type": "stream",
          "text": [
            "value esta vacío\n"
          ]
        }
      ],
      "source": [
        "value = None\n",
        "if value:\n",
        "    print(\"value tiene un valor determinado\")\n",
        "else:\n",
        "    print(\"value esta vacío\")"
      ]
    },
    {
      "cell_type": "code",
      "execution_count": 52,
      "metadata": {},
      "outputs": [],
      "source": [
        "value = None"
      ]
    },
    {
      "cell_type": "code",
      "execution_count": 53,
      "metadata": {},
      "outputs": [
        {
          "name": "stdout",
          "output_type": "stream",
          "text": [
            "value esta vacío\n"
          ]
        }
      ],
      "source": [
        "if value is None:\n",
        "    print(\"value esta vacío\")"
      ]
    },
    {
      "cell_type": "code",
      "execution_count": 54,
      "metadata": {},
      "outputs": [
        {
          "name": "stdout",
          "output_type": "stream",
          "text": [
            "value no está vacío\n"
          ]
        }
      ],
      "source": [
        "value = 10000\n",
        "if value is not None:\n",
        "    print(\"value no está vacío\")"
      ]
    },
    {
      "cell_type": "code",
      "execution_count": 55,
      "metadata": {},
      "outputs": [
        {
          "name": "stdout",
          "output_type": "stream",
          "text": [
            "Andá a estudiar.\n"
          ]
        }
      ],
      "source": [
        "titulo = None\n",
        "if titulo is None:\n",
        "    print(\"Andá a estudiar.\")\n",
        "else:\n",
        "    print(\"Andá a trabajar jiji.\")"
      ]
    },
    {
      "cell_type": "markdown",
      "metadata": {},
      "source": [
        "Sentencia match-case"
      ]
    },
    {
      "cell_type": "code",
      "execution_count": 56,
      "metadata": {},
      "outputs": [
        {
          "name": "stdout",
          "output_type": "stream",
          "text": [
            "rojo\n"
          ]
        }
      ],
      "source": [
        "color = '#FF0000'\n",
        "match color:\n",
        "    case '#FF0000':\n",
        "        print(\"rojo\")\n",
        "    case '#00FF00':\n",
        "        print(\"verde\")\n",
        "    case '#0000FF':\n",
        "        print(\"azul\")   \n",
        "    case _:\n",
        "        print(\"color desconocido\")\n",
        "        \n",
        "    "
      ]
    },
    {
      "cell_type": "markdown",
      "metadata": {},
      "source": [
        "Patrones avanzados"
      ]
    },
    {
      "cell_type": "code",
      "execution_count": 57,
      "metadata": {},
      "outputs": [
        {
          "name": "stdout",
          "output_type": "stream",
          "text": [
            "2,1 es un plano\n"
          ]
        }
      ],
      "source": [
        "punto=(2,1)\n",
        "match punto:\n",
        "    case (x,y):\n",
        "        print(f'{x},{y} es un plano')\n",
        "    case(x,y,z):\n",
        "        print(f'{x},{y},{z} es un espacio')"
      ]
    },
    {
      "cell_type": "code",
      "execution_count": 58,
      "metadata": {},
      "outputs": [
        {
          "name": "stdout",
          "output_type": "stream",
          "text": [
            "2,1,3 es un espacio\n"
          ]
        }
      ],
      "source": [
        "punto=(2,1,3)\n",
        "match punto:\n",
        "    case (x,y):\n",
        "        print(f'{x},{y} es un plano')\n",
        "    case(x,y,z):\n",
        "        print(f'{x},{y},{z} es un espacio')"
      ]
    },
    {
      "cell_type": "code",
      "execution_count": 59,
      "metadata": {},
      "outputs": [
        {
          "name": "stdout",
          "output_type": "stream",
          "text": [
            "Yes\n"
          ]
        }
      ],
      "source": [
        "edad = 22\n",
        "match edad:\n",
        "    case 0 | None:\n",
        "        print('Not a person')\n",
        "    case n if n < 17:\n",
        "        print('Nope')\n",
        "    case n if n < 22:\n",
        "        print('Not in the US')\n",
        "    case _:\n",
        "        print('Yes')"
      ]
    },
    {
      "cell_type": "markdown",
      "metadata": {},
      "source": [
        "Operador Morsa"
      ]
    },
    {
      "cell_type": "code",
      "execution_count": 60,
      "metadata": {},
      "outputs": [
        {
          "name": "stdout",
          "output_type": "stream",
          "text": [
            "Increase radius to reach minimum perimeter\n",
            "Actual perimeter:  26.69\n"
          ]
        }
      ],
      "source": [
        "# modo tradicional\n",
        "radius = 4.25\n",
        "perimeter = 2 * 3.14 * radius\n",
        "if perimeter < 100:\n",
        "        print('Increase radius to reach minimum perimeter')\n",
        "        print('Actual perimeter: ', perimeter)"
      ]
    },
    {
      "cell_type": "code",
      "execution_count": 61,
      "metadata": {},
      "outputs": [
        {
          "name": "stdout",
          "output_type": "stream",
          "text": [
            "Increase radius to reach minimum perimeter\n",
            "Actual perimeter:  26.69\n"
          ]
        }
      ],
      "source": [
        "# modo codigo morsa\n",
        "radius = 4.25\n",
        "if (perimeter:=  2 * 3.14 * radius) < 100:\n",
        "        print('Increase radius to reach minimum perimeter')\n",
        "        print('Actual perimeter: ', perimeter)"
      ]
    },
    {
      "cell_type": "markdown",
      "metadata": {},
      "source": [
        "Bucles - Estructuras repetitivas o iterativas "
      ]
    },
    {
      "cell_type": "markdown",
      "metadata": {},
      "source": [
        "Bucle While"
      ]
    },
    {
      "cell_type": "code",
      "execution_count": 62,
      "metadata": {},
      "outputs": [
        {
          "name": "stdout",
          "output_type": "stream",
          "text": [
            "0\n",
            "1\n",
            "2\n",
            "3\n",
            "4\n",
            "5\n",
            "6\n",
            "7\n",
            "8\n",
            "9\n",
            "10\n",
            "11\n",
            "12\n",
            "13\n",
            "14\n",
            "15\n",
            "16\n",
            "17\n",
            "18\n",
            "19\n",
            "20\n",
            "21\n",
            "22\n",
            "23\n",
            "24\n",
            "25\n",
            "26\n",
            "27\n",
            "28\n",
            "29\n",
            "30\n",
            "31\n",
            "32\n",
            "33\n",
            "34\n",
            "35\n",
            "36\n",
            "37\n",
            "38\n",
            "39\n",
            "40\n",
            "41\n",
            "42\n",
            "43\n",
            "44\n",
            "45\n",
            "46\n",
            "47\n",
            "48\n",
            "49\n",
            "50\n",
            "51\n",
            "52\n",
            "53\n",
            "54\n",
            "55\n",
            "56\n",
            "57\n",
            "58\n",
            "59\n",
            "60\n",
            "61\n",
            "62\n",
            "63\n",
            "64\n",
            "65\n",
            "66\n",
            "67\n",
            "68\n",
            "69\n",
            "70\n",
            "71\n",
            "72\n",
            "73\n",
            "74\n",
            "75\n",
            "76\n",
            "77\n",
            "78\n",
            "79\n",
            "80\n",
            "81\n",
            "82\n",
            "83\n",
            "84\n",
            "85\n",
            "86\n",
            "87\n",
            "88\n",
            "89\n",
            "90\n",
            "91\n",
            "92\n",
            "93\n",
            "94\n",
            "95\n",
            "96\n",
            "97\n",
            "98\n",
            "99\n",
            "100\n"
          ]
        }
      ],
      "source": [
        "valor = 0\n",
        "while valor <=100:\n",
        "    print(valor)\n",
        "    valor +=1"
      ]
    },
    {
      "cell_type": "code",
      "execution_count": 63,
      "metadata": {},
      "outputs": [
        {
          "name": "stdout",
          "output_type": "stream",
          "text": [
            "99 es multiplo de 11\n"
          ]
        }
      ],
      "source": [
        "# break\n",
        "\n",
        "numero = 100\n",
        "while numero>= 1:\n",
        "    if numero % 11 == 0:\n",
        "        print(f'{numero} es multiplo de 11')\n",
        "        break\n",
        "    numero -=1\n",
        "else:\n",
        "    print('no hay multiplos de 11')"
      ]
    },
    {
      "cell_type": "code",
      "execution_count": 64,
      "metadata": {},
      "outputs": [
        {
          "name": "stdout",
          "output_type": "stream",
          "text": [
            "98, 97, 95, 94, 92, 91, 89, 88, 86, 85, 83, 82, 80, 79, 77, 76, 74, 73, 71, 70, 68, 67, 65, 64, 62, 61, 59, 58, 56, 55, 53, 52, 50, 49, 47, 46, 44, 43, 41, 40, 38, 37, 35, 34, 32, 31, 29, 28, 26, 25, 23, 22, 20, 19, 17, 16, 14, 13, 11, 10, 8, 7, 5, 4, 2, 1, "
          ]
        }
      ],
      "source": [
        "# continue\n",
        "numero = 100\n",
        "while numero>= 1:\n",
        "    numero -=1\n",
        "    if numero % 3 == 0:\n",
        "        continue\n",
        "    print(numero, end=', ')\n"
      ]
    },
    {
      "cell_type": "markdown",
      "metadata": {},
      "source": [
        "\n",
        "Bucle for"
      ]
    },
    {
      "cell_type": "code",
      "execution_count": 65,
      "metadata": {},
      "outputs": [
        {
          "name": "stdout",
          "output_type": "stream",
          "text": [
            " \n",
            "P\n",
            "y\n",
            "t\n",
            "h\n",
            "o\n",
            "n\n"
          ]
        }
      ],
      "source": [
        "palabra = ' Python'\n",
        "for letra in palabra:\n",
        "    print(letra)"
      ]
    },
    {
      "cell_type": "code",
      "execution_count": 66,
      "metadata": {},
      "outputs": [
        {
          "name": "stdout",
          "output_type": "stream",
          "text": [
            "1 es genial\n",
            "2 es genial\n",
            "3 es genial\n",
            "4 es genial\n",
            "5 es genial\n",
            "6 es genial\n",
            "7 es genial\n",
            "8 es genial\n",
            "9 es genial\n",
            "10 es genial\n"
          ]
        }
      ],
      "source": [
        "lista = [1,2,3,4,5,6,7,8,9,10]\n",
        "for elemento in lista:\n",
        "    print(f'{elemento} es genial')"
      ]
    },
    {
      "cell_type": "code",
      "execution_count": 67,
      "metadata": {},
      "outputs": [
        {
          "name": "stdout",
          "output_type": "stream",
          "text": [
            " \n",
            "P\n",
            "y\n"
          ]
        }
      ],
      "source": [
        "palabra = ' Python'\n",
        "for letra in palabra:\n",
        "    if letra == 't':\n",
        "        break\n",
        "    print(letra)"
      ]
    },
    {
      "cell_type": "code",
      "execution_count": 68,
      "metadata": {},
      "outputs": [
        {
          "name": "stdout",
          "output_type": "stream",
          "text": [
            "1\n",
            "3\n"
          ]
        }
      ],
      "source": [
        "# secuencias de números\n",
        "for i in range (1,5,2):\n",
        "    print(i)"
      ]
    },
    {
      "cell_type": "code",
      "execution_count": 69,
      "metadata": {},
      "outputs": [
        {
          "name": "stdout",
          "output_type": "stream",
          "text": [
            "5\n",
            "4\n",
            "3\n",
            "2\n",
            "1\n",
            "0\n"
          ]
        }
      ],
      "source": [
        "# usa menor estricto\n",
        "for i in range (5,-1,-1):\n",
        "    print(i)"
      ]
    },
    {
      "cell_type": "markdown",
      "metadata": {},
      "source": [
        "Bucles anidados"
      ]
    },
    {
      "cell_type": "code",
      "execution_count": 70,
      "metadata": {},
      "outputs": [
        {
          "name": "stdout",
          "output_type": "stream",
          "text": [
            "0 x 0 = 0\n",
            "0 x 1 = 0\n",
            "0 x 2 = 0\n",
            "0 x 3 = 0\n",
            "0 x 4 = 0\n",
            "0 x 5 = 0\n",
            "0 x 6 = 0\n",
            "0 x 7 = 0\n",
            "0 x 8 = 0\n",
            "0 x 9 = 0\n",
            "1 x 0 = 0\n",
            "1 x 1 = 1\n",
            "1 x 2 = 2\n",
            "1 x 3 = 3\n",
            "1 x 4 = 4\n",
            "1 x 5 = 5\n",
            "1 x 6 = 6\n",
            "1 x 7 = 7\n",
            "1 x 8 = 8\n",
            "1 x 9 = 9\n",
            "2 x 0 = 0\n",
            "2 x 1 = 2\n",
            "2 x 2 = 4\n",
            "2 x 3 = 6\n",
            "2 x 4 = 8\n",
            "2 x 5 = 10\n",
            "2 x 6 = 12\n",
            "2 x 7 = 14\n",
            "2 x 8 = 16\n",
            "2 x 9 = 18\n",
            "3 x 0 = 0\n",
            "3 x 1 = 3\n",
            "3 x 2 = 6\n",
            "3 x 3 = 9\n",
            "3 x 4 = 12\n",
            "3 x 5 = 15\n",
            "3 x 6 = 18\n",
            "3 x 7 = 21\n",
            "3 x 8 = 24\n",
            "3 x 9 = 27\n",
            "4 x 0 = 0\n",
            "4 x 1 = 4\n",
            "4 x 2 = 8\n",
            "4 x 3 = 12\n",
            "4 x 4 = 16\n",
            "4 x 5 = 20\n",
            "4 x 6 = 24\n",
            "4 x 7 = 28\n",
            "4 x 8 = 32\n",
            "4 x 9 = 36\n",
            "5 x 0 = 0\n",
            "5 x 1 = 5\n",
            "5 x 2 = 10\n",
            "5 x 3 = 15\n",
            "5 x 4 = 20\n",
            "5 x 5 = 25\n",
            "5 x 6 = 30\n",
            "5 x 7 = 35\n",
            "5 x 8 = 40\n",
            "5 x 9 = 45\n",
            "6 x 0 = 0\n",
            "6 x 1 = 6\n",
            "6 x 2 = 12\n",
            "6 x 3 = 18\n",
            "6 x 4 = 24\n",
            "6 x 5 = 30\n",
            "6 x 6 = 36\n",
            "6 x 7 = 42\n",
            "6 x 8 = 48\n",
            "6 x 9 = 54\n",
            "7 x 0 = 0\n",
            "7 x 1 = 7\n",
            "7 x 2 = 14\n",
            "7 x 3 = 21\n",
            "7 x 4 = 28\n",
            "7 x 5 = 35\n",
            "7 x 6 = 42\n",
            "7 x 7 = 49\n",
            "7 x 8 = 56\n",
            "7 x 9 = 63\n",
            "8 x 0 = 0\n",
            "8 x 1 = 8\n",
            "8 x 2 = 16\n",
            "8 x 3 = 24\n",
            "8 x 4 = 32\n",
            "8 x 5 = 40\n",
            "8 x 6 = 48\n",
            "8 x 7 = 56\n",
            "8 x 8 = 64\n",
            "8 x 9 = 72\n",
            "9 x 0 = 0\n",
            "9 x 1 = 9\n",
            "9 x 2 = 18\n",
            "9 x 3 = 27\n",
            "9 x 4 = 36\n",
            "9 x 5 = 45\n",
            "9 x 6 = 54\n",
            "9 x 7 = 63\n",
            "9 x 8 = 72\n",
            "9 x 9 = 81\n"
          ]
        }
      ],
      "source": [
        "for i in range(10):\n",
        "    for j in range(10):\n",
        "        resultado = i * j\n",
        "        print(f'{i} x {j} = {resultado}')"
      ]
    }
  ],
  "metadata": {
    "kernelspec": {
      "display_name": "Python 3.10.7 64-bit",
      "language": "python",
      "name": "python3"
    },
    "language_info": {
      "codemirror_mode": {
        "name": "ipython",
        "version": 3
      },
      "file_extension": ".py",
      "mimetype": "text/x-python",
      "name": "python",
      "nbconvert_exporter": "python",
      "pygments_lexer": "ipython3",
      "version": "3.10.7"
    },
    "orig_nbformat": 4,
    "vscode": {
      "interpreter": {
        "hash": "12012e29cfdd80c6232e78c9cc61e00b538a7283e7f08a6e0e05e20d023ad832"
      }
    }
  },
  "nbformat": 4,
  "nbformat_minor": 2
}
