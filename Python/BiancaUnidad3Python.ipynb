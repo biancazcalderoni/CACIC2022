{
  "cells": [
    {
      "cell_type": "markdown",
      "metadata": {},
      "source": [
        "## UNIDAD 3 \n",
        "# Estructuras de datos"
      ]
    },
    {
      "cell_type": "markdown",
      "metadata": {},
      "source": [
        "Si bien ya hemos visto una sección sobre Tipos de datos, podríamos hablar de tipos de datos\n",
        "más complejos en Python que se constituyen en estructuras de datos. Si pensamos en\n",
        "estos elementos como átomos, las estructuras de datos que vamos a ver sería moléculas. Es\n",
        "decir, combinamos los tipos básicos de formas más complejas. De hecho, esta distinción se\n",
        "hace en el Tutorial oficial de Python. Trataremos distintas estructuras de datos como listas,\n",
        "tuplas, diccionarios y conjuntos."
      ]
    },
    {
      "cell_type": "markdown",
      "metadata": {},
      "source": [
        "Comentarios"
      ]
    },
    {
      "cell_type": "markdown",
      "metadata": {},
      "source": []
    },
    {
      "cell_type": "markdown",
      "metadata": {},
      "source": [
        "3.1 Listas <br>\n",
        "3.1.1 Creación de Listas\n"
      ]
    },
    {
      "cell_type": "code",
      "execution_count": 1,
      "metadata": {},
      "outputs": [],
      "source": [
        "lista_vacia =[]\n",
        "lenguajes =['C','C++','Java','Python']\n",
        "fibonacci =[0,1,1,2,3,5,8,13]\n",
        "datos = ['La Rioja',{'temperatura':43,'humedad': '40%'},1991,(2,3)]\n",
        "algo = [20,'Dinosaurio',True]\n",
        "# Una lista puede tener datos de distinto tipo"
      ]
    },
    {
      "cell_type": "markdown",
      "metadata": {},
      "source": [
        "3.1.2 Conversión\n"
      ]
    },
    {
      "cell_type": "code",
      "execution_count": 2,
      "metadata": {},
      "outputs": [
        {
          "data": {
            "text/plain": [
              "['H', 'o', 'l', 'a', ' ', 'M', 'u', 'n', 'd', 'o']"
            ]
          },
          "execution_count": 2,
          "metadata": {},
          "output_type": "execute_result"
        }
      ],
      "source": [
        "# conversión desde una cadena de texto \n",
        "list('Hola Mundo')"
      ]
    },
    {
      "cell_type": "code",
      "execution_count": 3,
      "metadata": {},
      "outputs": [
        {
          "data": {
            "text/plain": [
              "['A', 'A', 'A', 'A', 'A', 'A', 'A', 'A', 'A', 'A', 'A', 'A', 'A', 'A']"
            ]
          },
          "execution_count": 3,
          "metadata": {},
          "output_type": "execute_result"
        }
      ],
      "source": [
        "list('AAAAAAAAAAAAAA')"
      ]
    },
    {
      "cell_type": "markdown",
      "metadata": {},
      "source": [
        "3.1.3 Operaciones con listas <br>\n"
      ]
    },
    {
      "cell_type": "code",
      "execution_count": 4,
      "metadata": {},
      "outputs": [
        {
          "data": {
            "text/plain": [
              "2086015498304"
            ]
          },
          "execution_count": 4,
          "metadata": {},
          "output_type": "execute_result"
        }
      ],
      "source": [
        "# Obtener un elemento\n",
        "# Igual que en el caso de las cadenas de texto, podemos obtener un elemento de una lista a\n",
        "# través del índice (lugar) que ocupa. Veamos un ejemplo:\n",
        "\n",
        "fruits = ['orange', 'apple', 'pear', 'banana', 'kiwi', 'apple', 'banana']\n",
        "fruits[0]\n",
        "id(fruits)\n",
        "#la dirección de memoria donde está guardado fruits"
      ]
    },
    {
      "cell_type": "code",
      "execution_count": 5,
      "metadata": {},
      "outputs": [
        {
          "data": {
            "text/plain": [
              "'banana'"
            ]
          },
          "execution_count": 5,
          "metadata": {},
          "output_type": "execute_result"
        }
      ],
      "source": [
        "fruits[-1]\n",
        "#indexa de derecha a izquierda, es decir, del final para atrás.\n",
        "#[-1] es el último"
      ]
    },
    {
      "cell_type": "code",
      "execution_count": 6,
      "metadata": {},
      "outputs": [
        {
          "data": {
            "text/plain": [
              "['apple', 'pear']"
            ]
          },
          "execution_count": 6,
          "metadata": {},
          "output_type": "execute_result"
        }
      ],
      "source": [
        "fruits[1:3]\n",
        "#desde dónde hasta dónde quiero mostrar de la lista, no se incluye el último elemento del índice"
      ]
    },
    {
      "cell_type": "code",
      "execution_count": 7,
      "metadata": {},
      "outputs": [
        {
          "data": {
            "text/plain": [
              "['apple', 'pear', 'banana']"
            ]
          },
          "execution_count": 7,
          "metadata": {},
          "output_type": "execute_result"
        }
      ],
      "source": [
        "fruits[1:4]\n",
        "#Acá si"
      ]
    },
    {
      "cell_type": "code",
      "execution_count": 8,
      "metadata": {},
      "outputs": [
        {
          "data": {
            "text/plain": [
              "['orange', 'apple', 'pear']"
            ]
          },
          "execution_count": 8,
          "metadata": {},
          "output_type": "execute_result"
        }
      ],
      "source": [
        "fruits [:3]"
      ]
    },
    {
      "cell_type": "code",
      "execution_count": 9,
      "metadata": {},
      "outputs": [
        {
          "data": {
            "text/plain": [
              "['pear', 'banana', 'kiwi', 'apple', 'banana']"
            ]
          },
          "execution_count": 9,
          "metadata": {},
          "output_type": "execute_result"
        }
      ],
      "source": [
        "fruits[2:]\n",
        "#desde el elemento dos"
      ]
    },
    {
      "cell_type": "code",
      "execution_count": 10,
      "metadata": {},
      "outputs": [
        {
          "data": {
            "text/plain": [
              "['banana', 'apple', 'kiwi', 'banana', 'pear', 'apple', 'orange']"
            ]
          },
          "execution_count": 10,
          "metadata": {},
          "output_type": "execute_result"
        }
      ],
      "source": [
        "fruits [::-1]\n",
        "# lo recorre de derecha a izquierda"
      ]
    },
    {
      "cell_type": "markdown",
      "metadata": {},
      "source": [
        "Invertir una lista"
      ]
    },
    {
      "cell_type": "code",
      "execution_count": 11,
      "metadata": {},
      "outputs": [
        {
          "data": {
            "text/plain": [
              "['banana', 'apple', 'kiwi', 'banana', 'pear', 'apple', 'orange']"
            ]
          },
          "execution_count": 11,
          "metadata": {},
          "output_type": "execute_result"
        }
      ],
      "source": [
        "list(reversed(fruits))\n",
        "#NO MODIFICA LA LISTA"
      ]
    },
    {
      "cell_type": "code",
      "execution_count": 12,
      "metadata": {},
      "outputs": [
        {
          "data": {
            "text/plain": [
              "['orange', 'apple', 'pear', 'banana', 'kiwi', 'apple', 'banana']"
            ]
          },
          "execution_count": 12,
          "metadata": {},
          "output_type": "execute_result"
        }
      ],
      "source": [
        "fruits"
      ]
    },
    {
      "cell_type": "code",
      "execution_count": 13,
      "metadata": {},
      "outputs": [
        {
          "data": {
            "text/plain": [
              "['banana', 'apple', 'kiwi', 'banana', 'pear', 'apple', 'orange']"
            ]
          },
          "execution_count": 13,
          "metadata": {},
          "output_type": "execute_result"
        }
      ],
      "source": [
        "fruits.reverse()\n",
        "fruits\n"
      ]
    },
    {
      "cell_type": "markdown",
      "metadata": {},
      "source": []
    },
    {
      "cell_type": "markdown",
      "metadata": {},
      "source": [
        "Creando listas desde lista vacía "
      ]
    },
    {
      "cell_type": "code",
      "execution_count": 14,
      "metadata": {},
      "outputs": [
        {
          "data": {
            "text/plain": [
              "[0, 2, 4, 6, 8, 10, 12, 14, 16, 18, 20, 22, 24, 26, 28]"
            ]
          },
          "execution_count": 14,
          "metadata": {},
          "output_type": "execute_result"
        }
      ],
      "source": [
        "numeros_pares = []\n",
        "for i in range(30):\n",
        "    if i % 2 ==0:\n",
        "        numeros_pares.append(i)\n",
        "numeros_pares"
      ]
    },
    {
      "cell_type": "code",
      "execution_count": 15,
      "metadata": {},
      "outputs": [],
      "source": [
        "# hacer un for pero en vez de pares %10"
      ]
    },
    {
      "cell_type": "code",
      "execution_count": 16,
      "metadata": {},
      "outputs": [
        {
          "data": {
            "text/plain": [
              "[0, 2, 4, 6, 8]"
            ]
          },
          "execution_count": 16,
          "metadata": {},
          "output_type": "execute_result"
        }
      ],
      "source": [
        "numeros_pares = []\n",
        "# el range estaría implementando el for que conocemos de desde, hasta, paso\n",
        "for i in range(0,10,2):\n",
        "        numeros_pares.append(i)\n",
        "numeros_pares"
      ]
    },
    {
      "cell_type": "code",
      "execution_count": null,
      "metadata": {},
      "outputs": [],
      "source": []
    },
    {
      "cell_type": "code",
      "execution_count": 17,
      "metadata": {},
      "outputs": [
        {
          "data": {
            "text/plain": [
              "['banana', 'naranja', 'mandarina', 'kiwi']"
            ]
          },
          "execution_count": 17,
          "metadata": {},
          "output_type": "execute_result"
        }
      ],
      "source": [
        "# Añadir en cualquier posición de la lista\n",
        "fruits=['banana','mandarina','kiwi']\n",
        "fruits.insert(1,'naranja')\n",
        "fruits"
      ]
    },
    {
      "cell_type": "code",
      "execution_count": 18,
      "metadata": {},
      "outputs": [],
      "source": [
        "fruits.insert(2,'quinoto')"
      ]
    },
    {
      "cell_type": "code",
      "execution_count": 19,
      "metadata": {},
      "outputs": [
        {
          "data": {
            "text/plain": [
              "['banana', 'naranja', 'quinoto', 'mandarina', 'kiwi', 'manzana']"
            ]
          },
          "execution_count": 19,
          "metadata": {},
          "output_type": "execute_result"
        }
      ],
      "source": [
        "fruits.insert(20,'manzana')\n",
        "fruits"
      ]
    },
    {
      "cell_type": "code",
      "execution_count": 20,
      "metadata": {},
      "outputs": [
        {
          "data": {
            "text/plain": [
              "['pera', 'banana', 'naranja', 'quinoto', 'mandarina', 'kiwi', 'manzana']"
            ]
          },
          "execution_count": 20,
          "metadata": {},
          "output_type": "execute_result"
        }
      ],
      "source": [
        "fruits.insert(-10,'pera')\n",
        "fruits"
      ]
    },
    {
      "cell_type": "code",
      "execution_count": 21,
      "metadata": {},
      "outputs": [
        {
          "data": {
            "text/plain": [
              "['pera',\n",
              " 'banana',\n",
              " 'naranja',\n",
              " 'quinoto',\n",
              " 'mandarina',\n",
              " 'kiwi',\n",
              " 'manzana',\n",
              " 'pera',\n",
              " 'banana',\n",
              " 'naranja',\n",
              " 'quinoto',\n",
              " 'mandarina',\n",
              " 'kiwi',\n",
              " 'manzana']"
            ]
          },
          "execution_count": 21,
          "metadata": {},
          "output_type": "execute_result"
        }
      ],
      "source": [
        "# repetición de listas\n",
        "fruits * 2\n"
      ]
    },
    {
      "cell_type": "code",
      "execution_count": 22,
      "metadata": {},
      "outputs": [
        {
          "data": {
            "text/plain": [
              "[]"
            ]
          },
          "execution_count": 22,
          "metadata": {},
          "output_type": "execute_result"
        }
      ],
      "source": [
        "fruits * (-1)"
      ]
    },
    {
      "cell_type": "markdown",
      "metadata": {},
      "source": [
        "Combinación de listas"
      ]
    },
    {
      "cell_type": "code",
      "execution_count": 23,
      "metadata": {},
      "outputs": [
        {
          "data": {
            "text/plain": [
              "['aceite', 'agua', 'huevos', 'manzana', 'banana', 'kiwi']"
            ]
          },
          "execution_count": 23,
          "metadata": {},
          "output_type": "execute_result"
        }
      ],
      "source": [
        "compras = ['aceite','agua','huevos']\n",
        "fruta = ['manzana','banana','kiwi']\n",
        "compras + fruta"
      ]
    },
    {
      "cell_type": "code",
      "execution_count": 24,
      "metadata": {},
      "outputs": [
        {
          "data": {
            "text/plain": [
              "['aceite', 'agua', 'huevos', 'manzana', 'banana', 'kiwi']"
            ]
          },
          "execution_count": 24,
          "metadata": {},
          "output_type": "execute_result"
        }
      ],
      "source": [
        "compras.extend(fruta)\n",
        "#es un operador que extiende la lista original\n",
        "compras"
      ]
    },
    {
      "cell_type": "markdown",
      "metadata": {},
      "source": []
    },
    {
      "cell_type": "markdown",
      "metadata": {},
      "source": [
        "Se podría pensar en el uso de append() para combinar listas. La realidad es que no funciona\n",
        "exactamente como esperamos; la segunda lista se añadiría como una sublista de la principal:"
      ]
    },
    {
      "cell_type": "code",
      "execution_count": 25,
      "metadata": {},
      "outputs": [
        {
          "data": {
            "text/plain": [
              "['aceite',\n",
              " 'agua',\n",
              " 'huevos',\n",
              " 'manzana',\n",
              " 'banana',\n",
              " 'kiwi',\n",
              " ['manzana', 'banana', 'kiwi']]"
            ]
          },
          "execution_count": 25,
          "metadata": {},
          "output_type": "execute_result"
        }
      ],
      "source": [
        "compras.append(fruta)\n",
        "compras"
      ]
    },
    {
      "cell_type": "code",
      "execution_count": 26,
      "metadata": {},
      "outputs": [
        {
          "data": {
            "text/plain": [
              "['manzana', 'banana', 'kiwi']"
            ]
          },
          "execution_count": 26,
          "metadata": {},
          "output_type": "execute_result"
        }
      ],
      "source": [
        "compras[6]"
      ]
    },
    {
      "cell_type": "code",
      "execution_count": 27,
      "metadata": {},
      "outputs": [
        {
          "data": {
            "text/plain": [
              "'banana'"
            ]
          },
          "execution_count": 27,
          "metadata": {},
          "output_type": "execute_result"
        }
      ],
      "source": [
        "compras[6][1]"
      ]
    },
    {
      "cell_type": "code",
      "execution_count": 28,
      "metadata": {},
      "outputs": [
        {
          "data": {
            "text/plain": [
              "'kiwi'"
            ]
          },
          "execution_count": 28,
          "metadata": {},
          "output_type": "execute_result"
        }
      ],
      "source": [
        "compras[6][2]"
      ]
    },
    {
      "cell_type": "markdown",
      "metadata": {},
      "source": [
        "Modificar una lista <br>\n",
        "Con índice o con troceado"
      ]
    },
    {
      "cell_type": "code",
      "execution_count": 29,
      "metadata": {},
      "outputs": [
        {
          "data": {
            "text/plain": [
              "'aceite'"
            ]
          },
          "execution_count": 29,
          "metadata": {},
          "output_type": "execute_result"
        }
      ],
      "source": [
        "# modificación de una lista utilizando índice\n",
        "compras = ['aceite','agua','huevos']\n",
        "compras [0]"
      ]
    },
    {
      "cell_type": "code",
      "execution_count": 30,
      "metadata": {},
      "outputs": [
        {
          "data": {
            "text/plain": [
              "['aceite', 'agua', 'huevos']"
            ]
          },
          "execution_count": 30,
          "metadata": {},
          "output_type": "execute_result"
        }
      ],
      "source": [
        "compras"
      ]
    },
    {
      "cell_type": "code",
      "execution_count": 31,
      "metadata": {},
      "outputs": [],
      "source": [
        "compras [1] = 'CocaCola'"
      ]
    },
    {
      "cell_type": "code",
      "execution_count": 32,
      "metadata": {},
      "outputs": [
        {
          "data": {
            "text/plain": [
              "['arroz', 'CocaCola', 'huevos']"
            ]
          },
          "execution_count": 32,
          "metadata": {},
          "output_type": "execute_result"
        }
      ],
      "source": [
        "compras[0]='arroz'\n",
        "compras"
      ]
    },
    {
      "cell_type": "code",
      "execution_count": 33,
      "metadata": {},
      "outputs": [
        {
          "data": {
            "text/plain": [
              "['CocaCola', 'huevos']"
            ]
          },
          "execution_count": 33,
          "metadata": {},
          "output_type": "execute_result"
        }
      ],
      "source": [
        "# modificación de una lista utilizando troceado\n",
        "compras[1:3]\n"
      ]
    },
    {
      "cell_type": "code",
      "execution_count": 34,
      "metadata": {},
      "outputs": [
        {
          "data": {
            "text/plain": [
              "[3, 4]"
            ]
          },
          "execution_count": 34,
          "metadata": {},
          "output_type": "execute_result"
        }
      ],
      "source": [
        "listita = [1,2,3,4,5,6]\n",
        "listita[2:4]"
      ]
    },
    {
      "cell_type": "code",
      "execution_count": 35,
      "metadata": {},
      "outputs": [
        {
          "data": {
            "text/plain": [
              "['arroz', 'pasta', 'limon']"
            ]
          },
          "execution_count": 35,
          "metadata": {},
          "output_type": "execute_result"
        }
      ],
      "source": [
        "compras[1:3]=['pasta','limon']\n",
        "compras"
      ]
    },
    {
      "cell_type": "markdown",
      "metadata": {},
      "source": [
        "Borrado de elementos de una lista"
      ]
    },
    {
      "cell_type": "code",
      "execution_count": 36,
      "metadata": {},
      "outputs": [],
      "source": [
        "ejemplo = ['soy','un','árbol','grrrrrr']"
      ]
    },
    {
      "cell_type": "code",
      "execution_count": 37,
      "metadata": {},
      "outputs": [
        {
          "data": {
            "text/plain": [
              "['aceite', 'huevos']"
            ]
          },
          "execution_count": 37,
          "metadata": {},
          "output_type": "execute_result"
        }
      ],
      "source": [
        "# mediante funcion del()\n",
        "compras = ['aceite','agua','huevos']\n",
        "del(compras[1])\n",
        "compras"
      ]
    },
    {
      "cell_type": "code",
      "execution_count": 38,
      "metadata": {},
      "outputs": [],
      "source": [
        "#del"
      ]
    },
    {
      "cell_type": "code",
      "execution_count": 39,
      "metadata": {},
      "outputs": [
        {
          "data": {
            "text/plain": [
              "['aceite', 'huevos']"
            ]
          },
          "execution_count": 39,
          "metadata": {},
          "output_type": "execute_result"
        }
      ],
      "source": [
        "# mediante funcion remove()\n",
        "compras = ['aceite','agua','huevos']\n",
        "compras.remove('agua')\n",
        "compras"
      ]
    },
    {
      "cell_type": "code",
      "execution_count": 40,
      "metadata": {},
      "outputs": [],
      "source": [
        "#remove"
      ]
    },
    {
      "cell_type": "code",
      "execution_count": 41,
      "metadata": {},
      "outputs": [
        {
          "data": {
            "text/plain": [
              "['aceite', 'agua']"
            ]
          },
          "execution_count": 41,
          "metadata": {},
          "output_type": "execute_result"
        }
      ],
      "source": [
        "# mediante funcion pop()\n",
        "compras = ['aceite','agua','huevos']\n",
        "compras.pop()\n",
        "compras\n",
        "# extrae el último elemento"
      ]
    },
    {
      "cell_type": "code",
      "execution_count": 42,
      "metadata": {},
      "outputs": [],
      "source": [
        "#pop"
      ]
    },
    {
      "cell_type": "code",
      "execution_count": 43,
      "metadata": {},
      "outputs": [
        {
          "data": {
            "text/plain": [
              "['agua', 'huevos']"
            ]
          },
          "execution_count": 43,
          "metadata": {},
          "output_type": "execute_result"
        }
      ],
      "source": [
        "compras = ['aceite','agua','huevos']\n",
        "compras.pop(0)\n",
        "#acá estoy aclarando\n",
        "compras"
      ]
    },
    {
      "cell_type": "code",
      "execution_count": 44,
      "metadata": {},
      "outputs": [
        {
          "data": {
            "text/plain": [
              "[]"
            ]
          },
          "execution_count": 44,
          "metadata": {},
          "output_type": "execute_result"
        }
      ],
      "source": [
        "compras * (-1)\n",
        "#no lo borra"
      ]
    },
    {
      "cell_type": "code",
      "execution_count": 45,
      "metadata": {},
      "outputs": [
        {
          "data": {
            "text/plain": [
              "['agua', 'huevos']"
            ]
          },
          "execution_count": 45,
          "metadata": {},
          "output_type": "execute_result"
        }
      ],
      "source": [
        "compras"
      ]
    },
    {
      "cell_type": "code",
      "execution_count": 46,
      "metadata": {},
      "outputs": [],
      "source": [
        "#clear"
      ]
    },
    {
      "cell_type": "code",
      "execution_count": 47,
      "metadata": {},
      "outputs": [
        {
          "data": {
            "text/plain": [
              "[]"
            ]
          },
          "execution_count": 47,
          "metadata": {},
          "output_type": "execute_result"
        }
      ],
      "source": [
        "# Borrado completo con clear()\n",
        "compras = ['aceite','agua','huevos']\n",
        "compras.clear()\n",
        "compras\n"
      ]
    },
    {
      "cell_type": "code",
      "execution_count": 48,
      "metadata": {},
      "outputs": [],
      "source": [
        "#con []"
      ]
    },
    {
      "cell_type": "code",
      "execution_count": 49,
      "metadata": {},
      "outputs": [
        {
          "data": {
            "text/plain": [
              "[]"
            ]
          },
          "execution_count": 49,
          "metadata": {},
          "output_type": "execute_result"
        }
      ],
      "source": [
        "# Borrado completo reiniciando con lista vacia []\n",
        "compras = ['aceite','agua','huevos']\n",
        "compras = []\n",
        "compras\n"
      ]
    },
    {
      "cell_type": "code",
      "execution_count": 50,
      "metadata": {},
      "outputs": [
        {
          "data": {
            "text/plain": [
              "True"
            ]
          },
          "execution_count": 50,
          "metadata": {},
          "output_type": "execute_result"
        }
      ],
      "source": [
        "# Pertenencia de un elemento \n",
        "lista_nombres = ['Juan','Maria','Juan','Jose','Pedro','Maria']\n",
        "'Maria' in lista_nombres"
      ]
    },
    {
      "cell_type": "code",
      "execution_count": null,
      "metadata": {},
      "outputs": [],
      "source": []
    },
    {
      "cell_type": "code",
      "execution_count": 51,
      "metadata": {},
      "outputs": [
        {
          "data": {
            "text/plain": [
              "False"
            ]
          },
          "execution_count": 51,
          "metadata": {},
          "output_type": "execute_result"
        }
      ],
      "source": [
        "# Pertenencia de un elemento \n",
        "lista_nombres = ['Juan','Maria','Juan','Jose','Pedro','Maria']\n",
        "'Soledad' in lista_nombres"
      ]
    },
    {
      "cell_type": "code",
      "execution_count": 52,
      "metadata": {},
      "outputs": [
        {
          "data": {
            "text/plain": [
              "2"
            ]
          },
          "execution_count": 52,
          "metadata": {},
          "output_type": "execute_result"
        }
      ],
      "source": [
        "# Numero de ocurrencias \n",
        "lista_nombres = ['Juan','Maria','Juan','Jose','Pedro','Maria']\n",
        "lista_nombres.count('Maria')"
      ]
    },
    {
      "cell_type": "code",
      "execution_count": null,
      "metadata": {},
      "outputs": [],
      "source": []
    },
    {
      "cell_type": "markdown",
      "metadata": {},
      "source": [
        "Convertir una lista en una cadena de texto"
      ]
    },
    {
      "cell_type": "code",
      "execution_count": 53,
      "metadata": {},
      "outputs": [
        {
          "data": {
            "text/plain": [
              "'Juan Maria Juan Jose Pedro Maria'"
            ]
          },
          "execution_count": 53,
          "metadata": {},
          "output_type": "execute_result"
        }
      ],
      "source": [
        "lista_nombres = ['Juan','Maria','Juan','Jose','Pedro','Maria']\n",
        "' '.join(lista_nombres)"
      ]
    },
    {
      "cell_type": "code",
      "execution_count": 54,
      "metadata": {},
      "outputs": [
        {
          "data": {
            "text/plain": [
              "'Juan y Maria y Juan y Jose y Pedro y Maria'"
            ]
          },
          "execution_count": 54,
          "metadata": {},
          "output_type": "execute_result"
        }
      ],
      "source": [
        "lista_nombres = ['Juan','Maria','Juan','Jose','Pedro','Maria']\n",
        "' y '.join(lista_nombres)"
      ]
    },
    {
      "cell_type": "code",
      "execution_count": 55,
      "metadata": {},
      "outputs": [
        {
          "data": {
            "text/plain": [
              "'Juan se ríe, Maria se ríe, Juan se ríe, Jose se ríe, Pedro se ríe, Maria'"
            ]
          },
          "execution_count": 55,
          "metadata": {},
          "output_type": "execute_result"
        }
      ],
      "source": [
        "lista_nombres = ['Juan','Maria','Juan','Jose','Pedro','Maria']\n",
        "' se ríe, '.join(lista_nombres)"
      ]
    },
    {
      "cell_type": "markdown",
      "metadata": {},
      "source": [
        "Ordenamiento de listas\n"
      ]
    },
    {
      "cell_type": "code",
      "execution_count": 56,
      "metadata": {},
      "outputs": [
        {
          "data": {
            "text/plain": [
              "['Jose', 'Juan', 'Juan', 'Maria', 'Maria', 'Pedro']"
            ]
          },
          "execution_count": 56,
          "metadata": {},
          "output_type": "execute_result"
        }
      ],
      "source": [
        "# Ordenamiento de una lista conservando la original\n",
        "lista_nombres = ['Juan','Maria','Juan','Jose','Pedro','Maria']\n",
        "sorted(lista_nombres)\n"
      ]
    },
    {
      "cell_type": "code",
      "execution_count": 57,
      "metadata": {},
      "outputs": [],
      "source": [
        "#ejemplo con sorted"
      ]
    },
    {
      "cell_type": "code",
      "execution_count": 58,
      "metadata": {},
      "outputs": [
        {
          "data": {
            "text/plain": [
              "['Jose', 'Juan', 'Juan', 'Maria', 'Maria', 'Pedro']"
            ]
          },
          "execution_count": 58,
          "metadata": {},
          "output_type": "execute_result"
        }
      ],
      "source": [
        "# Ordenamiento de una lista modificando la original\n",
        "lista_nombres = ['Juan','Maria','Juan','Jose','Pedro','Maria']\n",
        "lista_nombres.sort()\n",
        "lista_nombres"
      ]
    },
    {
      "cell_type": "code",
      "execution_count": null,
      "metadata": {},
      "outputs": [],
      "source": []
    },
    {
      "cell_type": "code",
      "execution_count": 59,
      "metadata": {},
      "outputs": [
        {
          "data": {
            "text/plain": [
              "['Pedro', 'Maria', 'Maria', 'Juan', 'Juan', 'Jose']"
            ]
          },
          "execution_count": 59,
          "metadata": {},
          "output_type": "execute_result"
        }
      ],
      "source": [
        "# Ordenamiento reverso de una lista modificando la original\n",
        "lista_nombres.sort(reverse=True)\n",
        "lista_nombres"
      ]
    },
    {
      "cell_type": "code",
      "execution_count": null,
      "metadata": {},
      "outputs": [],
      "source": []
    },
    {
      "cell_type": "code",
      "execution_count": 60,
      "metadata": {},
      "outputs": [
        {
          "data": {
            "text/plain": [
              "['Pedro', 'Maria', 'Maria', 'Juan', 'Juan', 'Jose']"
            ]
          },
          "execution_count": 60,
          "metadata": {},
          "output_type": "execute_result"
        }
      ],
      "source": [
        "# Ordenamiento reverso de una lista sin modificar la original\n",
        "sorted(lista_nombres,reverse=True)\n"
      ]
    },
    {
      "cell_type": "code",
      "execution_count": null,
      "metadata": {},
      "outputs": [],
      "source": []
    },
    {
      "cell_type": "code",
      "execution_count": 61,
      "metadata": {},
      "outputs": [
        {
          "data": {
            "text/plain": [
              "['Pedro', 'Maria', 'Maria', 'Juan', 'Juan', 'Jose']"
            ]
          },
          "execution_count": 61,
          "metadata": {},
          "output_type": "execute_result"
        }
      ],
      "source": [
        "lista_nombres"
      ]
    },
    {
      "cell_type": "markdown",
      "metadata": {},
      "source": [
        "Iterar sobre una lista"
      ]
    },
    {
      "cell_type": "code",
      "execution_count": 62,
      "metadata": {},
      "outputs": [
        {
          "name": "stdout",
          "output_type": "stream",
          "text": [
            "Juan\n",
            "Maria\n",
            "Jose\n",
            "Pedro\n"
          ]
        }
      ],
      "source": [
        "lista_nombres = ['Juan','Maria','Jose','Pedro']\n",
        "for nombre in lista_nombres:\n",
        "    print(nombre)"
      ]
    },
    {
      "cell_type": "code",
      "execution_count": 63,
      "metadata": {},
      "outputs": [
        {
          "name": "stdout",
          "output_type": "stream",
          "text": [
            "0 Juan\n",
            "1 Maria\n",
            "2 Jose\n",
            "3 Pedro\n"
          ]
        }
      ],
      "source": [
        "lista_nombres = ['Juan','Maria','Jose','Pedro']\n",
        "for i, nombre in enumerate(lista_nombres):\n",
        "    print(i, nombre)"
      ]
    },
    {
      "cell_type": "code",
      "execution_count": 64,
      "metadata": {},
      "outputs": [
        {
          "name": "stdout",
          "output_type": "stream",
          "text": [
            "1 Oro\n",
            "2 Plata\n",
            "3 Bronce\n"
          ]
        }
      ],
      "source": [
        "puestos = ['Oro','Plata','Bronce']\n",
        "for i, puesto in enumerate(puestos):\n",
        "    print(i+1, puesto)"
      ]
    },
    {
      "cell_type": "markdown",
      "metadata": {},
      "source": [
        "Iterar sobre varias listas (zip())"
      ]
    },
    {
      "cell_type": "code",
      "execution_count": 65,
      "metadata": {},
      "outputs": [
        {
          "name": "stdout",
          "output_type": "stream",
          "text": [
            "Juan Perez\n",
            "Maria Gomez\n",
            "Jose Garcia\n",
            "Pedro Lopez\n"
          ]
        }
      ],
      "source": [
        "lista_nombres = ['Juan','Maria','Jose','Pedro']\n",
        "lista_apellidos =['Perez','Gomez','Garcia','Lopez']\n",
        "\n",
        "for apellido, nombre in zip(lista_apellidos,lista_nombres):\n",
        "    print(nombre, apellido)"
      ]
    },
    {
      "cell_type": "code",
      "execution_count": null,
      "metadata": {},
      "outputs": [],
      "source": []
    },
    {
      "cell_type": "code",
      "execution_count": 66,
      "metadata": {},
      "outputs": [
        {
          "data": {
            "text/plain": [
              "[('Perez', 'Juan'), ('Gomez', 'Maria'), ('Garcia', 'Jose'), ('Lopez', 'Pedro')]"
            ]
          },
          "execution_count": 66,
          "metadata": {},
          "output_type": "execute_result"
        }
      ],
      "source": [
        "list(zip(lista_apellidos,lista_nombres))"
      ]
    },
    {
      "cell_type": "code",
      "execution_count": null,
      "metadata": {},
      "outputs": [],
      "source": []
    },
    {
      "cell_type": "markdown",
      "metadata": {},
      "source": [
        "Comportamiento de copias de listas"
      ]
    },
    {
      "cell_type": "code",
      "execution_count": 67,
      "metadata": {},
      "outputs": [
        {
          "data": {
            "text/plain": [
              "['Ricardo', 'Maria', 'Jose', 'Pedro']"
            ]
          },
          "execution_count": 67,
          "metadata": {},
          "output_type": "execute_result"
        }
      ],
      "source": [
        "# en esta copia asigno, modifico el primer nombre\n",
        "lista_nombres = ['Juan','Maria','Jose','Pedro']\n",
        "lista_nombres_copia = lista_nombres\n",
        "lista_nombres[0]='Ricardo'\n",
        "lista_nombres_copia"
      ]
    },
    {
      "cell_type": "code",
      "execution_count": 68,
      "metadata": {},
      "outputs": [
        {
          "data": {
            "text/plain": [
              "['Juan', 'Maria', 'Jose', 'Pedro']"
            ]
          },
          "execution_count": 68,
          "metadata": {},
          "output_type": "execute_result"
        }
      ],
      "source": [
        "# copia dura de una lista\n",
        "lista_nombres = ['Juan','Maria','Jose','Pedro']\n",
        "lista_nombres_copy=lista_nombres.copy()\n",
        "lista_nombres[0]='Ricardo'\n",
        "lista_nombres_copy\n",
        "# modifico el primer elemento y la original no se ha modificado, se creó otra lista para eso\n"
      ]
    },
    {
      "cell_type": "markdown",
      "metadata": {},
      "source": [
        "Verasidad Multiple"
      ]
    },
    {
      "cell_type": "code",
      "execution_count": 69,
      "metadata": {},
      "outputs": [
        {
          "name": "stdout",
          "output_type": "stream",
          "text": [
            "La palabra es correcta\n"
          ]
        }
      ],
      "source": [
        "palabra='programación'\n",
        "if len(palabra)>4 and palabra.startswith('p') and palabra.count('a')>=1:\n",
        "    print('La palabra es correcta')\n",
        "else:\n",
        "    print('La palabra es incorrecta')\n",
        "    "
      ]
    },
    {
      "cell_type": "code",
      "execution_count": 70,
      "metadata": {},
      "outputs": [
        {
          "name": "stdout",
          "output_type": "stream",
          "text": [
            "La palabra es correcta\n"
          ]
        }
      ],
      "source": [
        "# ejemplo usando all())\n",
        "palabra='programación'\n",
        "cantidad_letras=len(palabra) >4\n",
        "palabra_comienza_p =palabra.startswith('p')\n",
        "minima_cantidad_as = palabra.count('a')>=1\n",
        "# A una variable booleana le asigno los valores de cada una de las condiciones con all para que se cumplan todas\n",
        "is_palabra_correcta = all([cantidad_letras,palabra_comienza_p,minima_cantidad_as])\n",
        "if (is_palabra_correcta):\n",
        "    print('La palabra es correcta')\n",
        "else:\n",
        "    print('La palabra es incorrecta')\n",
        "    \n",
        "    \n"
      ]
    },
    {
      "cell_type": "code",
      "execution_count": null,
      "metadata": {},
      "outputs": [],
      "source": []
    },
    {
      "cell_type": "code",
      "execution_count": 71,
      "metadata": {},
      "outputs": [
        {
          "name": "stdout",
          "output_type": "stream",
          "text": [
            "La palabra es correcta\n"
          ]
        }
      ],
      "source": [
        "# ejemplo usando any())\n",
        "palabra='año'\n",
        "cantidad_letras=len(palabra) >4             # False\n",
        "palabra_comienza_p =palabra.startswith('p') # False\n",
        "minima_cantidad_as = palabra.count('a')>=1  # True\n",
        "is_palabra_correcta = any([cantidad_letras,palabra_comienza_p,minima_cantidad_as])\n",
        "if (is_palabra_correcta):\n",
        "    print('La palabra es correcta')\n",
        "else:\n",
        "    print('La palabra es incorrecta')"
      ]
    },
    {
      "cell_type": "code",
      "execution_count": null,
      "metadata": {},
      "outputs": [],
      "source": []
    },
    {
      "cell_type": "markdown",
      "metadata": {},
      "source": [
        "Listas por comprensión"
      ]
    },
    {
      "cell_type": "code",
      "execution_count": 72,
      "metadata": {},
      "outputs": [
        {
          "data": {
            "text/plain": [
              "[23, 54, 64, 33, 54, 45]"
            ]
          },
          "execution_count": 72,
          "metadata": {},
          "output_type": "execute_result"
        }
      ],
      "source": [
        "#Forma Clásica \n",
        "valores='23,54,64,33,54,45'\n",
        "int_valores=[]\n",
        "for valor in valores.split(','):\n",
        "    int_valores.append(int(valor))\n",
        "int_valores\n"
      ]
    },
    {
      "cell_type": "code",
      "execution_count": null,
      "metadata": {},
      "outputs": [],
      "source": []
    },
    {
      "cell_type": "code",
      "execution_count": 73,
      "metadata": {},
      "outputs": [
        {
          "data": {
            "text/plain": [
              "[23, 54, 64, 33, 54, 45]"
            ]
          },
          "execution_count": 73,
          "metadata": {},
          "output_type": "execute_result"
        }
      ],
      "source": [
        "# Utilizando list comprehension\n",
        "int_valores=[int(valor) for valor in valores.split(',')]\n",
        "int_valores"
      ]
    },
    {
      "cell_type": "code",
      "execution_count": null,
      "metadata": {},
      "outputs": [],
      "source": []
    },
    {
      "cell_type": "code",
      "execution_count": 74,
      "metadata": {},
      "outputs": [
        {
          "data": {
            "text/plain": [
              "[54, 64, 54]"
            ]
          },
          "execution_count": 74,
          "metadata": {},
          "output_type": "execute_result"
        }
      ],
      "source": [
        "#Utilizando condicional\n",
        "int_valores=[int(valor) for valor in valores.split(',') if int(valor)>50]\n",
        "int_valores"
      ]
    },
    {
      "cell_type": "code",
      "execution_count": null,
      "metadata": {},
      "outputs": [],
      "source": []
    },
    {
      "cell_type": "code",
      "execution_count": 75,
      "metadata": {},
      "outputs": [
        {
          "data": {
            "text/plain": [
              "['3x34',\n",
              " '3x54',\n",
              " '3x43',\n",
              " '3x23',\n",
              " '3x34',\n",
              " '3x43',\n",
              " '3x54',\n",
              " '3x43',\n",
              " '4x34',\n",
              " '4x54',\n",
              " '4x43',\n",
              " '4x23',\n",
              " '4x34',\n",
              " '4x43',\n",
              " '4x54',\n",
              " '4x43',\n",
              " ',x34',\n",
              " ',x54',\n",
              " ',x43',\n",
              " ',x23',\n",
              " ',x34',\n",
              " ',x43',\n",
              " ',x54',\n",
              " ',x43',\n",
              " '5x34',\n",
              " '5x54',\n",
              " '5x43',\n",
              " '5x23',\n",
              " '5x34',\n",
              " '5x43',\n",
              " '5x54',\n",
              " '5x43',\n",
              " '4x34',\n",
              " '4x54',\n",
              " '4x43',\n",
              " '4x23',\n",
              " '4x34',\n",
              " '4x43',\n",
              " '4x54',\n",
              " '4x43',\n",
              " ',x34',\n",
              " ',x54',\n",
              " ',x43',\n",
              " ',x23',\n",
              " ',x34',\n",
              " ',x43',\n",
              " ',x54',\n",
              " ',x43',\n",
              " '4x34',\n",
              " '4x54',\n",
              " '4x43',\n",
              " '4x23',\n",
              " '4x34',\n",
              " '4x43',\n",
              " '4x54',\n",
              " '4x43',\n",
              " '3x34',\n",
              " '3x54',\n",
              " '3x43',\n",
              " '3x23',\n",
              " '3x34',\n",
              " '3x43',\n",
              " '3x54',\n",
              " '3x43',\n",
              " ',x34',\n",
              " ',x54',\n",
              " ',x43',\n",
              " ',x23',\n",
              " ',x34',\n",
              " ',x43',\n",
              " ',x54',\n",
              " ',x43',\n",
              " '2x34',\n",
              " '2x54',\n",
              " '2x43',\n",
              " '2x23',\n",
              " '2x34',\n",
              " '2x43',\n",
              " '2x54',\n",
              " '2x43',\n",
              " '3x34',\n",
              " '3x54',\n",
              " '3x43',\n",
              " '3x23',\n",
              " '3x34',\n",
              " '3x43',\n",
              " '3x54',\n",
              " '3x43',\n",
              " ',x34',\n",
              " ',x54',\n",
              " ',x43',\n",
              " ',x23',\n",
              " ',x34',\n",
              " ',x43',\n",
              " ',x54',\n",
              " ',x43',\n",
              " '3x34',\n",
              " '3x54',\n",
              " '3x43',\n",
              " '3x23',\n",
              " '3x34',\n",
              " '3x43',\n",
              " '3x54',\n",
              " '3x43',\n",
              " '4x34',\n",
              " '4x54',\n",
              " '4x43',\n",
              " '4x23',\n",
              " '4x34',\n",
              " '4x43',\n",
              " '4x54',\n",
              " '4x43',\n",
              " ',x34',\n",
              " ',x54',\n",
              " ',x43',\n",
              " ',x23',\n",
              " ',x34',\n",
              " ',x43',\n",
              " ',x54',\n",
              " ',x43',\n",
              " '4x34',\n",
              " '4x54',\n",
              " '4x43',\n",
              " '4x23',\n",
              " '4x34',\n",
              " '4x43',\n",
              " '4x54',\n",
              " '4x43',\n",
              " '3x34',\n",
              " '3x54',\n",
              " '3x43',\n",
              " '3x23',\n",
              " '3x34',\n",
              " '3x43',\n",
              " '3x54',\n",
              " '3x43',\n",
              " ',x34',\n",
              " ',x54',\n",
              " ',x43',\n",
              " ',x23',\n",
              " ',x34',\n",
              " ',x43',\n",
              " ',x54',\n",
              " ',x43',\n",
              " '5x34',\n",
              " '5x54',\n",
              " '5x43',\n",
              " '5x23',\n",
              " '5x34',\n",
              " '5x43',\n",
              " '5x54',\n",
              " '5x43',\n",
              " '4x34',\n",
              " '4x54',\n",
              " '4x43',\n",
              " '4x23',\n",
              " '4x34',\n",
              " '4x43',\n",
              " '4x54',\n",
              " '4x43',\n",
              " ',x34',\n",
              " ',x54',\n",
              " ',x43',\n",
              " ',x23',\n",
              " ',x34',\n",
              " ',x43',\n",
              " ',x54',\n",
              " ',x43',\n",
              " '4x34',\n",
              " '4x54',\n",
              " '4x43',\n",
              " '4x23',\n",
              " '4x34',\n",
              " '4x43',\n",
              " '4x54',\n",
              " '4x43',\n",
              " '3x34',\n",
              " '3x54',\n",
              " '3x43',\n",
              " '3x23',\n",
              " '3x34',\n",
              " '3x43',\n",
              " '3x54',\n",
              " '3x43']"
            ]
          },
          "execution_count": 75,
          "metadata": {},
          "output_type": "execute_result"
        }
      ],
      "source": [
        "# Anidamiento de listas por comprension\n",
        "values = '34,54,43,23,34,43,54,43'\n",
        "svalues = values.split(',')\n",
        "combinacion = [f'{x}x{y}' for x in values for y in svalues]\n",
        "combinacion"
      ]
    },
    {
      "cell_type": "code",
      "execution_count": null,
      "metadata": {},
      "outputs": [],
      "source": []
    },
    {
      "cell_type": "code",
      "execution_count": 76,
      "metadata": {},
      "outputs": [
        {
          "data": {
            "text/plain": [
              "1"
            ]
          },
          "execution_count": 76,
          "metadata": {},
          "output_type": "execute_result"
        }
      ],
      "source": [
        "# Funciones matematicas en listas\n",
        "datos = [1,2,3,4,5,6,7,8,9,10]\n",
        "min(datos)\n",
        "\n"
      ]
    },
    {
      "cell_type": "code",
      "execution_count": 77,
      "metadata": {},
      "outputs": [
        {
          "data": {
            "text/plain": [
              "10"
            ]
          },
          "execution_count": 77,
          "metadata": {},
          "output_type": "execute_result"
        }
      ],
      "source": [
        "max(datos)"
      ]
    },
    {
      "cell_type": "code",
      "execution_count": 78,
      "metadata": {},
      "outputs": [
        {
          "data": {
            "text/plain": [
              "55"
            ]
          },
          "execution_count": 78,
          "metadata": {},
          "output_type": "execute_result"
        }
      ],
      "source": [
        "sum(datos)"
      ]
    },
    {
      "cell_type": "code",
      "execution_count": 79,
      "metadata": {},
      "outputs": [
        {
          "data": {
            "text/plain": [
              "[[34, 54, 54, 65], [56, 43, 43], [66, 77, 88, 99]]"
            ]
          },
          "execution_count": 79,
          "metadata": {},
          "output_type": "execute_result"
        }
      ],
      "source": [
        "#Listas de listas\n",
        "la =[34,54,54,65]\n",
        "lb =[56,43,43]\n",
        "lc =[66,77,88,99]\n",
        "ld=[la,lb,lc]\n",
        "ld"
      ]
    },
    {
      "cell_type": "code",
      "execution_count": null,
      "metadata": {},
      "outputs": [],
      "source": []
    },
    {
      "cell_type": "code",
      "execution_count": 80,
      "metadata": {},
      "outputs": [
        {
          "data": {
            "text/plain": [
              "43"
            ]
          },
          "execution_count": 80,
          "metadata": {},
          "output_type": "execute_result"
        }
      ],
      "source": [
        "ld[1][1]"
      ]
    },
    {
      "cell_type": "code",
      "execution_count": null,
      "metadata": {},
      "outputs": [],
      "source": []
    },
    {
      "cell_type": "markdown",
      "metadata": {},
      "source": [
        "3.2 Tuplas"
      ]
    },
    {
      "cell_type": "markdown",
      "metadata": {},
      "source": [
        "Creación de tuplas"
      ]
    },
    {
      "cell_type": "code",
      "execution_count": 81,
      "metadata": {},
      "outputs": [],
      "source": [
        "tupla_vacia = ()\n",
        "larioja_geoloc = (-29.427,-66.868)\n",
        "punto =(4,2,4)"
      ]
    },
    {
      "cell_type": "code",
      "execution_count": null,
      "metadata": {},
      "outputs": [],
      "source": []
    },
    {
      "cell_type": "markdown",
      "metadata": {},
      "source": [
        "Conversión de tuplas"
      ]
    },
    {
      "cell_type": "code",
      "execution_count": 82,
      "metadata": {},
      "outputs": [],
      "source": [
        "# de acá para abajo no marque nada de lo que falta"
      ]
    },
    {
      "cell_type": "code",
      "execution_count": 83,
      "metadata": {},
      "outputs": [
        {
          "data": {
            "text/plain": [
              "('manzana', 'pera', 'banana', 'naranja', 'limon')"
            ]
          },
          "execution_count": 83,
          "metadata": {},
          "output_type": "execute_result"
        }
      ],
      "source": [
        "lista_super = ['manzana','pera','banana','naranja','limon']\n",
        "tupla_super = tuple(lista_super)\n",
        "tupla_super \n"
      ]
    },
    {
      "cell_type": "code",
      "execution_count": 84,
      "metadata": {},
      "outputs": [
        {
          "data": {
            "text/plain": [
              "'pera'"
            ]
          },
          "execution_count": 84,
          "metadata": {},
          "output_type": "execute_result"
        }
      ],
      "source": [
        "# Desempaquetado de tuplas\n",
        "tupla_super = ('manzana','pera','banana','naranja','limon')\n",
        "fruta1, fruta2, fruta3, fruta4, fruta5 = tupla_super\n",
        "fruta2"
      ]
    },
    {
      "cell_type": "code",
      "execution_count": 85,
      "metadata": {},
      "outputs": [
        {
          "data": {
            "text/plain": [
              "'manzana'"
            ]
          },
          "execution_count": 85,
          "metadata": {},
          "output_type": "execute_result"
        }
      ],
      "source": [
        "# Desempaquetado extendido de tuplas\n",
        "tupala_supers = ('manzana','pera','banana','naranja','limon')   \n",
        "cabeza, *cuerpo, cola = tupala_supers\n",
        "cabeza"
      ]
    },
    {
      "cell_type": "code",
      "execution_count": 86,
      "metadata": {},
      "outputs": [
        {
          "data": {
            "text/plain": [
              "['pera', 'banana', 'naranja']"
            ]
          },
          "execution_count": 86,
          "metadata": {},
          "output_type": "execute_result"
        }
      ],
      "source": [
        "cuerpo"
      ]
    },
    {
      "cell_type": "code",
      "execution_count": 87,
      "metadata": {},
      "outputs": [
        {
          "data": {
            "text/plain": [
              "'limon'"
            ]
          },
          "execution_count": 87,
          "metadata": {},
          "output_type": "execute_result"
        }
      ],
      "source": [
        "cola"
      ]
    },
    {
      "cell_type": "code",
      "execution_count": 88,
      "metadata": {},
      "outputs": [
        {
          "data": {
            "text/plain": [
              "('l', 'a')"
            ]
          },
          "execution_count": 88,
          "metadata": {},
          "output_type": "execute_result"
        }
      ],
      "source": [
        "# Desempaquetado generico de tuplas\n",
        "# sobre cadenas de texto\n",
        "texto = \"la\"\n",
        "first,last=texto\n",
        "first, last"
      ]
    },
    {
      "cell_type": "code",
      "execution_count": 89,
      "metadata": {},
      "outputs": [
        {
          "data": {
            "text/plain": [
              "('Juan', 'Maria', 'Jose')"
            ]
          },
          "execution_count": 89,
          "metadata": {},
          "output_type": "execute_result"
        }
      ],
      "source": [
        "# sobre listas\n",
        "alumno1,alumno2,alumno3 = ['Juan','Maria','Jose']\n",
        "alumno1,alumno2,alumno3 \n"
      ]
    },
    {
      "cell_type": "code",
      "execution_count": 90,
      "metadata": {},
      "outputs": [
        {
          "data": {
            "text/plain": [
              "('la', 'rioja')"
            ]
          },
          "execution_count": 90,
          "metadata": {},
          "output_type": "execute_result"
        }
      ],
      "source": [
        "texto = \"la rioja\"\n",
        "palabra1,palabra2 =texto.split()\n",
        "palabra1,palabra2 "
      ]
    },
    {
      "cell_type": "markdown",
      "metadata": {},
      "source": [
        "3.3 Diccionarios\n",
        "Para crear un diccionario usamos llaves {} rodeando asignaciones clave: valor que están\n",
        "separadas por comas. Veamos algunos ejemplos de diccionarios:"
      ]
    },
    {
      "cell_type": "code",
      "execution_count": 91,
      "metadata": {},
      "outputs": [],
      "source": [
        "diccionario_vacio={}\n",
        "diccionario_numeros = {1:'uno',2:'dos',3:'tres'}\n",
        "diccionario_anios ={2019:'dos mil diecinueve',2020:'dos mil veinte'}\n"
      ]
    },
    {
      "cell_type": "code",
      "execution_count": 92,
      "metadata": {},
      "outputs": [
        {
          "data": {
            "text/plain": [
              "{'a': 1, 'b': 2, 'c': 3}"
            ]
          },
          "execution_count": 92,
          "metadata": {},
          "output_type": "execute_result"
        }
      ],
      "source": [
        "# Conversión de diccionarios desde listas\n",
        "dict(zip(['a','b','c'],[1,2,3]))\n"
      ]
    },
    {
      "cell_type": "code",
      "execution_count": 93,
      "metadata": {},
      "outputs": [
        {
          "data": {
            "text/plain": [
              "{'a': '1', 'b': '2'}"
            ]
          },
          "execution_count": 93,
          "metadata": {},
          "output_type": "execute_result"
        }
      ],
      "source": [
        "dict(['a1','b2'])"
      ]
    },
    {
      "cell_type": "code",
      "execution_count": 94,
      "metadata": {},
      "outputs": [
        {
          "data": {
            "text/plain": [
              "{'a': 1, 'b': 2, 'c': 3}"
            ]
          },
          "execution_count": 94,
          "metadata": {},
          "output_type": "execute_result"
        }
      ],
      "source": [
        "# Conversión de diccionarios desde tuplas\n",
        "dict((['a',1],['b',2],['c',3]))"
      ]
    },
    {
      "cell_type": "code",
      "execution_count": 95,
      "metadata": {},
      "outputs": [
        {
          "data": {
            "text/plain": [
              "{'a': 1, 'b': 2, 'c': 3}"
            ]
          },
          "execution_count": 95,
          "metadata": {},
          "output_type": "execute_result"
        }
      ],
      "source": [
        "# Conversión de diccionarios desde listas de Listas \n",
        "dict([['a',1],['b',2],['c',3]])\n"
      ]
    },
    {
      "cell_type": "code",
      "execution_count": 96,
      "metadata": {},
      "outputs": [
        {
          "data": {
            "text/plain": [
              "{'nombre': 'Juan', 'apellido': 'Perez', 'edad': 30}"
            ]
          },
          "execution_count": 96,
          "metadata": {},
          "output_type": "execute_result"
        }
      ],
      "source": [
        "# Creacion de diccionario con dict\n",
        "persona = dict(nombre='Juan',apellido='Perez',edad=30)\n",
        "persona"
      ]
    },
    {
      "cell_type": "code",
      "execution_count": 97,
      "metadata": {},
      "outputs": [
        {
          "data": {
            "text/plain": [
              "{'a': 0, 'b': 0, 'c': 0}"
            ]
          },
          "execution_count": 97,
          "metadata": {},
          "output_type": "execute_result"
        }
      ],
      "source": [
        "# Creacion de diccionario con dict con un valor de relleno\n",
        "dict.fromkeys(['a','b','c'],0)"
      ]
    },
    {
      "cell_type": "code",
      "execution_count": 98,
      "metadata": {},
      "outputs": [
        {
          "data": {
            "text/plain": [
              "'Juan'"
            ]
          },
          "execution_count": 98,
          "metadata": {},
          "output_type": "execute_result"
        }
      ],
      "source": [
        "# Obtener un valor de un diccionario\n",
        "persona['nombre']"
      ]
    },
    {
      "cell_type": "code",
      "execution_count": 99,
      "metadata": {},
      "outputs": [
        {
          "data": {
            "text/plain": [
              "'Juan'"
            ]
          },
          "execution_count": 99,
          "metadata": {},
          "output_type": "execute_result"
        }
      ],
      "source": [
        "persona.get('nombre')"
      ]
    },
    {
      "cell_type": "code",
      "execution_count": 100,
      "metadata": {},
      "outputs": [
        {
          "data": {
            "text/plain": [
              "'No existe'"
            ]
          },
          "execution_count": 100,
          "metadata": {},
          "output_type": "execute_result"
        }
      ],
      "source": [
        "persona.get('telefono','No existe')"
      ]
    },
    {
      "cell_type": "code",
      "execution_count": 101,
      "metadata": {},
      "outputs": [
        {
          "data": {
            "text/plain": [
              "{1: 'uno', 2: 'dos', 3: 'tres', 4: 'cuatro'}"
            ]
          },
          "execution_count": 101,
          "metadata": {},
          "output_type": "execute_result"
        }
      ],
      "source": [
        "# Agregar o modificar un valor en un diccionario\n",
        "diccionario_numeros = {1:'uno',2:'dos',3:'tres'}\n",
        "diccionario_numeros[4]='cuatro'\n",
        "diccionario_numeros"
      ]
    },
    {
      "cell_type": "code",
      "execution_count": 102,
      "metadata": {},
      "outputs": [
        {
          "data": {
            "text/plain": [
              "{1: 'uno', 2: 'dos', 3: 'three', 4: 'cuatro'}"
            ]
          },
          "execution_count": 102,
          "metadata": {},
          "output_type": "execute_result"
        }
      ],
      "source": [
        "diccionario_numeros[3]='three'\n",
        "diccionario_numeros\n"
      ]
    },
    {
      "cell_type": "code",
      "execution_count": 103,
      "metadata": {},
      "outputs": [
        {
          "data": {
            "text/plain": [
              "{'a': 1, 'e': 2, 'i': 3, 'o': 4, 'u': 5}"
            ]
          },
          "execution_count": 103,
          "metadata": {},
          "output_type": "execute_result"
        }
      ],
      "source": [
        "#Creando un diccionario desde vacio\n",
        "#Supongamos un ejemplo en el que queremos construir un diccionario donde las claves son\n",
        "#las letras vocales y los valores son sus posiciones:\n",
        "vocales = 'aeiou'\n",
        "enum_vocales ={}\n",
        "for i,vocal in enumerate(vocales):\n",
        "    enum_vocales[vocal]=i +1\n",
        "enum_vocales\n",
        "    "
      ]
    },
    {
      "cell_type": "code",
      "execution_count": 104,
      "metadata": {},
      "outputs": [
        {
          "data": {
            "text/plain": [
              "dict_keys(['a', 'e', 'i', 'o', 'u'])"
            ]
          },
          "execution_count": 104,
          "metadata": {},
          "output_type": "execute_result"
        }
      ],
      "source": [
        "# Obteniendo las claves de un diccionario\n",
        "enum_vocales.keys()"
      ]
    },
    {
      "cell_type": "code",
      "execution_count": 105,
      "metadata": {},
      "outputs": [
        {
          "data": {
            "text/plain": [
              "dict_values([1, 2, 3, 4, 5])"
            ]
          },
          "execution_count": 105,
          "metadata": {},
          "output_type": "execute_result"
        }
      ],
      "source": [
        "# Onteniendo los valores de un diccionario\n",
        "enum_vocales.values()"
      ]
    },
    {
      "cell_type": "code",
      "execution_count": 106,
      "metadata": {},
      "outputs": [
        {
          "data": {
            "text/plain": [
              "dict_items([('a', 1), ('e', 2), ('i', 3), ('o', 4), ('u', 5)])"
            ]
          },
          "execution_count": 106,
          "metadata": {},
          "output_type": "execute_result"
        }
      ],
      "source": [
        "# Obteniendo los items de un diccionario\n",
        "enum_vocales.items()"
      ]
    },
    {
      "cell_type": "code",
      "execution_count": 107,
      "metadata": {},
      "outputs": [
        {
          "data": {
            "text/plain": [
              "5"
            ]
          },
          "execution_count": 107,
          "metadata": {},
          "output_type": "execute_result"
        }
      ],
      "source": [
        "# Longitud del diccionario\n",
        "len(enum_vocales)"
      ]
    },
    {
      "cell_type": "code",
      "execution_count": 108,
      "metadata": {},
      "outputs": [
        {
          "name": "stdout",
          "output_type": "stream",
          "text": [
            "a\n",
            "e\n",
            "i\n",
            "o\n",
            "u\n"
          ]
        }
      ],
      "source": [
        "# Iterar sobre el diccionario \n",
        "for vocal in enum_vocales.keys():\n",
        "    print(vocal)\n",
        "    "
      ]
    },
    {
      "cell_type": "code",
      "execution_count": 109,
      "metadata": {},
      "outputs": [
        {
          "name": "stdout",
          "output_type": "stream",
          "text": [
            "1\n",
            "2\n",
            "3\n",
            "4\n",
            "5\n"
          ]
        }
      ],
      "source": [
        "# Iterar sobre el diccionario \n",
        "for orden in enum_vocales.values():\n",
        "    print(orden)"
      ]
    },
    {
      "cell_type": "code",
      "execution_count": 110,
      "metadata": {},
      "outputs": [
        {
          "name": "stdout",
          "output_type": "stream",
          "text": [
            "La vocal a es la 1 en el abecedario\n",
            "La vocal e es la 2 en el abecedario\n",
            "La vocal i es la 3 en el abecedario\n",
            "La vocal o es la 4 en el abecedario\n",
            "La vocal u es la 5 en el abecedario\n"
          ]
        }
      ],
      "source": [
        "# Iterar sobre el diccionario\n",
        "for orden,valor in enum_vocales.items():\n",
        "    print(f'La vocal {orden} es la {valor} en el abecedario')"
      ]
    },
    {
      "cell_type": "code",
      "execution_count": 111,
      "metadata": {},
      "outputs": [
        {
          "data": {
            "text/plain": [
              "{'a': 1, 'b': 2, 'c': 3, 'd': 4}"
            ]
          },
          "execution_count": 111,
          "metadata": {},
          "output_type": "execute_result"
        }
      ],
      "source": [
        "# Combinar Diccionarios\n",
        "diccionario1 = {'a':1,'b':2,'c':3}  \n",
        "diccionario2 = {'a':1,'b':2,'c':3,'d':4}\n",
        "{**diccionario1,**diccionario2}"
      ]
    },
    {
      "cell_type": "code",
      "execution_count": 112,
      "metadata": {},
      "outputs": [
        {
          "data": {
            "text/plain": [
              "{'a': 1, 'b': 2, 'c': 3, 'd': 4}"
            ]
          },
          "execution_count": 112,
          "metadata": {},
          "output_type": "execute_result"
        }
      ],
      "source": [
        "diccionario1 | diccionario2"
      ]
    },
    {
      "cell_type": "code",
      "execution_count": 113,
      "metadata": {},
      "outputs": [
        {
          "data": {
            "text/plain": [
              "{'a': 1, 'b': 2, 'c': 3, 'd': 4}"
            ]
          },
          "execution_count": 113,
          "metadata": {},
          "output_type": "execute_result"
        }
      ],
      "source": [
        "# Modifcando el diccionario original\n",
        "diccionario1.update(diccionario2)\n",
        "diccionario1"
      ]
    },
    {
      "cell_type": "code",
      "execution_count": 114,
      "metadata": {},
      "outputs": [
        {
          "data": {
            "text/plain": [
              "{'b': 2, 'c': 3, 'd': 4}"
            ]
          },
          "execution_count": 114,
          "metadata": {},
          "output_type": "execute_result"
        }
      ],
      "source": [
        "# Eliminando un elemento de un diccionario por clave\n",
        "del(diccionario1['a'])\n",
        "diccionario1"
      ]
    },
    {
      "cell_type": "code",
      "execution_count": 115,
      "metadata": {},
      "outputs": [
        {
          "data": {
            "text/plain": [
              "2"
            ]
          },
          "execution_count": 115,
          "metadata": {},
          "output_type": "execute_result"
        }
      ],
      "source": [
        "# Eliminando un elemento de un diccionario por clave con extraccion\n",
        "diccionario2.pop('b')"
      ]
    },
    {
      "cell_type": "code",
      "execution_count": 116,
      "metadata": {},
      "outputs": [
        {
          "data": {
            "text/plain": [
              "{'a': 1, 'c': 3, 'd': 4}"
            ]
          },
          "execution_count": 116,
          "metadata": {},
          "output_type": "execute_result"
        }
      ],
      "source": [
        "diccionario2"
      ]
    },
    {
      "cell_type": "code",
      "execution_count": 117,
      "metadata": {},
      "outputs": [],
      "source": [
        "# Borra todos los elementos de un diccionario\n",
        "diccionario1.clear()\n",
        "diccionario2 = {}"
      ]
    },
    {
      "cell_type": "code",
      "execution_count": 118,
      "metadata": {},
      "outputs": [
        {
          "data": {
            "text/plain": [
              "{}"
            ]
          },
          "execution_count": 118,
          "metadata": {},
          "output_type": "execute_result"
        }
      ],
      "source": [
        "diccionario1"
      ]
    },
    {
      "cell_type": "code",
      "execution_count": 119,
      "metadata": {},
      "outputs": [
        {
          "data": {
            "text/plain": [
              "{}"
            ]
          },
          "execution_count": 119,
          "metadata": {},
          "output_type": "execute_result"
        }
      ],
      "source": [
        "diccionario2"
      ]
    },
    {
      "cell_type": "markdown",
      "metadata": {},
      "source": [
        "3.4 Conjuntos "
      ]
    },
    {
      "cell_type": "code",
      "execution_count": 120,
      "metadata": {},
      "outputs": [
        {
          "data": {
            "text/plain": [
              "{'conejo', 'gato', 'perro'}"
            ]
          },
          "execution_count": 120,
          "metadata": {},
          "output_type": "execute_result"
        }
      ],
      "source": [
        "animales = {'perro','gato','conejo','perro','gato','conejo'}\n",
        "animales "
      ]
    },
    {
      "cell_type": "code",
      "execution_count": 121,
      "metadata": {},
      "outputs": [
        {
          "data": {
            "text/plain": [
              "{}"
            ]
          },
          "execution_count": 121,
          "metadata": {},
          "output_type": "execute_result"
        }
      ],
      "source": [
        "personas = {}\n",
        "personas "
      ]
    },
    {
      "cell_type": "code",
      "execution_count": 122,
      "metadata": {},
      "outputs": [
        {
          "data": {
            "text/plain": [
              "3"
            ]
          },
          "execution_count": 122,
          "metadata": {},
          "output_type": "execute_result"
        }
      ],
      "source": [
        "# Longitud de un conjunto\n",
        "len(animales)"
      ]
    },
    {
      "cell_type": "code",
      "execution_count": 123,
      "metadata": {},
      "outputs": [
        {
          "data": {
            "text/plain": [
              "True"
            ]
          },
          "execution_count": 123,
          "metadata": {},
          "output_type": "execute_result"
        }
      ],
      "source": [
        "# Pertenece a un conjunto\n",
        "'perro' in animales\n"
      ]
    },
    {
      "cell_type": "code",
      "execution_count": 124,
      "metadata": {},
      "outputs": [
        {
          "data": {
            "text/plain": [
              "False"
            ]
          },
          "execution_count": 124,
          "metadata": {},
          "output_type": "execute_result"
        }
      ],
      "source": [
        "# Pertenece a un conjunto\n",
        "'vaca' in animales\n"
      ]
    },
    {
      "cell_type": "code",
      "execution_count": 125,
      "metadata": {},
      "outputs": [
        {
          "data": {
            "text/plain": [
              "True"
            ]
          },
          "execution_count": 125,
          "metadata": {},
          "output_type": "execute_result"
        }
      ],
      "source": [
        "# Pertenece a un conjunto\n",
        "'vaca' not in animales\n"
      ]
    },
    {
      "cell_type": "code",
      "execution_count": 126,
      "metadata": {},
      "outputs": [
        {
          "name": "stdout",
          "output_type": "stream",
          "text": [
            "GATO PERRO CONEJO "
          ]
        }
      ],
      "source": [
        "# Iterar sobre un conjunto\n",
        "for animal in animales:\n",
        "    print(animal.upper(),end=' ')\n",
        "    \n",
        "    "
      ]
    },
    {
      "cell_type": "code",
      "execution_count": 127,
      "metadata": {},
      "outputs": [
        {
          "data": {
            "text/plain": [
              "{'conejo', 'gato', 'leon', 'perro'}"
            ]
          },
          "execution_count": 127,
          "metadata": {},
          "output_type": "execute_result"
        }
      ],
      "source": [
        "# Agregar un elemento a un conjunto\n",
        "animales.add('leon')\n",
        "animales"
      ]
    },
    {
      "cell_type": "code",
      "execution_count": 128,
      "metadata": {},
      "outputs": [
        {
          "data": {
            "text/plain": [
              "{'conejo', 'gato', 'leon'}"
            ]
          },
          "execution_count": 128,
          "metadata": {},
          "output_type": "execute_result"
        }
      ],
      "source": [
        "# Remover un elemento de un conjunto\n",
        "animales.remove('perro')\n",
        "animales"
      ]
    },
    {
      "cell_type": "code",
      "execution_count": 129,
      "metadata": {},
      "outputs": [
        {
          "data": {
            "text/plain": [
              "set()"
            ]
          },
          "execution_count": 129,
          "metadata": {},
          "output_type": "execute_result"
        }
      ],
      "source": [
        "# Vaciar un conjunto\n",
        "animales.clear()\n",
        "\n",
        "animales"
      ]
    },
    {
      "cell_type": "code",
      "execution_count": 130,
      "metadata": {},
      "outputs": [],
      "source": [
        "# Teoría de conjuntos\n",
        "A = {1,2,3,4,5}\n",
        "B = {4,5,6,7,8}\n"
      ]
    },
    {
      "cell_type": "code",
      "execution_count": 131,
      "metadata": {},
      "outputs": [
        {
          "data": {
            "text/plain": [
              "{1, 2, 3, 4, 5, 6, 7, 8}"
            ]
          },
          "execution_count": 131,
          "metadata": {},
          "output_type": "execute_result"
        }
      ],
      "source": [
        "# Unión de conjuntos\n",
        "A | B\n",
        "A.union(B)"
      ]
    },
    {
      "cell_type": "code",
      "execution_count": 132,
      "metadata": {},
      "outputs": [
        {
          "data": {
            "text/plain": [
              "{4, 5}"
            ]
          },
          "execution_count": 132,
          "metadata": {},
          "output_type": "execute_result"
        }
      ],
      "source": [
        "# intersección de conjuntos\n",
        "A & B\n",
        "A.intersection(B)"
      ]
    },
    {
      "cell_type": "code",
      "execution_count": 133,
      "metadata": {},
      "outputs": [
        {
          "data": {
            "text/plain": [
              "{1, 2, 3}"
            ]
          },
          "execution_count": 133,
          "metadata": {},
          "output_type": "execute_result"
        }
      ],
      "source": [
        "# diferencia de conjuntos\n",
        "A - B\n",
        "A.difference(B)"
      ]
    }
  ],
  "metadata": {
    "kernelspec": {
      "display_name": "Python 3.10.7 64-bit",
      "language": "python",
      "name": "python3"
    },
    "language_info": {
      "codemirror_mode": {
        "name": "ipython",
        "version": 3
      },
      "file_extension": ".py",
      "mimetype": "text/x-python",
      "name": "python",
      "nbconvert_exporter": "python",
      "pygments_lexer": "ipython3",
      "version": "3.10.7"
    },
    "orig_nbformat": 4,
    "vscode": {
      "interpreter": {
        "hash": "12012e29cfdd80c6232e78c9cc61e00b538a7283e7f08a6e0e05e20d023ad832"
      }
    }
  },
  "nbformat": 4,
  "nbformat_minor": 2
}
