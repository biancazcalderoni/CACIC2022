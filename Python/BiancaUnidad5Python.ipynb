{
  "cells": [
    {
      "cell_type": "markdown",
      "metadata": {},
      "source": [
        "## UNIDAD 5 \n",
        "# Modularidad \n",
        "Funciones "
      ]
    },
    {
      "cell_type": "markdown",
      "metadata": {},
      "source": [
        "La modularidad es la característica de un sistema que permite que sea estudiado, visto\n",
        "o entendido como la unión de varias partes que interactúan entre sí y que trabajan\n",
        "solidariamente para alcanzar un objetivo común, realizando cada una de ellas una tarea\n",
        "necesaria para la consecución de dicho objetivo.\n",
        "Cada una de esas partes en que se encuentre dividido el sistema recibe el nombre de módulo.\n",
        "Idealmente un módulo debe poder cumplir las condiciones de caja negra, es decir, ser\n",
        "independiente del resto de los módulos y comunicarse con ellos (con todos o sólo con una\n",
        "parte) a través de entradas y salidas bien definidas."
      ]
    },
    {
      "cell_type": "markdown",
      "metadata": {},
      "source": [
        "5.1 \n",
        "El concepto de función es básico en prácticamente cualquier lenguaje de programación. Se\n",
        "trata de una estructura que nos permite agrupar código. Persigue dos objetivos claros:<br>\n",
        "1. No repetir trozos de código durante nuestro programa.<br>\n",
        "2. Reutilizar el código para distintas situaciones.<br><br><br>\n",
        "Una función viene definida por su nombre, sus parámetros y su valor de retorno. Esta\n",
        "parametrización de las funciones las convierte en una poderosa herramienta ajustable a las\n",
        "circunstancias que tengamos. Al invocarla estaremos solicitando su ejecución y obtendremos\n",
        "unos resultados."
      ]
    },
    {
      "cell_type": "code",
      "execution_count": 34,
      "metadata": {},
      "outputs": [],
      "source": [
        "\n",
        "# función sin parametros y sin retorno de valor\n",
        "def saludo():\n",
        "    print('Hola, soy una función')\n",
        "    "
      ]
    },
    {
      "cell_type": "code",
      "execution_count": 35,
      "metadata": {},
      "outputs": [
        {
          "name": "stdout",
          "output_type": "stream",
          "text": [
            "Hola, soy una función\n"
          ]
        }
      ],
      "source": [
        "saludo()\n"
      ]
    },
    {
      "cell_type": "code",
      "execution_count": 36,
      "metadata": {},
      "outputs": [
        {
          "data": {
            "text/plain": [
              "1"
            ]
          },
          "execution_count": 36,
          "metadata": {},
          "output_type": "execute_result"
        }
      ],
      "source": [
        "# función con retorno de valor\n",
        "def uno(): \n",
        "    return 1\n",
        "uno()"
      ]
    },
    {
      "cell_type": "code",
      "execution_count": 37,
      "metadata": {},
      "outputs": [
        {
          "name": "stdout",
          "output_type": "stream",
          "text": [
            "uno es igual a 1\n"
          ]
        }
      ],
      "source": [
        "# Funciones en condicionales\n",
        "if uno() ==1:\n",
        "    print('uno es igual a 1')\n",
        "else:\n",
        "    print('uno no es igual a 1')\n"
      ]
    },
    {
      "cell_type": "code",
      "execution_count": 38,
      "metadata": {},
      "outputs": [
        {
          "name": "stdout",
          "output_type": "stream",
          "text": [
            "None\n"
          ]
        }
      ],
      "source": [
        "# Sin return devuelve None\n",
        "def vacia(): \n",
        "    x = 0\n",
        "print(vacia())"
      ]
    },
    {
      "cell_type": "code",
      "execution_count": 39,
      "metadata": {},
      "outputs": [
        {
          "data": {
            "text/plain": [
              "3.0"
            ]
          },
          "execution_count": 39,
          "metadata": {},
          "output_type": "execute_result"
        }
      ],
      "source": [
        "# función con parametros\n",
        "def raizcuadrada(x):\n",
        "    return x**0.5\n",
        "raizcuadrada(9)"
      ]
    },
    {
      "cell_type": "code",
      "execution_count": 40,
      "metadata": {},
      "outputs": [
        {
          "data": {
            "text/plain": [
              "10"
            ]
          },
          "execution_count": 40,
          "metadata": {},
          "output_type": "execute_result"
        }
      ],
      "source": [
        "def mayor(a,b):\n",
        "    if a > b:\n",
        "        return a\n",
        "    else:\n",
        "        return b\n",
        "mayor(5,10)"
      ]
    },
    {
      "cell_type": "code",
      "execution_count": 41,
      "metadata": {},
      "outputs": [
        {
          "data": {
            "text/plain": [
              "{'nombre': 'Juan', 'edad': 25, 'sexo': 'M'}"
            ]
          },
          "execution_count": 41,
          "metadata": {},
          "output_type": "execute_result"
        }
      ],
      "source": [
        "# Argumentos posicionales\n",
        "def persona(nombre,edad, sexo):\n",
        "    return dict(nombre=nombre,edad=edad,sexo=sexo)\n",
        "persona('Juan', 25, 'M')"
      ]
    },
    {
      "cell_type": "code",
      "execution_count": 42,
      "metadata": {},
      "outputs": [
        {
          "data": {
            "text/plain": [
              "{'nombre': 'Juan', 'edad': 25, 'sexo': 'M'}"
            ]
          },
          "execution_count": 42,
          "metadata": {},
          "output_type": "execute_result"
        }
      ],
      "source": [
        "# Argumentos nominales\n",
        "persona(edad=25, nombre='Juan', sexo='M')\n"
      ]
    },
    {
      "cell_type": "code",
      "execution_count": 43,
      "metadata": {},
      "outputs": [
        {
          "data": {
            "text/plain": [
              "{'nombre': 'Juan', 'edad': 25, 'sexo': 'M'}"
            ]
          },
          "execution_count": 43,
          "metadata": {},
          "output_type": "execute_result"
        }
      ],
      "source": [
        "# Argumentos por defecto\n",
        "def persona(nombre,edad, sexo='M'):\n",
        "    return dict(nombre=nombre,edad=edad,sexo=sexo)\n",
        "persona('Juan', 25)"
      ]
    },
    {
      "cell_type": "code",
      "execution_count": 44,
      "metadata": {},
      "outputs": [
        {
          "data": {
            "text/plain": [
              "{'nombre': 'Juana', 'edad': 25, 'sexo': 'F'}"
            ]
          },
          "execution_count": 44,
          "metadata": {},
          "output_type": "execute_result"
        }
      ],
      "source": [
        "persona('Juana', 25, 'F')"
      ]
    },
    {
      "cell_type": "code",
      "execution_count": 45,
      "metadata": {},
      "outputs": [
        {
          "name": "stdout",
          "output_type": "stream",
          "text": [
            "['Leche']\n",
            "['Leche', 'Huevos']\n",
            "['Leche', 'Huevos', 'Pan']\n",
            "['pan', 'huevos', 'arroz']\n"
          ]
        }
      ],
      "source": [
        "# Funciones con parametros mutables\n",
        "def lista_compras(elemento,lista=[]):\n",
        "    lista.append(elemento)\n",
        "    print(lista)\n",
        "lista_compras('Leche')\n",
        "lista_compras('Huevos')\n",
        "lista_compras('Pan')\n",
        "lista_compras('arroz',['pan','huevos'])\n"
      ]
    },
    {
      "cell_type": "code",
      "execution_count": 46,
      "metadata": {},
      "outputs": [
        {
          "name": "stdout",
          "output_type": "stream",
          "text": [
            "Argumentos posicionales: ()\n",
            "()\n",
            "Argumentos posicionales: (1, 2, 3, 'hola')\n",
            "(1, 2, 3, 'hola')\n"
          ]
        }
      ],
      "source": [
        "# empaquetar argumentos y desempaquetar argumentos posicionales\n",
        "def test_args(*args):\n",
        "    print('Argumentos posicionales:', args)\n",
        "    print(f'{args}')\n",
        "test_args()\n",
        "test_args(1,2,3,'hola')"
      ]
    },
    {
      "cell_type": "code",
      "execution_count": 47,
      "metadata": {},
      "outputs": [
        {
          "data": {
            "text/plain": [
              "21"
            ]
          },
          "execution_count": 47,
          "metadata": {},
          "output_type": "execute_result"
        }
      ],
      "source": [
        "# empaquetar argumentos y desempaquetar argumentos posiscionales con parametros requeridos y opcionales \n",
        "def suma_todo(v1,v2,*args):\n",
        "    suma = 0\n",
        "    for i in (v1,v2)+args:\n",
        "        suma += i\n",
        "    return suma\n",
        "suma_todo(3,22)\n",
        "suma_todo(2,3,2,4,2,3,5)"
      ]
    },
    {
      "cell_type": "code",
      "execution_count": 48,
      "metadata": {},
      "outputs": [
        {
          "name": "stdout",
          "output_type": "stream",
          "text": [
            "Argumentos nominales: {}\n",
            "{}\n",
            "Argumentos nominales: {'a': 1, 'b': 2, 'c': 3}\n",
            "{'a': 1, 'b': 2, 'c': 3}\n"
          ]
        }
      ],
      "source": [
        "# empaquetar argumentos y desempaquetar argumentos nominales\n",
        "def test_kwargs(**kwargs):\n",
        "    print('Argumentos nominales:', kwargs)\n",
        "    print(f'{kwargs}')\n",
        "test_kwargs()    \n",
        "test_kwargs(a=1,b=2,c=3)\n",
        "    "
      ]
    },
    {
      "cell_type": "code",
      "execution_count": 49,
      "metadata": {},
      "outputs": [
        {
          "name": "stdout",
          "output_type": "stream",
          "text": [
            "Argumentos nominales: {'a': 1, 'b': 2, 'c': 3}\n",
            "{'a': 1, 'b': 2, 'c': 3}\n"
          ]
        }
      ],
      "source": [
        "# empaquetar argumentos y desempaquetar argumentos nominales con parametros requeridos y opcionales\n",
        "diccionario0 = {'a':1,'b':2,'c':3}\n",
        "test_kwargs(**diccionario0)\n",
        "#test_kwargs(diccionario0)"
      ]
    },
    {
      "cell_type": "code",
      "execution_count": 50,
      "metadata": {},
      "outputs": [
        {
          "data": {
            "text/plain": [
              "3"
            ]
          },
          "execution_count": 50,
          "metadata": {},
          "output_type": "execute_result"
        }
      ],
      "source": [
        "# Funciones lambda\n",
        "numero_palabras = lambda x: len(x.strip().split())\n",
        "numero_palabras(\"hola que tal\")"
      ]
    },
    {
      "cell_type": "code",
      "execution_count": 51,
      "metadata": {},
      "outputs": [
        {
          "name": "stdout",
          "output_type": "stream",
          "text": [
            "funcion_and(0,0) = 0\n",
            "funcion_and(0,1) = 0\n",
            "funcion_and(1,0) = 0\n",
            "funcion_and(1,1) = 1\n"
          ]
        }
      ],
      "source": [
        "#funciones lambda con condicionales\n",
        "funcion_and = lambda x,y: x and y\n",
        "for i in range(2):\n",
        "    for j in range(2):\n",
        "        print(f'funcion_and({i},{j}) = {funcion_and(i,j)}')"
      ]
    },
    {
      "cell_type": "code",
      "execution_count": 52,
      "metadata": {},
      "outputs": [
        {
          "data": {
            "text/plain": [
              "[0.5, 2.0, 4.5, 8.0, 12.5, 18.0, 24.5, 32.0, 40.5, 50.0]"
            ]
          },
          "execution_count": 52,
          "metadata": {},
          "output_type": "execute_result"
        }
      ],
      "source": [
        "# Enfoque funcional\n",
        "# Funciones map, filter y reduce\n",
        "def f(x):\n",
        "    return x**2 / 2\n",
        "\n",
        "data = range(1,11)\n",
        "map_gen =map(f,data)\n",
        "list(map_gen)"
      ]
    },
    {
      "cell_type": "code",
      "execution_count": 53,
      "metadata": {},
      "outputs": [
        {
          "data": {
            "text/plain": [
              "[0.5, 2.0, 4.5, 8.0, 12.5, 18.0, 24.5, 32.0, 40.5, 50.0]"
            ]
          },
          "execution_count": 53,
          "metadata": {},
          "output_type": "execute_result"
        }
      ],
      "source": [
        "# Función map aplicando lambda\n",
        "list(map(lambda x: x**2 / 2, data))"
      ]
    },
    {
      "cell_type": "code",
      "execution_count": 54,
      "metadata": {},
      "outputs": [
        {
          "data": {
            "text/plain": [
              "[2, 4, 6, 8, 10]"
            ]
          },
          "execution_count": 54,
          "metadata": {},
          "output_type": "execute_result"
        }
      ],
      "source": [
        "# función filter\n",
        "def es_par(x):\n",
        "    return x % 2 == 0\n",
        "\n",
        "data = range(1,11)\n",
        "filter_gen = filter(es_par, data)\n",
        "list(filter_gen)"
      ]
    },
    {
      "cell_type": "code",
      "execution_count": 55,
      "metadata": {},
      "outputs": [
        {
          "data": {
            "text/plain": [
              "[2, 4, 6, 8, 10]"
            ]
          },
          "execution_count": 55,
          "metadata": {},
          "output_type": "execute_result"
        }
      ],
      "source": [
        "# función filter aplicando lambda\n",
        "list(filter(lambda x: x % 2 == 0, data))"
      ]
    },
    {
      "cell_type": "code",
      "execution_count": 56,
      "metadata": {},
      "outputs": [
        {
          "data": {
            "text/plain": [
              "24"
            ]
          },
          "execution_count": 56,
          "metadata": {},
          "output_type": "execute_result"
        }
      ],
      "source": [
        "# función reduce usar functools\n",
        "from functools import reduce\n",
        "import re\n",
        "def mult_valores(a,b):\n",
        "    return a*b\n",
        "data =range(1,5)\n",
        "reduce(mult_valores, data) # (((1*2)*3)*4)\n"
      ]
    },
    {
      "cell_type": "code",
      "execution_count": 57,
      "metadata": {},
      "outputs": [
        {
          "data": {
            "text/plain": [
              "24"
            ]
          },
          "execution_count": 57,
          "metadata": {},
          "output_type": "execute_result"
        }
      ],
      "source": [
        "# reduce aplicando lambda\n",
        "reduce(lambda a,b: a*b, data)"
      ]
    },
    {
      "cell_type": "code",
      "execution_count": 58,
      "metadata": {},
      "outputs": [
        {
          "name": "stdout",
          "output_type": "stream",
          "text": [
            "[True]\n",
            "[True, True]\n",
            "[True, True, True]\n",
            "[True, True, True, False]\n",
            "[True, True, True, False, False]\n"
          ]
        },
        {
          "data": {
            "text/plain": [
              "0.6"
            ]
          },
          "execution_count": 58,
          "metadata": {},
          "output_type": "execute_result"
        }
      ],
      "source": [
        "# Funciones interiores \n",
        "def validando_test(text):\n",
        "    def es_valido_caracter(char):\n",
        "        return char in 'xyz'\n",
        "    lista_check=[]\n",
        "    for char in text:\n",
        "        lista_check.append(es_valido_caracter(char))\n",
        "        print(lista_check)\n",
        "    return sum(lista_check)/len(text)\n",
        "validando_test('xyzaa')\n",
        "\n"
      ]
    },
    {
      "cell_type": "code",
      "execution_count": 59,
      "metadata": {},
      "outputs": [
        {
          "data": {
            "text/plain": [
              "120"
            ]
          },
          "execution_count": 59,
          "metadata": {},
          "output_type": "execute_result"
        }
      ],
      "source": [
        "# Clausuras\n",
        "def def_multiplicador(x):\n",
        "    def multiplicador(y):\n",
        "        return x*y\n",
        "    return multiplicador\n",
        "m3=def_multiplicador(3)\n",
        "m2=def_multiplicador(2)\n",
        "m2(4) * m3(5) # 2*4*3*5\n",
        "\n"
      ]
    },
    {
      "cell_type": "code",
      "execution_count": 60,
      "metadata": {},
      "outputs": [
        {
          "name": "stdout",
          "output_type": "stream",
          "text": [
            "0 2 4 6 8 10 12 14 16 18 "
          ]
        }
      ],
      "source": [
        "# Funciones generadoras\n",
        "def pares(lim):\n",
        "    num = 0\n",
        "    while num < lim:\n",
        "        yield num\n",
        "        num += 2\n",
        "pares_generador = pares(20) # retorna generadoras\n",
        "# una vez creado el generador podemos iterar sobre él\n",
        "for i in pares_generador:\n",
        "    print(i,end=' ')\n"
      ]
    },
    {
      "cell_type": "code",
      "execution_count": 61,
      "metadata": {},
      "outputs": [
        {
          "data": {
            "text/plain": [
              "function"
            ]
          },
          "execution_count": 61,
          "metadata": {},
          "output_type": "execute_result"
        }
      ],
      "source": [
        "# Funciones decoradoras\n",
        "def logueo_simple(func):\n",
        "    def wrapper(*args, **kwargs):\n",
        "        print(f'Iniciando la función: {func.__name__}')\n",
        "        return func(*args, **kwargs)\n",
        "    return wrapper\n",
        "type (logueo_simple)"
      ]
    },
    {
      "cell_type": "code",
      "execution_count": 62,
      "metadata": {},
      "outputs": [
        {
          "data": {
            "text/plain": [
              "'Hola edu'"
            ]
          },
          "execution_count": 62,
          "metadata": {},
          "output_type": "execute_result"
        }
      ],
      "source": [
        "# Función decorada con logueo_simple\n",
        "def hola(nombre):\n",
        "    return f'Hola {nombre}'\n",
        "hola ('edu') \n"
      ]
    },
    {
      "cell_type": "code",
      "execution_count": 63,
      "metadata": {},
      "outputs": [
        {
          "name": "stdout",
          "output_type": "stream",
          "text": [
            "Iniciando la función: hola\n"
          ]
        },
        {
          "data": {
            "text/plain": [
              "'Hola edu'"
            ]
          },
          "execution_count": 63,
          "metadata": {},
          "output_type": "execute_result"
        }
      ],
      "source": [
        "# Función decorada con logueo_simple\n",
        "decorada_hola = logueo_simple(hola)\n",
        "decorada_hola('edu')"
      ]
    },
    {
      "cell_type": "code",
      "execution_count": 64,
      "metadata": {},
      "outputs": [
        {
          "name": "stdout",
          "output_type": "stream",
          "text": [
            "Iniciando la función: hola\n"
          ]
        },
        {
          "data": {
            "text/plain": [
              "'Hola juan'"
            ]
          },
          "execution_count": 64,
          "metadata": {},
          "output_type": "execute_result"
        }
      ],
      "source": [
        "# Utilizando @ para decorar una función\n",
        "@logueo_simple\n",
        "def hola(name):\n",
        "    return f'Hola {name}'\n",
        "hola('juan')"
      ]
    },
    {
      "cell_type": "code",
      "execution_count": 65,
      "metadata": {},
      "outputs": [],
      "source": [
        "# Funciones recursivas\n",
        "def fibonacci(x):\n",
        "    if x == 0:\n",
        "        return 0\n",
        "    if x == 1:\n",
        "        return 1\n",
        "    else:\n",
        "        return fibonacci(x-1) + fibonacci(x-2)\n",
        "    "
      ]
    },
    {
      "cell_type": "code",
      "execution_count": 66,
      "metadata": {},
      "outputs": [
        {
          "data": {
            "text/plain": [
              "55"
            ]
          },
          "execution_count": 66,
          "metadata": {},
          "output_type": "execute_result"
        }
      ],
      "source": [
        "fibonacci(10)\n"
      ]
    },
    {
      "cell_type": "code",
      "execution_count": 67,
      "metadata": {},
      "outputs": [
        {
          "name": "stdout",
          "output_type": "stream",
          "text": [
            "0\n",
            "1\n",
            "1\n",
            "2\n",
            "3\n"
          ]
        }
      ],
      "source": [
        "# Función generadora recursiva\n",
        "def fibonacci(): \n",
        "    def _fibonacci(n): \n",
        "        if n == 0: return 0\n",
        "        if n == 1: return 1\n",
        "        return _fibonacci(n-1) + _fibonacci(n-2)\n",
        "    n = 0\n",
        "    while True:\n",
        "        yield _fibonacci(n)\n",
        "        n += 1\n",
        "fibonacci_gen = fibonacci()\n",
        "for _ in range(5):\n",
        "    print(next(fibonacci_gen))"
      ]
    }
  ],
  "metadata": {
    "kernelspec": {
      "display_name": "Python 3.10.7 64-bit",
      "language": "python",
      "name": "python3"
    },
    "language_info": {
      "codemirror_mode": {
        "name": "ipython",
        "version": 3
      },
      "file_extension": ".py",
      "mimetype": "text/x-python",
      "name": "python",
      "nbconvert_exporter": "python",
      "pygments_lexer": "ipython3",
      "version": "3.10.7"
    },
    "orig_nbformat": 4,
    "vscode": {
      "interpreter": {
        "hash": "12012e29cfdd80c6232e78c9cc61e00b538a7283e7f08a6e0e05e20d023ad832"
      }
    }
  },
  "nbformat": 4,
  "nbformat_minor": 2
}
