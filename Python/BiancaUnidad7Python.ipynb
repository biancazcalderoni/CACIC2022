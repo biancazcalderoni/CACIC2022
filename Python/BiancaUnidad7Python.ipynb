{
  "cells": [
    {
      "cell_type": "markdown",
      "metadata": {},
      "source": [
        "## UNIDAD 7 \n",
        "# Numpy y Pandas\n",
        "\n"
      ]
    },
    {
      "cell_type": "markdown",
      "metadata": {},
      "source": [
        "NumPy (Numerical Python).\n",
        "NumPy es una de las librerías más populares de Python, ya que puede procesar listas de múltiples\n",
        "dimensiones que incluyen lazos anidados, o comprensión de listas con diversas sentencias for.\n",
        "En la parte final, realizarás una introducción a la librería pandas que es útil para el análisis en ciencia\n",
        "de datos.\n"
      ]
    },
    {
      "cell_type": "code",
      "execution_count": 2,
      "metadata": {},
      "outputs": [
        {
          "data": {
            "text/plain": [
              "numpy.ndarray"
            ]
          },
          "execution_count": 2,
          "metadata": {},
          "output_type": "execute_result"
        }
      ],
      "source": [
        "# Invocando la librería de NumPy\n",
        "import numpy as np\n",
        "\n",
        "# El módulo numpy proporciona diversas formas de crear arreglos. Por ejemplo, la función array es \n",
        "# útil para este propósito\n",
        "\n",
        "factoriales = np.array([1,2,6,24,120,720])\n",
        "\n",
        "# np.array Esta función copia el contenido de su argumento y lo coloca dentro del array.\n",
        "type(factoriales)\n",
        "\n",
        "\n"
      ]
    },
    {
      "cell_type": "code",
      "execution_count": 3,
      "metadata": {},
      "outputs": [
        {
          "data": {
            "text/plain": [
              "array([  1,   2,   6,  24, 120, 720])"
            ]
          },
          "execution_count": 3,
          "metadata": {},
          "output_type": "execute_result"
        }
      ],
      "source": [
        "factoriales"
      ]
    },
    {
      "cell_type": "code",
      "execution_count": 4,
      "metadata": {},
      "outputs": [
        {
          "data": {
            "text/plain": [
              "array([[1, 2],\n",
              "       [3, 4],\n",
              "       [5, 6]])"
            ]
          },
          "execution_count": 4,
          "metadata": {},
          "output_type": "execute_result"
        }
      ],
      "source": [
        "#La función array copia automáticamente las dimensiones del argumento. Por ejemplo, el siguiente\n",
        "# arreglo (array) está formado por tres filas y dos columnas.\n",
        "matriz = np.array([[1,2],[3,4],[5,6]])\n",
        "matriz"
      ]
    },
    {
      "cell_type": "code",
      "execution_count": 5,
      "metadata": {},
      "outputs": [
        {
          "data": {
            "text/plain": [
              "array([[ 9, 10, 11, 12],\n",
              "       [ 3,  4,  5,  6]])"
            ]
          },
          "execution_count": 5,
          "metadata": {},
          "output_type": "execute_result"
        }
      ],
      "source": [
        "#Un arreglo tiene atributos que poco a poco irás conociendo. \n",
        "# En esta sección utilizaremos los siguientes.\n",
        "enteros = np.array([[9,10,11,12],[3,4,5,6]])\n",
        "enteros"
      ]
    },
    {
      "cell_type": "code",
      "execution_count": 6,
      "metadata": {},
      "outputs": [
        {
          "data": {
            "text/plain": [
              "array([[3.        , 3.16227766, 3.31662479],\n",
              "       [3.46410162, 6.5       , 4.3       ]])"
            ]
          },
          "execution_count": 6,
          "metadata": {},
          "output_type": "execute_result"
        }
      ],
      "source": [
        "flotantes = np.array([[9**0.5,10**0.5,11**0.5],[12**0.5,6.5,4.3]])\n",
        "flotantes"
      ]
    },
    {
      "cell_type": "code",
      "execution_count": 7,
      "metadata": {},
      "outputs": [
        {
          "name": "stdout",
          "output_type": "stream",
          "text": [
            "enteros es de tipo int32 flotantes es de tipo float64\n"
          ]
        }
      ],
      "source": [
        "# Verifica el tipo de dato de cada arreglo\n",
        "print(f'enteros es de tipo {enteros.dtype} flotantes es de tipo {flotantes.dtype}' )"
      ]
    },
    {
      "cell_type": "code",
      "execution_count": 8,
      "metadata": {},
      "outputs": [
        {
          "data": {
            "text/plain": [
              "2"
            ]
          },
          "execution_count": 8,
          "metadata": {},
          "output_type": "execute_result"
        }
      ],
      "source": [
        "# Verifica el número de dimensiones de cada arreglo\n",
        "enteros.ndim"
      ]
    },
    {
      "cell_type": "code",
      "execution_count": 9,
      "metadata": {},
      "outputs": [
        {
          "data": {
            "text/plain": [
              "(2, 3)"
            ]
          },
          "execution_count": 9,
          "metadata": {},
          "output_type": "execute_result"
        }
      ],
      "source": [
        "# Verifica la forma de cada arreglo\n",
        "flotantes.shape"
      ]
    },
    {
      "cell_type": "code",
      "execution_count": 10,
      "metadata": {},
      "outputs": [
        {
          "data": {
            "text/plain": [
              "8"
            ]
          },
          "execution_count": 10,
          "metadata": {},
          "output_type": "execute_result"
        }
      ],
      "source": [
        "# Verifica el número de elementos de cada arreglo\n",
        "# Para conocer el número de elementos en el arreglo puedes utilizar el atributo size. Y el número \n",
        "# de bytes necesarios para almacenarlos se puede conocer mediante itemsize.\n",
        "enteros.size\n",
        "#cantidad de elementos de cada arreglo"
      ]
    },
    {
      "cell_type": "code",
      "execution_count": 11,
      "metadata": {},
      "outputs": [
        {
          "data": {
            "text/plain": [
              "8"
            ]
          },
          "execution_count": 11,
          "metadata": {},
          "output_type": "execute_result"
        }
      ],
      "source": [
        "flotantes.itemsize\n",
        "#bytes necesarios para almacenarlos"
      ]
    },
    {
      "cell_type": "code",
      "execution_count": 12,
      "metadata": {},
      "outputs": [
        {
          "name": "stdout",
          "output_type": "stream",
          "text": [
            "3.0 3.1622776601683795 3.3166247903554 \n",
            "3.4641016151377544 6.5 4.3 \n"
          ]
        }
      ],
      "source": [
        "# Itera sobre cada elemento del arreglo\n",
        "# Para manipular arreglos es posible hacerlo con el estilo funcional de programación, pero también\n",
        "# se puede hacer empleando iteraciones externas\n",
        "for fila in flotantes:\n",
        "    for columna in fila:\n",
        "        print(columna,end=' ')\n",
        "    print()"
      ]
    },
    {
      "cell_type": "code",
      "execution_count": 13,
      "metadata": {},
      "outputs": [
        {
          "name": "stdout",
          "output_type": "stream",
          "text": [
            "9 10 11 12 3 4 5 6 "
          ]
        }
      ],
      "source": [
        "# Convierte el arreglo en un vector unidimensional\n",
        "for n in enteros.flat:\n",
        "    print(n,end=' ')\n",
        "    "
      ]
    },
    {
      "cell_type": "markdown",
      "metadata": {},
      "source": [
        "NumPy tiene funciones que permiten rellenar arreglos con valores específicos. Estas funciones\n",
        "son zeros, ones y full."
      ]
    },
    {
      "cell_type": "code",
      "execution_count": 14,
      "metadata": {},
      "outputs": [
        {
          "data": {
            "text/plain": [
              "array([0., 0., 0., 0., 0.])"
            ]
          },
          "execution_count": 14,
          "metadata": {},
          "output_type": "execute_result"
        }
      ],
      "source": [
        "np.zeros(5)"
      ]
    },
    {
      "cell_type": "code",
      "execution_count": 15,
      "metadata": {},
      "outputs": [
        {
          "data": {
            "text/plain": [
              "array([[1, 1, 1],\n",
              "       [1, 1, 1]], dtype=int16)"
            ]
          },
          "execution_count": 15,
          "metadata": {},
          "output_type": "execute_result"
        }
      ],
      "source": [
        "np.ones((2,3),dtype = np.int16)"
      ]
    },
    {
      "cell_type": "code",
      "execution_count": 16,
      "metadata": {},
      "outputs": [
        {
          "data": {
            "text/plain": [
              "array([[5, 5, 5],\n",
              "       [5, 5, 5]])"
            ]
          },
          "execution_count": 16,
          "metadata": {},
          "output_type": "execute_result"
        }
      ],
      "source": [
        "np.full((2,3),5)"
      ]
    },
    {
      "cell_type": "markdown",
      "metadata": {},
      "source": [
        "Además de generar arreglos con ceros, unos y valores específicos, también es posible generar\n",
        "arreglos con rangos de valores específicos. La función arange permite crear arreglos con tamaño\n",
        "de paso entero."
      ]
    },
    {
      "cell_type": "code",
      "execution_count": 17,
      "metadata": {},
      "outputs": [
        {
          "data": {
            "text/plain": [
              "array([0, 1, 2, 3, 4, 5, 6, 7])"
            ]
          },
          "execution_count": 17,
          "metadata": {},
          "output_type": "execute_result"
        }
      ],
      "source": [
        "np.arange(8)"
      ]
    },
    {
      "cell_type": "code",
      "execution_count": 18,
      "metadata": {},
      "outputs": [
        {
          "data": {
            "text/plain": [
              "array([2, 3, 4])"
            ]
          },
          "execution_count": 18,
          "metadata": {},
          "output_type": "execute_result"
        }
      ],
      "source": [
        "np.arange(2,5)"
      ]
    },
    {
      "cell_type": "code",
      "execution_count": 19,
      "metadata": {},
      "outputs": [
        {
          "data": {
            "text/plain": [
              "array([12,  9,  6,  3])"
            ]
          },
          "execution_count": 19,
          "metadata": {},
          "output_type": "execute_result"
        }
      ],
      "source": [
        "np.arange(12,2,-3)"
      ]
    },
    {
      "cell_type": "markdown",
      "metadata": {},
      "source": [
        "También es posible crear arreglos con tamaños de paso que no sea entero (float), con la función linspace."
      ]
    },
    {
      "cell_type": "code",
      "execution_count": 20,
      "metadata": {},
      "outputs": [
        {
          "data": {
            "text/plain": [
              "array([0.  , 0.25, 0.5 , 0.75, 1.  ])"
            ]
          },
          "execution_count": 20,
          "metadata": {},
          "output_type": "execute_result"
        }
      ],
      "source": [
        "np.linspace(0.0,1.0,num=5)"
      ]
    },
    {
      "cell_type": "markdown",
      "metadata": {},
      "source": [
        "Si tienes un arreglo de una dimensión y quieres armar un arreglo de dos dimensiones debes utilizar\n",
        "el método reshape. En este ejemplo se crea un arreglo de una dimensión con 20 elementos,\n",
        "para crear un arreglo de 4 filas y 5 columnas"
      ]
    },
    {
      "cell_type": "code",
      "execution_count": 21,
      "metadata": {},
      "outputs": [
        {
          "data": {
            "text/plain": [
              "array([[21, 20, 19, 18, 17],\n",
              "       [16, 15, 14, 13, 12],\n",
              "       [11, 10,  9,  8,  7],\n",
              "       [ 6,  5,  4,  3,  2]])"
            ]
          },
          "execution_count": 21,
          "metadata": {},
          "output_type": "execute_result"
        }
      ],
      "source": [
        "np.arange(21,1,-1).reshape(4,5)\n",
        "#con la primera parte hago un arreglo que va entre 21 y 2, y con la segynda le doy el tamaño en lugar de dejarlo como vector plano"
      ]
    },
    {
      "cell_type": "markdown",
      "metadata": {},
      "source": [
        "\n",
        "Cálculo con arreglos<br>\n",
        "NumPy posee una gran variedad de operadores que pueden aplicarse a los diferentes arreglos que puedes elaborar. Iniciaremos con algunas operaciones básicas que se aplican a cada valor del\n",
        "arreglo.\n"
      ]
    },
    {
      "cell_type": "code",
      "execution_count": 22,
      "metadata": {},
      "outputs": [
        {
          "data": {
            "text/plain": [
              "array([ 2,  4,  6,  8, 10, 12, 14])"
            ]
          },
          "execution_count": 22,
          "metadata": {},
          "output_type": "execute_result"
        }
      ],
      "source": [
        "pares = np.arange(2,15,2)\n",
        "pares"
      ]
    },
    {
      "cell_type": "code",
      "execution_count": 23,
      "metadata": {},
      "outputs": [
        {
          "data": {
            "text/plain": [
              "array([ 3,  5,  7,  9, 11, 13, 15])"
            ]
          },
          "execution_count": 23,
          "metadata": {},
          "output_type": "execute_result"
        }
      ],
      "source": [
        "pares+1"
      ]
    },
    {
      "cell_type": "code",
      "execution_count": 24,
      "metadata": {},
      "outputs": [
        {
          "data": {
            "text/plain": [
              "array([ 6, 12, 18, 24, 30, 36, 42])"
            ]
          },
          "execution_count": 24,
          "metadata": {},
          "output_type": "execute_result"
        }
      ],
      "source": [
        "pares*3"
      ]
    },
    {
      "cell_type": "code",
      "execution_count": 25,
      "metadata": {},
      "outputs": [
        {
          "data": {
            "text/plain": [
              "array([1.41421356, 2.        , 2.44948974, 2.82842712, 3.16227766,\n",
              "       3.46410162, 3.74165739])"
            ]
          },
          "execution_count": 25,
          "metadata": {},
          "output_type": "execute_result"
        }
      ],
      "source": [
        "pares**(0.5)"
      ]
    },
    {
      "cell_type": "code",
      "execution_count": 26,
      "metadata": {},
      "outputs": [
        {
          "data": {
            "text/plain": [
              "array([ 2,  4,  6,  8, 10, 12, 14])"
            ]
          },
          "execution_count": 26,
          "metadata": {},
          "output_type": "execute_result"
        }
      ],
      "source": [
        "pares\n",
        "# no modificó nada"
      ]
    },
    {
      "cell_type": "code",
      "execution_count": 27,
      "metadata": {},
      "outputs": [
        {
          "data": {
            "text/plain": [
              "array([ 1,  3,  5,  7,  9, 11, 13])"
            ]
          },
          "execution_count": 27,
          "metadata": {},
          "output_type": "execute_result"
        }
      ],
      "source": [
        "#Este último snippet, permite verificar que el arreglo original no cambió. Otras funcionalidades de\n",
        "# NumPy si cambian al arreglo, por ejemplo, +=, o -=.\n",
        "pares -= 1\n",
        "pares"
      ]
    },
    {
      "cell_type": "code",
      "execution_count": 28,
      "metadata": {},
      "outputs": [
        {
          "data": {
            "text/plain": [
              "array([ 0,  2,  4,  6,  8, 10])"
            ]
          },
          "execution_count": 28,
          "metadata": {},
          "output_type": "execute_result"
        }
      ],
      "source": [
        "#Puedes realizar operaciones entre arreglos que tengan las mismas dimensiones.\n",
        "lista1 = np.arange(0,12,2)\n",
        "lista1"
      ]
    },
    {
      "cell_type": "code",
      "execution_count": 29,
      "metadata": {},
      "outputs": [
        {
          "data": {
            "text/plain": [
              "array([-2. ,  2.4,  6.8, 11.2, 15.6, 20. ])"
            ]
          },
          "execution_count": 29,
          "metadata": {},
          "output_type": "execute_result"
        }
      ],
      "source": [
        "lista2= np.linspace(-2,20,6)\n",
        "lista2"
      ]
    },
    {
      "cell_type": "code",
      "execution_count": 30,
      "metadata": {},
      "outputs": [
        {
          "data": {
            "text/plain": [
              "array([-2. ,  0.4,  2.8,  5.2,  7.6, 10. ])"
            ]
          },
          "execution_count": 30,
          "metadata": {},
          "output_type": "execute_result"
        }
      ],
      "source": [
        "lista2-lista1"
      ]
    },
    {
      "cell_type": "code",
      "execution_count": 31,
      "metadata": {},
      "outputs": [
        {
          "name": "stderr",
          "output_type": "stream",
          "text": [
            "C:\\Users\\biane\\AppData\\Local\\Temp\\ipykernel_18448\\2088405049.py:1: RuntimeWarning: divide by zero encountered in divide\n",
            "  lista2/lista1\n"
          ]
        },
        {
          "data": {
            "text/plain": [
              "array([      -inf, 1.2       , 1.7       , 1.86666667, 1.95      ,\n",
              "       2.        ])"
            ]
          },
          "execution_count": 31,
          "metadata": {},
          "output_type": "execute_result"
        }
      ],
      "source": [
        "lista2/lista1"
      ]
    },
    {
      "cell_type": "code",
      "execution_count": 32,
      "metadata": {},
      "outputs": [
        {
          "data": {
            "text/plain": [
              "array([ True, False, False, False, False, False])"
            ]
          },
          "execution_count": 32,
          "metadata": {},
          "output_type": "execute_result"
        }
      ],
      "source": [
        "lista1>lista2"
      ]
    },
    {
      "cell_type": "code",
      "execution_count": 33,
      "metadata": {},
      "outputs": [
        {
          "data": {
            "text/plain": [
              "array([False, False,  True,  True,  True,  True])"
            ]
          },
          "execution_count": 33,
          "metadata": {},
          "output_type": "execute_result"
        }
      ],
      "source": [
        "#Numpy realiza una comparación individual entre los elementos respectivos de cada arreglo\n",
        "lista2>=4"
      ]
    },
    {
      "cell_type": "code",
      "execution_count": 34,
      "metadata": {},
      "outputs": [
        {
          "data": {
            "text/plain": [
              "array([False, False, False, False, False, False])"
            ]
          },
          "execution_count": 34,
          "metadata": {},
          "output_type": "execute_result"
        }
      ],
      "source": [
        "lista2== lista1"
      ]
    },
    {
      "cell_type": "markdown",
      "metadata": {},
      "source": [
        "Los arreglos tienen varios métodos que pueden realizar cálculos con sus contenidos. Por default, estos\n",
        "métodos ignoran las dimensiones del arreglo y utilizan a todos los elementos para hacer las operaciones.\n",
        "Por ejemplo, el siguiente arreglo contiene las ventas de una pequeña tienda de autoservicio."
      ]
    },
    {
      "cell_type": "code",
      "execution_count": 35,
      "metadata": {},
      "outputs": [
        {
          "data": {
            "text/plain": [
              "array([[ 554,  606,  710,  851],\n",
              "       [1244,  898,  416, 1763],\n",
              "       [ 841,  655, 1105, 1067]])"
            ]
          },
          "execution_count": 35,
          "metadata": {},
          "output_type": "execute_result"
        }
      ],
      "source": [
        "ventas=np.array( [[554,606,710,851],[1244,898,416,1763],\n",
        "[841,655,1105,1067]])\n",
        "ventas"
      ]
    },
    {
      "cell_type": "markdown",
      "metadata": {},
      "source": [
        "Utilizaremos los métodos sum, min, max, mean, std, var. Que calculan respectivamente,\n",
        "la suma, el valor mínimo, el máximo, el promedio, la desviación estándar y la varianza con todos\n",
        "los datos."
      ]
    },
    {
      "cell_type": "code",
      "execution_count": 36,
      "metadata": {},
      "outputs": [
        {
          "data": {
            "text/plain": [
              "10710"
            ]
          },
          "execution_count": 36,
          "metadata": {},
          "output_type": "execute_result"
        }
      ],
      "source": [
        "ventas.sum()"
      ]
    },
    {
      "cell_type": "code",
      "execution_count": 37,
      "metadata": {},
      "outputs": [
        {
          "data": {
            "text/plain": [
              "416"
            ]
          },
          "execution_count": 37,
          "metadata": {},
          "output_type": "execute_result"
        }
      ],
      "source": [
        "ventas.min()"
      ]
    },
    {
      "cell_type": "code",
      "execution_count": 38,
      "metadata": {},
      "outputs": [
        {
          "data": {
            "text/plain": [
              "1763"
            ]
          },
          "execution_count": 38,
          "metadata": {},
          "output_type": "execute_result"
        }
      ],
      "source": [
        "ventas.max()"
      ]
    },
    {
      "cell_type": "code",
      "execution_count": 39,
      "metadata": {},
      "outputs": [
        {
          "name": "stdout",
          "output_type": "stream",
          "text": [
            "El promedio de ventas es 892.5 ; la mediana es 846.0\n",
            "La desviación estándar es 350.56656524355924\n",
            "La varianza estándar es 122896.91666666667\n"
          ]
        }
      ],
      "source": [
        "print(f'El promedio de ventas es {ventas.mean()} ; la mediana es {np.median(ventas)}')\n",
        "print(f'La desviación estándar es {ventas.std()}')\n",
        "print(f'La varianza estándar es {ventas.var()}')"
      ]
    },
    {
      "cell_type": "code",
      "execution_count": 40,
      "metadata": {},
      "outputs": [
        {
          "data": {
            "text/plain": [
              "array([ 879.66666667,  719.66666667,  743.66666667, 1227.        ])"
            ]
          },
          "execution_count": 40,
          "metadata": {},
          "output_type": "execute_result"
        }
      ],
      "source": [
        "#Pero también es posible hacerlo por filas o por columnas. Por ejemplo, los promedios por columna\n",
        "# por columna\n",
        "ventas.mean(axis=0)"
      ]
    },
    {
      "cell_type": "code",
      "execution_count": 41,
      "metadata": {},
      "outputs": [
        {
          "data": {
            "text/plain": [
              "array([ 680.25, 1080.25,  917.  ])"
            ]
          },
          "execution_count": 41,
          "metadata": {},
          "output_type": "execute_result"
        }
      ],
      "source": [
        "# por fila\n",
        "ventas.mean(axis=1)"
      ]
    },
    {
      "cell_type": "code",
      "execution_count": 42,
      "metadata": {},
      "outputs": [
        {
          "data": {
            "text/plain": [
              "array([1, 2, 3, 4, 5, 6, 7, 8, 9])"
            ]
          },
          "execution_count": 42,
          "metadata": {},
          "output_type": "execute_result"
        }
      ],
      "source": [
        "#NumPy tiene además un conjunto de funciones que son llamadas universales. Estas operaciones\n",
        "#regresan un arreglo nuevo como resultado.\n",
        "lista1=np.arange(1,10)\n",
        "lista1\n"
      ]
    },
    {
      "cell_type": "code",
      "execution_count": 43,
      "metadata": {},
      "outputs": [
        {
          "data": {
            "text/plain": [
              "array([1.        , 1.41421356, 1.73205081, 2.        , 2.23606798,\n",
              "       2.44948974, 2.64575131, 2.82842712, 3.        ])"
            ]
          },
          "execution_count": 43,
          "metadata": {},
          "output_type": "execute_result"
        }
      ],
      "source": [
        "np.sqrt(lista1)"
      ]
    },
    {
      "cell_type": "code",
      "execution_count": 44,
      "metadata": {},
      "outputs": [
        {
          "data": {
            "text/plain": [
              "array([ 2,  6, 12, 20, 30, 42, 56, 72, 90])"
            ]
          },
          "execution_count": 44,
          "metadata": {},
          "output_type": "execute_result"
        }
      ],
      "source": [
        "# la funcion add suma los elementos de los arreglos\n",
        "lista2 = np.arange(1,10)**2\n",
        "np.add(lista1,lista2)"
      ]
    },
    {
      "cell_type": "code",
      "execution_count": 45,
      "metadata": {},
      "outputs": [
        {
          "data": {
            "text/plain": [
              "array([  2,   8,  18,  32,  50,  72,  98, 128, 162])"
            ]
          },
          "execution_count": 45,
          "metadata": {},
          "output_type": "execute_result"
        }
      ],
      "source": [
        "# la funcion multiply multiplica los elementos de los arreglos\n",
        "np.multiply(lista2,2)"
      ]
    },
    {
      "cell_type": "markdown",
      "metadata": {},
      "source": [
        "Indexando y cortando arreglos <br>\n",
        "Para indexar los elementos de un arreglo, es posible utilizar la misma sintaxis empleada en listas\n",
        "y tuplas, pero con la significativa diferencia, que ahora el índice puede tener más argumentos.\n",
        "Observa los siguientes ejemplos, con los datos de la tienda de autoservicio de la sección anterior."
      ]
    },
    {
      "cell_type": "markdown",
      "metadata": {},
      "source": [
        "Recuerda que con los índices, Python ignora el superior en ventas[0:2]. Entonces, para solicitar\n",
        "las filas con índices 1 y 2."
      ]
    },
    {
      "cell_type": "code",
      "execution_count": 46,
      "metadata": {},
      "outputs": [
        {
          "data": {
            "text/plain": [
              "array([[1244,  898,  416, 1763],\n",
              "       [ 841,  655, 1105, 1067]])"
            ]
          },
          "execution_count": 46,
          "metadata": {},
          "output_type": "execute_result"
        }
      ],
      "source": [
        "ventas[1:3]"
      ]
    },
    {
      "cell_type": "code",
      "execution_count": 47,
      "metadata": {},
      "outputs": [
        {
          "data": {
            "text/plain": [
              "array([ 554, 1244,  841])"
            ]
          },
          "execution_count": 47,
          "metadata": {},
          "output_type": "execute_result"
        }
      ],
      "source": [
        "# Si requieres los elementos de la primera columna\n",
        "ventas[:,0]"
      ]
    },
    {
      "cell_type": "code",
      "execution_count": 48,
      "metadata": {},
      "outputs": [
        {
          "data": {
            "text/plain": [
              "array([[ 606,  710],\n",
              "       [ 898,  416],\n",
              "       [ 655, 1105]])"
            ]
          },
          "execution_count": 48,
          "metadata": {},
          "output_type": "execute_result"
        }
      ],
      "source": [
        "#Y de las columnas con índices 1 y 2\n",
        "ventas[:,1:3]"
      ]
    },
    {
      "cell_type": "code",
      "execution_count": 49,
      "metadata": {},
      "outputs": [
        {
          "data": {
            "text/plain": [
              "array([[ 554,  710],\n",
              "       [1244,  416],\n",
              "       [ 841, 1105]])"
            ]
          },
          "execution_count": 49,
          "metadata": {},
          "output_type": "execute_result"
        }
      ],
      "source": [
        "#Pero si necesitas las columnas con índices 0 y 2\n",
        "ventas[:,[0,2]]"
      ]
    },
    {
      "cell_type": "markdown",
      "metadata": {},
      "source": [
        "Los arreglos que regresa NumPy de la forma array([[argumentos]]), son llamados vistas(views) o\n",
        "copias superficiales (shallow copies). Otros métodos que muestran resultados pueden definirse con\n",
        "NumPy a través de view."
      ]
    },
    {
      "cell_type": "code",
      "execution_count": 50,
      "metadata": {},
      "outputs": [
        {
          "data": {
            "text/plain": [
              "array([ 3,  5,  7,  9, 11, 13, 15, 17])"
            ]
          },
          "execution_count": 50,
          "metadata": {},
          "output_type": "execute_result"
        }
      ],
      "source": [
        "impares =np.arange(3,18,2)\n",
        "impares"
      ]
    },
    {
      "cell_type": "code",
      "execution_count": 51,
      "metadata": {},
      "outputs": [
        {
          "data": {
            "text/plain": [
              "array([ 3,  5,  7,  9, 11, 13, 15, 17])"
            ]
          },
          "execution_count": 51,
          "metadata": {},
          "output_type": "execute_result"
        }
      ],
      "source": [
        "impares2=impares.view()\n",
        "impares2 = impares.view()\n",
        "impares"
      ]
    },
    {
      "cell_type": "code",
      "execution_count": 52,
      "metadata": {},
      "outputs": [
        {
          "name": "stdout",
          "output_type": "stream",
          "text": [
            "id impares2110693040528 id impares22110693041200\n"
          ]
        }
      ],
      "source": [
        "#Aunque son los mismos arreglos, impares e impares2 son dos objetos diferentes para Python.\n",
        "#Para revisar esto puedes usar la función id.\n",
        "print(f'id impares{id(impares)} id impares2{id(impares2)}')\n"
      ]
    },
    {
      "cell_type": "code",
      "execution_count": 53,
      "metadata": {},
      "outputs": [
        {
          "data": {
            "text/plain": [
              "array([ 4,  5,  7,  9, 11, 13, 15, 17])"
            ]
          },
          "execution_count": 53,
          "metadata": {},
          "output_type": "execute_result"
        }
      ],
      "source": [
        "# Para mostrar que impares2 tiene los mismos datos que impares, modificaremos un elemento\n",
        "#en impares.\n",
        "impares[0] += 1\n",
        "impares"
      ]
    },
    {
      "cell_type": "code",
      "execution_count": 54,
      "metadata": {},
      "outputs": [
        {
          "data": {
            "text/plain": [
              "array([ 4,  5,  7,  9, 11, 13, 15, 17])"
            ]
          },
          "execution_count": 54,
          "metadata": {},
          "output_type": "execute_result"
        }
      ],
      "source": [
        "impares2"
      ]
    },
    {
      "cell_type": "code",
      "execution_count": 55,
      "metadata": {},
      "outputs": [
        {
          "data": {
            "text/plain": [
              "array([ 3,  5,  7,  9, 11, 13, 15, 17])"
            ]
          },
          "execution_count": 55,
          "metadata": {},
          "output_type": "execute_result"
        }
      ],
      "source": [
        "impares2[0] -= 1\n",
        "impares2"
      ]
    },
    {
      "cell_type": "code",
      "execution_count": 56,
      "metadata": {},
      "outputs": [
        {
          "data": {
            "text/plain": [
              "array([ 3,  5,  7,  9, 11, 13, 15, 17])"
            ]
          },
          "execution_count": 56,
          "metadata": {},
          "output_type": "execute_result"
        }
      ],
      "source": [
        "impares"
      ]
    },
    {
      "cell_type": "markdown",
      "metadata": {},
      "source": [
        "El método copy para arreglos genera una copia profunda del arreglo original.\n",
        "Para verificar lo anterior, el siguiente código genera un arreglo con números impares y luego aplica\n",
        "el método copy."
      ]
    },
    {
      "cell_type": "code",
      "execution_count": 57,
      "metadata": {},
      "outputs": [
        {
          "data": {
            "text/plain": [
              "array([ 3,  5,  7,  9, 11, 13, 15, 17])"
            ]
          },
          "execution_count": 57,
          "metadata": {},
          "output_type": "execute_result"
        }
      ],
      "source": [
        "impares3 = impares.copy()\n",
        "impares3"
      ]
    },
    {
      "cell_type": "code",
      "execution_count": 58,
      "metadata": {},
      "outputs": [
        {
          "data": {
            "text/plain": [
              "array([ 4,  5,  7,  9, 11, 13, 15, 17])"
            ]
          },
          "execution_count": 58,
          "metadata": {},
          "output_type": "execute_result"
        }
      ],
      "source": [
        "impares[0] += 1\n",
        "impares"
      ]
    },
    {
      "cell_type": "code",
      "execution_count": 59,
      "metadata": {},
      "outputs": [
        {
          "data": {
            "text/plain": [
              "array([ 3,  5,  7,  9, 11, 13, 15, 17])"
            ]
          },
          "execution_count": 59,
          "metadata": {},
          "output_type": "execute_result"
        }
      ],
      "source": [
        "impares3"
      ]
    },
    {
      "cell_type": "markdown",
      "metadata": {},
      "source": [
        "Otros métodos de NumPy para los arreglos son reshape y resize. Ambos permiten la interacción\n",
        "de arreglos de dos dimensiones con arreglos de una dimensión. reshape produce una vista\n",
        "(view) o copia superficial del arreglo original con nueva dimensión. Este método no modifica al\n",
        "arreglo original."
      ]
    },
    {
      "cell_type": "code",
      "execution_count": 60,
      "metadata": {},
      "outputs": [
        {
          "data": {
            "text/plain": [
              "array([[ 500,  600,  550,  800],\n",
              "       [1200,  800,  400, 1000]])"
            ]
          },
          "execution_count": 60,
          "metadata": {},
          "output_type": "execute_result"
        }
      ],
      "source": [
        "ventas = np.array([[ 500, 600, 550, 800],\n",
        "[1200, 800, 400,1000]])\n",
        "ventas\n"
      ]
    },
    {
      "cell_type": "code",
      "execution_count": 61,
      "metadata": {},
      "outputs": [
        {
          "data": {
            "text/plain": [
              "array([[ 500,  600],\n",
              "       [ 550,  800],\n",
              "       [1200,  800],\n",
              "       [ 400, 1000]])"
            ]
          },
          "execution_count": 61,
          "metadata": {},
          "output_type": "execute_result"
        }
      ],
      "source": [
        "ventas.reshape(4,2)"
      ]
    },
    {
      "cell_type": "code",
      "execution_count": 62,
      "metadata": {},
      "outputs": [
        {
          "data": {
            "text/plain": [
              "array([[ 500,  600,  550,  800],\n",
              "       [1200,  800,  400, 1000]])"
            ]
          },
          "execution_count": 62,
          "metadata": {},
          "output_type": "execute_result"
        }
      ],
      "source": [
        "ventas1 = ventas.reshape(1,8)\n",
        "ventas\n"
      ]
    },
    {
      "cell_type": "code",
      "execution_count": 63,
      "metadata": {},
      "outputs": [
        {
          "data": {
            "text/plain": [
              "array([[ 400,  500,  550,  600,  800,  800, 1000, 1200]])"
            ]
          },
          "execution_count": 63,
          "metadata": {},
          "output_type": "execute_result"
        }
      ],
      "source": [
        "# Ordenar un arreglo (no desctructivo)\n",
        "np.sort(ventas1) \n"
      ]
    },
    {
      "cell_type": "code",
      "execution_count": 64,
      "metadata": {},
      "outputs": [
        {
          "data": {
            "text/plain": [
              "array([[ 500,  600,  550,  800, 1200,  800,  400, 1000]])"
            ]
          },
          "execution_count": 64,
          "metadata": {},
          "output_type": "execute_result"
        }
      ],
      "source": [
        "ventas1"
      ]
    },
    {
      "cell_type": "code",
      "execution_count": 65,
      "metadata": {},
      "outputs": [
        {
          "data": {
            "text/plain": [
              "array([[ 400,  500,  550,  600,  800,  800, 1000, 1200]])"
            ]
          },
          "execution_count": 65,
          "metadata": {},
          "output_type": "execute_result"
        }
      ],
      "source": [
        "# Ordenar un arreglo (desctructivo)\n",
        "ventas1.sort() \n",
        "ventas1"
      ]
    },
    {
      "cell_type": "code",
      "execution_count": 66,
      "metadata": {},
      "outputs": [
        {
          "data": {
            "text/plain": [
              "array([[ 400,  500,  550,  600],\n",
              "       [ 800,  800, 1000, 1200]])"
            ]
          },
          "execution_count": 66,
          "metadata": {},
          "output_type": "execute_result"
        }
      ],
      "source": [
        "ventas "
      ]
    },
    {
      "cell_type": "code",
      "execution_count": 67,
      "metadata": {},
      "outputs": [
        {
          "data": {
            "text/plain": [
              "array([[ 400,  500,  550,  600,  800,  800, 1000, 1200]])"
            ]
          },
          "execution_count": 67,
          "metadata": {},
          "output_type": "execute_result"
        }
      ],
      "source": [
        "#El método resize modifica la forma del arreglo original\n",
        "ventas.resize(1,8)\n",
        "ventas"
      ]
    },
    {
      "cell_type": "code",
      "execution_count": 68,
      "metadata": {},
      "outputs": [
        {
          "data": {
            "text/plain": [
              "array([ 400,  500,  550,  600,  800,  800, 1000, 1200])"
            ]
          },
          "execution_count": 68,
          "metadata": {},
          "output_type": "execute_result"
        }
      ],
      "source": [
        "#Para el caso específico de cambiar un arreglo multidimensional, en otro de una dimensión, \n",
        "# los métodos flatten y ravel realizan esta tarea. \n",
        "#El método flatten genera una copia profunda del arreglo original. Para verificar que no comparte\n",
        "#información, el siguiente código modifica un elemento en la copia.\n",
        "vector_ventas = ventas.flatten()\n",
        "vector_ventas "
      ]
    },
    {
      "cell_type": "code",
      "execution_count": 69,
      "metadata": {},
      "outputs": [
        {
          "data": {
            "text/plain": [
              "array([ 400,  500,  550,  600,  800,  800, 1000, 1200])"
            ]
          },
          "execution_count": 69,
          "metadata": {},
          "output_type": "execute_result"
        }
      ],
      "source": [
        "#El método ravel genera una vista (view) del arreglo original, por lo que comparten los mismos datos.\n",
        "vector1_ventas =ventas.ravel()\n",
        "vector1_ventas"
      ]
    },
    {
      "cell_type": "markdown",
      "metadata": {},
      "source": [
        "La transpuesta de un arreglo con n filas y m columnas es otro arreglo que resulta de cambiar las filas\n",
        "del primero en las columnas del segundo, de tal manera que el arreglo resultante tiene m filas y n columnas.\n",
        "Para hacer esta tarea Python utiliza el método T para generar la transpuesta de un arreglo.\n"
      ]
    },
    {
      "cell_type": "code",
      "execution_count": 70,
      "metadata": {},
      "outputs": [
        {
          "data": {
            "text/plain": [
              "array([[ 500, 1200],\n",
              "       [ 600,  800],\n",
              "       [ 550,  400],\n",
              "       [ 800, 1000]])"
            ]
          },
          "execution_count": 70,
          "metadata": {},
          "output_type": "execute_result"
        }
      ],
      "source": [
        "ventas = np.array([[ 500, 600, 550, 800],\n",
        "[1200, 800, 400,1000]])\n",
        "ventas.T"
      ]
    },
    {
      "cell_type": "code",
      "execution_count": 71,
      "metadata": {},
      "outputs": [
        {
          "data": {
            "text/plain": [
              "array([[ 500,  600,  550,  800],\n",
              "       [1200,  800,  400, 1000]])"
            ]
          },
          "execution_count": 71,
          "metadata": {},
          "output_type": "execute_result"
        }
      ],
      "source": [
        "# La transpuesta de una matriz no modifica el arreglo original\n",
        "ventas"
      ]
    },
    {
      "cell_type": "code",
      "execution_count": 72,
      "metadata": {},
      "outputs": [
        {
          "data": {
            "text/plain": [
              "array([[ 500,  600,  550,  800],\n",
              "       [1200,  800,  400, 1000],\n",
              "       [1000, 1200, 1300, 1400]])"
            ]
          },
          "execution_count": 72,
          "metadata": {},
          "output_type": "execute_result"
        }
      ],
      "source": [
        "# Añadir una nueva fila\n",
        "ventas2 = np.append(ventas,[[1000,1200,1300,1400]],axis=0)\n",
        "ventas2"
      ]
    },
    {
      "cell_type": "code",
      "execution_count": 73,
      "metadata": {},
      "outputs": [
        {
          "data": {
            "text/plain": [
              "array([[ 500,  600,  550,  800],\n",
              "       [1200,  800,  400, 1000],\n",
              "       [1000, 1200, 1300, 1400]])"
            ]
          },
          "execution_count": 73,
          "metadata": {},
          "output_type": "execute_result"
        }
      ],
      "source": [
        "# Otra forma de añadir una nueva fila\n",
        "ventas3 = np.vstack((ventas,[1000,1200,1300,1400]))\n",
        "ventas3"
      ]
    },
    {
      "cell_type": "code",
      "execution_count": 74,
      "metadata": {},
      "outputs": [
        {
          "data": {
            "text/plain": [
              "array([[ 500,  600,  550,  800,   23,   43],\n",
              "       [1200,  800,  400, 1000,   44,   55]])"
            ]
          },
          "execution_count": 74,
          "metadata": {},
          "output_type": "execute_result"
        }
      ],
      "source": [
        "# Añadir una nueva columna\n",
        "ventas4 = np.array([[23,43],[44,55]])\n",
        "np.hstack((ventas,ventas4))"
      ]
    },
    {
      "cell_type": "markdown",
      "metadata": {},
      "source": []
    },
    {
      "cell_type": "markdown",
      "metadata": {},
      "source": [
        "Operaciones Unitarias<br>\n",
        "Existen multitud de operaciones sobre un único array. A continuación veremos algunas de\n",
        "las más utilizas en NumPy.\n",
        "Las funciones universales «ufunc» son funciones que operan sobre arrays elemento a\n",
        "elemento. Existen muchas funciones universales definidas en Numpy, parte de ellas operan\n",
        "sobre dos arrays y parte sobre un único array"
      ]
    },
    {
      "cell_type": "code",
      "execution_count": 75,
      "metadata": {},
      "outputs": [
        {
          "data": {
            "text/plain": [
              "array([[22.36067977, 24.49489743, 23.4520788 , 28.28427125],\n",
              "       [34.64101615, 28.28427125, 20.        , 31.6227766 ]])"
            ]
          },
          "execution_count": 75,
          "metadata": {},
          "output_type": "execute_result"
        }
      ],
      "source": [
        "np.sqrt(ventas)"
      ]
    },
    {
      "cell_type": "code",
      "execution_count": 76,
      "metadata": {},
      "outputs": [
        {
          "data": {
            "text/plain": [
              "array([[-0.46777181,  0.04418245, -0.21948408,  0.89396965],\n",
              "       [-0.08827861,  0.89396965, -0.85091936,  0.82687954]])"
            ]
          },
          "execution_count": 76,
          "metadata": {},
          "output_type": "execute_result"
        }
      ],
      "source": [
        "np.sin(ventas)"
      ]
    },
    {
      "cell_type": "code",
      "execution_count": 77,
      "metadata": {},
      "outputs": [
        {
          "data": {
            "text/plain": [
              "array([[23., 25., 24., 29.],\n",
              "       [35., 29., 20., 32.]])"
            ]
          },
          "execution_count": 77,
          "metadata": {},
          "output_type": "execute_result"
        }
      ],
      "source": [
        "np.ceil(np.sqrt(ventas))"
      ]
    },
    {
      "cell_type": "code",
      "execution_count": 78,
      "metadata": {},
      "outputs": [
        {
          "data": {
            "text/plain": [
              "array([[22., 24., 23., 28.],\n",
              "       [34., 28., 20., 31.]])"
            ]
          },
          "execution_count": 78,
          "metadata": {},
          "output_type": "execute_result"
        }
      ],
      "source": [
        "np.floor(np.sqrt(ventas))"
      ]
    },
    {
      "cell_type": "markdown",
      "metadata": {},
      "source": [
        "Reduciendo el resultado <br>\n",
        "NumPy nos permite aplicar cualquier función sobre un array reduciendo el resultado por\n",
        "alguno de sus ejes. Esto abre una amplia gama de posibilidades."
      ]
    },
    {
      "cell_type": "code",
      "execution_count": 79,
      "metadata": {},
      "outputs": [
        {
          "data": {
            "text/plain": [
              "array([  6, 120])"
            ]
          },
          "execution_count": 79,
          "metadata": {},
          "output_type": "execute_result"
        }
      ],
      "source": [
        "#A modo de ilustración, veamos un par de ejemplos con la suma y el producto:\n",
        "matriz =np.array([[1,2,3],[4,5,6]])\n",
        "np.sum(matriz,axis=0) # suma por Columnas \n",
        "np.sum(matriz,axis=1) # suma por Filas\n",
        "np.prod(matriz,axis=0) # producto por Columnas\n",
        "np.prod(matriz,axis=1) # producto por Filas"
      ]
    },
    {
      "cell_type": "markdown",
      "metadata": {},
      "source": []
    },
    {
      "cell_type": "markdown",
      "metadata": {},
      "source": [
        "Algebra Lineal <br>\n",
        "NumPy tiene una sección dedicada al álgebra lineal cuyas funciones pueden resultar muy\n",
        "interesantes según el contexto en el que estemos trabajando."
      ]
    },
    {
      "cell_type": "code",
      "execution_count": 80,
      "metadata": {},
      "outputs": [
        {
          "data": {
            "text/plain": [
              "array([[ 21,  27,  33],\n",
              "       [ 57,  72,  87],\n",
              "       [ 93, 117, 141]])"
            ]
          },
          "execution_count": 80,
          "metadata": {},
          "output_type": "execute_result"
        }
      ],
      "source": [
        "# producto de matrices\n",
        "m1=np.array([[1,2,3],[4,5,6],[7,8,9]])\n",
        "m2=np.array([[4,5,6],[7,8,9],[1,2,3]])\n",
        "np.dot(m1,m2)"
      ]
    },
    {
      "cell_type": "markdown",
      "metadata": {},
      "source": [
        "En Python 3.5 se introdujo el operador @ que permitía implementar el método especial\n",
        "__matmul__() de multiplicación de matrices. NumPy lo ha desarrollado y simplifica la\n",
        "multiplicación de matrices de la siguiente manera:\n"
      ]
    },
    {
      "cell_type": "code",
      "execution_count": 81,
      "metadata": {},
      "outputs": [
        {
          "data": {
            "text/plain": [
              "array([[ 21,  27,  33],\n",
              "       [ 57,  72,  87],\n",
              "       [ 93, 117, 141]])"
            ]
          },
          "execution_count": 81,
          "metadata": {},
          "output_type": "execute_result"
        }
      ],
      "source": [
        "m1 @ m2"
      ]
    },
    {
      "cell_type": "markdown",
      "metadata": {},
      "source": [
        "Determinante de una matriz\n",
        "El cálculo del determinante es una operación muy utilizada en álgebra lineal. Lo podemos\n",
        "realizar en NumPy de la siguiente manera:"
      ]
    },
    {
      "cell_type": "code",
      "execution_count": 82,
      "metadata": {},
      "outputs": [
        {
          "data": {
            "text/plain": [
              "array([[4, 1, 6],\n",
              "       [4, 8, 8],\n",
              "       [2, 1, 7]])"
            ]
          },
          "execution_count": 82,
          "metadata": {},
          "output_type": "execute_result"
        }
      ],
      "source": [
        "m1=np.array([[4,1,6],[4,8,8],[2,1,7]])\n",
        "m1"
      ]
    },
    {
      "cell_type": "code",
      "execution_count": 83,
      "metadata": {},
      "outputs": [
        {
          "data": {
            "text/plain": [
              "108.00000000000003"
            ]
          },
          "execution_count": 83,
          "metadata": {},
          "output_type": "execute_result"
        }
      ],
      "source": [
        "np.linalg.det(m1)"
      ]
    },
    {
      "cell_type": "code",
      "execution_count": 84,
      "metadata": {},
      "outputs": [
        {
          "data": {
            "text/plain": [
              "array([[ 0.44444444, -0.00925926, -0.37037037],\n",
              "       [-0.11111111,  0.14814815, -0.07407407],\n",
              "       [-0.11111111, -0.01851852,  0.25925926]])"
            ]
          },
          "execution_count": 84,
          "metadata": {},
          "output_type": "execute_result"
        }
      ],
      "source": [
        "# matriz inversa\n",
        "m_inv=np.linalg.inv(m1)\n",
        "m_inv"
      ]
    },
    {
      "cell_type": "markdown",
      "metadata": {},
      "source": [
        "Sistemas de ecuaciones lineales<br>\n",
        "NumPy también nos permite resolver sistemas de ecuaciones lineales. Para ello debemos\n",
        "modelar nuestro sistema a través de arrays."
      ]
    },
    {
      "cell_type": "markdown",
      "metadata": {},
      "source": [
        "![ecLineales.png](ecLineales.png)\n"
      ]
    },
    {
      "cell_type": "code",
      "execution_count": 85,
      "metadata": {},
      "outputs": [
        {
          "data": {
            "text/plain": [
              "array([[-7.],\n",
              "       [-5.],\n",
              "       [ 4.]])"
            ]
          },
          "execution_count": 85,
          "metadata": {},
          "output_type": "execute_result"
        }
      ],
      "source": [
        "A = np.array([[1, 0, 2], [1, -1, 0], [0, 1, 1]])\n",
        "B = np.array([1, -2, -1]).reshape(-1, 1)\n",
        "# Solución de un sistema de ecuaciones lineales\n",
        "np.linalg.solve(A,B)\n"
      ]
    },
    {
      "cell_type": "code",
      "execution_count": 86,
      "metadata": {},
      "outputs": [
        {
          "data": {
            "text/plain": [
              "array([[-7.],\n",
              "       [-5.],\n",
              "       [ 4.]])"
            ]
          },
          "execution_count": 86,
          "metadata": {},
          "output_type": "execute_result"
        }
      ],
      "source": [
        "#La solución del sistema debe ser la misma que si obtenemos 𝒳 = 𝒜**(−1) · 𝐵:\n",
        "np.dot(np.linalg.inv(A),B)"
      ]
    },
    {
      "cell_type": "markdown",
      "metadata": {},
      "source": [
        "# Pandas\n",
        "Pandas es la librería más popular de Python para trabajar con datos de tipo homogéneo, a través\n",
        "de sus índices. En este apartado revisarás dos colecciones de librerías útiles para el tratamiento\n",
        "estadístico de datos: Series y Dataframes."
      ]
    },
    {
      "cell_type": "code",
      "execution_count": 87,
      "metadata": {},
      "outputs": [
        {
          "data": {
            "text/plain": [
              "0    45\n",
              "1    23\n",
              "2    43\n",
              "3    54\n",
              "4    65\n",
              "dtype: int64"
            ]
          },
          "execution_count": 87,
          "metadata": {},
          "output_type": "execute_result"
        }
      ],
      "source": [
        "#Series de Pandas permite trabajar con arreglos unidimensionales. Series utiliza arreglos con índices enteros que inician en 0.\n",
        "import pandas as pd\n",
        "tiempo_web = pd.Series([45,23,43,54,65])\n",
        "tiempo_web"
      ]
    },
    {
      "cell_type": "markdown",
      "metadata": {},
      "source": [
        "Pandas muestra el resultado en dos columnas con los índices alineados a la izquierda y los valores\n",
        "alineados a la derecha. Series también muestra el tipo de datos al final del arreglo."
      ]
    },
    {
      "cell_type": "code",
      "execution_count": 88,
      "metadata": {},
      "outputs": [
        {
          "data": {
            "text/plain": [
              "0    3.141593\n",
              "1    3.141593\n",
              "2    3.141593\n",
              "3    3.141593\n",
              "4    3.141593\n",
              "dtype: float64"
            ]
          },
          "execution_count": 88,
          "metadata": {},
          "output_type": "execute_result"
        }
      ],
      "source": [
        "#Para crear una serie con el mismo elemento\n",
        "pd.Series(3.141592654,range(5))"
      ]
    },
    {
      "cell_type": "code",
      "execution_count": 89,
      "metadata": {},
      "outputs": [
        {
          "data": {
            "text/plain": [
              "23"
            ]
          },
          "execution_count": 89,
          "metadata": {},
          "output_type": "execute_result"
        }
      ],
      "source": [
        "# Acceso a un elemento de la serie\n",
        "tiempo_web[1]\n",
        "# es a través del índice"
      ]
    },
    {
      "cell_type": "code",
      "execution_count": 90,
      "metadata": {},
      "outputs": [
        {
          "name": "stdout",
          "output_type": "stream",
          "text": [
            "cantidad de elementos de la serie 5\n",
            "promedio de la serie 46.0\n",
            "valor minimo de la serie 23\n",
            "valor maximo de la serie 65\n",
            "variacion de la serie 241.0\n",
            "desviacion estandar de la serie 15.524174696260024\n"
          ]
        }
      ],
      "source": [
        "# Series tiene métodos clásicos para determinar las estadísticas descriptivas de un conjunto de datos\n",
        "print (f'cantidad de elementos de la serie {tiempo_web.count()}')\n",
        "print (f'promedio de la serie {tiempo_web.mean()}')\n",
        "print (f'valor minimo de la serie {tiempo_web.min()}')\n",
        "print (f'valor maximo de la serie {tiempo_web.max()}')\n",
        "print (f'variacion de la serie {tiempo_web.var()}')\n",
        "print (f'desviacion estandar de la serie {tiempo_web.std()}')\n"
      ]
    },
    {
      "cell_type": "code",
      "execution_count": 91,
      "metadata": {},
      "outputs": [
        {
          "data": {
            "text/plain": [
              "count     5.000000\n",
              "mean     46.000000\n",
              "std      15.524175\n",
              "min      23.000000\n",
              "25%      43.000000\n",
              "50%      45.000000\n",
              "75%      54.000000\n",
              "max      65.000000\n",
              "dtype: float64"
            ]
          },
          "execution_count": 91,
          "metadata": {},
          "output_type": "execute_result"
        }
      ],
      "source": [
        "# Todas estas tareas se pueden solicitar con describe\n",
        "tiempo_web.describe()"
      ]
    },
    {
      "cell_type": "code",
      "execution_count": 92,
      "metadata": {},
      "outputs": [
        {
          "data": {
            "text/plain": [
              "Lunes        45\n",
              "Martes       23\n",
              "Miércoles    43\n",
              "Jueves       54\n",
              "Viernes      65\n",
              "dtype: int64"
            ]
          },
          "execution_count": 92,
          "metadata": {},
          "output_type": "execute_result"
        }
      ],
      "source": [
        "# Personalizar los índices\n",
        "tiempo_web = pd.Series([45,23,43,54,65], index=['Lunes','Martes','Miércoles','Jueves','Viernes'])\n",
        "tiempo_web"
      ]
    },
    {
      "cell_type": "code",
      "execution_count": 93,
      "metadata": {},
      "outputs": [
        {
          "name": "stdout",
          "output_type": "stream",
          "text": [
            "Tiempo web del martes: 23 tiempo web del lunes: 45\n"
          ]
        }
      ],
      "source": [
        "# Llamando a los índices\n",
        "print(f'Tiempo web del martes: {tiempo_web[\"Martes\"]} tiempo web del lunes: {tiempo_web.Lunes}')\n"
      ]
    },
    {
      "cell_type": "markdown",
      "metadata": {},
      "source": [
        "Otros atributos incorporados en Series es el tipo de dato(dtype), los valores(values) y los índices(index)"
      ]
    },
    {
      "cell_type": "code",
      "execution_count": 94,
      "metadata": {},
      "outputs": [
        {
          "data": {
            "text/plain": [
              "dtype('int64')"
            ]
          },
          "execution_count": 94,
          "metadata": {},
          "output_type": "execute_result"
        }
      ],
      "source": [
        "tiempo_web.dtype"
      ]
    },
    {
      "cell_type": "code",
      "execution_count": 95,
      "metadata": {},
      "outputs": [
        {
          "data": {
            "text/plain": [
              "array([45, 23, 43, 54, 65], dtype=int64)"
            ]
          },
          "execution_count": 95,
          "metadata": {},
          "output_type": "execute_result"
        }
      ],
      "source": [
        "tiempo_web.values"
      ]
    },
    {
      "cell_type": "code",
      "execution_count": 96,
      "metadata": {},
      "outputs": [
        {
          "data": {
            "text/plain": [
              "Index(['Lunes', 'Martes', 'Miércoles', 'Jueves', 'Viernes'], dtype='object')"
            ]
          },
          "execution_count": 96,
          "metadata": {},
          "output_type": "execute_result"
        }
      ],
      "source": [
        "tiempo_web.index"
      ]
    },
    {
      "cell_type": "markdown",
      "metadata": {},
      "source": [
        "Si un arreglo tipo Series, es una cadena (string), puedes utilizar los atributos de la cadena, invocando\n",
        "a los métodos para strings de Python.\n",
        "El siguiente arreglo contiene algunos ingredientes de una receta para hacer galletas."
      ]
    },
    {
      "cell_type": "code",
      "execution_count": 97,
      "metadata": {},
      "outputs": [
        {
          "data": {
            "text/plain": [
              "0          leche\n",
              "1         huevos\n",
              "2         harina\n",
              "3         azucar\n",
              "4    mantequilla\n",
              "5            sal\n",
              "6       vainilla\n",
              "dtype: object"
            ]
          },
          "execution_count": 97,
          "metadata": {},
          "output_type": "execute_result"
        }
      ],
      "source": [
        "ingredientes = pd.Series(['leche','huevos','harina','azucar','mantequilla','sal','vainilla'])\n",
        "ingredientes"
      ]
    },
    {
      "cell_type": "code",
      "execution_count": 98,
      "metadata": {},
      "outputs": [
        {
          "data": {
            "text/plain": [
              "0    False\n",
              "1    False\n",
              "2     True\n",
              "3     True\n",
              "4     True\n",
              "5     True\n",
              "6     True\n",
              "dtype: bool"
            ]
          },
          "execution_count": 98,
          "metadata": {},
          "output_type": "execute_result"
        }
      ],
      "source": [
        "# Para verificar si alguna letra está contenida en alguno de los elementos, el método contain para\n",
        "# cadenas puede realizar esta tarea.\n",
        "ingredientes.str.contains('a')"
      ]
    },
    {
      "cell_type": "markdown",
      "metadata": {},
      "source": [
        "Dataframes <br>\n",
        "Un DataFrame es un arreglo de dos dimensiones. Y cada columna del DataFrame es un arreglo\n",
        "tipo Series, justo como en la sección anterior. Por lo tanto, todos los atributos de Series son aplicables\n",
        "al DataFrame."
      ]
    },
    {
      "cell_type": "markdown",
      "metadata": {},
      "source": [
        "![dataFrames](dataFrames.png)"
      ]
    },
    {
      "cell_type": "code",
      "execution_count": 99,
      "metadata": {},
      "outputs": [
        {
          "data": {
            "text/html": [
              "<div>\n",
              "<style scoped>\n",
              "    .dataframe tbody tr th:only-of-type {\n",
              "        vertical-align: middle;\n",
              "    }\n",
              "\n",
              "    .dataframe tbody tr th {\n",
              "        vertical-align: top;\n",
              "    }\n",
              "\n",
              "    .dataframe thead th {\n",
              "        text-align: right;\n",
              "    }\n",
              "</style>\n",
              "<table border=\"1\" class=\"dataframe\">\n",
              "  <thead>\n",
              "    <tr style=\"text-align: right;\">\n",
              "      <th></th>\n",
              "      <th>Juan</th>\n",
              "      <th>Pedro</th>\n",
              "      <th>Ana</th>\n",
              "      <th>Luis</th>\n",
              "    </tr>\n",
              "  </thead>\n",
              "  <tbody>\n",
              "    <tr>\n",
              "      <th>0</th>\n",
              "      <td>8.5</td>\n",
              "      <td>7.5</td>\n",
              "      <td>9.5</td>\n",
              "      <td>6.5</td>\n",
              "    </tr>\n",
              "    <tr>\n",
              "      <th>1</th>\n",
              "      <td>5.0</td>\n",
              "      <td>8.0</td>\n",
              "      <td>9.0</td>\n",
              "      <td>8.0</td>\n",
              "    </tr>\n",
              "    <tr>\n",
              "      <th>2</th>\n",
              "      <td>6.0</td>\n",
              "      <td>5.0</td>\n",
              "      <td>8.0</td>\n",
              "      <td>8.0</td>\n",
              "    </tr>\n",
              "    <tr>\n",
              "      <th>3</th>\n",
              "      <td>4.0</td>\n",
              "      <td>4.0</td>\n",
              "      <td>7.0</td>\n",
              "      <td>8.0</td>\n",
              "    </tr>\n",
              "  </tbody>\n",
              "</table>\n",
              "</div>"
            ],
            "text/plain": [
              "   Juan  Pedro  Ana  Luis\n",
              "0   8.5    7.5  9.5   6.5\n",
              "1   5.0    8.0  9.0   8.0\n",
              "2   6.0    5.0  8.0   8.0\n",
              "3   4.0    4.0  7.0   8.0"
            ]
          },
          "execution_count": 99,
          "metadata": {},
          "output_type": "execute_result"
        }
      ],
      "source": [
        "registro_notas = {'Juan': [8.5,5,6,4], 'Pedro': [7.5,8,5,4], 'Ana': [9.5,9,8,7], 'Luis': [6.5,8,8,8]}\n",
        "registro_notas\n",
        "nota = pd.DataFrame(registro_notas)\n",
        "nota"
      ]
    },
    {
      "cell_type": "code",
      "execution_count": 100,
      "metadata": {},
      "outputs": [
        {
          "data": {
            "text/html": [
              "<div>\n",
              "<style scoped>\n",
              "    .dataframe tbody tr th:only-of-type {\n",
              "        vertical-align: middle;\n",
              "    }\n",
              "\n",
              "    .dataframe tbody tr th {\n",
              "        vertical-align: top;\n",
              "    }\n",
              "\n",
              "    .dataframe thead th {\n",
              "        text-align: right;\n",
              "    }\n",
              "</style>\n",
              "<table border=\"1\" class=\"dataframe\">\n",
              "  <thead>\n",
              "    <tr style=\"text-align: right;\">\n",
              "      <th></th>\n",
              "      <th>Juan</th>\n",
              "      <th>Pedro</th>\n",
              "      <th>Ana</th>\n",
              "      <th>Luis</th>\n",
              "    </tr>\n",
              "  </thead>\n",
              "  <tbody>\n",
              "    <tr>\n",
              "      <th>Lunes</th>\n",
              "      <td>8.5</td>\n",
              "      <td>7.5</td>\n",
              "      <td>9.5</td>\n",
              "      <td>6.5</td>\n",
              "    </tr>\n",
              "    <tr>\n",
              "      <th>Martes</th>\n",
              "      <td>5.0</td>\n",
              "      <td>8.0</td>\n",
              "      <td>9.0</td>\n",
              "      <td>8.0</td>\n",
              "    </tr>\n",
              "    <tr>\n",
              "      <th>Miércoles</th>\n",
              "      <td>6.0</td>\n",
              "      <td>5.0</td>\n",
              "      <td>8.0</td>\n",
              "      <td>8.0</td>\n",
              "    </tr>\n",
              "    <tr>\n",
              "      <th>Jueves</th>\n",
              "      <td>4.0</td>\n",
              "      <td>4.0</td>\n",
              "      <td>7.0</td>\n",
              "      <td>8.0</td>\n",
              "    </tr>\n",
              "  </tbody>\n",
              "</table>\n",
              "</div>"
            ],
            "text/plain": [
              "           Juan  Pedro  Ana  Luis\n",
              "Lunes       8.5    7.5  9.5   6.5\n",
              "Martes      5.0    8.0  9.0   8.0\n",
              "Miércoles   6.0    5.0  8.0   8.0\n",
              "Jueves      4.0    4.0  7.0   8.0"
            ]
          },
          "execution_count": 100,
          "metadata": {},
          "output_type": "execute_result"
        }
      ],
      "source": [
        "# Para añadir índices personalizados\n",
        "nota.index = ['Lunes','Martes','Miércoles','Jueves']\n",
        "nota\n"
      ]
    },
    {
      "cell_type": "code",
      "execution_count": 101,
      "metadata": {},
      "outputs": [
        {
          "data": {
            "text/plain": [
              "array([4. , 5. , 6. , 6.5, 7. , 7.5, 8. , 8.5, 9. , 9.5])"
            ]
          },
          "execution_count": 101,
          "metadata": {},
          "output_type": "execute_result"
        }
      ],
      "source": [
        "# Valores unicos de un areglo\n",
        "np.unique(nota)"
      ]
    },
    {
      "cell_type": "code",
      "execution_count": 102,
      "metadata": {},
      "outputs": [
        {
          "data": {
            "text/plain": [
              "16"
            ]
          },
          "execution_count": 102,
          "metadata": {},
          "output_type": "execute_result"
        }
      ],
      "source": [
        "# Valores distinto de cero\n",
        "np.count_nonzero(nota)"
      ]
    },
    {
      "cell_type": "code",
      "execution_count": 103,
      "metadata": {},
      "outputs": [
        {
          "data": {
            "text/plain": [
              "Lunes        9.5\n",
              "Martes       9.0\n",
              "Miércoles    8.0\n",
              "Jueves       7.0\n",
              "Name: Ana, dtype: float64"
            ]
          },
          "execution_count": 103,
          "metadata": {},
          "output_type": "execute_result"
        }
      ],
      "source": [
        "# Seleccionar una columna\n",
        "nota['Ana']"
      ]
    },
    {
      "cell_type": "code",
      "execution_count": 104,
      "metadata": {},
      "outputs": [
        {
          "data": {
            "text/plain": [
              "Lunes        9.5\n",
              "Martes       9.0\n",
              "Miércoles    8.0\n",
              "Jueves       7.0\n",
              "Name: Ana, dtype: float64"
            ]
          },
          "execution_count": 104,
          "metadata": {},
          "output_type": "execute_result"
        }
      ],
      "source": [
        "nota.Ana"
      ]
    },
    {
      "cell_type": "code",
      "execution_count": 105,
      "metadata": {},
      "outputs": [
        {
          "data": {
            "text/plain": [
              "Juan     5.0\n",
              "Pedro    8.0\n",
              "Ana      9.0\n",
              "Luis     8.0\n",
              "Name: Martes, dtype: float64"
            ]
          },
          "execution_count": 105,
          "metadata": {},
          "output_type": "execute_result"
        }
      ],
      "source": [
        "# Accediendo a una fila \n",
        "nota.loc['Martes']"
      ]
    },
    {
      "cell_type": "code",
      "execution_count": 106,
      "metadata": {},
      "outputs": [
        {
          "data": {
            "text/plain": [
              "Juan     5.0\n",
              "Pedro    8.0\n",
              "Ana      9.0\n",
              "Luis     8.0\n",
              "Name: Martes, dtype: float64"
            ]
          },
          "execution_count": 106,
          "metadata": {},
          "output_type": "execute_result"
        }
      ],
      "source": [
        "# Accediendo a una fila con Iloc\n",
        "nota.iloc[1]"
      ]
    },
    {
      "cell_type": "code",
      "execution_count": 107,
      "metadata": {},
      "outputs": [
        {
          "data": {
            "text/html": [
              "<div>\n",
              "<style scoped>\n",
              "    .dataframe tbody tr th:only-of-type {\n",
              "        vertical-align: middle;\n",
              "    }\n",
              "\n",
              "    .dataframe tbody tr th {\n",
              "        vertical-align: top;\n",
              "    }\n",
              "\n",
              "    .dataframe thead th {\n",
              "        text-align: right;\n",
              "    }\n",
              "</style>\n",
              "<table border=\"1\" class=\"dataframe\">\n",
              "  <thead>\n",
              "    <tr style=\"text-align: right;\">\n",
              "      <th></th>\n",
              "      <th>Juan</th>\n",
              "      <th>Pedro</th>\n",
              "      <th>Ana</th>\n",
              "      <th>Luis</th>\n",
              "    </tr>\n",
              "  </thead>\n",
              "  <tbody>\n",
              "    <tr>\n",
              "      <th>Martes</th>\n",
              "      <td>5.0</td>\n",
              "      <td>8.0</td>\n",
              "      <td>9.0</td>\n",
              "      <td>8.0</td>\n",
              "    </tr>\n",
              "    <tr>\n",
              "      <th>Miércoles</th>\n",
              "      <td>6.0</td>\n",
              "      <td>5.0</td>\n",
              "      <td>8.0</td>\n",
              "      <td>8.0</td>\n",
              "    </tr>\n",
              "    <tr>\n",
              "      <th>Jueves</th>\n",
              "      <td>4.0</td>\n",
              "      <td>4.0</td>\n",
              "      <td>7.0</td>\n",
              "      <td>8.0</td>\n",
              "    </tr>\n",
              "  </tbody>\n",
              "</table>\n",
              "</div>"
            ],
            "text/plain": [
              "           Juan  Pedro  Ana  Luis\n",
              "Martes      5.0    8.0  9.0   8.0\n",
              "Miércoles   6.0    5.0  8.0   8.0\n",
              "Jueves      4.0    4.0  7.0   8.0"
            ]
          },
          "execution_count": 107,
          "metadata": {},
          "output_type": "execute_result"
        }
      ],
      "source": [
        "# Recuperando una parte del arreglo \n",
        "nota.loc['Martes':'Jueves']"
      ]
    },
    {
      "cell_type": "code",
      "execution_count": 108,
      "metadata": {},
      "outputs": [
        {
          "data": {
            "text/html": [
              "<div>\n",
              "<style scoped>\n",
              "    .dataframe tbody tr th:only-of-type {\n",
              "        vertical-align: middle;\n",
              "    }\n",
              "\n",
              "    .dataframe tbody tr th {\n",
              "        vertical-align: top;\n",
              "    }\n",
              "\n",
              "    .dataframe thead th {\n",
              "        text-align: right;\n",
              "    }\n",
              "</style>\n",
              "<table border=\"1\" class=\"dataframe\">\n",
              "  <thead>\n",
              "    <tr style=\"text-align: right;\">\n",
              "      <th></th>\n",
              "      <th>Juan</th>\n",
              "      <th>Pedro</th>\n",
              "      <th>Ana</th>\n",
              "      <th>Luis</th>\n",
              "    </tr>\n",
              "  </thead>\n",
              "  <tbody>\n",
              "    <tr>\n",
              "      <th>Lunes</th>\n",
              "      <td>8.5</td>\n",
              "      <td>7.5</td>\n",
              "      <td>9.5</td>\n",
              "      <td>6.5</td>\n",
              "    </tr>\n",
              "    <tr>\n",
              "      <th>Martes</th>\n",
              "      <td>5.0</td>\n",
              "      <td>8.0</td>\n",
              "      <td>9.0</td>\n",
              "      <td>8.0</td>\n",
              "    </tr>\n",
              "  </tbody>\n",
              "</table>\n",
              "</div>"
            ],
            "text/plain": [
              "        Juan  Pedro  Ana  Luis\n",
              "Lunes    8.5    7.5  9.5   6.5\n",
              "Martes   5.0    8.0  9.0   8.0"
            ]
          },
          "execution_count": 108,
          "metadata": {},
          "output_type": "execute_result"
        }
      ],
      "source": [
        "#Cuando utilizas los índices numéricos con iloc, el índice superior no se incluye.\n",
        "nota.iloc[0:2]"
      ]
    },
    {
      "cell_type": "code",
      "execution_count": 109,
      "metadata": {},
      "outputs": [
        {
          "data": {
            "text/html": [
              "<div>\n",
              "<style scoped>\n",
              "    .dataframe tbody tr th:only-of-type {\n",
              "        vertical-align: middle;\n",
              "    }\n",
              "\n",
              "    .dataframe tbody tr th {\n",
              "        vertical-align: top;\n",
              "    }\n",
              "\n",
              "    .dataframe thead th {\n",
              "        text-align: right;\n",
              "    }\n",
              "</style>\n",
              "<table border=\"1\" class=\"dataframe\">\n",
              "  <thead>\n",
              "    <tr style=\"text-align: right;\">\n",
              "      <th></th>\n",
              "      <th>Juan</th>\n",
              "      <th>Pedro</th>\n",
              "      <th>Ana</th>\n",
              "      <th>Luis</th>\n",
              "    </tr>\n",
              "  </thead>\n",
              "  <tbody>\n",
              "    <tr>\n",
              "      <th>Lunes</th>\n",
              "      <td>8.5</td>\n",
              "      <td>7.5</td>\n",
              "      <td>9.5</td>\n",
              "      <td>6.5</td>\n",
              "    </tr>\n",
              "    <tr>\n",
              "      <th>Miércoles</th>\n",
              "      <td>6.0</td>\n",
              "      <td>5.0</td>\n",
              "      <td>8.0</td>\n",
              "      <td>8.0</td>\n",
              "    </tr>\n",
              "  </tbody>\n",
              "</table>\n",
              "</div>"
            ],
            "text/plain": [
              "           Juan  Pedro  Ana  Luis\n",
              "Lunes       8.5    7.5  9.5   6.5\n",
              "Miércoles   6.0    5.0  8.0   8.0"
            ]
          },
          "execution_count": 109,
          "metadata": {},
          "output_type": "execute_result"
        }
      ],
      "source": [
        "# Extraer una parte del arreglo con filas específicas\n",
        "nota.iloc[[0,2]]"
      ]
    },
    {
      "cell_type": "code",
      "execution_count": 110,
      "metadata": {},
      "outputs": [
        {
          "data": {
            "text/html": [
              "<div>\n",
              "<style scoped>\n",
              "    .dataframe tbody tr th:only-of-type {\n",
              "        vertical-align: middle;\n",
              "    }\n",
              "\n",
              "    .dataframe tbody tr th {\n",
              "        vertical-align: top;\n",
              "    }\n",
              "\n",
              "    .dataframe thead th {\n",
              "        text-align: right;\n",
              "    }\n",
              "</style>\n",
              "<table border=\"1\" class=\"dataframe\">\n",
              "  <thead>\n",
              "    <tr style=\"text-align: right;\">\n",
              "      <th></th>\n",
              "      <th>Juan</th>\n",
              "      <th>Pedro</th>\n",
              "      <th>Ana</th>\n",
              "      <th>Luis</th>\n",
              "    </tr>\n",
              "  </thead>\n",
              "  <tbody>\n",
              "    <tr>\n",
              "      <th>Martes</th>\n",
              "      <td>5.0</td>\n",
              "      <td>8.0</td>\n",
              "      <td>9.0</td>\n",
              "      <td>8.0</td>\n",
              "    </tr>\n",
              "    <tr>\n",
              "      <th>Jueves</th>\n",
              "      <td>4.0</td>\n",
              "      <td>4.0</td>\n",
              "      <td>7.0</td>\n",
              "      <td>8.0</td>\n",
              "    </tr>\n",
              "  </tbody>\n",
              "</table>\n",
              "</div>"
            ],
            "text/plain": [
              "        Juan  Pedro  Ana  Luis\n",
              "Martes   5.0    8.0  9.0   8.0\n",
              "Jueves   4.0    4.0  7.0   8.0"
            ]
          },
          "execution_count": 110,
          "metadata": {},
          "output_type": "execute_result"
        }
      ],
      "source": [
        "# Extraer una parte del arreglo con filas específicas\n",
        "nota.loc[['Martes','Jueves']]"
      ]
    },
    {
      "cell_type": "code",
      "execution_count": 111,
      "metadata": {},
      "outputs": [
        {
          "data": {
            "text/html": [
              "<div>\n",
              "<style scoped>\n",
              "    .dataframe tbody tr th:only-of-type {\n",
              "        vertical-align: middle;\n",
              "    }\n",
              "\n",
              "    .dataframe tbody tr th {\n",
              "        vertical-align: top;\n",
              "    }\n",
              "\n",
              "    .dataframe thead th {\n",
              "        text-align: right;\n",
              "    }\n",
              "</style>\n",
              "<table border=\"1\" class=\"dataframe\">\n",
              "  <thead>\n",
              "    <tr style=\"text-align: right;\">\n",
              "      <th></th>\n",
              "      <th>Juan</th>\n",
              "      <th>Ana</th>\n",
              "    </tr>\n",
              "  </thead>\n",
              "  <tbody>\n",
              "    <tr>\n",
              "      <th>Lunes</th>\n",
              "      <td>8.5</td>\n",
              "      <td>9.5</td>\n",
              "    </tr>\n",
              "    <tr>\n",
              "      <th>Martes</th>\n",
              "      <td>5.0</td>\n",
              "      <td>9.0</td>\n",
              "    </tr>\n",
              "    <tr>\n",
              "      <th>Miércoles</th>\n",
              "      <td>6.0</td>\n",
              "      <td>8.0</td>\n",
              "    </tr>\n",
              "  </tbody>\n",
              "</table>\n",
              "</div>"
            ],
            "text/plain": [
              "           Juan  Ana\n",
              "Lunes       8.5  9.5\n",
              "Martes      5.0  9.0\n",
              "Miércoles   6.0  8.0"
            ]
          },
          "execution_count": 111,
          "metadata": {},
          "output_type": "execute_result"
        }
      ],
      "source": [
        "# extraer una parte del arreglo con filas específicas y columnas específicas\n",
        "nota.loc['Lunes':'Miércoles',['Juan','Ana']]"
      ]
    },
    {
      "cell_type": "code",
      "execution_count": 112,
      "metadata": {},
      "outputs": [
        {
          "data": {
            "text/html": [
              "<div>\n",
              "<style scoped>\n",
              "    .dataframe tbody tr th:only-of-type {\n",
              "        vertical-align: middle;\n",
              "    }\n",
              "\n",
              "    .dataframe tbody tr th {\n",
              "        vertical-align: top;\n",
              "    }\n",
              "\n",
              "    .dataframe thead th {\n",
              "        text-align: right;\n",
              "    }\n",
              "</style>\n",
              "<table border=\"1\" class=\"dataframe\">\n",
              "  <thead>\n",
              "    <tr style=\"text-align: right;\">\n",
              "      <th></th>\n",
              "      <th>Ana</th>\n",
              "      <th>Luis</th>\n",
              "    </tr>\n",
              "  </thead>\n",
              "  <tbody>\n",
              "    <tr>\n",
              "      <th>Martes</th>\n",
              "      <td>9.0</td>\n",
              "      <td>8.0</td>\n",
              "    </tr>\n",
              "    <tr>\n",
              "      <th>Miércoles</th>\n",
              "      <td>8.0</td>\n",
              "      <td>8.0</td>\n",
              "    </tr>\n",
              "  </tbody>\n",
              "</table>\n",
              "</div>"
            ],
            "text/plain": [
              "           Ana  Luis\n",
              "Martes     9.0   8.0\n",
              "Miércoles  8.0   8.0"
            ]
          },
          "execution_count": 112,
          "metadata": {},
          "output_type": "execute_result"
        }
      ],
      "source": [
        "# extraer una parte del arreglo con filas específicas y columnas específicas con iloc\n",
        "nota.iloc[1:3,[2,3]]"
      ]
    },
    {
      "cell_type": "code",
      "execution_count": 113,
      "metadata": {},
      "outputs": [
        {
          "data": {
            "text/html": [
              "<div>\n",
              "<style scoped>\n",
              "    .dataframe tbody tr th:only-of-type {\n",
              "        vertical-align: middle;\n",
              "    }\n",
              "\n",
              "    .dataframe tbody tr th {\n",
              "        vertical-align: top;\n",
              "    }\n",
              "\n",
              "    .dataframe thead th {\n",
              "        text-align: right;\n",
              "    }\n",
              "</style>\n",
              "<table border=\"1\" class=\"dataframe\">\n",
              "  <thead>\n",
              "    <tr style=\"text-align: right;\">\n",
              "      <th></th>\n",
              "      <th>Juan</th>\n",
              "      <th>Pedro</th>\n",
              "      <th>Ana</th>\n",
              "      <th>Luis</th>\n",
              "    </tr>\n",
              "  </thead>\n",
              "  <tbody>\n",
              "    <tr>\n",
              "      <th>Lunes</th>\n",
              "      <td>8.5</td>\n",
              "      <td>NaN</td>\n",
              "      <td>9.5</td>\n",
              "      <td>NaN</td>\n",
              "    </tr>\n",
              "    <tr>\n",
              "      <th>Martes</th>\n",
              "      <td>NaN</td>\n",
              "      <td>8.0</td>\n",
              "      <td>9.0</td>\n",
              "      <td>8.0</td>\n",
              "    </tr>\n",
              "    <tr>\n",
              "      <th>Miércoles</th>\n",
              "      <td>NaN</td>\n",
              "      <td>NaN</td>\n",
              "      <td>8.0</td>\n",
              "      <td>8.0</td>\n",
              "    </tr>\n",
              "    <tr>\n",
              "      <th>Jueves</th>\n",
              "      <td>NaN</td>\n",
              "      <td>NaN</td>\n",
              "      <td>NaN</td>\n",
              "      <td>8.0</td>\n",
              "    </tr>\n",
              "  </tbody>\n",
              "</table>\n",
              "</div>"
            ],
            "text/plain": [
              "           Juan  Pedro  Ana  Luis\n",
              "Lunes       8.5    NaN  9.5   NaN\n",
              "Martes      NaN    8.0  9.0   8.0\n",
              "Miércoles   NaN    NaN  8.0   8.0\n",
              "Jueves      NaN    NaN  NaN   8.0"
            ]
          },
          "execution_count": 113,
          "metadata": {},
          "output_type": "execute_result"
        }
      ],
      "source": [
        "# Otra herramienta de Pandas es la indexación booleana. \n",
        "# Por ejemplo, para encontrar las notas mayores o iguales a 8.\n",
        "nota[nota>=8]"
      ]
    },
    {
      "cell_type": "code",
      "execution_count": 114,
      "metadata": {},
      "outputs": [
        {
          "data": {
            "text/plain": [
              "8.5"
            ]
          },
          "execution_count": 114,
          "metadata": {},
          "output_type": "execute_result"
        }
      ],
      "source": [
        "# Los atributos at e iat permiten llamar a un valor único del DataFrame. Como antes, at, usa los \n",
        "# índices personalizados e iat utiliza los índices numéricos.\n",
        "nota.at['Lunes','Juan']"
      ]
    },
    {
      "cell_type": "code",
      "execution_count": 115,
      "metadata": {},
      "outputs": [
        {
          "data": {
            "text/plain": [
              "8.0"
            ]
          },
          "execution_count": 115,
          "metadata": {},
          "output_type": "execute_result"
        }
      ],
      "source": [
        "nota.iat[2,3]"
      ]
    },
    {
      "cell_type": "code",
      "execution_count": 116,
      "metadata": {},
      "outputs": [
        {
          "data": {
            "text/html": [
              "<div>\n",
              "<style scoped>\n",
              "    .dataframe tbody tr th:only-of-type {\n",
              "        vertical-align: middle;\n",
              "    }\n",
              "\n",
              "    .dataframe tbody tr th {\n",
              "        vertical-align: top;\n",
              "    }\n",
              "\n",
              "    .dataframe thead th {\n",
              "        text-align: right;\n",
              "    }\n",
              "</style>\n",
              "<table border=\"1\" class=\"dataframe\">\n",
              "  <thead>\n",
              "    <tr style=\"text-align: right;\">\n",
              "      <th></th>\n",
              "      <th>Juan</th>\n",
              "      <th>Pedro</th>\n",
              "      <th>Ana</th>\n",
              "      <th>Luis</th>\n",
              "    </tr>\n",
              "  </thead>\n",
              "  <tbody>\n",
              "    <tr>\n",
              "      <th>Lunes</th>\n",
              "      <td>8.5</td>\n",
              "      <td>7.5</td>\n",
              "      <td>9.5</td>\n",
              "      <td>6.5</td>\n",
              "    </tr>\n",
              "    <tr>\n",
              "      <th>Martes</th>\n",
              "      <td>5.0</td>\n",
              "      <td>8.0</td>\n",
              "      <td>10.0</td>\n",
              "      <td>8.0</td>\n",
              "    </tr>\n",
              "    <tr>\n",
              "      <th>Miércoles</th>\n",
              "      <td>6.0</td>\n",
              "      <td>5.0</td>\n",
              "      <td>8.0</td>\n",
              "      <td>10.0</td>\n",
              "    </tr>\n",
              "    <tr>\n",
              "      <th>Jueves</th>\n",
              "      <td>4.0</td>\n",
              "      <td>4.0</td>\n",
              "      <td>7.0</td>\n",
              "      <td>8.0</td>\n",
              "    </tr>\n",
              "  </tbody>\n",
              "</table>\n",
              "</div>"
            ],
            "text/plain": [
              "           Juan  Pedro   Ana  Luis\n",
              "Lunes       8.5    7.5   9.5   6.5\n",
              "Martes      5.0    8.0  10.0   8.0\n",
              "Miércoles   6.0    5.0   8.0  10.0\n",
              "Jueves      4.0    4.0   7.0   8.0"
            ]
          },
          "execution_count": 116,
          "metadata": {},
          "output_type": "execute_result"
        }
      ],
      "source": [
        "# modificar un valor\n",
        "nota.at['Martes','Ana'] = 10\n",
        "nota.iat[2,3] = 10\n",
        "nota"
      ]
    },
    {
      "cell_type": "markdown",
      "metadata": {},
      "source": [
        "Como en series, el Dataframe tiene el método describe para determinar las estadísticas descriptivas.\n"
      ]
    },
    {
      "cell_type": "code",
      "execution_count": 117,
      "metadata": {},
      "outputs": [
        {
          "data": {
            "text/html": [
              "<div>\n",
              "<style scoped>\n",
              "    .dataframe tbody tr th:only-of-type {\n",
              "        vertical-align: middle;\n",
              "    }\n",
              "\n",
              "    .dataframe tbody tr th {\n",
              "        vertical-align: top;\n",
              "    }\n",
              "\n",
              "    .dataframe thead th {\n",
              "        text-align: right;\n",
              "    }\n",
              "</style>\n",
              "<table border=\"1\" class=\"dataframe\">\n",
              "  <thead>\n",
              "    <tr style=\"text-align: right;\">\n",
              "      <th></th>\n",
              "      <th>Juan</th>\n",
              "      <th>Pedro</th>\n",
              "      <th>Ana</th>\n",
              "      <th>Luis</th>\n",
              "    </tr>\n",
              "  </thead>\n",
              "  <tbody>\n",
              "    <tr>\n",
              "      <th>count</th>\n",
              "      <td>4.000000</td>\n",
              "      <td>4.000000</td>\n",
              "      <td>4.000000</td>\n",
              "      <td>4.000000</td>\n",
              "    </tr>\n",
              "    <tr>\n",
              "      <th>mean</th>\n",
              "      <td>5.875000</td>\n",
              "      <td>6.125000</td>\n",
              "      <td>8.625000</td>\n",
              "      <td>8.125000</td>\n",
              "    </tr>\n",
              "    <tr>\n",
              "      <th>std</th>\n",
              "      <td>1.931105</td>\n",
              "      <td>1.931105</td>\n",
              "      <td>1.376893</td>\n",
              "      <td>1.436141</td>\n",
              "    </tr>\n",
              "    <tr>\n",
              "      <th>min</th>\n",
              "      <td>4.000000</td>\n",
              "      <td>4.000000</td>\n",
              "      <td>7.000000</td>\n",
              "      <td>6.500000</td>\n",
              "    </tr>\n",
              "    <tr>\n",
              "      <th>25%</th>\n",
              "      <td>4.750000</td>\n",
              "      <td>4.750000</td>\n",
              "      <td>7.750000</td>\n",
              "      <td>7.625000</td>\n",
              "    </tr>\n",
              "    <tr>\n",
              "      <th>50%</th>\n",
              "      <td>5.500000</td>\n",
              "      <td>6.250000</td>\n",
              "      <td>8.750000</td>\n",
              "      <td>8.000000</td>\n",
              "    </tr>\n",
              "    <tr>\n",
              "      <th>75%</th>\n",
              "      <td>6.625000</td>\n",
              "      <td>7.625000</td>\n",
              "      <td>9.625000</td>\n",
              "      <td>8.500000</td>\n",
              "    </tr>\n",
              "    <tr>\n",
              "      <th>max</th>\n",
              "      <td>8.500000</td>\n",
              "      <td>8.000000</td>\n",
              "      <td>10.000000</td>\n",
              "      <td>10.000000</td>\n",
              "    </tr>\n",
              "  </tbody>\n",
              "</table>\n",
              "</div>"
            ],
            "text/plain": [
              "           Juan     Pedro        Ana       Luis\n",
              "count  4.000000  4.000000   4.000000   4.000000\n",
              "mean   5.875000  6.125000   8.625000   8.125000\n",
              "std    1.931105  1.931105   1.376893   1.436141\n",
              "min    4.000000  4.000000   7.000000   6.500000\n",
              "25%    4.750000  4.750000   7.750000   7.625000\n",
              "50%    5.500000  6.250000   8.750000   8.000000\n",
              "75%    6.625000  7.625000   9.625000   8.500000\n",
              "max    8.500000  8.000000  10.000000  10.000000"
            ]
          },
          "execution_count": 117,
          "metadata": {},
          "output_type": "execute_result"
        }
      ],
      "source": [
        "nota.describe()"
      ]
    },
    {
      "cell_type": "markdown",
      "metadata": {},
      "source": [
        "Pandas calcula las estadísticas descriptivas utilizando números en formato float empleando 6 decimales\n",
        "de precisión. Para cambiar la cantidad decimales en la presentación llama a la función set_option."
      ]
    },
    {
      "cell_type": "code",
      "execution_count": 118,
      "metadata": {},
      "outputs": [
        {
          "data": {
            "text/html": [
              "<div>\n",
              "<style scoped>\n",
              "    .dataframe tbody tr th:only-of-type {\n",
              "        vertical-align: middle;\n",
              "    }\n",
              "\n",
              "    .dataframe tbody tr th {\n",
              "        vertical-align: top;\n",
              "    }\n",
              "\n",
              "    .dataframe thead th {\n",
              "        text-align: right;\n",
              "    }\n",
              "</style>\n",
              "<table border=\"1\" class=\"dataframe\">\n",
              "  <thead>\n",
              "    <tr style=\"text-align: right;\">\n",
              "      <th></th>\n",
              "      <th>Juan</th>\n",
              "      <th>Pedro</th>\n",
              "      <th>Ana</th>\n",
              "      <th>Luis</th>\n",
              "    </tr>\n",
              "  </thead>\n",
              "  <tbody>\n",
              "    <tr>\n",
              "      <th>count</th>\n",
              "      <td>4.00</td>\n",
              "      <td>4.00</td>\n",
              "      <td>4.00</td>\n",
              "      <td>4.00</td>\n",
              "    </tr>\n",
              "    <tr>\n",
              "      <th>mean</th>\n",
              "      <td>5.88</td>\n",
              "      <td>6.12</td>\n",
              "      <td>8.62</td>\n",
              "      <td>8.12</td>\n",
              "    </tr>\n",
              "    <tr>\n",
              "      <th>std</th>\n",
              "      <td>1.93</td>\n",
              "      <td>1.93</td>\n",
              "      <td>1.38</td>\n",
              "      <td>1.44</td>\n",
              "    </tr>\n",
              "    <tr>\n",
              "      <th>min</th>\n",
              "      <td>4.00</td>\n",
              "      <td>4.00</td>\n",
              "      <td>7.00</td>\n",
              "      <td>6.50</td>\n",
              "    </tr>\n",
              "    <tr>\n",
              "      <th>25%</th>\n",
              "      <td>4.75</td>\n",
              "      <td>4.75</td>\n",
              "      <td>7.75</td>\n",
              "      <td>7.62</td>\n",
              "    </tr>\n",
              "    <tr>\n",
              "      <th>50%</th>\n",
              "      <td>5.50</td>\n",
              "      <td>6.25</td>\n",
              "      <td>8.75</td>\n",
              "      <td>8.00</td>\n",
              "    </tr>\n",
              "    <tr>\n",
              "      <th>75%</th>\n",
              "      <td>6.62</td>\n",
              "      <td>7.62</td>\n",
              "      <td>9.62</td>\n",
              "      <td>8.50</td>\n",
              "    </tr>\n",
              "    <tr>\n",
              "      <th>max</th>\n",
              "      <td>8.50</td>\n",
              "      <td>8.00</td>\n",
              "      <td>10.00</td>\n",
              "      <td>10.00</td>\n",
              "    </tr>\n",
              "  </tbody>\n",
              "</table>\n",
              "</div>"
            ],
            "text/plain": [
              "       Juan  Pedro    Ana   Luis\n",
              "count  4.00   4.00   4.00   4.00\n",
              "mean   5.88   6.12   8.62   8.12\n",
              "std    1.93   1.93   1.38   1.44\n",
              "min    4.00   4.00   7.00   6.50\n",
              "25%    4.75   4.75   7.75   7.62\n",
              "50%    5.50   6.25   8.75   8.00\n",
              "75%    6.62   7.62   9.62   8.50\n",
              "max    8.50   8.00  10.00  10.00"
            ]
          },
          "execution_count": 118,
          "metadata": {},
          "output_type": "execute_result"
        }
      ],
      "source": [
        "pd.set_option('display.precision',2)\n",
        "nota.describe()"
      ]
    },
    {
      "cell_type": "code",
      "execution_count": 119,
      "metadata": {},
      "outputs": [
        {
          "data": {
            "text/plain": [
              "Juan     5.88\n",
              "Pedro    6.12\n",
              "Ana      8.62\n",
              "Luis     8.12\n",
              "dtype: float64"
            ]
          },
          "execution_count": 119,
          "metadata": {},
          "output_type": "execute_result"
        }
      ],
      "source": [
        "# Con esta cantidad de decimales, puedes llamar al arreglo de promedios en el DataFrame\n",
        "nota.mean()"
      ]
    },
    {
      "cell_type": "markdown",
      "metadata": {},
      "source": [
        "En el DataFrame original los individuos estaban en filas y los meses en columnas. Para colocar a los\n",
        "individuos en las columnas, solo es necesario pedir la transpuesta del DataFrame"
      ]
    },
    {
      "cell_type": "code",
      "execution_count": 120,
      "metadata": {},
      "outputs": [
        {
          "data": {
            "text/html": [
              "<div>\n",
              "<style scoped>\n",
              "    .dataframe tbody tr th:only-of-type {\n",
              "        vertical-align: middle;\n",
              "    }\n",
              "\n",
              "    .dataframe tbody tr th {\n",
              "        vertical-align: top;\n",
              "    }\n",
              "\n",
              "    .dataframe thead th {\n",
              "        text-align: right;\n",
              "    }\n",
              "</style>\n",
              "<table border=\"1\" class=\"dataframe\">\n",
              "  <thead>\n",
              "    <tr style=\"text-align: right;\">\n",
              "      <th></th>\n",
              "      <th>Lunes</th>\n",
              "      <th>Martes</th>\n",
              "      <th>Miércoles</th>\n",
              "      <th>Jueves</th>\n",
              "    </tr>\n",
              "  </thead>\n",
              "  <tbody>\n",
              "    <tr>\n",
              "      <th>Juan</th>\n",
              "      <td>8.5</td>\n",
              "      <td>5.0</td>\n",
              "      <td>6.0</td>\n",
              "      <td>4.0</td>\n",
              "    </tr>\n",
              "    <tr>\n",
              "      <th>Pedro</th>\n",
              "      <td>7.5</td>\n",
              "      <td>8.0</td>\n",
              "      <td>5.0</td>\n",
              "      <td>4.0</td>\n",
              "    </tr>\n",
              "    <tr>\n",
              "      <th>Ana</th>\n",
              "      <td>9.5</td>\n",
              "      <td>10.0</td>\n",
              "      <td>8.0</td>\n",
              "      <td>7.0</td>\n",
              "    </tr>\n",
              "    <tr>\n",
              "      <th>Luis</th>\n",
              "      <td>6.5</td>\n",
              "      <td>8.0</td>\n",
              "      <td>10.0</td>\n",
              "      <td>8.0</td>\n",
              "    </tr>\n",
              "  </tbody>\n",
              "</table>\n",
              "</div>"
            ],
            "text/plain": [
              "       Lunes  Martes  Miércoles  Jueves\n",
              "Juan     8.5     5.0        6.0     4.0\n",
              "Pedro    7.5     8.0        5.0     4.0\n",
              "Ana      9.5    10.0        8.0     7.0\n",
              "Luis     6.5     8.0       10.0     8.0"
            ]
          },
          "execution_count": 120,
          "metadata": {},
          "output_type": "execute_result"
        }
      ],
      "source": [
        "nota.T"
      ]
    },
    {
      "cell_type": "code",
      "execution_count": 121,
      "metadata": {},
      "outputs": [
        {
          "data": {
            "text/html": [
              "<div>\n",
              "<style scoped>\n",
              "    .dataframe tbody tr th:only-of-type {\n",
              "        vertical-align: middle;\n",
              "    }\n",
              "\n",
              "    .dataframe tbody tr th {\n",
              "        vertical-align: top;\n",
              "    }\n",
              "\n",
              "    .dataframe thead th {\n",
              "        text-align: right;\n",
              "    }\n",
              "</style>\n",
              "<table border=\"1\" class=\"dataframe\">\n",
              "  <thead>\n",
              "    <tr style=\"text-align: right;\">\n",
              "      <th></th>\n",
              "      <th>Lunes</th>\n",
              "      <th>Martes</th>\n",
              "      <th>Miércoles</th>\n",
              "      <th>Jueves</th>\n",
              "    </tr>\n",
              "  </thead>\n",
              "  <tbody>\n",
              "    <tr>\n",
              "      <th>count</th>\n",
              "      <td>4.00</td>\n",
              "      <td>4.00</td>\n",
              "      <td>4.00</td>\n",
              "      <td>4.00</td>\n",
              "    </tr>\n",
              "    <tr>\n",
              "      <th>mean</th>\n",
              "      <td>8.00</td>\n",
              "      <td>7.75</td>\n",
              "      <td>7.25</td>\n",
              "      <td>5.75</td>\n",
              "    </tr>\n",
              "    <tr>\n",
              "      <th>std</th>\n",
              "      <td>1.29</td>\n",
              "      <td>2.06</td>\n",
              "      <td>2.22</td>\n",
              "      <td>2.06</td>\n",
              "    </tr>\n",
              "    <tr>\n",
              "      <th>min</th>\n",
              "      <td>6.50</td>\n",
              "      <td>5.00</td>\n",
              "      <td>5.00</td>\n",
              "      <td>4.00</td>\n",
              "    </tr>\n",
              "    <tr>\n",
              "      <th>25%</th>\n",
              "      <td>7.25</td>\n",
              "      <td>7.25</td>\n",
              "      <td>5.75</td>\n",
              "      <td>4.00</td>\n",
              "    </tr>\n",
              "    <tr>\n",
              "      <th>50%</th>\n",
              "      <td>8.00</td>\n",
              "      <td>8.00</td>\n",
              "      <td>7.00</td>\n",
              "      <td>5.50</td>\n",
              "    </tr>\n",
              "    <tr>\n",
              "      <th>75%</th>\n",
              "      <td>8.75</td>\n",
              "      <td>8.50</td>\n",
              "      <td>8.50</td>\n",
              "      <td>7.25</td>\n",
              "    </tr>\n",
              "    <tr>\n",
              "      <th>max</th>\n",
              "      <td>9.50</td>\n",
              "      <td>10.00</td>\n",
              "      <td>10.00</td>\n",
              "      <td>8.00</td>\n",
              "    </tr>\n",
              "  </tbody>\n",
              "</table>\n",
              "</div>"
            ],
            "text/plain": [
              "       Lunes  Martes  Miércoles  Jueves\n",
              "count   4.00    4.00       4.00    4.00\n",
              "mean    8.00    7.75       7.25    5.75\n",
              "std     1.29    2.06       2.22    2.06\n",
              "min     6.50    5.00       5.00    4.00\n",
              "25%     7.25    7.25       5.75    4.00\n",
              "50%     8.00    8.00       7.00    5.50\n",
              "75%     8.75    8.50       8.50    7.25\n",
              "max     9.50   10.00      10.00    8.00"
            ]
          },
          "execution_count": 121,
          "metadata": {},
          "output_type": "execute_result"
        }
      ],
      "source": [
        "#El siguiente código muestra los estadísticos por mes con la función describe.\n",
        "nota.T.describe()"
      ]
    },
    {
      "cell_type": "code",
      "execution_count": 122,
      "metadata": {},
      "outputs": [
        {
          "data": {
            "text/plain": [
              "Lunes        8.00\n",
              "Martes       7.75\n",
              "Miércoles    7.25\n",
              "Jueves       5.75\n",
              "dtype: float64"
            ]
          },
          "execution_count": 122,
          "metadata": {},
          "output_type": "execute_result"
        }
      ],
      "source": [
        "# Nota promedio por día\n",
        "nota.T.mean()"
      ]
    },
    {
      "cell_type": "markdown",
      "metadata": {},
      "source": [
        "DataFrame también permite ordenar la información por filas o por columnas. El ordenamiento se\n",
        "realiza a través de los índices. A continuación, se ordena el DataFrame por filas, con los índices en\n",
        "orden descendente."
      ]
    },
    {
      "cell_type": "code",
      "execution_count": 123,
      "metadata": {},
      "outputs": [
        {
          "data": {
            "text/html": [
              "<div>\n",
              "<style scoped>\n",
              "    .dataframe tbody tr th:only-of-type {\n",
              "        vertical-align: middle;\n",
              "    }\n",
              "\n",
              "    .dataframe tbody tr th {\n",
              "        vertical-align: top;\n",
              "    }\n",
              "\n",
              "    .dataframe thead th {\n",
              "        text-align: right;\n",
              "    }\n",
              "</style>\n",
              "<table border=\"1\" class=\"dataframe\">\n",
              "  <thead>\n",
              "    <tr style=\"text-align: right;\">\n",
              "      <th></th>\n",
              "      <th>Juan</th>\n",
              "      <th>Pedro</th>\n",
              "      <th>Ana</th>\n",
              "      <th>Luis</th>\n",
              "    </tr>\n",
              "  </thead>\n",
              "  <tbody>\n",
              "    <tr>\n",
              "      <th>Miércoles</th>\n",
              "      <td>6.0</td>\n",
              "      <td>5.0</td>\n",
              "      <td>8.0</td>\n",
              "      <td>10.0</td>\n",
              "    </tr>\n",
              "    <tr>\n",
              "      <th>Martes</th>\n",
              "      <td>5.0</td>\n",
              "      <td>8.0</td>\n",
              "      <td>10.0</td>\n",
              "      <td>8.0</td>\n",
              "    </tr>\n",
              "    <tr>\n",
              "      <th>Lunes</th>\n",
              "      <td>8.5</td>\n",
              "      <td>7.5</td>\n",
              "      <td>9.5</td>\n",
              "      <td>6.5</td>\n",
              "    </tr>\n",
              "    <tr>\n",
              "      <th>Jueves</th>\n",
              "      <td>4.0</td>\n",
              "      <td>4.0</td>\n",
              "      <td>7.0</td>\n",
              "      <td>8.0</td>\n",
              "    </tr>\n",
              "  </tbody>\n",
              "</table>\n",
              "</div>"
            ],
            "text/plain": [
              "           Juan  Pedro   Ana  Luis\n",
              "Miércoles   6.0    5.0   8.0  10.0\n",
              "Martes      5.0    8.0  10.0   8.0\n",
              "Lunes       8.5    7.5   9.5   6.5\n",
              "Jueves      4.0    4.0   7.0   8.0"
            ]
          },
          "execution_count": 123,
          "metadata": {},
          "output_type": "execute_result"
        }
      ],
      "source": [
        "nota.sort_index(ascending=False)"
      ]
    },
    {
      "cell_type": "code",
      "execution_count": 124,
      "metadata": {},
      "outputs": [
        {
          "data": {
            "text/html": [
              "<div>\n",
              "<style scoped>\n",
              "    .dataframe tbody tr th:only-of-type {\n",
              "        vertical-align: middle;\n",
              "    }\n",
              "\n",
              "    .dataframe tbody tr th {\n",
              "        vertical-align: top;\n",
              "    }\n",
              "\n",
              "    .dataframe thead th {\n",
              "        text-align: right;\n",
              "    }\n",
              "</style>\n",
              "<table border=\"1\" class=\"dataframe\">\n",
              "  <thead>\n",
              "    <tr style=\"text-align: right;\">\n",
              "      <th></th>\n",
              "      <th>Ana</th>\n",
              "      <th>Juan</th>\n",
              "      <th>Luis</th>\n",
              "      <th>Pedro</th>\n",
              "    </tr>\n",
              "  </thead>\n",
              "  <tbody>\n",
              "    <tr>\n",
              "      <th>Lunes</th>\n",
              "      <td>9.5</td>\n",
              "      <td>8.5</td>\n",
              "      <td>6.5</td>\n",
              "      <td>7.5</td>\n",
              "    </tr>\n",
              "    <tr>\n",
              "      <th>Martes</th>\n",
              "      <td>10.0</td>\n",
              "      <td>5.0</td>\n",
              "      <td>8.0</td>\n",
              "      <td>8.0</td>\n",
              "    </tr>\n",
              "    <tr>\n",
              "      <th>Miércoles</th>\n",
              "      <td>8.0</td>\n",
              "      <td>6.0</td>\n",
              "      <td>10.0</td>\n",
              "      <td>5.0</td>\n",
              "    </tr>\n",
              "    <tr>\n",
              "      <th>Jueves</th>\n",
              "      <td>7.0</td>\n",
              "      <td>4.0</td>\n",
              "      <td>8.0</td>\n",
              "      <td>4.0</td>\n",
              "    </tr>\n",
              "  </tbody>\n",
              "</table>\n",
              "</div>"
            ],
            "text/plain": [
              "            Ana  Juan  Luis  Pedro\n",
              "Lunes       9.5   8.5   6.5    7.5\n",
              "Martes     10.0   5.0   8.0    8.0\n",
              "Miércoles   8.0   6.0  10.0    5.0\n",
              "Jueves      7.0   4.0   8.0    4.0"
            ]
          },
          "execution_count": 124,
          "metadata": {},
          "output_type": "execute_result"
        }
      ],
      "source": [
        "nota.sort_index(axis=1)"
      ]
    },
    {
      "cell_type": "markdown",
      "metadata": {},
      "source": [
        "Otra de las bondades del dataframe es ordenar los valores de acuerdo a alguna fila o columna específica.\n",
        "El siguiente código ordena de forma descendente los datos del DataFrame con respecto\n",
        "a los valores del Lunes."
      ]
    },
    {
      "cell_type": "code",
      "execution_count": 125,
      "metadata": {},
      "outputs": [
        {
          "data": {
            "text/html": [
              "<div>\n",
              "<style scoped>\n",
              "    .dataframe tbody tr th:only-of-type {\n",
              "        vertical-align: middle;\n",
              "    }\n",
              "\n",
              "    .dataframe tbody tr th {\n",
              "        vertical-align: top;\n",
              "    }\n",
              "\n",
              "    .dataframe thead th {\n",
              "        text-align: right;\n",
              "    }\n",
              "</style>\n",
              "<table border=\"1\" class=\"dataframe\">\n",
              "  <thead>\n",
              "    <tr style=\"text-align: right;\">\n",
              "      <th></th>\n",
              "      <th>Ana</th>\n",
              "      <th>Juan</th>\n",
              "      <th>Pedro</th>\n",
              "      <th>Luis</th>\n",
              "    </tr>\n",
              "  </thead>\n",
              "  <tbody>\n",
              "    <tr>\n",
              "      <th>Lunes</th>\n",
              "      <td>9.5</td>\n",
              "      <td>8.5</td>\n",
              "      <td>7.5</td>\n",
              "      <td>6.5</td>\n",
              "    </tr>\n",
              "    <tr>\n",
              "      <th>Martes</th>\n",
              "      <td>10.0</td>\n",
              "      <td>5.0</td>\n",
              "      <td>8.0</td>\n",
              "      <td>8.0</td>\n",
              "    </tr>\n",
              "    <tr>\n",
              "      <th>Miércoles</th>\n",
              "      <td>8.0</td>\n",
              "      <td>6.0</td>\n",
              "      <td>5.0</td>\n",
              "      <td>10.0</td>\n",
              "    </tr>\n",
              "    <tr>\n",
              "      <th>Jueves</th>\n",
              "      <td>7.0</td>\n",
              "      <td>4.0</td>\n",
              "      <td>4.0</td>\n",
              "      <td>8.0</td>\n",
              "    </tr>\n",
              "  </tbody>\n",
              "</table>\n",
              "</div>"
            ],
            "text/plain": [
              "            Ana  Juan  Pedro  Luis\n",
              "Lunes       9.5   8.5    7.5   6.5\n",
              "Martes     10.0   5.0    8.0   8.0\n",
              "Miércoles   8.0   6.0    5.0  10.0\n",
              "Jueves      7.0   4.0    4.0   8.0"
            ]
          },
          "execution_count": 125,
          "metadata": {},
          "output_type": "execute_result"
        }
      ],
      "source": [
        "nota.sort_values(by='Lunes',axis=1,ascending=False)\n"
      ]
    },
    {
      "cell_type": "code",
      "execution_count": 126,
      "metadata": {},
      "outputs": [
        {
          "data": {
            "text/html": [
              "<div>\n",
              "<style scoped>\n",
              "    .dataframe tbody tr th:only-of-type {\n",
              "        vertical-align: middle;\n",
              "    }\n",
              "\n",
              "    .dataframe tbody tr th {\n",
              "        vertical-align: top;\n",
              "    }\n",
              "\n",
              "    .dataframe thead th {\n",
              "        text-align: right;\n",
              "    }\n",
              "</style>\n",
              "<table border=\"1\" class=\"dataframe\">\n",
              "  <thead>\n",
              "    <tr style=\"text-align: right;\">\n",
              "      <th></th>\n",
              "      <th>Lunes</th>\n",
              "      <th>Martes</th>\n",
              "      <th>Miércoles</th>\n",
              "      <th>Jueves</th>\n",
              "    </tr>\n",
              "  </thead>\n",
              "  <tbody>\n",
              "    <tr>\n",
              "      <th>Ana</th>\n",
              "      <td>9.5</td>\n",
              "      <td>10.0</td>\n",
              "      <td>8.0</td>\n",
              "      <td>7.0</td>\n",
              "    </tr>\n",
              "    <tr>\n",
              "      <th>Juan</th>\n",
              "      <td>8.5</td>\n",
              "      <td>5.0</td>\n",
              "      <td>6.0</td>\n",
              "      <td>4.0</td>\n",
              "    </tr>\n",
              "    <tr>\n",
              "      <th>Pedro</th>\n",
              "      <td>7.5</td>\n",
              "      <td>8.0</td>\n",
              "      <td>5.0</td>\n",
              "      <td>4.0</td>\n",
              "    </tr>\n",
              "    <tr>\n",
              "      <th>Luis</th>\n",
              "      <td>6.5</td>\n",
              "      <td>8.0</td>\n",
              "      <td>10.0</td>\n",
              "      <td>8.0</td>\n",
              "    </tr>\n",
              "  </tbody>\n",
              "</table>\n",
              "</div>"
            ],
            "text/plain": [
              "       Lunes  Martes  Miércoles  Jueves\n",
              "Ana      9.5    10.0        8.0     7.0\n",
              "Juan     8.5     5.0        6.0     4.0\n",
              "Pedro    7.5     8.0        5.0     4.0\n",
              "Luis     6.5     8.0       10.0     8.0"
            ]
          },
          "execution_count": 126,
          "metadata": {},
          "output_type": "execute_result"
        }
      ],
      "source": [
        "# Con las mismas condiciones, pero utilizando la transpuesta\n",
        "nota.T.sort_values('Lunes',ascending=False)"
      ]
    },
    {
      "cell_type": "code",
      "execution_count": 127,
      "metadata": {},
      "outputs": [
        {
          "data": {
            "text/plain": [
              "Ana      9.5\n",
              "Juan     8.5\n",
              "Pedro    7.5\n",
              "Luis     6.5\n",
              "Name: Lunes, dtype: float64"
            ]
          },
          "execution_count": 127,
          "metadata": {},
          "output_type": "execute_result"
        }
      ],
      "source": [
        "# Finalmente, también es posible llamar a los valores ordenados del Lunes\n",
        "nota.loc['Lunes'].sort_values(ascending=False)"
      ]
    },
    {
      "cell_type": "markdown",
      "metadata": {},
      "source": [
        "# Lectura de fuentes externas<br>\n",
        "Lo más habitual cuando se trabaja en ciencia de datos es tener la información en distintas\n",
        "fuentes auxiliares: bases de datos, ficheros, llamadas remotas a APIs, etc. Pandas nos ofrece\n",
        "una variedad enorme de funciones para cargar datos desde, prácticamente, cualquier origen.<br>\n"
      ]
    },
    {
      "cell_type": "markdown",
      "metadata": {},
      "source": [
        "![fuentesExternas](lecturadefuentesex.png)"
      ]
    },
    {
      "cell_type": "code",
      "execution_count": 128,
      "metadata": {},
      "outputs": [
        {
          "data": {
            "text/plain": [
              "pandas.core.frame.DataFrame"
            ]
          },
          "execution_count": 128,
          "metadata": {},
          "output_type": "execute_result"
        }
      ],
      "source": [
        "# Lectura de archivos CSV con DataFrame de Pandas<br>\n",
        "datosFifa2022 = pd.read_csv('players_fifa23.csv')\n",
        "type(datosFifa2022)"
      ]
    },
    {
      "cell_type": "code",
      "execution_count": 129,
      "metadata": {},
      "outputs": [
        {
          "data": {
            "text/html": [
              "<div>\n",
              "<style scoped>\n",
              "    .dataframe tbody tr th:only-of-type {\n",
              "        vertical-align: middle;\n",
              "    }\n",
              "\n",
              "    .dataframe tbody tr th {\n",
              "        vertical-align: top;\n",
              "    }\n",
              "\n",
              "    .dataframe thead th {\n",
              "        text-align: right;\n",
              "    }\n",
              "</style>\n",
              "<table border=\"1\" class=\"dataframe\">\n",
              "  <thead>\n",
              "    <tr style=\"text-align: right;\">\n",
              "      <th></th>\n",
              "      <th>ID</th>\n",
              "      <th>Name</th>\n",
              "      <th>FullName</th>\n",
              "      <th>Age</th>\n",
              "      <th>Height</th>\n",
              "      <th>Weight</th>\n",
              "      <th>PhotoUrl</th>\n",
              "      <th>Nationality</th>\n",
              "      <th>Overall</th>\n",
              "      <th>Potential</th>\n",
              "      <th>...</th>\n",
              "      <th>LMRating</th>\n",
              "      <th>CMRating</th>\n",
              "      <th>RMRating</th>\n",
              "      <th>LWBRating</th>\n",
              "      <th>CDMRating</th>\n",
              "      <th>RWBRating</th>\n",
              "      <th>LBRating</th>\n",
              "      <th>CBRating</th>\n",
              "      <th>RBRating</th>\n",
              "      <th>GKRating</th>\n",
              "    </tr>\n",
              "  </thead>\n",
              "  <tbody>\n",
              "    <tr>\n",
              "      <th>0</th>\n",
              "      <td>165153</td>\n",
              "      <td>K. Benzema</td>\n",
              "      <td>Karim Benzema</td>\n",
              "      <td>34</td>\n",
              "      <td>185</td>\n",
              "      <td>81</td>\n",
              "      <td>https://cdn.sofifa.net/players/165/153/23_60.png</td>\n",
              "      <td>France</td>\n",
              "      <td>91</td>\n",
              "      <td>91</td>\n",
              "      <td>...</td>\n",
              "      <td>89</td>\n",
              "      <td>84</td>\n",
              "      <td>89</td>\n",
              "      <td>67</td>\n",
              "      <td>67</td>\n",
              "      <td>67</td>\n",
              "      <td>63</td>\n",
              "      <td>58</td>\n",
              "      <td>63</td>\n",
              "      <td>21</td>\n",
              "    </tr>\n",
              "    <tr>\n",
              "      <th>1</th>\n",
              "      <td>158023</td>\n",
              "      <td>L. Messi</td>\n",
              "      <td>Lionel Messi</td>\n",
              "      <td>35</td>\n",
              "      <td>169</td>\n",
              "      <td>67</td>\n",
              "      <td>https://cdn.sofifa.net/players/158/023/23_60.png</td>\n",
              "      <td>Argentina</td>\n",
              "      <td>91</td>\n",
              "      <td>91</td>\n",
              "      <td>...</td>\n",
              "      <td>91</td>\n",
              "      <td>88</td>\n",
              "      <td>91</td>\n",
              "      <td>67</td>\n",
              "      <td>66</td>\n",
              "      <td>67</td>\n",
              "      <td>62</td>\n",
              "      <td>53</td>\n",
              "      <td>62</td>\n",
              "      <td>22</td>\n",
              "    </tr>\n",
              "    <tr>\n",
              "      <th>2</th>\n",
              "      <td>231747</td>\n",
              "      <td>K. Mbappé</td>\n",
              "      <td>Kylian Mbappé</td>\n",
              "      <td>23</td>\n",
              "      <td>182</td>\n",
              "      <td>73</td>\n",
              "      <td>https://cdn.sofifa.net/players/231/747/23_60.png</td>\n",
              "      <td>France</td>\n",
              "      <td>91</td>\n",
              "      <td>95</td>\n",
              "      <td>...</td>\n",
              "      <td>92</td>\n",
              "      <td>84</td>\n",
              "      <td>92</td>\n",
              "      <td>70</td>\n",
              "      <td>66</td>\n",
              "      <td>70</td>\n",
              "      <td>66</td>\n",
              "      <td>57</td>\n",
              "      <td>66</td>\n",
              "      <td>21</td>\n",
              "    </tr>\n",
              "    <tr>\n",
              "      <th>3</th>\n",
              "      <td>192985</td>\n",
              "      <td>K. De Bruyne</td>\n",
              "      <td>Kevin De Bruyne</td>\n",
              "      <td>31</td>\n",
              "      <td>181</td>\n",
              "      <td>70</td>\n",
              "      <td>https://cdn.sofifa.net/players/192/985/23_60.png</td>\n",
              "      <td>Belgium</td>\n",
              "      <td>91</td>\n",
              "      <td>91</td>\n",
              "      <td>...</td>\n",
              "      <td>91</td>\n",
              "      <td>91</td>\n",
              "      <td>91</td>\n",
              "      <td>82</td>\n",
              "      <td>82</td>\n",
              "      <td>82</td>\n",
              "      <td>78</td>\n",
              "      <td>72</td>\n",
              "      <td>78</td>\n",
              "      <td>24</td>\n",
              "    </tr>\n",
              "    <tr>\n",
              "      <th>4</th>\n",
              "      <td>188545</td>\n",
              "      <td>R. Lewandowski</td>\n",
              "      <td>Robert Lewandowski</td>\n",
              "      <td>33</td>\n",
              "      <td>185</td>\n",
              "      <td>81</td>\n",
              "      <td>https://cdn.sofifa.net/players/188/545/23_60.png</td>\n",
              "      <td>Poland</td>\n",
              "      <td>91</td>\n",
              "      <td>91</td>\n",
              "      <td>...</td>\n",
              "      <td>86</td>\n",
              "      <td>83</td>\n",
              "      <td>86</td>\n",
              "      <td>67</td>\n",
              "      <td>69</td>\n",
              "      <td>67</td>\n",
              "      <td>64</td>\n",
              "      <td>63</td>\n",
              "      <td>64</td>\n",
              "      <td>22</td>\n",
              "    </tr>\n",
              "  </tbody>\n",
              "</table>\n",
              "<p>5 rows × 90 columns</p>\n",
              "</div>"
            ],
            "text/plain": [
              "       ID            Name            FullName  Age  Height  Weight  \\\n",
              "0  165153      K. Benzema       Karim Benzema   34     185      81   \n",
              "1  158023        L. Messi        Lionel Messi   35     169      67   \n",
              "2  231747       K. Mbappé       Kylian Mbappé   23     182      73   \n",
              "3  192985    K. De Bruyne     Kevin De Bruyne   31     181      70   \n",
              "4  188545  R. Lewandowski  Robert Lewandowski   33     185      81   \n",
              "\n",
              "                                           PhotoUrl Nationality  Overall  \\\n",
              "0  https://cdn.sofifa.net/players/165/153/23_60.png      France       91   \n",
              "1  https://cdn.sofifa.net/players/158/023/23_60.png   Argentina       91   \n",
              "2  https://cdn.sofifa.net/players/231/747/23_60.png      France       91   \n",
              "3  https://cdn.sofifa.net/players/192/985/23_60.png     Belgium       91   \n",
              "4  https://cdn.sofifa.net/players/188/545/23_60.png      Poland       91   \n",
              "\n",
              "   Potential  ...  LMRating  CMRating  RMRating LWBRating CDMRating RWBRating  \\\n",
              "0         91  ...        89        84        89        67        67        67   \n",
              "1         91  ...        91        88        91        67        66        67   \n",
              "2         95  ...        92        84        92        70        66        70   \n",
              "3         91  ...        91        91        91        82        82        82   \n",
              "4         91  ...        86        83        86        67        69        67   \n",
              "\n",
              "   LBRating  CBRating  RBRating  GKRating  \n",
              "0        63        58        63        21  \n",
              "1        62        53        62        22  \n",
              "2        66        57        66        21  \n",
              "3        78        72        78        24  \n",
              "4        64        63        64        22  \n",
              "\n",
              "[5 rows x 90 columns]"
            ]
          },
          "execution_count": 129,
          "metadata": {},
          "output_type": "execute_result"
        }
      ],
      "source": [
        "pd.set_option('display.precision',1)\n",
        "datosFifa2022.head() #me devuelve las primeras 5 filas"
      ]
    },
    {
      "cell_type": "code",
      "execution_count": 130,
      "metadata": {},
      "outputs": [
        {
          "data": {
            "text/html": [
              "<div>\n",
              "<style scoped>\n",
              "    .dataframe tbody tr th:only-of-type {\n",
              "        vertical-align: middle;\n",
              "    }\n",
              "\n",
              "    .dataframe tbody tr th {\n",
              "        vertical-align: top;\n",
              "    }\n",
              "\n",
              "    .dataframe thead th {\n",
              "        text-align: right;\n",
              "    }\n",
              "</style>\n",
              "<table border=\"1\" class=\"dataframe\">\n",
              "  <thead>\n",
              "    <tr style=\"text-align: right;\">\n",
              "      <th></th>\n",
              "      <th>ID</th>\n",
              "      <th>Name</th>\n",
              "      <th>FullName</th>\n",
              "      <th>Age</th>\n",
              "      <th>Height</th>\n",
              "      <th>Weight</th>\n",
              "      <th>PhotoUrl</th>\n",
              "      <th>Nationality</th>\n",
              "      <th>Overall</th>\n",
              "      <th>Potential</th>\n",
              "      <th>...</th>\n",
              "      <th>LMRating</th>\n",
              "      <th>CMRating</th>\n",
              "      <th>RMRating</th>\n",
              "      <th>LWBRating</th>\n",
              "      <th>CDMRating</th>\n",
              "      <th>RWBRating</th>\n",
              "      <th>LBRating</th>\n",
              "      <th>CBRating</th>\n",
              "      <th>RBRating</th>\n",
              "      <th>GKRating</th>\n",
              "    </tr>\n",
              "  </thead>\n",
              "  <tbody>\n",
              "    <tr>\n",
              "      <th>18355</th>\n",
              "      <td>261899</td>\n",
              "      <td>Chen Keqiang</td>\n",
              "      <td>Keqiang Chen</td>\n",
              "      <td>22</td>\n",
              "      <td>183</td>\n",
              "      <td>70</td>\n",
              "      <td>https://cdn.sofifa.net/players/261/899/23_60.png</td>\n",
              "      <td>China PR</td>\n",
              "      <td>48</td>\n",
              "      <td>54</td>\n",
              "      <td>...</td>\n",
              "      <td>49</td>\n",
              "      <td>50</td>\n",
              "      <td>49</td>\n",
              "      <td>51</td>\n",
              "      <td>52</td>\n",
              "      <td>51</td>\n",
              "      <td>52</td>\n",
              "      <td>52</td>\n",
              "      <td>52</td>\n",
              "      <td>19</td>\n",
              "    </tr>\n",
              "    <tr>\n",
              "      <th>18356</th>\n",
              "      <td>271152</td>\n",
              "      <td>M. Furaih</td>\n",
              "      <td>Mohammed Furaih</td>\n",
              "      <td>22</td>\n",
              "      <td>162</td>\n",
              "      <td>60</td>\n",
              "      <td>https://cdn.sofifa.net/players/271/152/23_60.png</td>\n",
              "      <td>Saudi Arabia</td>\n",
              "      <td>48</td>\n",
              "      <td>57</td>\n",
              "      <td>...</td>\n",
              "      <td>50</td>\n",
              "      <td>45</td>\n",
              "      <td>50</td>\n",
              "      <td>39</td>\n",
              "      <td>36</td>\n",
              "      <td>39</td>\n",
              "      <td>37</td>\n",
              "      <td>29</td>\n",
              "      <td>37</td>\n",
              "      <td>17</td>\n",
              "    </tr>\n",
              "    <tr>\n",
              "      <th>18357</th>\n",
              "      <td>269578</td>\n",
              "      <td>Ning Hao</td>\n",
              "      <td>Hao Ning</td>\n",
              "      <td>37</td>\n",
              "      <td>175</td>\n",
              "      <td>70</td>\n",
              "      <td>https://cdn.sofifa.net/players/269/578/23_60.png</td>\n",
              "      <td>China PR</td>\n",
              "      <td>48</td>\n",
              "      <td>48</td>\n",
              "      <td>...</td>\n",
              "      <td>48</td>\n",
              "      <td>48</td>\n",
              "      <td>48</td>\n",
              "      <td>47</td>\n",
              "      <td>47</td>\n",
              "      <td>47</td>\n",
              "      <td>46</td>\n",
              "      <td>43</td>\n",
              "      <td>46</td>\n",
              "      <td>18</td>\n",
              "    </tr>\n",
              "    <tr>\n",
              "      <th>18358</th>\n",
              "      <td>269577</td>\n",
              "      <td>Feng Zeyuan</td>\n",
              "      <td>Zeyuan Feng</td>\n",
              "      <td>20</td>\n",
              "      <td>181</td>\n",
              "      <td>70</td>\n",
              "      <td>https://cdn.sofifa.net/players/269/577/23_60.png</td>\n",
              "      <td>China PR</td>\n",
              "      <td>48</td>\n",
              "      <td>58</td>\n",
              "      <td>...</td>\n",
              "      <td>47</td>\n",
              "      <td>42</td>\n",
              "      <td>47</td>\n",
              "      <td>36</td>\n",
              "      <td>33</td>\n",
              "      <td>36</td>\n",
              "      <td>35</td>\n",
              "      <td>31</td>\n",
              "      <td>35</td>\n",
              "      <td>15</td>\n",
              "    </tr>\n",
              "    <tr>\n",
              "      <th>18359</th>\n",
              "      <td>259649</td>\n",
              "      <td>E. Singh</td>\n",
              "      <td>Engson Singh</td>\n",
              "      <td>19</td>\n",
              "      <td>169</td>\n",
              "      <td>62</td>\n",
              "      <td>https://cdn.sofifa.net/players/259/649/23_60.png</td>\n",
              "      <td>India</td>\n",
              "      <td>48</td>\n",
              "      <td>63</td>\n",
              "      <td>...</td>\n",
              "      <td>49</td>\n",
              "      <td>49</td>\n",
              "      <td>49</td>\n",
              "      <td>44</td>\n",
              "      <td>43</td>\n",
              "      <td>44</td>\n",
              "      <td>43</td>\n",
              "      <td>39</td>\n",
              "      <td>43</td>\n",
              "      <td>14</td>\n",
              "    </tr>\n",
              "  </tbody>\n",
              "</table>\n",
              "<p>5 rows × 90 columns</p>\n",
              "</div>"
            ],
            "text/plain": [
              "           ID          Name         FullName  Age  Height  Weight  \\\n",
              "18355  261899  Chen Keqiang     Keqiang Chen   22     183      70   \n",
              "18356  271152     M. Furaih  Mohammed Furaih   22     162      60   \n",
              "18357  269578      Ning Hao         Hao Ning   37     175      70   \n",
              "18358  269577   Feng Zeyuan      Zeyuan Feng   20     181      70   \n",
              "18359  259649      E. Singh     Engson Singh   19     169      62   \n",
              "\n",
              "                                               PhotoUrl   Nationality  \\\n",
              "18355  https://cdn.sofifa.net/players/261/899/23_60.png      China PR   \n",
              "18356  https://cdn.sofifa.net/players/271/152/23_60.png  Saudi Arabia   \n",
              "18357  https://cdn.sofifa.net/players/269/578/23_60.png      China PR   \n",
              "18358  https://cdn.sofifa.net/players/269/577/23_60.png      China PR   \n",
              "18359  https://cdn.sofifa.net/players/259/649/23_60.png         India   \n",
              "\n",
              "       Overall  Potential  ...  LMRating  CMRating  RMRating LWBRating  \\\n",
              "18355       48         54  ...        49        50        49        51   \n",
              "18356       48         57  ...        50        45        50        39   \n",
              "18357       48         48  ...        48        48        48        47   \n",
              "18358       48         58  ...        47        42        47        36   \n",
              "18359       48         63  ...        49        49        49        44   \n",
              "\n",
              "      CDMRating RWBRating  LBRating  CBRating  RBRating  GKRating  \n",
              "18355        52        51        52        52        52        19  \n",
              "18356        36        39        37        29        37        17  \n",
              "18357        47        47        46        43        46        18  \n",
              "18358        33        36        35        31        35        15  \n",
              "18359        43        44        43        39        43        14  \n",
              "\n",
              "[5 rows x 90 columns]"
            ]
          },
          "execution_count": 130,
          "metadata": {},
          "output_type": "execute_result"
        }
      ],
      "source": [
        "datosFifa2022.tail() #devuelve las últimas 5 columnas"
      ]
    },
    {
      "cell_type": "code",
      "execution_count": 131,
      "metadata": {},
      "outputs": [
        {
          "data": {
            "text/plain": [
              "(18360, 90)"
            ]
          },
          "execution_count": 131,
          "metadata": {},
          "output_type": "execute_result"
        }
      ],
      "source": [
        "# Para conocer el tamaño del DataFrame\n",
        "datosFifa2022.shape"
      ]
    },
    {
      "cell_type": "code",
      "execution_count": 132,
      "metadata": {},
      "outputs": [
        {
          "data": {
            "text/plain": [
              "Index(['ID', 'Name', 'FullName', 'Age', 'Height', 'Weight', 'PhotoUrl',\n",
              "       'Nationality', 'Overall', 'Potential', 'Growth', 'TotalStats',\n",
              "       'BaseStats', 'Positions', 'BestPosition', 'Club', 'ValueEUR', 'WageEUR',\n",
              "       'ReleaseClause', 'ClubPosition', 'ContractUntil', 'ClubNumber',\n",
              "       'ClubJoined', 'OnLoad', 'NationalTeam', 'NationalPosition',\n",
              "       'NationalNumber', 'PreferredFoot', 'IntReputation', 'WeakFoot',\n",
              "       'SkillMoves', 'AttackingWorkRate', 'DefensiveWorkRate', 'PaceTotal',\n",
              "       'ShootingTotal', 'PassingTotal', 'DribblingTotal', 'DefendingTotal',\n",
              "       'PhysicalityTotal', 'Crossing', 'Finishing', 'HeadingAccuracy',\n",
              "       'ShortPassing', 'Volleys', 'Dribbling', 'Curve', 'FKAccuracy',\n",
              "       'LongPassing', 'BallControl', 'Acceleration', 'SprintSpeed', 'Agility',\n",
              "       'Reactions', 'Balance', 'ShotPower', 'Jumping', 'Stamina', 'Strength',\n",
              "       'LongShots', 'Aggression', 'Interceptions', 'Positioning', 'Vision',\n",
              "       'Penalties', 'Composure', 'Marking', 'StandingTackle', 'SlidingTackle',\n",
              "       'GKDiving', 'GKHandling', 'GKKicking', 'GKPositioning', 'GKReflexes',\n",
              "       'STRating', 'LWRating', 'LFRating', 'CFRating', 'RFRating', 'RWRating',\n",
              "       'CAMRating', 'LMRating', 'CMRating', 'RMRating', 'LWBRating',\n",
              "       'CDMRating', 'RWBRating', 'LBRating', 'CBRating', 'RBRating',\n",
              "       'GKRating'],\n",
              "      dtype='object')"
            ]
          },
          "execution_count": 132,
          "metadata": {},
          "output_type": "execute_result"
        }
      ],
      "source": [
        "\n",
        "# Para conocer el tipo de datos de cada columna dtypes y el nombre columns\n",
        "datosFifa2022.columns"
      ]
    },
    {
      "cell_type": "code",
      "execution_count": 133,
      "metadata": {},
      "outputs": [
        {
          "data": {
            "text/html": [
              "<div>\n",
              "<style scoped>\n",
              "    .dataframe tbody tr th:only-of-type {\n",
              "        vertical-align: middle;\n",
              "    }\n",
              "\n",
              "    .dataframe tbody tr th {\n",
              "        vertical-align: top;\n",
              "    }\n",
              "\n",
              "    .dataframe thead th {\n",
              "        text-align: right;\n",
              "    }\n",
              "</style>\n",
              "<table border=\"1\" class=\"dataframe\">\n",
              "  <thead>\n",
              "    <tr style=\"text-align: right;\">\n",
              "      <th></th>\n",
              "      <th>Id</th>\n",
              "      <th>Nombre</th>\n",
              "      <th>NombreCompleto</th>\n",
              "      <th>Nacionalidad</th>\n",
              "      <th>Estatura</th>\n",
              "      <th>Peso</th>\n",
              "      <th>Edad</th>\n",
              "    </tr>\n",
              "  </thead>\n",
              "  <tbody>\n",
              "    <tr>\n",
              "      <th>0</th>\n",
              "      <td>165153</td>\n",
              "      <td>K. Benzema</td>\n",
              "      <td>Karim Benzema</td>\n",
              "      <td>France</td>\n",
              "      <td>185</td>\n",
              "      <td>81</td>\n",
              "      <td>34</td>\n",
              "    </tr>\n",
              "    <tr>\n",
              "      <th>1</th>\n",
              "      <td>158023</td>\n",
              "      <td>L. Messi</td>\n",
              "      <td>Lionel Messi</td>\n",
              "      <td>Argentina</td>\n",
              "      <td>169</td>\n",
              "      <td>67</td>\n",
              "      <td>35</td>\n",
              "    </tr>\n",
              "    <tr>\n",
              "      <th>2</th>\n",
              "      <td>231747</td>\n",
              "      <td>K. Mbappé</td>\n",
              "      <td>Kylian Mbappé</td>\n",
              "      <td>France</td>\n",
              "      <td>182</td>\n",
              "      <td>73</td>\n",
              "      <td>23</td>\n",
              "    </tr>\n",
              "    <tr>\n",
              "      <th>3</th>\n",
              "      <td>192985</td>\n",
              "      <td>K. De Bruyne</td>\n",
              "      <td>Kevin De Bruyne</td>\n",
              "      <td>Belgium</td>\n",
              "      <td>181</td>\n",
              "      <td>70</td>\n",
              "      <td>31</td>\n",
              "    </tr>\n",
              "    <tr>\n",
              "      <th>4</th>\n",
              "      <td>188545</td>\n",
              "      <td>R. Lewandowski</td>\n",
              "      <td>Robert Lewandowski</td>\n",
              "      <td>Poland</td>\n",
              "      <td>185</td>\n",
              "      <td>81</td>\n",
              "      <td>33</td>\n",
              "    </tr>\n",
              "  </tbody>\n",
              "</table>\n",
              "</div>"
            ],
            "text/plain": [
              "       Id          Nombre      NombreCompleto Nacionalidad  Estatura  Peso  \\\n",
              "0  165153      K. Benzema       Karim Benzema       France       185    81   \n",
              "1  158023        L. Messi        Lionel Messi    Argentina       169    67   \n",
              "2  231747       K. Mbappé       Kylian Mbappé       France       182    73   \n",
              "3  192985    K. De Bruyne     Kevin De Bruyne      Belgium       181    70   \n",
              "4  188545  R. Lewandowski  Robert Lewandowski       Poland       185    81   \n",
              "\n",
              "   Edad  \n",
              "0    34  \n",
              "1    35  \n",
              "2    23  \n",
              "3    31  \n",
              "4    33  "
            ]
          },
          "execution_count": 133,
          "metadata": {},
          "output_type": "execute_result"
        }
      ],
      "source": [
        "# Crear un nuevo df desde otro df\n",
        "dfFifa2022= pd.DataFrame()\n",
        "dfFifa2022['Id'] = datosFifa2022['ID']\n",
        "dfFifa2022['Nombre'] = datosFifa2022['Name']\n",
        "dfFifa2022['NombreCompleto'] = datosFifa2022['FullName']\n",
        "dfFifa2022['Nacionalidad'] = datosFifa2022['Nationality']\n",
        "dfFifa2022['Estatura']= datosFifa2022['Height']\n",
        "dfFifa2022['Peso']= datosFifa2022['Weight']\n",
        "dfFifa2022['Edad']= datosFifa2022['Age']\n",
        "dfFifa2022.head()\n",
        "\n",
        "# no modificamos la DB y no cargamos la memoria de datos innecesarios"
      ]
    },
    {
      "cell_type": "code",
      "execution_count": 134,
      "metadata": {},
      "outputs": [
        {
          "data": {
            "text/html": [
              "<div>\n",
              "<style scoped>\n",
              "    .dataframe tbody tr th:only-of-type {\n",
              "        vertical-align: middle;\n",
              "    }\n",
              "\n",
              "    .dataframe tbody tr th {\n",
              "        vertical-align: top;\n",
              "    }\n",
              "\n",
              "    .dataframe thead th {\n",
              "        text-align: right;\n",
              "    }\n",
              "</style>\n",
              "<table border=\"1\" class=\"dataframe\">\n",
              "  <thead>\n",
              "    <tr style=\"text-align: right;\">\n",
              "      <th></th>\n",
              "      <th>ID</th>\n",
              "      <th>Nombre</th>\n",
              "      <th>ApellidoNombre</th>\n",
              "      <th>Nacionalidad</th>\n",
              "      <th>Altura</th>\n",
              "      <th>Peso</th>\n",
              "      <th>Edad</th>\n",
              "    </tr>\n",
              "  </thead>\n",
              "  <tbody>\n",
              "    <tr>\n",
              "      <th>0</th>\n",
              "      <td>165153</td>\n",
              "      <td>K. Benzema</td>\n",
              "      <td>Karim Benzema</td>\n",
              "      <td>France</td>\n",
              "      <td>185</td>\n",
              "      <td>81</td>\n",
              "      <td>34</td>\n",
              "    </tr>\n",
              "    <tr>\n",
              "      <th>1</th>\n",
              "      <td>158023</td>\n",
              "      <td>L. Messi</td>\n",
              "      <td>Lionel Messi</td>\n",
              "      <td>Argentina</td>\n",
              "      <td>169</td>\n",
              "      <td>67</td>\n",
              "      <td>35</td>\n",
              "    </tr>\n",
              "    <tr>\n",
              "      <th>2</th>\n",
              "      <td>231747</td>\n",
              "      <td>K. Mbappé</td>\n",
              "      <td>Kylian Mbappé</td>\n",
              "      <td>France</td>\n",
              "      <td>182</td>\n",
              "      <td>73</td>\n",
              "      <td>23</td>\n",
              "    </tr>\n",
              "    <tr>\n",
              "      <th>3</th>\n",
              "      <td>192985</td>\n",
              "      <td>K. De Bruyne</td>\n",
              "      <td>Kevin De Bruyne</td>\n",
              "      <td>Belgium</td>\n",
              "      <td>181</td>\n",
              "      <td>70</td>\n",
              "      <td>31</td>\n",
              "    </tr>\n",
              "    <tr>\n",
              "      <th>4</th>\n",
              "      <td>188545</td>\n",
              "      <td>R. Lewandowski</td>\n",
              "      <td>Robert Lewandowski</td>\n",
              "      <td>Poland</td>\n",
              "      <td>185</td>\n",
              "      <td>81</td>\n",
              "      <td>33</td>\n",
              "    </tr>\n",
              "  </tbody>\n",
              "</table>\n",
              "</div>"
            ],
            "text/plain": [
              "       ID          Nombre      ApellidoNombre Nacionalidad  Altura  Peso  Edad\n",
              "0  165153      K. Benzema       Karim Benzema       France     185    81    34\n",
              "1  158023        L. Messi        Lionel Messi    Argentina     169    67    35\n",
              "2  231747       K. Mbappé       Kylian Mbappé       France     182    73    23\n",
              "3  192985    K. De Bruyne     Kevin De Bruyne      Belgium     181    70    31\n",
              "4  188545  R. Lewandowski  Robert Lewandowski       Poland     185    81    33"
            ]
          },
          "execution_count": 134,
          "metadata": {},
          "output_type": "execute_result"
        }
      ],
      "source": [
        "# modificar los nombres de las columnas\n",
        "dfFifa2022.columns = ['ID','Nombre','ApellidoNombre','Nacionalidad','Altura','Peso','Edad'] \n",
        "dfFifa2022.head()"
      ]
    },
    {
      "cell_type": "markdown",
      "metadata": {},
      "source": [
        "Insertando y borrando filas<br>\n",
        "Podemos insertar datos en un DataFrame como filas o como columnas."
      ]
    },
    {
      "cell_type": "code",
      "execution_count": 135,
      "metadata": {},
      "outputs": [
        {
          "name": "stderr",
          "output_type": "stream",
          "text": [
            "C:\\Users\\biane\\AppData\\Local\\Temp\\ipykernel_18448\\2631961888.py:3: FutureWarning: The frame.append method is deprecated and will be removed from pandas in a future version. Use pandas.concat instead.\n",
            "  dfFifa2022 = dfFifa2022.append(pepe,ignore_index=True)\n"
          ]
        },
        {
          "data": {
            "text/html": [
              "<div>\n",
              "<style scoped>\n",
              "    .dataframe tbody tr th:only-of-type {\n",
              "        vertical-align: middle;\n",
              "    }\n",
              "\n",
              "    .dataframe tbody tr th {\n",
              "        vertical-align: top;\n",
              "    }\n",
              "\n",
              "    .dataframe thead th {\n",
              "        text-align: right;\n",
              "    }\n",
              "</style>\n",
              "<table border=\"1\" class=\"dataframe\">\n",
              "  <thead>\n",
              "    <tr style=\"text-align: right;\">\n",
              "      <th></th>\n",
              "      <th>ID</th>\n",
              "      <th>Nombre</th>\n",
              "      <th>ApellidoNombre</th>\n",
              "      <th>Nacionalidad</th>\n",
              "      <th>Altura</th>\n",
              "      <th>Peso</th>\n",
              "      <th>Edad</th>\n",
              "    </tr>\n",
              "  </thead>\n",
              "  <tbody>\n",
              "    <tr>\n",
              "      <th>18356</th>\n",
              "      <td>271152</td>\n",
              "      <td>M. Furaih</td>\n",
              "      <td>Mohammed Furaih</td>\n",
              "      <td>Saudi Arabia</td>\n",
              "      <td>162</td>\n",
              "      <td>60</td>\n",
              "      <td>22</td>\n",
              "    </tr>\n",
              "    <tr>\n",
              "      <th>18357</th>\n",
              "      <td>269578</td>\n",
              "      <td>Ning Hao</td>\n",
              "      <td>Hao Ning</td>\n",
              "      <td>China PR</td>\n",
              "      <td>175</td>\n",
              "      <td>70</td>\n",
              "      <td>37</td>\n",
              "    </tr>\n",
              "    <tr>\n",
              "      <th>18358</th>\n",
              "      <td>269577</td>\n",
              "      <td>Feng Zeyuan</td>\n",
              "      <td>Zeyuan Feng</td>\n",
              "      <td>China PR</td>\n",
              "      <td>181</td>\n",
              "      <td>70</td>\n",
              "      <td>20</td>\n",
              "    </tr>\n",
              "    <tr>\n",
              "      <th>18359</th>\n",
              "      <td>259649</td>\n",
              "      <td>E. Singh</td>\n",
              "      <td>Engson Singh</td>\n",
              "      <td>India</td>\n",
              "      <td>169</td>\n",
              "      <td>62</td>\n",
              "      <td>19</td>\n",
              "    </tr>\n",
              "    <tr>\n",
              "      <th>18360</th>\n",
              "      <td>300000</td>\n",
              "      <td>Juan Perez</td>\n",
              "      <td>Juan Perez</td>\n",
              "      <td>Argentina</td>\n",
              "      <td>200</td>\n",
              "      <td>120</td>\n",
              "      <td>30</td>\n",
              "    </tr>\n",
              "  </tbody>\n",
              "</table>\n",
              "</div>"
            ],
            "text/plain": [
              "           ID       Nombre   ApellidoNombre  Nacionalidad  Altura  Peso  Edad\n",
              "18356  271152    M. Furaih  Mohammed Furaih  Saudi Arabia     162    60    22\n",
              "18357  269578     Ning Hao         Hao Ning      China PR     175    70    37\n",
              "18358  269577  Feng Zeyuan      Zeyuan Feng      China PR     181    70    20\n",
              "18359  259649     E. Singh     Engson Singh         India     169    62    19\n",
              "18360  300000   Juan Perez       Juan Perez     Argentina     200   120    30"
            ]
          },
          "execution_count": 135,
          "metadata": {},
          "output_type": "execute_result"
        }
      ],
      "source": [
        "pepe = pd.Series(data=[300000,'Juan Perez','Juan Perez','Argentina',200,120,30],index=['ID','Nombre','ApellidoNombre','Nacionalidad','Altura','Peso','Edad'])\n",
        "pepe\n",
        "dfFifa2022 = dfFifa2022.append(pepe,ignore_index=True)\n",
        "dfFifa2022.tail()"
      ]
    },
    {
      "cell_type": "code",
      "execution_count": 136,
      "metadata": {},
      "outputs": [
        {
          "data": {
            "text/plain": [
              "RangeIndex(start=0, stop=18361, step=1)"
            ]
          },
          "execution_count": 136,
          "metadata": {},
          "output_type": "execute_result"
        }
      ],
      "source": [
        "dfFifa2022.index"
      ]
    },
    {
      "cell_type": "code",
      "execution_count": 137,
      "metadata": {},
      "outputs": [
        {
          "data": {
            "text/html": [
              "<div>\n",
              "<style scoped>\n",
              "    .dataframe tbody tr th:only-of-type {\n",
              "        vertical-align: middle;\n",
              "    }\n",
              "\n",
              "    .dataframe tbody tr th {\n",
              "        vertical-align: top;\n",
              "    }\n",
              "\n",
              "    .dataframe thead th {\n",
              "        text-align: right;\n",
              "    }\n",
              "</style>\n",
              "<table border=\"1\" class=\"dataframe\">\n",
              "  <thead>\n",
              "    <tr style=\"text-align: right;\">\n",
              "      <th></th>\n",
              "      <th>ID</th>\n",
              "      <th>Nombre</th>\n",
              "      <th>ApellidoNombre</th>\n",
              "      <th>Nacionalidad</th>\n",
              "      <th>Altura</th>\n",
              "      <th>Peso</th>\n",
              "      <th>Edad</th>\n",
              "    </tr>\n",
              "  </thead>\n",
              "  <tbody>\n",
              "    <tr>\n",
              "      <th>18355</th>\n",
              "      <td>261899</td>\n",
              "      <td>Chen Keqiang</td>\n",
              "      <td>Keqiang Chen</td>\n",
              "      <td>China PR</td>\n",
              "      <td>183</td>\n",
              "      <td>70</td>\n",
              "      <td>22</td>\n",
              "    </tr>\n",
              "    <tr>\n",
              "      <th>18356</th>\n",
              "      <td>271152</td>\n",
              "      <td>M. Furaih</td>\n",
              "      <td>Mohammed Furaih</td>\n",
              "      <td>Saudi Arabia</td>\n",
              "      <td>162</td>\n",
              "      <td>60</td>\n",
              "      <td>22</td>\n",
              "    </tr>\n",
              "    <tr>\n",
              "      <th>18357</th>\n",
              "      <td>269578</td>\n",
              "      <td>Ning Hao</td>\n",
              "      <td>Hao Ning</td>\n",
              "      <td>China PR</td>\n",
              "      <td>175</td>\n",
              "      <td>70</td>\n",
              "      <td>37</td>\n",
              "    </tr>\n",
              "    <tr>\n",
              "      <th>18358</th>\n",
              "      <td>269577</td>\n",
              "      <td>Feng Zeyuan</td>\n",
              "      <td>Zeyuan Feng</td>\n",
              "      <td>China PR</td>\n",
              "      <td>181</td>\n",
              "      <td>70</td>\n",
              "      <td>20</td>\n",
              "    </tr>\n",
              "    <tr>\n",
              "      <th>18359</th>\n",
              "      <td>259649</td>\n",
              "      <td>E. Singh</td>\n",
              "      <td>Engson Singh</td>\n",
              "      <td>India</td>\n",
              "      <td>169</td>\n",
              "      <td>62</td>\n",
              "      <td>19</td>\n",
              "    </tr>\n",
              "  </tbody>\n",
              "</table>\n",
              "</div>"
            ],
            "text/plain": [
              "           ID        Nombre   ApellidoNombre  Nacionalidad  Altura  Peso  Edad\n",
              "18355  261899  Chen Keqiang     Keqiang Chen      China PR     183    70    22\n",
              "18356  271152     M. Furaih  Mohammed Furaih  Saudi Arabia     162    60    22\n",
              "18357  269578      Ning Hao         Hao Ning      China PR     175    70    37\n",
              "18358  269577   Feng Zeyuan      Zeyuan Feng      China PR     181    70    20\n",
              "18359  259649      E. Singh     Engson Singh         India     169    62    19"
            ]
          },
          "execution_count": 137,
          "metadata": {},
          "output_type": "execute_result"
        }
      ],
      "source": [
        "# Eliminar fila\n",
        "dfFifa2022 = dfFifa2022.drop(labels =[18360])\n",
        "dfFifa2022.tail()"
      ]
    },
    {
      "cell_type": "markdown",
      "metadata": {},
      "source": [
        "El parámetro inplace<br>\n",
        "Muchas de las funciones de pandas se dicen «no destructivas» en el sentido de que no\n",
        "modifican el conjunto de datos original, sino que devuelven uno nuevo con las modificaciones\n",
        "realizadas. Pero este comportamiento se puede modificar utilizando el parámetro inplace."
      ]
    },
    {
      "cell_type": "markdown",
      "metadata": {},
      "source": [
        "![imagen](inplace.png)"
      ]
    },
    {
      "cell_type": "code",
      "execution_count": 138,
      "metadata": {},
      "outputs": [
        {
          "data": {
            "text/html": [
              "<div>\n",
              "<style scoped>\n",
              "    .dataframe tbody tr th:only-of-type {\n",
              "        vertical-align: middle;\n",
              "    }\n",
              "\n",
              "    .dataframe tbody tr th {\n",
              "        vertical-align: top;\n",
              "    }\n",
              "\n",
              "    .dataframe thead th {\n",
              "        text-align: right;\n",
              "    }\n",
              "</style>\n",
              "<table border=\"1\" class=\"dataframe\">\n",
              "  <thead>\n",
              "    <tr style=\"text-align: right;\">\n",
              "      <th></th>\n",
              "      <th>ID</th>\n",
              "      <th>Altura</th>\n",
              "      <th>Peso</th>\n",
              "      <th>Edad</th>\n",
              "    </tr>\n",
              "  </thead>\n",
              "  <tbody>\n",
              "    <tr>\n",
              "      <th>count</th>\n",
              "      <td>18360.0</td>\n",
              "      <td>18360.0</td>\n",
              "      <td>18360.0</td>\n",
              "      <td>18360.0</td>\n",
              "    </tr>\n",
              "    <tr>\n",
              "      <th>mean</th>\n",
              "      <td>236693.2</td>\n",
              "      <td>181.5</td>\n",
              "      <td>75.1</td>\n",
              "      <td>25.3</td>\n",
              "    </tr>\n",
              "    <tr>\n",
              "      <th>std</th>\n",
              "      <td>26493.5</td>\n",
              "      <td>6.9</td>\n",
              "      <td>7.0</td>\n",
              "      <td>4.7</td>\n",
              "    </tr>\n",
              "    <tr>\n",
              "      <th>min</th>\n",
              "      <td>1179.0</td>\n",
              "      <td>155.0</td>\n",
              "      <td>49.0</td>\n",
              "      <td>16.0</td>\n",
              "    </tr>\n",
              "    <tr>\n",
              "      <th>25%</th>\n",
              "      <td>221466.2</td>\n",
              "      <td>177.0</td>\n",
              "      <td>70.0</td>\n",
              "      <td>22.0</td>\n",
              "    </tr>\n",
              "    <tr>\n",
              "      <th>50%</th>\n",
              "      <td>240997.0</td>\n",
              "      <td>182.0</td>\n",
              "      <td>75.0</td>\n",
              "      <td>25.0</td>\n",
              "    </tr>\n",
              "    <tr>\n",
              "      <th>75%</th>\n",
              "      <td>258527.2</td>\n",
              "      <td>186.0</td>\n",
              "      <td>80.0</td>\n",
              "      <td>29.0</td>\n",
              "    </tr>\n",
              "    <tr>\n",
              "      <th>max</th>\n",
              "      <td>271341.0</td>\n",
              "      <td>206.0</td>\n",
              "      <td>105.0</td>\n",
              "      <td>44.0</td>\n",
              "    </tr>\n",
              "  </tbody>\n",
              "</table>\n",
              "</div>"
            ],
            "text/plain": [
              "             ID   Altura     Peso     Edad\n",
              "count   18360.0  18360.0  18360.0  18360.0\n",
              "mean   236693.2    181.5     75.1     25.3\n",
              "std     26493.5      6.9      7.0      4.7\n",
              "min      1179.0    155.0     49.0     16.0\n",
              "25%    221466.2    177.0     70.0     22.0\n",
              "50%    240997.0    182.0     75.0     25.0\n",
              "75%    258527.2    186.0     80.0     29.0\n",
              "max    271341.0    206.0    105.0     44.0"
            ]
          },
          "execution_count": 138,
          "metadata": {},
          "output_type": "execute_result"
        }
      ],
      "source": [
        "# Y con la función describe de Pandas, es posible obtener un resumen de las estadísticas descriptivas del conjunto de datos.\n",
        "dfFifa2022.describe()"
      ]
    },
    {
      "cell_type": "code",
      "execution_count": 139,
      "metadata": {},
      "outputs": [
        {
          "data": {
            "text/plain": [
              "count     18360\n",
              "unique        2\n",
              "top       False\n",
              "freq      17430\n",
              "Name: Nacionalidad, dtype: object"
            ]
          },
          "execution_count": 139,
          "metadata": {},
          "output_type": "execute_result"
        }
      ],
      "source": [
        "# Estadisticas de la nacionalidad de los jugadores\n",
        "(dfFifa2022.Nacionalidad == 'Argentina').describe()"
      ]
    },
    {
      "cell_type": "markdown",
      "metadata": {},
      "source": [
        "Donde <br>\n",
        "• count, es el total de elementos en el conjunto de datos<br>\n",
        "• unique, es el número de valores únicos (hay 2, F y M)<br>\n",
        "• top, es el valor más frecuente que ocurre en los resultados<br>\n",
        "• freq, es el número de ocurrencias del valor top.<br>"
      ]
    },
    {
      "cell_type": "markdown",
      "metadata": {},
      "source": [
        "Selección condicional<br>\n",
        "Es posible aplicar ciertas condiciones en la selección de los datos para obtener el subconjunto\n",
        "que estemos buscando. Veremos distintas aproximaciones a esta técnica."
      ]
    },
    {
      "cell_type": "code",
      "execution_count": 140,
      "metadata": {},
      "outputs": [
        {
          "data": {
            "text/html": [
              "<div>\n",
              "<style scoped>\n",
              "    .dataframe tbody tr th:only-of-type {\n",
              "        vertical-align: middle;\n",
              "    }\n",
              "\n",
              "    .dataframe tbody tr th {\n",
              "        vertical-align: top;\n",
              "    }\n",
              "\n",
              "    .dataframe thead th {\n",
              "        text-align: right;\n",
              "    }\n",
              "</style>\n",
              "<table border=\"1\" class=\"dataframe\">\n",
              "  <thead>\n",
              "    <tr style=\"text-align: right;\">\n",
              "      <th></th>\n",
              "      <th>ID</th>\n",
              "      <th>Nombre</th>\n",
              "      <th>ApellidoNombre</th>\n",
              "      <th>Nacionalidad</th>\n",
              "      <th>Altura</th>\n",
              "      <th>Peso</th>\n",
              "      <th>Edad</th>\n",
              "    </tr>\n",
              "  </thead>\n",
              "  <tbody>\n",
              "    <tr>\n",
              "      <th>1</th>\n",
              "      <td>158023</td>\n",
              "      <td>L. Messi</td>\n",
              "      <td>Lionel Messi</td>\n",
              "      <td>Argentina</td>\n",
              "      <td>169</td>\n",
              "      <td>67</td>\n",
              "      <td>35</td>\n",
              "    </tr>\n",
              "    <tr>\n",
              "      <th>51</th>\n",
              "      <td>211110</td>\n",
              "      <td>P. Dybala</td>\n",
              "      <td>Paulo Dybala</td>\n",
              "      <td>Argentina</td>\n",
              "      <td>177</td>\n",
              "      <td>75</td>\n",
              "      <td>28</td>\n",
              "    </tr>\n",
              "    <tr>\n",
              "      <th>64</th>\n",
              "      <td>231478</td>\n",
              "      <td>L. Martínez</td>\n",
              "      <td>Lautaro Martínez</td>\n",
              "      <td>Argentina</td>\n",
              "      <td>174</td>\n",
              "      <td>72</td>\n",
              "      <td>24</td>\n",
              "    </tr>\n",
              "    <tr>\n",
              "      <th>73</th>\n",
              "      <td>224334</td>\n",
              "      <td>M. Acuña</td>\n",
              "      <td>Marcos Acuña</td>\n",
              "      <td>Argentina</td>\n",
              "      <td>172</td>\n",
              "      <td>69</td>\n",
              "      <td>30</td>\n",
              "    </tr>\n",
              "    <tr>\n",
              "      <th>106</th>\n",
              "      <td>202811</td>\n",
              "      <td>E. Martínez</td>\n",
              "      <td>Emiliano Martínez</td>\n",
              "      <td>Argentina</td>\n",
              "      <td>195</td>\n",
              "      <td>88</td>\n",
              "      <td>29</td>\n",
              "    </tr>\n",
              "    <tr>\n",
              "      <th>...</th>\n",
              "      <td>...</td>\n",
              "      <td>...</td>\n",
              "      <td>...</td>\n",
              "      <td>...</td>\n",
              "      <td>...</td>\n",
              "      <td>...</td>\n",
              "      <td>...</td>\n",
              "    </tr>\n",
              "    <tr>\n",
              "      <th>15761</th>\n",
              "      <td>232769</td>\n",
              "      <td>N. Femia</td>\n",
              "      <td>Nicolás Femia</td>\n",
              "      <td>Argentina</td>\n",
              "      <td>185</td>\n",
              "      <td>73</td>\n",
              "      <td>25</td>\n",
              "    </tr>\n",
              "    <tr>\n",
              "      <th>15881</th>\n",
              "      <td>269740</td>\n",
              "      <td>L. Bucca</td>\n",
              "      <td>Leonel Bucca</td>\n",
              "      <td>Argentina</td>\n",
              "      <td>189</td>\n",
              "      <td>82</td>\n",
              "      <td>23</td>\n",
              "    </tr>\n",
              "    <tr>\n",
              "      <th>15913</th>\n",
              "      <td>269732</td>\n",
              "      <td>R. Ríos Novo</td>\n",
              "      <td>Rocco Ríos Novo</td>\n",
              "      <td>Argentina</td>\n",
              "      <td>178</td>\n",
              "      <td>70</td>\n",
              "      <td>20</td>\n",
              "    </tr>\n",
              "    <tr>\n",
              "      <th>16986</th>\n",
              "      <td>264154</td>\n",
              "      <td>S. Visentin</td>\n",
              "      <td>Santiago Visentin</td>\n",
              "      <td>Argentina</td>\n",
              "      <td>187</td>\n",
              "      <td>80</td>\n",
              "      <td>23</td>\n",
              "    </tr>\n",
              "    <tr>\n",
              "      <th>17320</th>\n",
              "      <td>263538</td>\n",
              "      <td>V. Demateis</td>\n",
              "      <td>Valentín Demateis</td>\n",
              "      <td>Argentina</td>\n",
              "      <td>174</td>\n",
              "      <td>78</td>\n",
              "      <td>21</td>\n",
              "    </tr>\n",
              "  </tbody>\n",
              "</table>\n",
              "<p>930 rows × 7 columns</p>\n",
              "</div>"
            ],
            "text/plain": [
              "           ID        Nombre     ApellidoNombre Nacionalidad  Altura  Peso  \\\n",
              "1      158023      L. Messi       Lionel Messi    Argentina     169    67   \n",
              "51     211110     P. Dybala       Paulo Dybala    Argentina     177    75   \n",
              "64     231478   L. Martínez   Lautaro Martínez    Argentina     174    72   \n",
              "73     224334      M. Acuña       Marcos Acuña    Argentina     172    69   \n",
              "106    202811   E. Martínez  Emiliano Martínez    Argentina     195    88   \n",
              "...       ...           ...                ...          ...     ...   ...   \n",
              "15761  232769      N. Femia      Nicolás Femia    Argentina     185    73   \n",
              "15881  269740      L. Bucca       Leonel Bucca    Argentina     189    82   \n",
              "15913  269732  R. Ríos Novo    Rocco Ríos Novo    Argentina     178    70   \n",
              "16986  264154   S. Visentin  Santiago Visentin    Argentina     187    80   \n",
              "17320  263538   V. Demateis  Valentín Demateis    Argentina     174    78   \n",
              "\n",
              "       Edad  \n",
              "1        35  \n",
              "51       28  \n",
              "64       24  \n",
              "73       30  \n",
              "106      29  \n",
              "...     ...  \n",
              "15761    25  \n",
              "15881    23  \n",
              "15913    20  \n",
              "16986    23  \n",
              "17320    21  \n",
              "\n",
              "[930 rows x 7 columns]"
            ]
          },
          "execution_count": 140,
          "metadata": {},
          "output_type": "execute_result"
        }
      ],
      "source": [
        "# Seleccione los jugadores de Argentina\n",
        "\n",
        "dfFifa2022[dfFifa2022.Nacionalidad == 'Argentina']"
      ]
    },
    {
      "cell_type": "code",
      "execution_count": 141,
      "metadata": {},
      "outputs": [
        {
          "data": {
            "text/plain": [
              "0        False\n",
              "1         True\n",
              "2        False\n",
              "3        False\n",
              "4        False\n",
              "         ...  \n",
              "18355    False\n",
              "18356    False\n",
              "18357    False\n",
              "18358    False\n",
              "18359    False\n",
              "Name: Nacionalidad, Length: 18360, dtype: bool"
            ]
          },
          "execution_count": 141,
          "metadata": {},
          "output_type": "execute_result"
        }
      ],
      "source": [
        "# Seleccione los jugadores de Argentina\n",
        "\n",
        "dfFifa2022['Nacionalidad']  == 'Argentina'"
      ]
    },
    {
      "cell_type": "code",
      "execution_count": 142,
      "metadata": {},
      "outputs": [
        {
          "data": {
            "text/html": [
              "<div>\n",
              "<style scoped>\n",
              "    .dataframe tbody tr th:only-of-type {\n",
              "        vertical-align: middle;\n",
              "    }\n",
              "\n",
              "    .dataframe tbody tr th {\n",
              "        vertical-align: top;\n",
              "    }\n",
              "\n",
              "    .dataframe thead th {\n",
              "        text-align: right;\n",
              "    }\n",
              "</style>\n",
              "<table border=\"1\" class=\"dataframe\">\n",
              "  <thead>\n",
              "    <tr style=\"text-align: right;\">\n",
              "      <th></th>\n",
              "      <th>ID</th>\n",
              "      <th>Nombre</th>\n",
              "      <th>ApellidoNombre</th>\n",
              "      <th>Nacionalidad</th>\n",
              "      <th>Altura</th>\n",
              "      <th>Peso</th>\n",
              "      <th>Edad</th>\n",
              "    </tr>\n",
              "  </thead>\n",
              "  <tbody>\n",
              "    <tr>\n",
              "      <th>1</th>\n",
              "      <td>158023</td>\n",
              "      <td>L. Messi</td>\n",
              "      <td>Lionel Messi</td>\n",
              "      <td>Argentina</td>\n",
              "      <td>169</td>\n",
              "      <td>67</td>\n",
              "      <td>35</td>\n",
              "    </tr>\n",
              "    <tr>\n",
              "      <th>141</th>\n",
              "      <td>143076</td>\n",
              "      <td>A. Gómez</td>\n",
              "      <td>Alejandro Gómez</td>\n",
              "      <td>Argentina</td>\n",
              "      <td>167</td>\n",
              "      <td>68</td>\n",
              "      <td>34</td>\n",
              "    </tr>\n",
              "    <tr>\n",
              "      <th>148</th>\n",
              "      <td>183898</td>\n",
              "      <td>Á. Di María</td>\n",
              "      <td>Ángel Di María</td>\n",
              "      <td>Argentina</td>\n",
              "      <td>180</td>\n",
              "      <td>69</td>\n",
              "      <td>34</td>\n",
              "    </tr>\n",
              "    <tr>\n",
              "      <th>285</th>\n",
              "      <td>178562</td>\n",
              "      <td>É. Banega</td>\n",
              "      <td>Éver Banega</td>\n",
              "      <td>Argentina</td>\n",
              "      <td>176</td>\n",
              "      <td>78</td>\n",
              "      <td>34</td>\n",
              "    </tr>\n",
              "    <tr>\n",
              "      <th>288</th>\n",
              "      <td>192366</td>\n",
              "      <td>N. Otamendi</td>\n",
              "      <td>Nicolás Otamendi</td>\n",
              "      <td>Argentina</td>\n",
              "      <td>182</td>\n",
              "      <td>78</td>\n",
              "      <td>34</td>\n",
              "    </tr>\n",
              "    <tr>\n",
              "      <th>...</th>\n",
              "      <td>...</td>\n",
              "      <td>...</td>\n",
              "      <td>...</td>\n",
              "      <td>...</td>\n",
              "      <td>...</td>\n",
              "      <td>...</td>\n",
              "      <td>...</td>\n",
              "    </tr>\n",
              "    <tr>\n",
              "      <th>11708</th>\n",
              "      <td>248009</td>\n",
              "      <td>J. Rodríguez</td>\n",
              "      <td>Jonathan Rodríguez</td>\n",
              "      <td>Argentina</td>\n",
              "      <td>173</td>\n",
              "      <td>67</td>\n",
              "      <td>32</td>\n",
              "    </tr>\n",
              "    <tr>\n",
              "      <th>11959</th>\n",
              "      <td>216018</td>\n",
              "      <td>J. Blanco</td>\n",
              "      <td>Jonatan Blanco</td>\n",
              "      <td>Argentina</td>\n",
              "      <td>186</td>\n",
              "      <td>70</td>\n",
              "      <td>35</td>\n",
              "    </tr>\n",
              "    <tr>\n",
              "      <th>12187</th>\n",
              "      <td>200197</td>\n",
              "      <td>N. Blandi</td>\n",
              "      <td>Nicolás Blandi</td>\n",
              "      <td>Argentina</td>\n",
              "      <td>181</td>\n",
              "      <td>76</td>\n",
              "      <td>32</td>\n",
              "    </tr>\n",
              "    <tr>\n",
              "      <th>14025</th>\n",
              "      <td>214684</td>\n",
              "      <td>S. Jaime</td>\n",
              "      <td>Sebastián Jaime</td>\n",
              "      <td>Argentina</td>\n",
              "      <td>179</td>\n",
              "      <td>73</td>\n",
              "      <td>35</td>\n",
              "    </tr>\n",
              "    <tr>\n",
              "      <th>15321</th>\n",
              "      <td>226424</td>\n",
              "      <td>L. Garnier</td>\n",
              "      <td>Luis Yamil Garnier</td>\n",
              "      <td>Argentina</td>\n",
              "      <td>172</td>\n",
              "      <td>73</td>\n",
              "      <td>39</td>\n",
              "    </tr>\n",
              "  </tbody>\n",
              "</table>\n",
              "<p>213 rows × 7 columns</p>\n",
              "</div>"
            ],
            "text/plain": [
              "           ID        Nombre      ApellidoNombre Nacionalidad  Altura  Peso  \\\n",
              "1      158023      L. Messi        Lionel Messi    Argentina     169    67   \n",
              "141    143076      A. Gómez     Alejandro Gómez    Argentina     167    68   \n",
              "148    183898   Á. Di María      Ángel Di María    Argentina     180    69   \n",
              "285    178562     É. Banega         Éver Banega    Argentina     176    78   \n",
              "288    192366   N. Otamendi    Nicolás Otamendi    Argentina     182    78   \n",
              "...       ...           ...                 ...          ...     ...   ...   \n",
              "11708  248009  J. Rodríguez  Jonathan Rodríguez    Argentina     173    67   \n",
              "11959  216018     J. Blanco      Jonatan Blanco    Argentina     186    70   \n",
              "12187  200197     N. Blandi      Nicolás Blandi    Argentina     181    76   \n",
              "14025  214684      S. Jaime     Sebastián Jaime    Argentina     179    73   \n",
              "15321  226424    L. Garnier  Luis Yamil Garnier    Argentina     172    73   \n",
              "\n",
              "       Edad  \n",
              "1        35  \n",
              "141      34  \n",
              "148      34  \n",
              "285      34  \n",
              "288      34  \n",
              "...     ...  \n",
              "11708    32  \n",
              "11959    35  \n",
              "12187    32  \n",
              "14025    35  \n",
              "15321    39  \n",
              "\n",
              "[213 rows x 7 columns]"
            ]
          },
          "execution_count": 142,
          "metadata": {},
          "output_type": "execute_result"
        }
      ],
      "source": [
        "# También es posible aplicar condiciones compuestas.\n",
        "jugArg = dfFifa2022[(dfFifa2022.Nacionalidad == 'Argentina') & (dfFifa2022.Edad > 30)]\n",
        "jugArg"
      ]
    },
    {
      "cell_type": "code",
      "execution_count": 143,
      "metadata": {},
      "outputs": [
        {
          "data": {
            "text/plain": [
              "0         True\n",
              "1         True\n",
              "2         True\n",
              "3        False\n",
              "4        False\n",
              "         ...  \n",
              "18355    False\n",
              "18356    False\n",
              "18357    False\n",
              "18358    False\n",
              "18359    False\n",
              "Name: Nacionalidad, Length: 18360, dtype: bool"
            ]
          },
          "execution_count": 143,
          "metadata": {},
          "output_type": "execute_result"
        }
      ],
      "source": [
        "# También es posible aplicar condiciones compuestas.\n",
        "mask = dfFifa2022['Nacionalidad'].isin(['Argentina','France'])\n",
        "mask\n",
        "#solo quiero una parte, lo otro lo escondo, es decir que lo que no cumple digo false"
      ]
    },
    {
      "cell_type": "code",
      "execution_count": 144,
      "metadata": {},
      "outputs": [
        {
          "data": {
            "text/html": [
              "<div>\n",
              "<style scoped>\n",
              "    .dataframe tbody tr th:only-of-type {\n",
              "        vertical-align: middle;\n",
              "    }\n",
              "\n",
              "    .dataframe tbody tr th {\n",
              "        vertical-align: top;\n",
              "    }\n",
              "\n",
              "    .dataframe thead th {\n",
              "        text-align: right;\n",
              "    }\n",
              "</style>\n",
              "<table border=\"1\" class=\"dataframe\">\n",
              "  <thead>\n",
              "    <tr style=\"text-align: right;\">\n",
              "      <th></th>\n",
              "      <th>ID</th>\n",
              "      <th>Nombre</th>\n",
              "      <th>ApellidoNombre</th>\n",
              "      <th>Nacionalidad</th>\n",
              "      <th>Altura</th>\n",
              "      <th>Peso</th>\n",
              "      <th>Edad</th>\n",
              "    </tr>\n",
              "  </thead>\n",
              "  <tbody>\n",
              "    <tr>\n",
              "      <th>0</th>\n",
              "      <td>165153</td>\n",
              "      <td>K. Benzema</td>\n",
              "      <td>Karim Benzema</td>\n",
              "      <td>France</td>\n",
              "      <td>185</td>\n",
              "      <td>81</td>\n",
              "      <td>34</td>\n",
              "    </tr>\n",
              "    <tr>\n",
              "      <th>1</th>\n",
              "      <td>158023</td>\n",
              "      <td>L. Messi</td>\n",
              "      <td>Lionel Messi</td>\n",
              "      <td>Argentina</td>\n",
              "      <td>169</td>\n",
              "      <td>67</td>\n",
              "      <td>35</td>\n",
              "    </tr>\n",
              "    <tr>\n",
              "      <th>2</th>\n",
              "      <td>231747</td>\n",
              "      <td>K. Mbappé</td>\n",
              "      <td>Kylian Mbappé</td>\n",
              "      <td>France</td>\n",
              "      <td>182</td>\n",
              "      <td>73</td>\n",
              "      <td>23</td>\n",
              "    </tr>\n",
              "    <tr>\n",
              "      <th>19</th>\n",
              "      <td>215914</td>\n",
              "      <td>N. Kanté</td>\n",
              "      <td>N'Golo Kanté</td>\n",
              "      <td>France</td>\n",
              "      <td>168</td>\n",
              "      <td>70</td>\n",
              "      <td>31</td>\n",
              "    </tr>\n",
              "    <tr>\n",
              "      <th>31</th>\n",
              "      <td>167948</td>\n",
              "      <td>H. Lloris</td>\n",
              "      <td>Hugo Lloris</td>\n",
              "      <td>France</td>\n",
              "      <td>188</td>\n",
              "      <td>82</td>\n",
              "      <td>35</td>\n",
              "    </tr>\n",
              "    <tr>\n",
              "      <th>...</th>\n",
              "      <td>...</td>\n",
              "      <td>...</td>\n",
              "      <td>...</td>\n",
              "      <td>...</td>\n",
              "      <td>...</td>\n",
              "      <td>...</td>\n",
              "      <td>...</td>\n",
              "    </tr>\n",
              "    <tr>\n",
              "      <th>17773</th>\n",
              "      <td>270931</td>\n",
              "      <td>N. Lebreton</td>\n",
              "      <td>Noé Lebreton</td>\n",
              "      <td>France</td>\n",
              "      <td>180</td>\n",
              "      <td>70</td>\n",
              "      <td>18</td>\n",
              "    </tr>\n",
              "    <tr>\n",
              "      <th>17825</th>\n",
              "      <td>270616</td>\n",
              "      <td>H. Ozée</td>\n",
              "      <td>Hugo Ozée</td>\n",
              "      <td>France</td>\n",
              "      <td>184</td>\n",
              "      <td>77</td>\n",
              "      <td>22</td>\n",
              "    </tr>\n",
              "    <tr>\n",
              "      <th>17827</th>\n",
              "      <td>271127</td>\n",
              "      <td>T. Sako</td>\n",
              "      <td>Tao Sako</td>\n",
              "      <td>France</td>\n",
              "      <td>185</td>\n",
              "      <td>78</td>\n",
              "      <td>19</td>\n",
              "    </tr>\n",
              "    <tr>\n",
              "      <th>17828</th>\n",
              "      <td>270615</td>\n",
              "      <td>R. Boulais</td>\n",
              "      <td>Rudy Boulais</td>\n",
              "      <td>France</td>\n",
              "      <td>188</td>\n",
              "      <td>75</td>\n",
              "      <td>20</td>\n",
              "    </tr>\n",
              "    <tr>\n",
              "      <th>17854</th>\n",
              "      <td>270621</td>\n",
              "      <td>K. Corenthin</td>\n",
              "      <td>Killian Corenthin</td>\n",
              "      <td>France</td>\n",
              "      <td>180</td>\n",
              "      <td>69</td>\n",
              "      <td>21</td>\n",
              "    </tr>\n",
              "  </tbody>\n",
              "</table>\n",
              "<p>1866 rows × 7 columns</p>\n",
              "</div>"
            ],
            "text/plain": [
              "           ID        Nombre     ApellidoNombre Nacionalidad  Altura  Peso  \\\n",
              "0      165153    K. Benzema      Karim Benzema       France     185    81   \n",
              "1      158023      L. Messi       Lionel Messi    Argentina     169    67   \n",
              "2      231747     K. Mbappé      Kylian Mbappé       France     182    73   \n",
              "19     215914      N. Kanté       N'Golo Kanté       France     168    70   \n",
              "31     167948     H. Lloris        Hugo Lloris       France     188    82   \n",
              "...       ...           ...                ...          ...     ...   ...   \n",
              "17773  270931   N. Lebreton       Noé Lebreton       France     180    70   \n",
              "17825  270616       H. Ozée          Hugo Ozée       France     184    77   \n",
              "17827  271127       T. Sako           Tao Sako       France     185    78   \n",
              "17828  270615    R. Boulais       Rudy Boulais       France     188    75   \n",
              "17854  270621  K. Corenthin  Killian Corenthin       France     180    69   \n",
              "\n",
              "       Edad  \n",
              "0        34  \n",
              "1        35  \n",
              "2        23  \n",
              "19       31  \n",
              "31       35  \n",
              "...     ...  \n",
              "17773    18  \n",
              "17825    22  \n",
              "17827    19  \n",
              "17828    20  \n",
              "17854    21  \n",
              "\n",
              "[1866 rows x 7 columns]"
            ]
          },
          "execution_count": 144,
          "metadata": {},
          "output_type": "execute_result"
        }
      ],
      "source": [
        "#Usando query\n",
        "dfFifa2022.query('Nacionalidad == \"Argentina\" | Nacionalidad == \"France\"')"
      ]
    },
    {
      "cell_type": "markdown",
      "metadata": {},
      "source": [
        "Otras operaciones con un DataFrame<br>\n",
        "Manejando cadenas de texto<br>\n",
        "A menudo solemos trabajar con datos que incluyen información textual. Pandas también nos\n",
        "ofrece herramientas para cubrir estos casos.<br>\n",
        "De hecho, simplemente debemos utilizar el manejador str y tendremos a disposición la gran\n",
        "mayoría de funciones vistas en la sección de cadenas de texto."
      ]
    },
    {
      "cell_type": "code",
      "execution_count": 145,
      "metadata": {},
      "outputs": [
        {
          "data": {
            "text/plain": [
              "0              FRANCE\n",
              "1           ARGENTINA\n",
              "2              FRANCE\n",
              "3             BELGIUM\n",
              "4              POLAND\n",
              "             ...     \n",
              "18355        CHINA PR\n",
              "18356    SAUDI ARABIA\n",
              "18357        CHINA PR\n",
              "18358        CHINA PR\n",
              "18359           INDIA\n",
              "Name: Nacionalidad, Length: 18360, dtype: object"
            ]
          },
          "execution_count": 145,
          "metadata": {},
          "output_type": "execute_result"
        }
      ],
      "source": [
        "dfFifa2022['Nacionalidad'].str.upper()"
      ]
    },
    {
      "cell_type": "code",
      "execution_count": 146,
      "metadata": {},
      "outputs": [
        {
          "data": {
            "text/plain": [
              "0              France\n",
              "1           Argentina\n",
              "2              France\n",
              "3             Belgium\n",
              "4              Poland\n",
              "             ...     \n",
              "18355        China_PR\n",
              "18356    Saudi_Arabia\n",
              "18357        China_PR\n",
              "18358        China_PR\n",
              "18359           India\n",
              "Name: Nacionalidad, Length: 18360, dtype: object"
            ]
          },
          "execution_count": 146,
          "metadata": {},
          "output_type": "execute_result"
        }
      ],
      "source": [
        "#Otro supuesto sería el de sustituir espacios por subguiones en los países\n",
        "dfFifa2022['Nacionalidad'].str.replace(' ','_')"
      ]
    },
    {
      "cell_type": "markdown",
      "metadata": {},
      "source": [
        "Expresiones regulares<br>\n",
        "El uso de expresiones regulares aporta una gran expresividad. Veamos su aplicación con tres\n",
        "casos de uso:<br>\n",
        "• Filtrado de filas.<br>\n",
        "• Reemplazo de valores.<br>\n",
        "• Extracción de columnas.<br>"
      ]
    },
    {
      "cell_type": "code",
      "execution_count": 147,
      "metadata": {},
      "outputs": [],
      "source": [
        "# Nacianalidad que empieza con una vocal\n",
        "# mask = df.index.str.match(r'^[aeiou]', flags=re.IGNORECASE)\n",
        "# Ejemplo Nacionalidad que empieza con 'Arg'\n",
        "mask = dfFifa2022['Nacionalidad'].str.contains('Fra')"
      ]
    },
    {
      "cell_type": "code",
      "execution_count": 148,
      "metadata": {},
      "outputs": [
        {
          "data": {
            "text/html": [
              "<div>\n",
              "<style scoped>\n",
              "    .dataframe tbody tr th:only-of-type {\n",
              "        vertical-align: middle;\n",
              "    }\n",
              "\n",
              "    .dataframe tbody tr th {\n",
              "        vertical-align: top;\n",
              "    }\n",
              "\n",
              "    .dataframe thead th {\n",
              "        text-align: right;\n",
              "    }\n",
              "</style>\n",
              "<table border=\"1\" class=\"dataframe\">\n",
              "  <thead>\n",
              "    <tr style=\"text-align: right;\">\n",
              "      <th></th>\n",
              "      <th>ID</th>\n",
              "      <th>Nombre</th>\n",
              "      <th>ApellidoNombre</th>\n",
              "      <th>Nacionalidad</th>\n",
              "      <th>Altura</th>\n",
              "      <th>Peso</th>\n",
              "      <th>Edad</th>\n",
              "    </tr>\n",
              "  </thead>\n",
              "  <tbody>\n",
              "    <tr>\n",
              "      <th>0</th>\n",
              "      <td>165153</td>\n",
              "      <td>K. Benzema</td>\n",
              "      <td>Karim Benzema</td>\n",
              "      <td>France</td>\n",
              "      <td>185</td>\n",
              "      <td>81</td>\n",
              "      <td>34</td>\n",
              "    </tr>\n",
              "    <tr>\n",
              "      <th>2</th>\n",
              "      <td>231747</td>\n",
              "      <td>K. Mbappé</td>\n",
              "      <td>Kylian Mbappé</td>\n",
              "      <td>France</td>\n",
              "      <td>182</td>\n",
              "      <td>73</td>\n",
              "      <td>23</td>\n",
              "    </tr>\n",
              "    <tr>\n",
              "      <th>19</th>\n",
              "      <td>215914</td>\n",
              "      <td>N. Kanté</td>\n",
              "      <td>N'Golo Kanté</td>\n",
              "      <td>France</td>\n",
              "      <td>168</td>\n",
              "      <td>70</td>\n",
              "      <td>31</td>\n",
              "    </tr>\n",
              "    <tr>\n",
              "      <th>31</th>\n",
              "      <td>167948</td>\n",
              "      <td>H. Lloris</td>\n",
              "      <td>Hugo Lloris</td>\n",
              "      <td>France</td>\n",
              "      <td>188</td>\n",
              "      <td>82</td>\n",
              "      <td>35</td>\n",
              "    </tr>\n",
              "    <tr>\n",
              "      <th>37</th>\n",
              "      <td>215698</td>\n",
              "      <td>M. Maignan</td>\n",
              "      <td>Mike Maignan</td>\n",
              "      <td>France</td>\n",
              "      <td>191</td>\n",
              "      <td>89</td>\n",
              "      <td>26</td>\n",
              "    </tr>\n",
              "    <tr>\n",
              "      <th>...</th>\n",
              "      <td>...</td>\n",
              "      <td>...</td>\n",
              "      <td>...</td>\n",
              "      <td>...</td>\n",
              "      <td>...</td>\n",
              "      <td>...</td>\n",
              "      <td>...</td>\n",
              "    </tr>\n",
              "    <tr>\n",
              "      <th>17773</th>\n",
              "      <td>270931</td>\n",
              "      <td>N. Lebreton</td>\n",
              "      <td>Noé Lebreton</td>\n",
              "      <td>France</td>\n",
              "      <td>180</td>\n",
              "      <td>70</td>\n",
              "      <td>18</td>\n",
              "    </tr>\n",
              "    <tr>\n",
              "      <th>17825</th>\n",
              "      <td>270616</td>\n",
              "      <td>H. Ozée</td>\n",
              "      <td>Hugo Ozée</td>\n",
              "      <td>France</td>\n",
              "      <td>184</td>\n",
              "      <td>77</td>\n",
              "      <td>22</td>\n",
              "    </tr>\n",
              "    <tr>\n",
              "      <th>17827</th>\n",
              "      <td>271127</td>\n",
              "      <td>T. Sako</td>\n",
              "      <td>Tao Sako</td>\n",
              "      <td>France</td>\n",
              "      <td>185</td>\n",
              "      <td>78</td>\n",
              "      <td>19</td>\n",
              "    </tr>\n",
              "    <tr>\n",
              "      <th>17828</th>\n",
              "      <td>270615</td>\n",
              "      <td>R. Boulais</td>\n",
              "      <td>Rudy Boulais</td>\n",
              "      <td>France</td>\n",
              "      <td>188</td>\n",
              "      <td>75</td>\n",
              "      <td>20</td>\n",
              "    </tr>\n",
              "    <tr>\n",
              "      <th>17854</th>\n",
              "      <td>270621</td>\n",
              "      <td>K. Corenthin</td>\n",
              "      <td>Killian Corenthin</td>\n",
              "      <td>France</td>\n",
              "      <td>180</td>\n",
              "      <td>69</td>\n",
              "      <td>21</td>\n",
              "    </tr>\n",
              "  </tbody>\n",
              "</table>\n",
              "<p>936 rows × 7 columns</p>\n",
              "</div>"
            ],
            "text/plain": [
              "           ID        Nombre     ApellidoNombre Nacionalidad  Altura  Peso  \\\n",
              "0      165153    K. Benzema      Karim Benzema       France     185    81   \n",
              "2      231747     K. Mbappé      Kylian Mbappé       France     182    73   \n",
              "19     215914      N. Kanté       N'Golo Kanté       France     168    70   \n",
              "31     167948     H. Lloris        Hugo Lloris       France     188    82   \n",
              "37     215698    M. Maignan       Mike Maignan       France     191    89   \n",
              "...       ...           ...                ...          ...     ...   ...   \n",
              "17773  270931   N. Lebreton       Noé Lebreton       France     180    70   \n",
              "17825  270616       H. Ozée          Hugo Ozée       France     184    77   \n",
              "17827  271127       T. Sako           Tao Sako       France     185    78   \n",
              "17828  270615    R. Boulais       Rudy Boulais       France     188    75   \n",
              "17854  270621  K. Corenthin  Killian Corenthin       France     180    69   \n",
              "\n",
              "       Edad  \n",
              "0        34  \n",
              "2        23  \n",
              "19       31  \n",
              "31       35  \n",
              "37       26  \n",
              "...     ...  \n",
              "17773    18  \n",
              "17825    22  \n",
              "17827    19  \n",
              "17828    20  \n",
              "17854    21  \n",
              "\n",
              "[936 rows x 7 columns]"
            ]
          },
          "execution_count": 148,
          "metadata": {},
          "output_type": "execute_result"
        }
      ],
      "source": [
        "dfFifa2022[mask]"
      ]
    },
    {
      "cell_type": "markdown",
      "metadata": {},
      "source": [
        "Ejemplo: Ahora imaginemos que vamos a sustituir aquellas ciudades que empiezan con «S» o\n",
        "«T» por «Stanton»:\n",
        ">>> df['City'].str.replace(r'^[ST].*', 'Stanton', regex=True)"
      ]
    },
    {
      "cell_type": "markdown",
      "metadata": {},
      "source": [
        "Otro ejemplo con datos de valores de bitcoin historicos \n"
      ]
    },
    {
      "cell_type": "code",
      "execution_count": 149,
      "metadata": {},
      "outputs": [],
      "source": [
        "# Lectura de archivos CSV con DataFrame de Pandas<br>\n",
        "dfBTC = pd.read_csv('bitcoin.csv')"
      ]
    },
    {
      "cell_type": "code",
      "execution_count": 150,
      "metadata": {},
      "outputs": [
        {
          "data": {
            "text/html": [
              "<div>\n",
              "<style scoped>\n",
              "    .dataframe tbody tr th:only-of-type {\n",
              "        vertical-align: middle;\n",
              "    }\n",
              "\n",
              "    .dataframe tbody tr th {\n",
              "        vertical-align: top;\n",
              "    }\n",
              "\n",
              "    .dataframe thead th {\n",
              "        text-align: right;\n",
              "    }\n",
              "</style>\n",
              "<table border=\"1\" class=\"dataframe\">\n",
              "  <thead>\n",
              "    <tr style=\"text-align: right;\">\n",
              "      <th></th>\n",
              "      <th>date</th>\n",
              "      <th>price</th>\n",
              "      <th>total_volume</th>\n",
              "      <th>market_cap</th>\n",
              "      <th>coin_name</th>\n",
              "    </tr>\n",
              "  </thead>\n",
              "  <tbody>\n",
              "    <tr>\n",
              "      <th>0</th>\n",
              "      <td>2015-01-01 00:00:00.000</td>\n",
              "      <td>314.0</td>\n",
              "      <td>4.7e+07</td>\n",
              "      <td>4.3e+09</td>\n",
              "      <td>bitcoin</td>\n",
              "    </tr>\n",
              "    <tr>\n",
              "      <th>1</th>\n",
              "      <td>2015-01-02 00:00:00.000</td>\n",
              "      <td>314.4</td>\n",
              "      <td>3.9e+07</td>\n",
              "      <td>4.3e+09</td>\n",
              "      <td>bitcoin</td>\n",
              "    </tr>\n",
              "    <tr>\n",
              "      <th>2</th>\n",
              "      <td>2015-01-03 00:00:00.000</td>\n",
              "      <td>286.6</td>\n",
              "      <td>1.2e+08</td>\n",
              "      <td>3.9e+09</td>\n",
              "      <td>bitcoin</td>\n",
              "    </tr>\n",
              "    <tr>\n",
              "      <th>3</th>\n",
              "      <td>2015-01-04 00:00:00.000</td>\n",
              "      <td>260.9</td>\n",
              "      <td>2.1e+08</td>\n",
              "      <td>3.6e+09</td>\n",
              "      <td>bitcoin</td>\n",
              "    </tr>\n",
              "    <tr>\n",
              "      <th>4</th>\n",
              "      <td>2015-01-05 00:00:00.000</td>\n",
              "      <td>273.2</td>\n",
              "      <td>1.6e+08</td>\n",
              "      <td>3.7e+09</td>\n",
              "      <td>bitcoin</td>\n",
              "    </tr>\n",
              "  </tbody>\n",
              "</table>\n",
              "</div>"
            ],
            "text/plain": [
              "                      date  price  total_volume  market_cap coin_name\n",
              "0  2015-01-01 00:00:00.000  314.0       4.7e+07     4.3e+09   bitcoin\n",
              "1  2015-01-02 00:00:00.000  314.4       3.9e+07     4.3e+09   bitcoin\n",
              "2  2015-01-03 00:00:00.000  286.6       1.2e+08     3.9e+09   bitcoin\n",
              "3  2015-01-04 00:00:00.000  260.9       2.1e+08     3.6e+09   bitcoin\n",
              "4  2015-01-05 00:00:00.000  273.2       1.6e+08     3.7e+09   bitcoin"
            ]
          },
          "execution_count": 150,
          "metadata": {},
          "output_type": "execute_result"
        }
      ],
      "source": [
        "dfBTC.head()"
      ]
    },
    {
      "cell_type": "code",
      "execution_count": 151,
      "metadata": {},
      "outputs": [
        {
          "data": {
            "text/plain": [
              "0   2015-01-01\n",
              "1   2015-01-02\n",
              "2   2015-01-03\n",
              "3   2015-01-04\n",
              "4   2015-01-05\n",
              "Name: date, dtype: datetime64[ns]"
            ]
          },
          "execution_count": 151,
          "metadata": {},
          "output_type": "execute_result"
        }
      ],
      "source": [
        "# Lo primero que deberíamos hacer es convertir la columna «Founded» al tipo «datetime» \n",
        "# usando la función to_datetime():\n",
        "dfBTC['date'] = pd.to_datetime(dfBTC['date'])\n",
        "dfBTC['date'].head()"
      ]
    },
    {
      "cell_type": "code",
      "execution_count": 152,
      "metadata": {},
      "outputs": [
        {
          "data": {
            "text/html": [
              "<div>\n",
              "<style scoped>\n",
              "    .dataframe tbody tr th:only-of-type {\n",
              "        vertical-align: middle;\n",
              "    }\n",
              "\n",
              "    .dataframe tbody tr th {\n",
              "        vertical-align: top;\n",
              "    }\n",
              "\n",
              "    .dataframe thead th {\n",
              "        text-align: right;\n",
              "    }\n",
              "</style>\n",
              "<table border=\"1\" class=\"dataframe\">\n",
              "  <thead>\n",
              "    <tr style=\"text-align: right;\">\n",
              "      <th></th>\n",
              "      <th>date</th>\n",
              "      <th>year</th>\n",
              "      <th>month</th>\n",
              "      <th>day</th>\n",
              "      <th>price</th>\n",
              "    </tr>\n",
              "  </thead>\n",
              "  <tbody>\n",
              "    <tr>\n",
              "      <th>0</th>\n",
              "      <td>2015-01-01</td>\n",
              "      <td>2015</td>\n",
              "      <td>1</td>\n",
              "      <td>1</td>\n",
              "      <td>314.0</td>\n",
              "    </tr>\n",
              "    <tr>\n",
              "      <th>1</th>\n",
              "      <td>2015-01-02</td>\n",
              "      <td>2015</td>\n",
              "      <td>1</td>\n",
              "      <td>2</td>\n",
              "      <td>314.4</td>\n",
              "    </tr>\n",
              "    <tr>\n",
              "      <th>2</th>\n",
              "      <td>2015-01-03</td>\n",
              "      <td>2015</td>\n",
              "      <td>1</td>\n",
              "      <td>3</td>\n",
              "      <td>286.6</td>\n",
              "    </tr>\n",
              "    <tr>\n",
              "      <th>3</th>\n",
              "      <td>2015-01-04</td>\n",
              "      <td>2015</td>\n",
              "      <td>1</td>\n",
              "      <td>4</td>\n",
              "      <td>260.9</td>\n",
              "    </tr>\n",
              "    <tr>\n",
              "      <th>4</th>\n",
              "      <td>2015-01-05</td>\n",
              "      <td>2015</td>\n",
              "      <td>1</td>\n",
              "      <td>5</td>\n",
              "      <td>273.2</td>\n",
              "    </tr>\n",
              "    <tr>\n",
              "      <th>...</th>\n",
              "      <td>...</td>\n",
              "      <td>...</td>\n",
              "      <td>...</td>\n",
              "      <td>...</td>\n",
              "      <td>...</td>\n",
              "    </tr>\n",
              "    <tr>\n",
              "      <th>2820</th>\n",
              "      <td>2022-09-22</td>\n",
              "      <td>2022</td>\n",
              "      <td>9</td>\n",
              "      <td>22</td>\n",
              "      <td>18539.6</td>\n",
              "    </tr>\n",
              "    <tr>\n",
              "      <th>2821</th>\n",
              "      <td>2022-09-23</td>\n",
              "      <td>2022</td>\n",
              "      <td>9</td>\n",
              "      <td>23</td>\n",
              "      <td>19464.3</td>\n",
              "    </tr>\n",
              "    <tr>\n",
              "      <th>2822</th>\n",
              "      <td>2022-09-24</td>\n",
              "      <td>2022</td>\n",
              "      <td>9</td>\n",
              "      <td>24</td>\n",
              "      <td>19291.9</td>\n",
              "    </tr>\n",
              "    <tr>\n",
              "      <th>2823</th>\n",
              "      <td>2022-09-25</td>\n",
              "      <td>2022</td>\n",
              "      <td>9</td>\n",
              "      <td>25</td>\n",
              "      <td>18940.0</td>\n",
              "    </tr>\n",
              "    <tr>\n",
              "      <th>2824</th>\n",
              "      <td>2022-09-26</td>\n",
              "      <td>2022</td>\n",
              "      <td>9</td>\n",
              "      <td>26</td>\n",
              "      <td>18809.4</td>\n",
              "    </tr>\n",
              "  </tbody>\n",
              "</table>\n",
              "<p>2825 rows × 5 columns</p>\n",
              "</div>"
            ],
            "text/plain": [
              "           date  year  month  day    price\n",
              "0    2015-01-01  2015      1    1    314.0\n",
              "1    2015-01-02  2015      1    2    314.4\n",
              "2    2015-01-03  2015      1    3    286.6\n",
              "3    2015-01-04  2015      1    4    260.9\n",
              "4    2015-01-05  2015      1    5    273.2\n",
              "...         ...   ...    ...  ...      ...\n",
              "2820 2022-09-22  2022      9   22  18539.6\n",
              "2821 2022-09-23  2022      9   23  19464.3\n",
              "2822 2022-09-24  2022      9   24  19291.9\n",
              "2823 2022-09-25  2022      9   25  18940.0\n",
              "2824 2022-09-26  2022      9   26  18809.4\n",
              "\n",
              "[2825 rows x 5 columns]"
            ]
          },
          "execution_count": 152,
          "metadata": {},
          "output_type": "execute_result"
        }
      ],
      "source": [
        "# Es posible acceder a cada elemento de la fecha:\n",
        "dfBTC['year']= dfBTC['date'].dt.year\n",
        "dfBTC['month']= dfBTC['date'].dt.month\n",
        "dfBTC['day']= dfBTC['date'].dt.day\n",
        "dfbtc1 = dfBTC[['date','year','month','day','price']]\n",
        "dfbtc1"
      ]
    },
    {
      "cell_type": "markdown",
      "metadata": {},
      "source": [
        "La visualización es útil para entender el comportamiento de los datos. Pandas puede interactuar\n",
        "con Matplotlib para elaborar gráficos descriptivos. Para hacer un diagrama, primero debes\n",
        "habilitar Matplotlib de Python."
      ]
    },
    {
      "cell_type": "code",
      "execution_count": 153,
      "metadata": {},
      "outputs": [
        {
          "data": {
            "image/png": "[encoded data removed]",
            "text/plain": [
              "<Figure size 640x480 with 1 Axes>"
            ]
          },
          "metadata": {},
          "output_type": "display_data"
        }
      ],
      "source": [
        "import matplotlib.pyplot as plt\n",
        "%matplotlib inline\n",
        "histogram= dfFifa2022.hist(column='Edad',bins=10)"
      ]
    },
    {
      "cell_type": "code",
      "execution_count": 154,
      "metadata": {},
      "outputs": [
        {
          "data": {
            "text/plain": [
              "array([False, False, False, False, False, False, False, False, False])"
            ]
          },
          "execution_count": 154,
          "metadata": {},
          "output_type": "execute_result"
        }
      ],
      "source": [
        "lista1>lista2"
      ]
    }
  ],
  "metadata": {
    "kernelspec": {
      "display_name": "Python 3.10.7 64-bit",
      "language": "python",
      "name": "python3"
    },
    "language_info": {
      "codemirror_mode": {
        "name": "ipython",
        "version": 3
      },
      "file_extension": ".py",
      "mimetype": "text/x-python",
      "name": "python",
      "nbconvert_exporter": "python",
      "pygments_lexer": "ipython3",
      "version": "3.10.7"
    },
    "vscode": {
      "interpreter": {
        "hash": "12012e29cfdd80c6232e78c9cc61e00b538a7283e7f08a6e0e05e20d023ad832"
      }
    }
  },
  "nbformat": 4,
  "nbformat_minor": 4
}
