{
  "cells": [
    {
      "cell_type": "markdown",
      "id": "247c7a7e-8633-464b-8c0e-71abc37d66fc",
      "metadata": {
        "tags": []
      },
      "source": [
        "# Tipos de Datos"
      ]
    },
    {
      "cell_type": "markdown",
      "id": "27b2d28c-1e74-46df-add8-6d169a6d68b3",
      "metadata": {},
      "source": [
        "## Booleano, entero, flotante, complejo, cadena, tupla, lista, conjunto y diccionario"
      ]
    },
    {
      "cell_type": "code",
      "execution_count": 163,
      "id": "ba93ee0e-d674-4fef-b20b-bcbf33909c80",
      "metadata": {},
      "outputs": [
        {
          "data": {
            "text/plain": [
              "bool"
            ]
          },
          "execution_count": 163,
          "metadata": {},
          "output_type": "execute_result"
        }
      ],
      "source": [
        "# Booleano -> bool\n",
        "\n",
        "a = True\n",
        "type(a)\n"
      ]
    },
    {
      "cell_type": "code",
      "execution_count": 164,
      "id": "e1db7964",
      "metadata": {},
      "outputs": [],
      "source": [
        "b = False"
      ]
    },
    {
      "cell_type": "code",
      "execution_count": 165,
      "id": "d9975188-b39a-4bd3-88e4-08410f2ed15e",
      "metadata": {},
      "outputs": [
        {
          "data": {
            "text/plain": [
              "int"
            ]
          },
          "execution_count": 165,
          "metadata": {},
          "output_type": "execute_result"
        }
      ],
      "source": [
        "type(a)\n",
        "c = a + 1\n",
        "type(c)\n"
      ]
    },
    {
      "cell_type": "code",
      "execution_count": 166,
      "id": "d95becec",
      "metadata": {},
      "outputs": [
        {
          "data": {
            "text/plain": [
              "2"
            ]
          },
          "execution_count": 166,
          "metadata": {},
          "output_type": "execute_result"
        }
      ],
      "source": [
        "c"
      ]
    },
    {
      "cell_type": "code",
      "execution_count": 167,
      "id": "88bc8817",
      "metadata": {},
      "outputs": [
        {
          "data": {
            "text/plain": [
              "bool"
            ]
          },
          "execution_count": 167,
          "metadata": {},
          "output_type": "execute_result"
        }
      ],
      "source": [
        "type(b)"
      ]
    },
    {
      "cell_type": "code",
      "execution_count": 168,
      "id": "a1b0b4d5-6d1f-4d69-a96b-5fc9abfa582c",
      "metadata": {},
      "outputs": [
        {
          "data": {
            "text/plain": [
              "True"
            ]
          },
          "execution_count": 168,
          "metadata": {},
          "output_type": "execute_result"
        }
      ],
      "source": [
        "a\n"
      ]
    },
    {
      "cell_type": "code",
      "execution_count": 169,
      "id": "25460580-f132-45d9-b8fc-52718cfe262e",
      "metadata": {},
      "outputs": [
        {
          "data": {
            "text/plain": [
              "10"
            ]
          },
          "execution_count": 169,
          "metadata": {},
          "output_type": "execute_result"
        }
      ],
      "source": [
        "# Entero -> int\n",
        "b = 10\n",
        "b"
      ]
    },
    {
      "cell_type": "code",
      "execution_count": 170,
      "id": "34cd952c-fd26-4905-9feb-edfca6db199d",
      "metadata": {},
      "outputs": [],
      "source": [
        "type(b)\n",
        "x = b + True\n"
      ]
    },
    {
      "cell_type": "code",
      "execution_count": 171,
      "id": "57f62d37",
      "metadata": {},
      "outputs": [
        {
          "data": {
            "text/plain": [
              "11"
            ]
          },
          "execution_count": 171,
          "metadata": {},
          "output_type": "execute_result"
        }
      ],
      "source": [
        "x"
      ]
    },
    {
      "cell_type": "code",
      "execution_count": 172,
      "id": "73d70870-f173-46ee-9fbf-855d4004548e",
      "metadata": {},
      "outputs": [],
      "source": [
        "\n",
        "\n",
        "#Flotante -> float\n",
        "c=1.2\n",
        "# c"
      ]
    },
    {
      "cell_type": "code",
      "execution_count": 173,
      "id": "711113ed-9875-4cb0-9490-7a3373eb255a",
      "metadata": {},
      "outputs": [
        {
          "data": {
            "text/plain": [
              "float"
            ]
          },
          "execution_count": 173,
          "metadata": {},
          "output_type": "execute_result"
        }
      ],
      "source": [
        "type (c)"
      ]
    },
    {
      "cell_type": "code",
      "execution_count": 174,
      "id": "4b032116",
      "metadata": {},
      "outputs": [],
      "source": [
        "c -= 0.2\n"
      ]
    },
    {
      "cell_type": "code",
      "execution_count": 175,
      "id": "43506fb1",
      "metadata": {},
      "outputs": [
        {
          "data": {
            "text/plain": [
              "float"
            ]
          },
          "execution_count": 175,
          "metadata": {},
          "output_type": "execute_result"
        }
      ],
      "source": [
        "type(c)"
      ]
    },
    {
      "cell_type": "code",
      "execution_count": 176,
      "id": "2041a28a-2101-4cfa-bd32-c3c685276174",
      "metadata": {},
      "outputs": [
        {
          "data": {
            "text/plain": [
              "2j"
            ]
          },
          "execution_count": 176,
          "metadata": {},
          "output_type": "execute_result"
        }
      ],
      "source": [
        "# Complejo -> complex\n",
        "d=2j\n",
        "d"
      ]
    },
    {
      "cell_type": "code",
      "execution_count": 177,
      "id": "52990f06-765d-44c8-bfce-ae48cc4ba90e",
      "metadata": {},
      "outputs": [
        {
          "data": {
            "text/plain": [
              "complex"
            ]
          },
          "execution_count": 177,
          "metadata": {},
          "output_type": "execute_result"
        }
      ],
      "source": [
        "type(d)"
      ]
    },
    {
      "cell_type": "code",
      "execution_count": 178,
      "id": "71f2bae8-070f-4c9b-8ea8-d9b3dba23acc",
      "metadata": {},
      "outputs": [
        {
          "data": {
            "text/plain": [
              "'hola mundo Hola Mundo'"
            ]
          },
          "execution_count": 178,
          "metadata": {},
          "output_type": "execute_result"
        }
      ],
      "source": [
        "# Cadena -> str\n",
        "e='hola mundo'\n",
        "f=\" Hola Mundo\"\n",
        "g= '¿HAY ALGUIEN?'\n",
        "e+f "
      ]
    },
    {
      "cell_type": "code",
      "execution_count": 179,
      "metadata": {},
      "outputs": [
        {
          "data": {
            "text/plain": [
              "'hola mundo Hola Mundo¿HAY ALGUIEN?'"
            ]
          },
          "execution_count": 179,
          "metadata": {},
          "output_type": "execute_result"
        }
      ],
      "source": [
        "e+f+g"
      ]
    },
    {
      "cell_type": "code",
      "execution_count": 180,
      "id": "ec5d68ab",
      "metadata": {},
      "outputs": [
        {
          "data": {
            "text/plain": [
              "1"
            ]
          },
          "execution_count": 180,
          "metadata": {},
          "output_type": "execute_result"
        }
      ],
      "source": [
        "int(1.2)"
      ]
    },
    {
      "cell_type": "code",
      "execution_count": 181,
      "id": "d9964910",
      "metadata": {},
      "outputs": [
        {
          "data": {
            "text/plain": [
              "1"
            ]
          },
          "execution_count": 181,
          "metadata": {},
          "output_type": "execute_result"
        }
      ],
      "source": [
        "int(1.999999)"
      ]
    },
    {
      "cell_type": "code",
      "execution_count": 182,
      "id": "71e6569c",
      "metadata": {},
      "outputs": [
        {
          "data": {
            "text/plain": [
              "2"
            ]
          },
          "execution_count": 182,
          "metadata": {},
          "output_type": "execute_result"
        }
      ],
      "source": [
        "round(1.999999999999999)"
      ]
    },
    {
      "cell_type": "code",
      "execution_count": 183,
      "id": "0b326fd6",
      "metadata": {},
      "outputs": [
        {
          "data": {
            "text/plain": [
              "1"
            ]
          },
          "execution_count": 183,
          "metadata": {},
          "output_type": "execute_result"
        }
      ],
      "source": [
        "\n",
        "round(1.49)"
      ]
    },
    {
      "cell_type": "code",
      "execution_count": 184,
      "id": "3e6d6274",
      "metadata": {},
      "outputs": [],
      "source": [
        "st=str(1.101)"
      ]
    },
    {
      "cell_type": "code",
      "execution_count": 185,
      "id": "3d10290f",
      "metadata": {},
      "outputs": [
        {
          "data": {
            "text/plain": [
              "str"
            ]
          },
          "execution_count": 185,
          "metadata": {},
          "output_type": "execute_result"
        }
      ],
      "source": [
        "type(st)"
      ]
    },
    {
      "cell_type": "code",
      "execution_count": 186,
      "id": "03a9583d",
      "metadata": {},
      "outputs": [
        {
          "data": {
            "text/plain": [
              "'1.101'"
            ]
          },
          "execution_count": 186,
          "metadata": {},
          "output_type": "execute_result"
        }
      ],
      "source": [
        "\n",
        "st"
      ]
    },
    {
      "cell_type": "code",
      "execution_count": 187,
      "id": "379f5cc5",
      "metadata": {},
      "outputs": [
        {
          "data": {
            "text/plain": [
              "'1.101 Hola Mundo¿HAY ALGUIEN?'"
            ]
          },
          "execution_count": 187,
          "metadata": {},
          "output_type": "execute_result"
        }
      ],
      "source": [
        "st+f+g"
      ]
    },
    {
      "cell_type": "code",
      "execution_count": 188,
      "id": "5f011754",
      "metadata": {},
      "outputs": [
        {
          "name": "stdout",
          "output_type": "stream",
          "text": [
            "el valor de a es a=10\n"
          ]
        }
      ],
      "source": [
        "a=10\n",
        "print(f'el valor de a es {a=}')"
      ]
    },
    {
      "cell_type": "code",
      "execution_count": 189,
      "id": "b8726e5d",
      "metadata": {},
      "outputs": [
        {
          "data": {
            "text/plain": [
              "str"
            ]
          },
          "execution_count": 189,
          "metadata": {},
          "output_type": "execute_result"
        }
      ],
      "source": [
        "type(e)"
      ]
    },
    {
      "cell_type": "code",
      "execution_count": 190,
      "id": "761e2428",
      "metadata": {},
      "outputs": [
        {
          "name": "stdout",
          "output_type": "stream",
          "text": [
            "imprimiendo el string hola mundo\n"
          ]
        }
      ],
      "source": [
        "print(f'imprimiendo el string {e}')"
      ]
    },
    {
      "cell_type": "code",
      "execution_count": 191,
      "id": "879eb748",
      "metadata": {},
      "outputs": [
        {
          "name": "stdout",
          "output_type": "stream",
          "text": [
            "imprimiendo el string e='hola mundo'\n"
          ]
        }
      ],
      "source": [
        "print(f'imprimiendo el string {e=}')"
      ]
    },
    {
      "cell_type": "code",
      "execution_count": 192,
      "id": "f08e15e9",
      "metadata": {},
      "outputs": [
        {
          "data": {
            "text/plain": [
              "'hola mundo'"
            ]
          },
          "execution_count": 192,
          "metadata": {},
          "output_type": "execute_result"
        }
      ],
      "source": [
        "e"
      ]
    },
    {
      "cell_type": "code",
      "execution_count": 193,
      "id": "82a77345",
      "metadata": {},
      "outputs": [
        {
          "data": {
            "text/plain": [
              "bool"
            ]
          },
          "execution_count": 193,
          "metadata": {},
          "output_type": "execute_result"
        }
      ],
      "source": [
        "esta_lloviendo = True\n",
        "type(esta_lloviendo)"
      ]
    },
    {
      "cell_type": "code",
      "execution_count": 194,
      "id": "cdbdf190",
      "metadata": {},
      "outputs": [
        {
          "data": {
            "text/plain": [
              "float"
            ]
          },
          "execution_count": 194,
          "metadata": {},
          "output_type": "execute_result"
        }
      ],
      "source": [
        "temp= 10.2\n",
        "type(temp)"
      ]
    },
    {
      "cell_type": "code",
      "execution_count": 195,
      "id": "58c814e1",
      "metadata": {},
      "outputs": [
        {
          "data": {
            "text/plain": [
              "True"
            ]
          },
          "execution_count": 195,
          "metadata": {},
          "output_type": "execute_result"
        }
      ],
      "source": [
        "isinstance(temp, float)"
      ]
    },
    {
      "cell_type": "code",
      "execution_count": 196,
      "id": "081a095d-4a6f-4410-8511-902244659b73",
      "metadata": {},
      "outputs": [
        {
          "data": {
            "text/plain": [
              "(1, 2, 3)"
            ]
          },
          "execution_count": 196,
          "metadata": {},
          "output_type": "execute_result"
        }
      ],
      "source": [
        "# Tupla -> tuple\n",
        "g = (1,2,3)\n",
        "g"
      ]
    },
    {
      "cell_type": "code",
      "execution_count": 197,
      "id": "10b64f9b-20b0-4a7c-b701-e59d417f0697",
      "metadata": {},
      "outputs": [
        {
          "data": {
            "text/plain": [
              "tuple"
            ]
          },
          "execution_count": 197,
          "metadata": {},
          "output_type": "execute_result"
        }
      ],
      "source": [
        "type(g)"
      ]
    },
    {
      "cell_type": "code",
      "execution_count": 198,
      "id": "a14b9313-2739-4b9e-9d01-8308350f9746",
      "metadata": {},
      "outputs": [
        {
          "data": {
            "text/plain": [
              "['Chrome', 0, 'Hola']"
            ]
          },
          "execution_count": 198,
          "metadata": {},
          "output_type": "execute_result"
        }
      ],
      "source": [
        "#Lista -> list\n",
        "h=['Chrome',0,'Hola']\n",
        "h\n"
      ]
    },
    {
      "cell_type": "code",
      "execution_count": 199,
      "id": "5b01b220-e2af-4493-a25b-6648fd972367",
      "metadata": {},
      "outputs": [
        {
          "data": {
            "text/plain": [
              "list"
            ]
          },
          "execution_count": 199,
          "metadata": {},
          "output_type": "execute_result"
        }
      ],
      "source": [
        "type(h)"
      ]
    },
    {
      "cell_type": "code",
      "execution_count": 200,
      "id": "02d9c6b9-54a4-4067-ba4d-5e6e339df0d0",
      "metadata": {},
      "outputs": [
        {
          "data": {
            "text/plain": [
              "{2, 3, 4}"
            ]
          },
          "execution_count": 200,
          "metadata": {},
          "output_type": "execute_result"
        }
      ],
      "source": [
        "#Set -> set\n",
        "i=set([2,3,4])\n",
        "i"
      ]
    },
    {
      "cell_type": "code",
      "execution_count": 201,
      "id": "4b6196bd-bd22-4b25-9620-2cc90c87620b",
      "metadata": {},
      "outputs": [
        {
          "data": {
            "text/plain": [
              "set"
            ]
          },
          "execution_count": 201,
          "metadata": {},
          "output_type": "execute_result"
        }
      ],
      "source": [
        "type(i)"
      ]
    },
    {
      "cell_type": "code",
      "execution_count": 202,
      "id": "8b8faa2e-b455-499a-877b-19082ef4efaf",
      "metadata": {},
      "outputs": [
        {
          "data": {
            "text/plain": [
              "{'hola': 1, 'Hi': 2}"
            ]
          },
          "execution_count": 202,
          "metadata": {},
          "output_type": "execute_result"
        }
      ],
      "source": [
        "# Diccionario -> dict\n",
        "j={'hola':1,'Hi':2}\n",
        "j"
      ]
    },
    {
      "cell_type": "code",
      "execution_count": 203,
      "id": "5f1677f5-34a5-4367-bbea-0e1e49e2206d",
      "metadata": {},
      "outputs": [
        {
          "data": {
            "text/plain": [
              "dict"
            ]
          },
          "execution_count": 203,
          "metadata": {},
          "output_type": "execute_result"
        }
      ],
      "source": [
        "type(j)"
      ]
    },
    {
      "cell_type": "code",
      "execution_count": 204,
      "id": "611b5d0d-7b91-4773-ac77-c43010acab04",
      "metadata": {},
      "outputs": [
        {
          "data": {
            "text/plain": [
              "1"
            ]
          },
          "execution_count": 204,
          "metadata": {},
          "output_type": "execute_result"
        }
      ],
      "source": [
        "j['hola']"
      ]
    },
    {
      "cell_type": "markdown",
      "id": "5341db45-aaa5-45ba-8ac5-477c43a804e5",
      "metadata": {},
      "source": [
        "## Mutabilidad \n"
      ]
    },
    {
      "cell_type": "code",
      "execution_count": 205,
      "id": "997bd3be-dec0-445b-a55a-81cb7919111b",
      "metadata": {},
      "outputs": [
        {
          "data": {
            "text/plain": [
              "9"
            ]
          },
          "execution_count": 205,
          "metadata": {},
          "output_type": "execute_result"
        }
      ],
      "source": [
        "a = 9\n",
        "b = a\n",
        "b"
      ]
    },
    {
      "cell_type": "code",
      "execution_count": 206,
      "id": "ae612207-c759-4d70-86e8-86e2ac916fd0",
      "metadata": {},
      "outputs": [
        {
          "data": {
            "text/plain": [
              "2058599662064"
            ]
          },
          "execution_count": 206,
          "metadata": {},
          "output_type": "execute_result"
        }
      ],
      "source": [
        "id(a)"
      ]
    },
    {
      "cell_type": "code",
      "execution_count": 207,
      "id": "603ede55-72f9-47fb-afeb-1bc4540a68f0",
      "metadata": {},
      "outputs": [
        {
          "data": {
            "text/plain": [
              "2058599662064"
            ]
          },
          "execution_count": 207,
          "metadata": {},
          "output_type": "execute_result"
        }
      ],
      "source": [
        "id(b)"
      ]
    },
    {
      "cell_type": "code",
      "execution_count": 208,
      "id": "dfaa19fc-f796-4181-be5c-bc70fed2bd19",
      "metadata": {},
      "outputs": [],
      "source": [
        "a=10"
      ]
    },
    {
      "cell_type": "code",
      "execution_count": 209,
      "id": "dbb87211-2253-48c1-9561-c34d7f3da2b7",
      "metadata": {},
      "outputs": [
        {
          "data": {
            "text/plain": [
              "9"
            ]
          },
          "execution_count": 209,
          "metadata": {},
          "output_type": "execute_result"
        }
      ],
      "source": [
        "b"
      ]
    },
    {
      "cell_type": "code",
      "execution_count": 210,
      "id": "615b0b54-455f-4b6b-9ed6-763101fa0686",
      "metadata": {},
      "outputs": [
        {
          "data": {
            "text/plain": [
              "2058599662096"
            ]
          },
          "execution_count": 210,
          "metadata": {},
          "output_type": "execute_result"
        }
      ],
      "source": [
        "id(a)"
      ]
    },
    {
      "cell_type": "code",
      "execution_count": 211,
      "id": "843dbd40",
      "metadata": {},
      "outputs": [
        {
          "data": {
            "text/plain": [
              "2058599662064"
            ]
          },
          "execution_count": 211,
          "metadata": {},
          "output_type": "execute_result"
        }
      ],
      "source": [
        "id(b)"
      ]
    },
    {
      "cell_type": "code",
      "execution_count": 212,
      "id": "70db02b4-f525-4209-9528-ffce6b2e3721",
      "metadata": {},
      "outputs": [
        {
          "data": {
            "text/plain": [
              "[4, 2, 3]"
            ]
          },
          "execution_count": 212,
          "metadata": {},
          "output_type": "execute_result"
        }
      ],
      "source": [
        "original=[1,2,3]\n",
        "copia = original\n",
        "original[0]=4\n",
        "copia"
      ]
    },
    {
      "cell_type": "code",
      "execution_count": 213,
      "id": "9e8a61ef-703a-48f6-8acb-ea15b63883ac",
      "metadata": {},
      "outputs": [
        {
          "data": {
            "text/plain": [
              "[4, 2, 3]"
            ]
          },
          "execution_count": 213,
          "metadata": {},
          "output_type": "execute_result"
        }
      ],
      "source": [
        "original =[4,5,6]\n",
        "copia\n"
      ]
    },
    {
      "cell_type": "code",
      "execution_count": 214,
      "id": "09ec98ed",
      "metadata": {},
      "outputs": [
        {
          "data": {
            "text/plain": [
              "2058688192960"
            ]
          },
          "execution_count": 214,
          "metadata": {},
          "output_type": "execute_result"
        }
      ],
      "source": [
        "id(original)"
      ]
    },
    {
      "cell_type": "code",
      "execution_count": 215,
      "id": "059f59ed",
      "metadata": {},
      "outputs": [
        {
          "data": {
            "text/plain": [
              "2058688358784"
            ]
          },
          "execution_count": 215,
          "metadata": {},
          "output_type": "execute_result"
        }
      ],
      "source": [
        "id(copia)"
      ]
    },
    {
      "cell_type": "markdown",
      "id": "3e9faa4f",
      "metadata": {},
      "source": [
        "# Conversión de tipos - conversión implícita\n"
      ]
    },
    {
      "cell_type": "markdown",
      "id": "d39710ee",
      "metadata": {},
      "source": [
        "Cuando mezclamos enteros, booleanos y flotantes, Python realiza automáticamente una\n",
        "conversión implícita (o promoción) de los valores al tipo de «mayor rango». Veamos algunos\n",
        "ejemplos de esto:\n"
      ]
    },
    {
      "cell_type": "code",
      "execution_count": 216,
      "id": "425ab7d3",
      "metadata": {},
      "outputs": [
        {
          "data": {
            "text/plain": [
              "24"
            ]
          },
          "execution_count": 216,
          "metadata": {},
          "output_type": "execute_result"
        }
      ],
      "source": [
        "True +23\n"
      ]
    },
    {
      "cell_type": "code",
      "execution_count": 217,
      "id": "450971e9",
      "metadata": {},
      "outputs": [
        {
          "data": {
            "text/plain": [
              "int"
            ]
          },
          "execution_count": 217,
          "metadata": {},
          "output_type": "execute_result"
        }
      ],
      "source": [
        "type(7 * False)"
      ]
    },
    {
      "cell_type": "code",
      "execution_count": 218,
      "id": "f7958018",
      "metadata": {},
      "outputs": [
        {
          "data": {
            "text/plain": [
              "22.1"
            ]
          },
          "execution_count": 218,
          "metadata": {},
          "output_type": "execute_result"
        }
      ],
      "source": [
        "10 + 12.1"
      ]
    },
    {
      "cell_type": "markdown",
      "id": "c30b166f",
      "metadata": {},
      "source": [
        "Determinacion del tipo de variable. Uso de type() y isinstance()."
      ]
    },
    {
      "cell_type": "code",
      "execution_count": 219,
      "id": "4aea56e0",
      "metadata": {},
      "outputs": [
        {
          "data": {
            "text/plain": [
              "float"
            ]
          },
          "execution_count": 219,
          "metadata": {},
          "output_type": "execute_result"
        }
      ],
      "source": [
        "type(3.3)"
      ]
    },
    {
      "cell_type": "code",
      "execution_count": 220,
      "id": "631fcf2b",
      "metadata": {},
      "outputs": [
        {
          "data": {
            "text/plain": [
              "True"
            ]
          },
          "execution_count": 220,
          "metadata": {},
          "output_type": "execute_result"
        }
      ],
      "source": [
        "isinstance(False,bool)"
      ]
    },
    {
      "cell_type": "code",
      "execution_count": 221,
      "id": "8b980b6a",
      "metadata": {},
      "outputs": [
        {
          "data": {
            "text/plain": [
              "False"
            ]
          },
          "execution_count": 221,
          "metadata": {},
          "output_type": "execute_result"
        }
      ],
      "source": [
        "isinstance(2,float)"
      ]
    },
    {
      "cell_type": "markdown",
      "id": "a3dfbb61",
      "metadata": {},
      "source": [
        "Redondeo y truncado de valores round() vs int()"
      ]
    },
    {
      "cell_type": "code",
      "execution_count": 222,
      "id": "d7125878",
      "metadata": {},
      "outputs": [
        {
          "data": {
            "text/plain": [
              "6"
            ]
          },
          "execution_count": 222,
          "metadata": {},
          "output_type": "execute_result"
        }
      ],
      "source": [
        "round(5.6)"
      ]
    },
    {
      "cell_type": "code",
      "execution_count": 223,
      "id": "08253c21",
      "metadata": {},
      "outputs": [
        {
          "data": {
            "text/plain": [
              "5"
            ]
          },
          "execution_count": 223,
          "metadata": {},
          "output_type": "execute_result"
        }
      ],
      "source": [
        "int(5.6)"
      ]
    },
    {
      "cell_type": "markdown",
      "id": "44bbeabf",
      "metadata": {},
      "source": [
        "Límite del punto flotante\n"
      ]
    },
    {
      "cell_type": "code",
      "execution_count": 224,
      "id": "13cea765",
      "metadata": {},
      "outputs": [
        {
          "data": {
            "text/plain": [
              "2.2250738585072014e-308"
            ]
          },
          "execution_count": 224,
          "metadata": {},
          "output_type": "execute_result"
        }
      ],
      "source": [
        "import sys\n",
        "sys.float_info.min"
      ]
    },
    {
      "cell_type": "code",
      "execution_count": 225,
      "id": "f9bb45c0",
      "metadata": {},
      "outputs": [
        {
          "data": {
            "text/plain": [
              "1.7976931348623157e+308"
            ]
          },
          "execution_count": 225,
          "metadata": {},
          "output_type": "execute_result"
        }
      ],
      "source": [
        "sys.float_info.max"
      ]
    },
    {
      "cell_type": "markdown",
      "id": "9f4903e1",
      "metadata": {},
      "source": [
        "Bases de sistemas de numeración:<br>\n",
        "-Binario     bin()  0b <br>\n",
        "-Octal       oct()  0o<br>\n",
        "-Hexadecimal hex() 0x <br>              "
      ]
    },
    {
      "cell_type": "code",
      "execution_count": 226,
      "id": "fc744855",
      "metadata": {},
      "outputs": [
        {
          "data": {
            "text/plain": [
              "341"
            ]
          },
          "execution_count": 226,
          "metadata": {},
          "output_type": "execute_result"
        }
      ],
      "source": [
        "a = 0b101010101\n",
        "a"
      ]
    },
    {
      "cell_type": "code",
      "execution_count": 227,
      "id": "4b5de3df",
      "metadata": {},
      "outputs": [
        {
          "data": {
            "text/plain": [
              "'0b101010101'"
            ]
          },
          "execution_count": 227,
          "metadata": {},
          "output_type": "execute_result"
        }
      ],
      "source": [
        "bin(a)"
      ]
    },
    {
      "cell_type": "code",
      "execution_count": 228,
      "id": "dc509667",
      "metadata": {},
      "outputs": [
        {
          "data": {
            "text/plain": [
              "1810"
            ]
          },
          "execution_count": 228,
          "metadata": {},
          "output_type": "execute_result"
        }
      ],
      "source": [
        "b = 0o3422\n",
        "b"
      ]
    },
    {
      "cell_type": "code",
      "execution_count": 229,
      "id": "4a930707",
      "metadata": {},
      "outputs": [
        {
          "data": {
            "text/plain": [
              "'0o3422'"
            ]
          },
          "execution_count": 229,
          "metadata": {},
          "output_type": "execute_result"
        }
      ],
      "source": [
        "oct(b)"
      ]
    },
    {
      "cell_type": "code",
      "execution_count": 230,
      "id": "da6d12b0",
      "metadata": {},
      "outputs": [
        {
          "data": {
            "text/plain": [
              "1040351"
            ]
          },
          "execution_count": 230,
          "metadata": {},
          "output_type": "execute_result"
        }
      ],
      "source": [
        "c = 0xfdfdf\n",
        "c"
      ]
    },
    {
      "cell_type": "code",
      "execution_count": 231,
      "id": "5b3a2ba6",
      "metadata": {},
      "outputs": [
        {
          "data": {
            "text/plain": [
              "'0xfdfdf'"
            ]
          },
          "execution_count": 231,
          "metadata": {},
          "output_type": "execute_result"
        }
      ],
      "source": [
        "hex(c)"
      ]
    },
    {
      "cell_type": "markdown",
      "id": "66df07e3",
      "metadata": {},
      "source": [
        "Función sqrt (raiz cuadrada) y Random   (números aleatorios)"
      ]
    },
    {
      "cell_type": "code",
      "execution_count": 232,
      "id": "12f2ccba",
      "metadata": {},
      "outputs": [
        {
          "data": {
            "text/plain": [
              "2.23606797749979"
            ]
          },
          "execution_count": 232,
          "metadata": {},
          "output_type": "execute_result"
        }
      ],
      "source": [
        "import math\n",
        "math.sqrt(5)"
      ]
    },
    {
      "cell_type": "code",
      "execution_count": 233,
      "id": "81b05a75",
      "metadata": {},
      "outputs": [
        {
          "name": "stdout",
          "output_type": "stream",
          "text": [
            "14\n",
            "45\n",
            "77\n",
            "70\n",
            "73\n",
            "43\n",
            "80\n",
            "53\n",
            "8\n",
            "45\n"
          ]
        }
      ],
      "source": [
        "import random\n",
        "random.seed(100)\n",
        "for _ in range(10):\n",
        "    randn=random.uniform(0,100)\n",
        "    print(int(randn))"
      ]
    },
    {
      "cell_type": "markdown",
      "id": "c6abdb58",
      "metadata": {},
      "source": [
        "# Cadenas de texto - string <br>\n",
        "\n"
      ]
    },
    {
      "cell_type": "code",
      "execution_count": 234,
      "id": "c80d4aff",
      "metadata": {},
      "outputs": [
        {
          "data": {
            "text/plain": [
              "'Esta es una cadena de texto'"
            ]
          },
          "execution_count": 234,
          "metadata": {},
          "output_type": "execute_result"
        }
      ],
      "source": [
        "'Esta es una cadena de texto'"
      ]
    },
    {
      "cell_type": "code",
      "execution_count": 235,
      "id": "317f1914",
      "metadata": {},
      "outputs": [
        {
          "data": {
            "text/plain": [
              "'Comillas dobles \"dentro de una cadena\" de texto'"
            ]
          },
          "execution_count": 235,
          "metadata": {},
          "output_type": "execute_result"
        }
      ],
      "source": [
        "'Comillas dobles \"dentro de una cadena\" de texto'"
      ]
    },
    {
      "cell_type": "code",
      "execution_count": 236,
      "id": "14ec372c",
      "metadata": {},
      "outputs": [
        {
          "data": {
            "text/plain": [
              "\"Comillas simples ' dentro de una cadena ' de texto\""
            ]
          },
          "execution_count": 236,
          "metadata": {},
          "output_type": "execute_result"
        }
      ],
      "source": [
        "'Comillas simples \\' dentro de una cadena \\' de texto'"
      ]
    },
    {
      "cell_type": "code",
      "execution_count": 237,
      "id": "bd58c25d",
      "metadata": {},
      "outputs": [
        {
          "data": {
            "text/plain": [
              "\"Comillas simples dentro de una 'cadena' de texto\""
            ]
          },
          "execution_count": 237,
          "metadata": {},
          "output_type": "execute_result"
        }
      ],
      "source": [
        "\"Comillas simples dentro de una 'cadena' de texto\""
      ]
    },
    {
      "cell_type": "code",
      "execution_count": 238,
      "id": "7d94e577",
      "metadata": {},
      "outputs": [
        {
          "data": {
            "text/plain": [
              "'hola \\npython\\ncomo estás'"
            ]
          },
          "execution_count": 238,
          "metadata": {},
          "output_type": "execute_result"
        }
      ],
      "source": [
        "a= '''hola \n",
        "python\n",
        "como estás'''\n",
        "a"
      ]
    },
    {
      "cell_type": "code",
      "execution_count": 239,
      "id": "e62fe76d",
      "metadata": {},
      "outputs": [
        {
          "data": {
            "text/plain": [
              "''"
            ]
          },
          "execution_count": 239,
          "metadata": {},
          "output_type": "execute_result"
        }
      ],
      "source": [
        "g='' #cadena vacía\n",
        "g"
      ]
    },
    {
      "cell_type": "markdown",
      "id": "c136cf54",
      "metadata": {},
      "source": [
        "Conversión a texto\n"
      ]
    },
    {
      "cell_type": "code",
      "execution_count": 240,
      "id": "9c541e66",
      "metadata": {},
      "outputs": [
        {
          "data": {
            "text/plain": [
              "'True'"
            ]
          },
          "execution_count": 240,
          "metadata": {},
          "output_type": "execute_result"
        }
      ],
      "source": [
        "\n",
        "str(True)"
      ]
    },
    {
      "cell_type": "code",
      "execution_count": 241,
      "id": "01059484",
      "metadata": {},
      "outputs": [
        {
          "data": {
            "text/plain": [
              "'10'"
            ]
          },
          "execution_count": 241,
          "metadata": {},
          "output_type": "execute_result"
        }
      ],
      "source": [
        "str(10)"
      ]
    },
    {
      "cell_type": "code",
      "execution_count": 242,
      "id": "d8b90248",
      "metadata": {},
      "outputs": [
        {
          "data": {
            "text/plain": [
              "'21.3'"
            ]
          },
          "execution_count": 242,
          "metadata": {},
          "output_type": "execute_result"
        }
      ],
      "source": [
        "str(21.3)"
      ]
    },
    {
      "cell_type": "code",
      "execution_count": 243,
      "id": "11f0710f",
      "metadata": {},
      "outputs": [
        {
          "data": {
            "text/plain": [
              "str"
            ]
          },
          "execution_count": 243,
          "metadata": {},
          "output_type": "execute_result"
        }
      ],
      "source": [
        "type(str(32))"
      ]
    },
    {
      "cell_type": "code",
      "execution_count": 244,
      "id": "cf827c70",
      "metadata": {},
      "outputs": [
        {
          "data": {
            "text/plain": [
              "int"
            ]
          },
          "execution_count": 244,
          "metadata": {},
          "output_type": "execute_result"
        }
      ],
      "source": [
        "type(int(str(32)))"
      ]
    },
    {
      "cell_type": "markdown",
      "id": "59c2ff1f",
      "metadata": {},
      "source": [
        "Secuencias de Escape\n"
      ]
    },
    {
      "cell_type": "code",
      "execution_count": 245,
      "id": "6296ab38",
      "metadata": {},
      "outputs": [
        {
          "name": "stdout",
          "output_type": "stream",
          "text": [
            "Primera línea\n",
            "Segunda línea\n",
            "Tercera línea\n"
          ]
        }
      ],
      "source": [
        "# Salto de línea\n",
        "msg = 'Primera línea\\nSegunda línea\\nTercera línea'\n",
        "print(msg)\n"
      ]
    },
    {
      "cell_type": "code",
      "execution_count": 246,
      "id": "6298d0ec",
      "metadata": {},
      "outputs": [
        {
          "name": "stdout",
          "output_type": "stream",
          "text": [
            "hola \n",
            "como \n",
            "estas\n"
          ]
        }
      ],
      "source": [
        "msg = '''hola \n",
        "como \n",
        "estas'''\n",
        "print(msg)"
      ]
    },
    {
      "cell_type": "code",
      "execution_count": 247,
      "id": "45d4d75a",
      "metadata": {},
      "outputs": [
        {
          "name": "stdout",
          "output_type": "stream",
          "text": [
            "Valor= \t34\n"
          ]
        }
      ],
      "source": [
        "# tabulador\n",
        "msg = \"Valor= \\t34\"\n",
        "print(msg)"
      ]
    },
    {
      "cell_type": "code",
      "execution_count": 248,
      "id": "a6f59eb4",
      "metadata": {},
      "outputs": [
        {
          "name": "stdout",
          "output_type": "stream",
          "text": [
            "Necesitamos 'escapar' la comilla simple\n"
          ]
        }
      ],
      "source": [
        "#Comilla simple\n",
        "msg = 'Necesitamos \\'escapar\\' la comilla simple'\n",
        "print(msg)"
      ]
    },
    {
      "cell_type": "code",
      "execution_count": 249,
      "id": "59b6c1a2",
      "metadata": {},
      "outputs": [
        {
          "name": "stdout",
          "output_type": "stream",
          "text": [
            "Capítulo \\ Sección \\ Encabezado\n"
          ]
        }
      ],
      "source": [
        "# Barra invertida\n",
        "msg = 'Capítulo \\\\ Sección \\\\ Encabezado'\n",
        "print(msg)"
      ]
    },
    {
      "cell_type": "markdown",
      "id": "4b0e1b43",
      "metadata": {},
      "source": [
        "Expresiones literales"
      ]
    },
    {
      "cell_type": "code",
      "execution_count": 250,
      "id": "f5ee9735",
      "metadata": {},
      "outputs": [
        {
          "name": "stdout",
          "output_type": "stream",
          "text": [
            "abc\n",
            "def\n"
          ]
        }
      ],
      "source": [
        "text = 'abc\\ndef'\n",
        "print(text)\n"
      ]
    },
    {
      "cell_type": "code",
      "execution_count": 251,
      "id": "cad1cf2d",
      "metadata": {},
      "outputs": [
        {
          "name": "stdout",
          "output_type": "stream",
          "text": [
            "abc\\ndef\n"
          ]
        }
      ],
      "source": [
        "\n",
        "text = r'abc\\ndef'\n",
        "print(text)\n",
        "\n"
      ]
    },
    {
      "cell_type": "code",
      "execution_count": 252,
      "id": "f0d7418f",
      "metadata": {},
      "outputs": [
        {
          "name": "stdout",
          "output_type": "stream",
          "text": [
            "a\tb\tc\n"
          ]
        }
      ],
      "source": [
        "text = 'a\\tb\\tc'\n",
        "print(text)\n",
        "\n"
      ]
    },
    {
      "cell_type": "code",
      "execution_count": 253,
      "id": "58ffd8ab",
      "metadata": {},
      "outputs": [
        {
          "name": "stdout",
          "output_type": "stream",
          "text": [
            "a\\tb\\tc\n"
          ]
        }
      ],
      "source": [
        "text = r'a\\tb\\tc'\n",
        "print(text)\n"
      ]
    },
    {
      "cell_type": "markdown",
      "id": "6ebeca29",
      "metadata": {},
      "source": [
        "# Más sobre el print()"
      ]
    },
    {
      "cell_type": "code",
      "execution_count": 254,
      "id": "05f15572",
      "metadata": {},
      "outputs": [
        {
          "name": "stdout",
          "output_type": "stream",
          "text": [
            "¿Sabes por qué estoy acá? Porque me apasiona\n",
            "¿Sabes por qué estoy acá?|Porque me apasiona\n",
            "Porque me apasiona!!"
          ]
        }
      ],
      "source": [
        "msg1 = '¿Sabes por qué estoy acá?'\n",
        "msg2 = 'Porque me apasiona'\n",
        "print(msg1, msg2)\n",
        "print(msg1, msg2, sep='|') # separador por default es el espacio\n",
        "print(msg2, end='!!') # final de línea por default es el salto de línea\n"
      ]
    },
    {
      "cell_type": "markdown",
      "id": "c2401c5d",
      "metadata": {},
      "source": [
        "# Leer datos del teclado input()"
      ]
    },
    {
      "cell_type": "code",
      "execution_count": 93,
      "id": "51747a48",
      "metadata": {},
      "outputs": [
        {
          "data": {
            "text/plain": [
              "''"
            ]
          },
          "execution_count": 93,
          "metadata": {},
          "output_type": "execute_result"
        }
      ],
      "source": [
        "name = input('Introduce el nombre:')\n",
        "name"
      ]
    },
    {
      "cell_type": "code",
      "execution_count": 94,
      "id": "9f3a41ba",
      "metadata": {},
      "outputs": [
        {
          "data": {
            "text/plain": [
              "str"
            ]
          },
          "execution_count": 94,
          "metadata": {},
          "output_type": "execute_result"
        }
      ],
      "source": [
        "type(name)"
      ]
    },
    {
      "cell_type": "code",
      "execution_count": 95,
      "id": "fe0315a4",
      "metadata": {},
      "outputs": [
        {
          "data": {
            "text/plain": [
              "''"
            ]
          },
          "execution_count": 95,
          "metadata": {},
          "output_type": "execute_result"
        }
      ],
      "source": [
        "edad = input('Introduzca la edad:')\n",
        "edad"
      ]
    },
    {
      "cell_type": "code",
      "execution_count": 96,
      "id": "69f37308",
      "metadata": {},
      "outputs": [
        {
          "data": {
            "text/plain": [
              "str"
            ]
          },
          "execution_count": 96,
          "metadata": {},
          "output_type": "execute_result"
        }
      ],
      "source": [
        "type(edad)"
      ]
    },
    {
      "cell_type": "markdown",
      "id": "0f54aaa1",
      "metadata": {},
      "source": [
        "# Operaciones con Strings\n",
        "Combinar, Repetir, Obtener caracteres:\n",
        "\n",
        "\n",
        "Los «strings» están indexados y cada caracter tiene su propia posición. Para obtener un\n",
        "único caracter dentro de una cadena de texto es necesario especificar su índice dentro de\n",
        "corchetes [...]."
      ]
    },
    {
      "cell_type": "code",
      "execution_count": 97,
      "id": "949b8504",
      "metadata": {},
      "outputs": [
        {
          "data": {
            "text/plain": [
              "'no por mucho madrugarse amanece mas temprano'"
            ]
          },
          "execution_count": 97,
          "metadata": {},
          "output_type": "execute_result"
        }
      ],
      "source": [
        "# Podemos combinar dos o más cadenas de texto utilizando el operador +:\n",
        "prov = 'no por mucho madrugar'\n",
        "prov1 = 'se amanece mas temprano'\n",
        "prov + prov1"
      ]
    },
    {
      "cell_type": "code",
      "execution_count": 98,
      "id": "b290012c",
      "metadata": {},
      "outputs": [
        {
          "data": {
            "text/plain": [
              "'no por mucho madrugar, se amanece mas temprano'"
            ]
          },
          "execution_count": 98,
          "metadata": {},
          "output_type": "execute_result"
        }
      ],
      "source": [
        "prov + ', ' +  prov1"
      ]
    },
    {
      "cell_type": "code",
      "execution_count": 99,
      "id": "503d9483",
      "metadata": {},
      "outputs": [
        {
          "data": {
            "text/plain": [
              "'Yahoo, Yahoo, Yahoo, '"
            ]
          },
          "execution_count": 99,
          "metadata": {},
          "output_type": "execute_result"
        }
      ],
      "source": [
        "# Podemos repetir dos o más cadenas de texto utilizando el operador *:\n",
        "\n",
        "reaccion = 'Yahoo'\n",
        "\n",
        "(reaccion + ', ') *3"
      ]
    },
    {
      "cell_type": "code",
      "execution_count": 100,
      "id": "199e51f9",
      "metadata": {},
      "outputs": [
        {
          "data": {
            "text/plain": [
              "'H'"
            ]
          },
          "execution_count": 100,
          "metadata": {},
          "output_type": "execute_result"
        }
      ],
      "source": [
        "# Los «strings» están indexados y cada caracter tiene su propia posición. Para obtener un\n",
        "# único caracter dentro de una cadena de texto es necesario especificar su índice dentro de\n",
        "# corchetes [...].\n",
        "\n",
        "cadena = 'Hola, mundo'\n",
        "\n",
        "cadena[0]"
      ]
    },
    {
      "cell_type": "code",
      "execution_count": 101,
      "id": "e8e784e0",
      "metadata": {},
      "outputs": [
        {
          "data": {
            "text/plain": [
              "'o'"
            ]
          },
          "execution_count": 101,
          "metadata": {},
          "output_type": "execute_result"
        }
      ],
      "source": [
        "cadena[-1]"
      ]
    },
    {
      "cell_type": "code",
      "execution_count": 102,
      "id": "de5d710f",
      "metadata": {},
      "outputs": [
        {
          "data": {
            "text/plain": [
              "'m'"
            ]
          },
          "execution_count": 102,
          "metadata": {},
          "output_type": "execute_result"
        }
      ],
      "source": [
        "cadena[-5]"
      ]
    },
    {
      "cell_type": "markdown",
      "id": "15282df4",
      "metadata": {},
      "source": [
        "Trocear una  cadena\n"
      ]
    },
    {
      "cell_type": "code",
      "execution_count": 103,
      "id": "56c3a131",
      "metadata": {},
      "outputs": [
        {
          "data": {
            "text/plain": [
              "'Agua pasada no mueve molino'"
            ]
          },
          "execution_count": 103,
          "metadata": {},
          "output_type": "execute_result"
        }
      ],
      "source": [
        "proverb = 'Agua pasada no mueve molino'\n",
        "proverb[:]\n"
      ]
    },
    {
      "cell_type": "code",
      "execution_count": 104,
      "id": "54e0291e",
      "metadata": {},
      "outputs": [
        {
          "data": {
            "text/plain": [
              "'no mueve molino'"
            ]
          },
          "execution_count": 104,
          "metadata": {},
          "output_type": "execute_result"
        }
      ],
      "source": [
        "proverb[12:]\n"
      ]
    },
    {
      "cell_type": "code",
      "execution_count": 105,
      "id": "dbcee931",
      "metadata": {},
      "outputs": [
        {
          "data": {
            "text/plain": [
              "'Agua pasada'"
            ]
          },
          "execution_count": 105,
          "metadata": {},
          "output_type": "execute_result"
        }
      ],
      "source": [
        "proverb[:11]\n"
      ]
    },
    {
      "cell_type": "code",
      "execution_count": 106,
      "id": "a8caa020",
      "metadata": {},
      "outputs": [
        {
          "data": {
            "text/plain": [
              "'pasada'"
            ]
          },
          "execution_count": 106,
          "metadata": {},
          "output_type": "execute_result"
        }
      ],
      "source": [
        "proverb[5:11]\n"
      ]
    },
    {
      "cell_type": "code",
      "execution_count": 107,
      "id": "cc1672c1",
      "metadata": {},
      "outputs": [
        {
          "data": {
            "text/plain": [
              "'psd'"
            ]
          },
          "execution_count": 107,
          "metadata": {},
          "output_type": "execute_result"
        }
      ],
      "source": [
        "proverb[5:11:2]\n"
      ]
    },
    {
      "cell_type": "markdown",
      "id": "5e70bfd9",
      "metadata": {},
      "source": [
        "Longitud de una cadena"
      ]
    },
    {
      "cell_type": "code",
      "execution_count": 108,
      "id": "1c728167",
      "metadata": {},
      "outputs": [
        {
          "data": {
            "text/plain": [
              "55"
            ]
          },
          "execution_count": 108,
          "metadata": {},
          "output_type": "execute_result"
        }
      ],
      "source": [
        "cadena = 'hola, bienvenidos al mundo de la programación en python'\n",
        "len(cadena)"
      ]
    },
    {
      "cell_type": "code",
      "execution_count": 109,
      "id": "a40cf6ba",
      "metadata": {},
      "outputs": [
        {
          "data": {
            "text/plain": [
              "0"
            ]
          },
          "execution_count": 109,
          "metadata": {},
          "output_type": "execute_result"
        }
      ],
      "source": [
        "vacia = ''\n",
        "len(vacia)"
      ]
    },
    {
      "cell_type": "markdown",
      "id": "0b0a5214",
      "metadata": {},
      "source": [
        "Pertenencia de un elemento"
      ]
    },
    {
      "cell_type": "code",
      "execution_count": 110,
      "id": "4514dbd2",
      "metadata": {},
      "outputs": [
        {
          "data": {
            "text/plain": [
              "True"
            ]
          },
          "execution_count": 110,
          "metadata": {},
          "output_type": "execute_result"
        }
      ],
      "source": [
        "cadena = 'hola, bienvenidos al mundo de la programación en python'\n",
        "'hola' in cadena"
      ]
    },
    {
      "cell_type": "code",
      "execution_count": 111,
      "id": "2e4bd67a",
      "metadata": {},
      "outputs": [
        {
          "data": {
            "text/plain": [
              "False"
            ]
          },
          "execution_count": 111,
          "metadata": {},
          "output_type": "execute_result"
        }
      ],
      "source": [
        "'hello' in cadena"
      ]
    },
    {
      "cell_type": "code",
      "execution_count": 112,
      "id": "83a75295",
      "metadata": {},
      "outputs": [
        {
          "data": {
            "text/plain": [
              "False"
            ]
          },
          "execution_count": 112,
          "metadata": {},
          "output_type": "execute_result"
        }
      ],
      "source": [
        "not('hola' in cadena) "
      ]
    },
    {
      "cell_type": "code",
      "execution_count": 113,
      "id": "8b275669",
      "metadata": {},
      "outputs": [
        {
          "data": {
            "text/plain": [
              "True"
            ]
          },
          "execution_count": 113,
          "metadata": {},
          "output_type": "execute_result"
        }
      ],
      "source": [
        "'hello' not in cadena"
      ]
    },
    {
      "cell_type": "markdown",
      "id": "daf62c08",
      "metadata": {},
      "source": [
        "División de la cadena"
      ]
    },
    {
      "cell_type": "code",
      "execution_count": 114,
      "id": "15580483",
      "metadata": {},
      "outputs": [
        {
          "data": {
            "text/plain": [
              "['este', 'es', 'el', 'mensaje,', 'de', 'python']"
            ]
          },
          "execution_count": 114,
          "metadata": {},
          "output_type": "execute_result"
        }
      ],
      "source": [
        "cadena1 = 'este es el mensaje, de python'\n",
        "cadena1.split()"
      ]
    },
    {
      "cell_type": "code",
      "execution_count": 115,
      "id": "0740c927",
      "metadata": {},
      "outputs": [
        {
          "data": {
            "text/plain": [
              "list"
            ]
          },
          "execution_count": 115,
          "metadata": {},
          "output_type": "execute_result"
        }
      ],
      "source": [
        "type(cadena1.split())"
      ]
    },
    {
      "cell_type": "code",
      "execution_count": 116,
      "id": "38f9a3ad",
      "metadata": {},
      "outputs": [
        {
          "data": {
            "text/plain": [
              "['este es el mensaje', ' de python']"
            ]
          },
          "execution_count": 116,
          "metadata": {},
          "output_type": "execute_result"
        }
      ],
      "source": [
        "cadena1.split(',')"
      ]
    },
    {
      "cell_type": "code",
      "execution_count": 117,
      "id": "524485e1",
      "metadata": {},
      "outputs": [
        {
          "data": {
            "text/plain": [
              "('Pedro', ',', ' Marcelo')"
            ]
          },
          "execution_count": 117,
          "metadata": {},
          "output_type": "execute_result"
        }
      ],
      "source": [
        "# uso de partition() \n",
        "text = 'Pedro, Marcelo'\n",
        "text.partition(',')"
      ]
    },
    {
      "cell_type": "markdown",
      "id": "3bab4db0",
      "metadata": {},
      "source": [
        "Limpiar cadenas\n",
        "Cuando leemos datos del usuario o de cualquier fuente externa de información, es bastante\n",
        "probable que se incluyan en esas cadenas de texto, caracteres de relleno al comienzo y\n",
        "al final. \n",
        "Python nos ofrece la posibilidad de eliminar estos caracteres u otros que no nos\n",
        "interesen.\n"
      ]
    },
    {
      "cell_type": "code",
      "execution_count": 118,
      "id": "4d130cc9",
      "metadata": {},
      "outputs": [
        {
          "data": {
            "text/plain": [
              "'48374983274832'"
            ]
          },
          "execution_count": 118,
          "metadata": {},
          "output_type": "execute_result"
        }
      ],
      "source": [
        "serial_number = '\\n\\t \\n 48374983274832 \\n\\n\\t \\t \\n'\n",
        "serial_number.strip()"
      ]
    },
    {
      "cell_type": "code",
      "execution_count": 119,
      "id": "0bc2e6e7",
      "metadata": {},
      "outputs": [
        {
          "data": {
            "text/plain": [
              "'48374983274832 \\n\\n\\t \\t \\n'"
            ]
          },
          "execution_count": 119,
          "metadata": {},
          "output_type": "execute_result"
        }
      ],
      "source": [
        "# A continuación vamos a hacer «limpieza» por la izquierda (comienzo) y por la derecha (final)\n",
        "# utilizando la función lstrip() y rstrip() respectivamente\n",
        "\n",
        "serial_number.lstrip()\n"
      ]
    },
    {
      "cell_type": "code",
      "execution_count": 120,
      "id": "75f73b3e",
      "metadata": {},
      "outputs": [
        {
          "data": {
            "text/plain": [
              "'\\n\\t \\n 48374983274832'"
            ]
          },
          "execution_count": 120,
          "metadata": {},
          "output_type": "execute_result"
        }
      ],
      "source": [
        "serial_number.rstrip()"
      ]
    },
    {
      "cell_type": "markdown",
      "id": "8b7ddf7f",
      "metadata": {},
      "source": [
        "Busquedas en una cadena"
      ]
    },
    {
      "cell_type": "code",
      "execution_count": 121,
      "id": "be8d727a",
      "metadata": {},
      "outputs": [
        {
          "data": {
            "text/plain": [
              "True"
            ]
          },
          "execution_count": 121,
          "metadata": {},
          "output_type": "execute_result"
        }
      ],
      "source": [
        "# Busquedas dentro de una cadena \n",
        "\n",
        "cadena = '''Aunque las puertas se cierren\n",
        "Aunque no me sienta bien\n",
        "Aunque el tiempo pegue fuerte\n",
        "Sé que voy a estar de pie\n",
        "Yerba buena nunca muere'''\n",
        "\n",
        "# finaliza con ->\n",
        "cadena.startswith('Aunque')"
      ]
    },
    {
      "cell_type": "code",
      "execution_count": 122,
      "id": "be22ee8f",
      "metadata": {},
      "outputs": [
        {
          "data": {
            "text/plain": [
              "False"
            ]
          },
          "execution_count": 122,
          "metadata": {},
          "output_type": "execute_result"
        }
      ],
      "source": [
        "\n",
        "# empieza con ->\n",
        "cadena.endswith('final')"
      ]
    },
    {
      "cell_type": "code",
      "execution_count": 123,
      "id": "baeedf36",
      "metadata": {},
      "outputs": [
        {
          "data": {
            "text/plain": [
              "37"
            ]
          },
          "execution_count": 123,
          "metadata": {},
          "output_type": "execute_result"
        }
      ],
      "source": [
        "# encuentra  y determina el indice \n",
        "cadena.find(\"no\")"
      ]
    },
    {
      "cell_type": "code",
      "execution_count": 124,
      "id": "a1c16b97",
      "metadata": {},
      "outputs": [
        {
          "data": {
            "text/plain": [
              "62"
            ]
          },
          "execution_count": 124,
          "metadata": {},
          "output_type": "execute_result"
        }
      ],
      "source": [
        "cadena.index(\"el\")"
      ]
    },
    {
      "cell_type": "code",
      "execution_count": 125,
      "id": "5783d04a",
      "metadata": {},
      "outputs": [
        {
          "data": {
            "text/plain": [
              "3"
            ]
          },
          "execution_count": 125,
          "metadata": {},
          "output_type": "execute_result"
        }
      ],
      "source": [
        "# cuenta las veces que encuentranta\n",
        "\n",
        "cadena.count(\"Aunque\")\n"
      ]
    },
    {
      "cell_type": "markdown",
      "id": "5a74c01d",
      "metadata": {},
      "source": [
        "Reemplazar elementos de una cadena"
      ]
    },
    {
      "cell_type": "code",
      "execution_count": 126,
      "id": "f716fc09",
      "metadata": {},
      "outputs": [
        {
          "data": {
            "text/plain": [
              "'Quien bien anda bien acaba'"
            ]
          },
          "execution_count": 126,
          "metadata": {},
          "output_type": "execute_result"
        }
      ],
      "source": [
        "cadena = 'Quien mal anda mal acaba'\n",
        "\n",
        "cadena.replace(\"mal\",\"bien\")"
      ]
    },
    {
      "cell_type": "markdown",
      "id": "339e638a",
      "metadata": {},
      "source": [
        "Mayusculas y minusculas\n",
        "\n"
      ]
    },
    {
      "cell_type": "code",
      "execution_count": 127,
      "id": "be18fef9",
      "metadata": {},
      "outputs": [
        {
          "data": {
            "text/plain": [
              "'Quien mal anda mal acaba'"
            ]
          },
          "execution_count": 127,
          "metadata": {},
          "output_type": "execute_result"
        }
      ],
      "source": [
        "cadena = 'quien mal anda mal acaba'\n",
        "cadena.capitalize()"
      ]
    },
    {
      "cell_type": "code",
      "execution_count": 128,
      "id": "dbd3bd34",
      "metadata": {},
      "outputs": [
        {
          "data": {
            "text/plain": [
              "'Quien Mal Anda Mal Acaba'"
            ]
          },
          "execution_count": 128,
          "metadata": {},
          "output_type": "execute_result"
        }
      ],
      "source": [
        "cadena.title()"
      ]
    },
    {
      "cell_type": "code",
      "execution_count": 129,
      "id": "7e2cd4bc",
      "metadata": {},
      "outputs": [
        {
          "data": {
            "text/plain": [
              "'QUIEN MAL ANDA MAL ACABA'"
            ]
          },
          "execution_count": 129,
          "metadata": {},
          "output_type": "execute_result"
        }
      ],
      "source": [
        "cadena.upper()"
      ]
    },
    {
      "cell_type": "code",
      "execution_count": 130,
      "id": "ecc71cf6",
      "metadata": {},
      "outputs": [
        {
          "data": {
            "text/plain": [
              "'quien mal anda mal acaba'"
            ]
          },
          "execution_count": 130,
          "metadata": {},
          "output_type": "execute_result"
        }
      ],
      "source": [
        "cadena.lower()"
      ]
    },
    {
      "cell_type": "code",
      "execution_count": 131,
      "id": "836a8ffe",
      "metadata": {},
      "outputs": [
        {
          "data": {
            "text/plain": [
              "'QUIEN MAL ANDA MAL ACABA'"
            ]
          },
          "execution_count": 131,
          "metadata": {},
          "output_type": "execute_result"
        }
      ],
      "source": [
        "cadena.swapcase()"
      ]
    },
    {
      "cell_type": "markdown",
      "id": "f384889c",
      "metadata": {},
      "source": [
        "Identificando caracteres"
      ]
    },
    {
      "cell_type": "code",
      "execution_count": 132,
      "id": "3682c65c",
      "metadata": {},
      "outputs": [
        {
          "data": {
            "text/plain": [
              "True"
            ]
          },
          "execution_count": 132,
          "metadata": {},
          "output_type": "execute_result"
        }
      ],
      "source": [
        "'R2D2'.isalnum()"
      ]
    },
    {
      "cell_type": "code",
      "execution_count": 133,
      "id": "9b1fed5f",
      "metadata": {},
      "outputs": [
        {
          "data": {
            "text/plain": [
              "False"
            ]
          },
          "execution_count": 133,
          "metadata": {},
          "output_type": "execute_result"
        }
      ],
      "source": [
        "'R2+D2'.isalnum()"
      ]
    },
    {
      "cell_type": "code",
      "execution_count": 134,
      "id": "302bd005",
      "metadata": {},
      "outputs": [
        {
          "data": {
            "text/plain": [
              "True"
            ]
          },
          "execution_count": 134,
          "metadata": {},
          "output_type": "execute_result"
        }
      ],
      "source": [
        "'3123'.isnumeric()"
      ]
    },
    {
      "cell_type": "code",
      "execution_count": 135,
      "id": "fe8fd8f2",
      "metadata": {},
      "outputs": [
        {
          "data": {
            "text/plain": [
              "True"
            ]
          },
          "execution_count": 135,
          "metadata": {},
          "output_type": "execute_result"
        }
      ],
      "source": [
        "'abc'.isalpha()"
      ]
    },
    {
      "cell_type": "code",
      "execution_count": 136,
      "id": "17e5827c",
      "metadata": {},
      "outputs": [
        {
          "data": {
            "text/plain": [
              "True"
            ]
          },
          "execution_count": 136,
          "metadata": {},
          "output_type": "execute_result"
        }
      ],
      "source": [
        "'ASFD'.isupper()"
      ]
    },
    {
      "cell_type": "code",
      "execution_count": 137,
      "id": "79741d2b",
      "metadata": {},
      "outputs": [
        {
          "data": {
            "text/plain": [
              "True"
            ]
          },
          "execution_count": 137,
          "metadata": {},
          "output_type": "execute_result"
        }
      ],
      "source": [
        "'aslfdj'.islower()"
      ]
    },
    {
      "cell_type": "code",
      "execution_count": 138,
      "id": "0042b3cf",
      "metadata": {},
      "outputs": [
        {
          "data": {
            "text/plain": [
              "True"
            ]
          },
          "execution_count": 138,
          "metadata": {},
          "output_type": "execute_result"
        }
      ],
      "source": [
        "'Es Un Titulo'.istitle()"
      ]
    },
    {
      "cell_type": "markdown",
      "id": "57e95e31",
      "metadata": {},
      "source": [
        "Formateando Cadenas"
      ]
    },
    {
      "cell_type": "markdown",
      "id": "2268fba6",
      "metadata": {},
      "source": [
        "Los «f-strings» proporcionan una gran variedad de opciones de formateado: ancho del\n",
        "texto, número de decimales, tamaño de la cifra, alineación, etc."
      ]
    },
    {
      "cell_type": "code",
      "execution_count": 139,
      "id": "f6796d6f",
      "metadata": {},
      "outputs": [],
      "source": [
        "name = 'María Perez'\n",
        "edad = 30\n",
        "telefono ='32423423424'\n"
      ]
    },
    {
      "cell_type": "code",
      "execution_count": 140,
      "id": "7269ed74",
      "metadata": {},
      "outputs": [
        {
          "data": {
            "text/plain": [
              "'Me llamo María Perez, tengo 30 años y mi telefono es 32423423424'"
            ]
          },
          "execution_count": 140,
          "metadata": {},
          "output_type": "execute_result"
        }
      ],
      "source": [
        "f'Me llamo {name}, tengo {edad} años y mi telefono es {telefono}'\n"
      ]
    },
    {
      "cell_type": "code",
      "execution_count": 141,
      "id": "809af5f2",
      "metadata": {},
      "outputs": [
        {
          "data": {
            "text/plain": [
              "'El precio es       2332'"
            ]
          },
          "execution_count": 141,
          "metadata": {},
          "output_type": "execute_result"
        }
      ],
      "source": [
        "#formato de tamaño \n",
        "precio = 2332\n",
        "f'El precio es {precio:10d}'"
      ]
    },
    {
      "cell_type": "code",
      "execution_count": 142,
      "id": "ed2a7657",
      "metadata": {},
      "outputs": [
        {
          "data": {
            "text/plain": [
              "'El precio es 0000002332'"
            ]
          },
          "execution_count": 142,
          "metadata": {},
          "output_type": "execute_result"
        }
      ],
      "source": [
        "f'El precio es {precio:010d}'"
      ]
    },
    {
      "cell_type": "markdown",
      "id": "cef29a46",
      "metadata": {},
      "source": [
        "Formato con otras de bases de sistemas de numeración"
      ]
    },
    {
      "cell_type": "code",
      "execution_count": 143,
      "id": "6f1335b8",
      "metadata": {},
      "outputs": [
        {
          "data": {
            "text/plain": [
              "'170'"
            ]
          },
          "execution_count": 143,
          "metadata": {},
          "output_type": "execute_result"
        }
      ],
      "source": [
        "value = 0b0010101010\n",
        "f'{value}'"
      ]
    },
    {
      "cell_type": "code",
      "execution_count": 144,
      "id": "0412c434",
      "metadata": {},
      "outputs": [
        {
          "data": {
            "text/plain": [
              "'10101010'"
            ]
          },
          "execution_count": 144,
          "metadata": {},
          "output_type": "execute_result"
        }
      ],
      "source": [
        "f'{value:b}'"
      ]
    },
    {
      "cell_type": "code",
      "execution_count": 145,
      "id": "9461280c",
      "metadata": {},
      "outputs": [
        {
          "data": {
            "text/plain": [
              "'252'"
            ]
          },
          "execution_count": 145,
          "metadata": {},
          "output_type": "execute_result"
        }
      ],
      "source": [
        "f'{value:o}'"
      ]
    },
    {
      "cell_type": "code",
      "execution_count": 146,
      "id": "66021bf1",
      "metadata": {},
      "outputs": [
        {
          "data": {
            "text/plain": [
              "'aa'"
            ]
          },
          "execution_count": 146,
          "metadata": {},
          "output_type": "execute_result"
        }
      ],
      "source": [
        "f'{value:x}'"
      ]
    },
    {
      "cell_type": "markdown",
      "id": "53ad6a2c",
      "metadata": {},
      "source": [
        "Formato a valores flotantes\n"
      ]
    },
    {
      "cell_type": "code",
      "execution_count": 147,
      "id": "0edc5667",
      "metadata": {},
      "outputs": [],
      "source": [
        "pi = 3.141592654"
      ]
    },
    {
      "cell_type": "code",
      "execution_count": 148,
      "id": "355ce5e9",
      "metadata": {},
      "outputs": [
        {
          "data": {
            "text/plain": [
              "'3.141593'"
            ]
          },
          "execution_count": 148,
          "metadata": {},
          "output_type": "execute_result"
        }
      ],
      "source": [
        "f'{pi:f}'"
      ]
    },
    {
      "cell_type": "code",
      "execution_count": 149,
      "id": "b9d6e72d",
      "metadata": {},
      "outputs": [
        {
          "data": {
            "text/plain": [
              "'3.142'"
            ]
          },
          "execution_count": 149,
          "metadata": {},
          "output_type": "execute_result"
        }
      ],
      "source": [
        "f'{pi:.3f}'"
      ]
    },
    {
      "cell_type": "code",
      "execution_count": 150,
      "id": "94f3d989",
      "metadata": {},
      "outputs": [
        {
          "data": {
            "text/plain": [
              "'    3.141593'"
            ]
          },
          "execution_count": 150,
          "metadata": {},
          "output_type": "execute_result"
        }
      ],
      "source": [
        "f'{pi:12f}'"
      ]
    },
    {
      "cell_type": "code",
      "execution_count": 151,
      "id": "ae75ea06",
      "metadata": {},
      "outputs": [
        {
          "data": {
            "text/plain": [
              "'   3.14'"
            ]
          },
          "execution_count": 151,
          "metadata": {},
          "output_type": "execute_result"
        }
      ],
      "source": [
        "f'{pi:7.2f}'"
      ]
    },
    {
      "cell_type": "code",
      "execution_count": 152,
      "id": "bd7543f6",
      "metadata": {},
      "outputs": [
        {
          "data": {
            "text/plain": [
              "'0003.14'"
            ]
          },
          "execution_count": 152,
          "metadata": {},
          "output_type": "execute_result"
        }
      ],
      "source": [
        "f'{pi:07.2f}'"
      ]
    },
    {
      "cell_type": "code",
      "execution_count": 153,
      "id": "62a40d8c",
      "metadata": {},
      "outputs": [
        {
          "data": {
            "text/plain": [
              "'003.141593'"
            ]
          },
          "execution_count": 153,
          "metadata": {},
          "output_type": "execute_result"
        }
      ],
      "source": [
        "f'{pi:010f}'"
      ]
    },
    {
      "cell_type": "code",
      "execution_count": 154,
      "id": "50899dea",
      "metadata": {},
      "outputs": [
        {
          "data": {
            "text/plain": [
              "'3.141593e+00'"
            ]
          },
          "execution_count": 154,
          "metadata": {},
          "output_type": "execute_result"
        }
      ],
      "source": [
        "f'{pi:e}'"
      ]
    },
    {
      "cell_type": "markdown",
      "id": "4fb10b84",
      "metadata": {},
      "source": [
        "Alineando valores"
      ]
    },
    {
      "cell_type": "code",
      "execution_count": 155,
      "id": "c43b937f",
      "metadata": {},
      "outputs": [],
      "source": [
        "texto1 ='Como'\n",
        "texto2 ='estás'\n",
        "texto3 = 'tu'"
      ]
    },
    {
      "cell_type": "code",
      "execution_count": 156,
      "id": "6c192604",
      "metadata": {},
      "outputs": [
        {
          "data": {
            "text/plain": [
              "'Como   |   estás   |     tu'"
            ]
          },
          "execution_count": 156,
          "metadata": {},
          "output_type": "execute_result"
        }
      ],
      "source": [
        "f'{texto1:<7s}|{texto2:^11s}|{texto3:>7s}'"
      ]
    },
    {
      "cell_type": "markdown",
      "id": "476c81e9",
      "metadata": {},
      "source": [
        "Modo \"debug\"\n",
        "A partir de Python 3.8, los «f-strings» permiten imprimir el nombre de la variable y su valor,\n",
        "como un atajo para depurar nuestro código. Para ello sólo tenemos que incluir un símbolo =\n",
        "después del nombre de la variable:"
      ]
    },
    {
      "cell_type": "code",
      "execution_count": 157,
      "id": "face61a3",
      "metadata": {},
      "outputs": [],
      "source": [
        "nombre =\"Juana\"\n",
        "estatura = 1.54\n",
        "edad = 39"
      ]
    },
    {
      "cell_type": "code",
      "execution_count": 158,
      "id": "991ee83a",
      "metadata": {},
      "outputs": [
        {
          "data": {
            "text/plain": [
              "\"nombre='Juana'\""
            ]
          },
          "execution_count": 158,
          "metadata": {},
          "output_type": "execute_result"
        }
      ],
      "source": [
        "f'{nombre=}'"
      ]
    },
    {
      "cell_type": "code",
      "execution_count": 159,
      "id": "894dd685",
      "metadata": {},
      "outputs": [
        {
          "data": {
            "text/plain": [
              "'estatura=1.54'"
            ]
          },
          "execution_count": 159,
          "metadata": {},
          "output_type": "execute_result"
        }
      ],
      "source": [
        "f'{estatura=}'"
      ]
    },
    {
      "cell_type": "code",
      "execution_count": 160,
      "id": "13b17a7e",
      "metadata": {},
      "outputs": [
        {
          "data": {
            "text/plain": [
              "'edad=39'"
            ]
          },
          "execution_count": 160,
          "metadata": {},
          "output_type": "execute_result"
        }
      ],
      "source": [
        "f'{edad=}'"
      ]
    },
    {
      "cell_type": "code",
      "execution_count": 161,
      "id": "0bb2293f",
      "metadata": {},
      "outputs": [
        {
          "data": {
            "text/plain": [
              "\"nombre[2:]='ana'\""
            ]
          },
          "execution_count": 161,
          "metadata": {},
          "output_type": "execute_result"
        }
      ],
      "source": [
        "f'{nombre[2:]=}'"
      ]
    },
    {
      "cell_type": "code",
      "execution_count": 162,
      "id": "bbf4aa3e",
      "metadata": {},
      "outputs": [
        {
          "data": {
            "text/plain": [
              "'edad/estatura=25.324675324675326'"
            ]
          },
          "execution_count": 162,
          "metadata": {},
          "output_type": "execute_result"
        }
      ],
      "source": [
        "f'{edad/estatura=}'"
      ]
    }
  ],
  "metadata": {
    "kernelspec": {
      "display_name": "Python 3.10.7 64-bit",
      "language": "python",
      "name": "python3"
    },
    "language_info": {
      "codemirror_mode": {
        "name": "ipython",
        "version": 3
      },
      "file_extension": ".py",
      "mimetype": "text/x-python",
      "name": "python",
      "nbconvert_exporter": "python",
      "pygments_lexer": "ipython3",
      "version": "3.10.7"
    },
    "vscode": {
      "interpreter": {
        "hash": "12012e29cfdd80c6232e78c9cc61e00b538a7283e7f08a6e0e05e20d023ad832"
      }
    }
  },
  "nbformat": 4,
  "nbformat_minor": 5
}
