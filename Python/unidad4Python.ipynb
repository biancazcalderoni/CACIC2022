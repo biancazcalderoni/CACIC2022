{
  "cells": [
    {
      "cell_type": "markdown",
      "metadata": {},
      "source": [
        "## UNIDAD 4 \n",
        "# Archivos"
      ]
    },
    {
      "cell_type": "markdown",
      "metadata": {},
      "source": [
        "Python ofrece la función open() para «abrir» un fichero. Esta apertura se puede realizar en\n",
        "3 modos distintos:<br>\n",
        "• Lectura del contenido de un fichero existente.<br>\n",
        "• Escritura del contenido en un fichero nuevo.<br>\n",
        "• Añadido al contenido de un fichero existente.<br>\n"
      ]
    },
    {
      "cell_type": "markdown",
      "metadata": {},
      "source": []
    },
    {
      "cell_type": "markdown",
      "metadata": {},
      "source": [
        "4.1 Lectura de un fichero <br>\n",
        "\n",
        "Veamos un ejemplo para leer el contenido de un fichero en el que se encuentran las\n",
        "temperaturas máximas y mínimas de cada día de la última semana."
      ]
    },
    {
      "cell_type": "code",
      "execution_count": null,
      "metadata": {},
      "outputs": [],
      "source": [
        "# read() Devuelve todo el contenido del fichero como una cadena de texto (str):\n",
        "f = open('files/temp.txt')\n",
        "f.read()\n"
      ]
    },
    {
      "cell_type": "code",
      "execution_count": null,
      "metadata": {},
      "outputs": [],
      "source": [
        "#readlines() Devuelve todo el contenido del fichero como una lista (list) donde cada\n",
        "#elemento es una línea:\n",
        "f = open('files/temp.txt')\n",
        "f.readlines()"
      ]
    },
    {
      "cell_type": "code",
      "execution_count": null,
      "metadata": {},
      "outputs": [],
      "source": [
        "# Lectura línea por línea\n",
        "f = open('files/temp.txt')\n",
        "for line in f:\n",
        "    print(line.split())\n",
        "    \n"
      ]
    },
    {
      "cell_type": "code",
      "execution_count": null,
      "metadata": {},
      "outputs": [],
      "source": [
        "# Escritura de un fichero\n",
        "f = open('files/temp1.txt','w')\n",
        "animales = ('perro', 'gato', 'caballo', 'conejo')\n",
        "for animal in animales:\n",
        "    f.write(animal + ',')\n",
        "f.close()\n",
        "f = open('files/temp1.txt','r')\n",
        "f.readlines()\n"
      ]
    },
    {
      "cell_type": "code",
      "execution_count": null,
      "metadata": {},
      "outputs": [],
      "source": [
        "# Añadido a un archivo de texto\n",
        "f = open('files/temp1.txt','a')\n",
        "animales1 = ('perro', 'gato', 'caballo', 'conejo')\n",
        "for animal in animales1:\n",
        "    f.write(animal + ',')\n",
        "f.close()\n",
        "f = open('files/temp1.txt','r')\n",
        "f.readlines()"
      ]
    },
    {
      "cell_type": "code",
      "execution_count": null,
      "metadata": {},
      "outputs": [],
      "source": [
        "# Usando contexto\n",
        "with open('files/temp.txt') as f:\n",
        "    for line in f:\n",
        "        max_temp, min_temp =line.strip().split()\n",
        "        print(max_temp, min_temp)"
      ]
    }
  ],
  "metadata": {
    "kernelspec": {
      "display_name": "Python 3.10.7 64-bit",
      "language": "python",
      "name": "python3"
    },
    "language_info": {
      "codemirror_mode": {
        "name": "ipython",
        "version": 3
      },
      "file_extension": ".py",
      "mimetype": "text/x-python",
      "name": "python",
      "nbconvert_exporter": "python",
      "pygments_lexer": "ipython3",
      "version": "3.10.7"
    },
    "orig_nbformat": 4,
    "vscode": {
      "interpreter": {
        "hash": "12012e29cfdd80c6232e78c9cc61e00b538a7283e7f08a6e0e05e20d023ad832"
      }
    }
  },
  "nbformat": 4,
  "nbformat_minor": 2
}
