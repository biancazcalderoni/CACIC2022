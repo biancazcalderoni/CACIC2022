{
 "cells": [
  {
   "cell_type": "markdown",
   "metadata": {},
   "source": [
    "## UNIDAD 6 \n",
    "# Programación Orientada a Objetos \n",
    "\n"
   ]
  },
  {
   "cell_type": "markdown",
   "metadata": {},
   "source": [
    "La programación orientada a objetos (POO) o en sus siglas inglesas OOP es una manera de programar que permite llevar al código mecanismos usados con entidades de la vida real. Sus beneficios son los siguientes:<br>\n",
    "\n",
    "-Encapsulamiento Permite empaquetar el código dentro de una unidad (objeto) donde se puede determinar el ámbito de actuación.<br>\n",
    "\n",
    "-Abstracción Permite generalizar los tipos de objetos a través de las clases y simplificar el programa.<br>\n",
    "\n",
    "-Herencia Permite reutilizar código al poder heredar atributos y comportamientos de una clase a otra.\n",
    "<br>\n",
    "- Polimorfismo Permite crear múltiples objetos a partir de una misma pieza flexible de código.<br>\n"
   ]
  },
  {
   "cell_type": "code",
   "execution_count": 19,
   "metadata": {},
   "outputs": [
    {
     "name": "stdout",
     "output_type": "stream",
     "text": [
      "chihuahua\n",
      "jugar\n"
     ]
    }
   ],
   "source": [
    "# Mi primer clase\n",
    "class Mascota:\n",
    "    #atributos de clase\n",
    "    tipo='pequeño'\n",
    "    raza ='chihuahua' # valores por defecto que permiten instanciar sin aclarar argumentos\n",
    "    tarea='jugar'\n",
    "\n",
    "# instanciación de clase\n",
    "perro = Mascota()  # objeto perro\n",
    "\"\"\"Atributos de instancia\"\"\"\n",
    "print(perro.raza)\n",
    "print(perro.tarea)"
   ]
  },
  {
   "cell_type": "code",
   "execution_count": 20,
   "metadata": {},
   "outputs": [
    {
     "name": "stdout",
     "output_type": "stream",
     "text": [
      "chihuahua\n",
      "amigo\n"
     ]
    }
   ],
   "source": [
    "#Si es necesario cambiar alguno de los atributos, puedes realizarlo con la función setattr\n",
    "setattr(perro,'tarea','amigo')\n",
    "# nombre de insrancia, argumento a cambiar, por lo que lo quiero cambiar \n",
    "print(perro.raza)\n",
    "print(perro.tarea)"
   ]
  },
  {
   "cell_type": "code",
   "execution_count": 21,
   "metadata": {},
   "outputs": [],
   "source": [
    "# Definiendo objetos y atributos\n",
    "class Registro:\n",
    "    pass\n",
    "jose=Registro()\n",
    "laura=Registro()\n",
    "maria=Registro()\n",
    "jose.edad = 30\n",
    "laura.edad = 25\n",
    "maria.edad = 30\n",
    "jose.experiencia=5\n",
    "laura.experiencia=10\n",
    "maria.experiencia=15\n",
    "jose.estado_civil='soltero'\n",
    "maria.estado_civil='casado'\n",
    "laura.estado_civil='casado'\n"
   ]
  },
  {
   "cell_type": "code",
   "execution_count": 22,
   "metadata": {},
   "outputs": [
    {
     "name": "stdout",
     "output_type": "stream",
     "text": [
      "casado\n",
      "soltero\n"
     ]
    }
   ],
   "source": [
    "# Ver los atributos de un objeto\n",
    "print(maria.estado_civil)\n",
    "print(jose.estado_civil)"
   ]
  },
  {
   "cell_type": "code",
   "execution_count": 23,
   "metadata": {},
   "outputs": [
    {
     "name": "stdout",
     "output_type": "stream",
     "text": [
      "180.0\n",
      "1020.0\n"
     ]
    }
   ],
   "source": [
    "# Añadir metodos a una clase\n",
    "class Oferta:\n",
    "    def descuento(self):\n",
    "        self.costo=1200\n",
    "        self.desc=0.15\n",
    "        self.precio=self.costo-(self.costo*self.desc)\n",
    "        \n",
    "rebaja = Oferta()\n",
    "rebaja.descuento()\n",
    "print(rebaja.costo*rebaja.desc)\n",
    "print(rebaja.precio)\n"
   ]
  },
  {
   "cell_type": "code",
   "execution_count": 24,
   "metadata": {},
   "outputs": [
    {
     "name": "stdout",
     "output_type": "stream",
     "text": [
      "Moviendo  10 pasos\n"
     ]
    }
   ],
   "source": [
    "# Método de una instancia \n",
    "class Androide:\n",
    "    def __init__(self,nombre):\n",
    "        self.nombre=nombre\n",
    "        self.distancia=0\n",
    "    def mover(self,pasos):\n",
    "        self.distancia+=pasos\n",
    "        print(f'Moviendo  {pasos} pasos')\n",
    "andro = Androide('C1-10P')\n",
    "andro.mover(10)"
   ]
  },
  {
   "cell_type": "code",
   "execution_count": 25,
   "metadata": {},
   "outputs": [
    {
     "name": "stdout",
     "output_type": "stream",
     "text": [
      "Hay 3 androides\n"
     ]
    }
   ],
   "source": [
    "# Método de una clase\n",
    "class Androide:\n",
    "    contador = 0\n",
    "    \n",
    "    def __init__(self):\n",
    "        Androide.contador+=1\n",
    "        \n",
    "    @classmethod\n",
    "    def total_androides(cls):\n",
    "        print(f'Hay {cls.contador} androides')\n",
    "andro1 = Androide()\n",
    "andro2 = Androide()\n",
    "andro3 = Androide()\n",
    "Androide.total_androides()"
   ]
  },
  {
   "cell_type": "code",
   "execution_count": 26,
   "metadata": {},
   "outputs": [
    {
     "data": {
      "text/plain": [
       "['mensaje', 'saludo', 'despedida']"
      ]
     },
     "execution_count": 26,
     "metadata": {},
     "output_type": "execute_result"
    }
   ],
   "source": [
    "# Método estático\n",
    "class Androide:\n",
    "    def __init__(self):\n",
    "        pass\n",
    "    \n",
    "    @staticmethod\n",
    "    def get_androide_cat():\n",
    "        return['mensaje','saludo','despedida']\n",
    "Androide.get_androide_cat()"
   ]
  },
  {
   "cell_type": "code",
   "execution_count": 27,
   "metadata": {},
   "outputs": [
    {
     "name": "stdout",
     "output_type": "stream",
     "text": [
      "Nombre: h1 \t Numero de serie: 123<-> Nombre: h2 \t Numero de serie: 123 True\n"
     ]
    }
   ],
   "source": [
    "# Métodos mágicos\n",
    "\n",
    "class Androide:\n",
    "    def __init__(self,nombre,numero_serie):\n",
    "        self.nombre=nombre\n",
    "        self.numero_serie=numero_serie\n",
    "    def __eq__(self,androide):\n",
    "        return self.numero_serie==androide.numero_serie\n",
    "        \n",
    "    def __str__(self):\n",
    "        return f'Nombre: {self.nombre} \\t Numero de serie: {self.numero_serie}'\n",
    "androide1 = Androide('h1',123)\n",
    "androide2 = Androide('h2',123)\n",
    "a=(androide1 == androide2)  \n",
    "print(str(androide1) + '<-> ' +str(androide2) +' '+str(a))  \n"
   ]
  },
  {
   "cell_type": "code",
   "execution_count": 28,
   "metadata": {},
   "outputs": [],
   "source": [
    "# Métodos magicos como gestor de contextos\n",
    "from time import time\n",
    "class Timer():\n",
    "    def __enter__(self):\n",
    "        self.start=time()\n",
    "    \n",
    "    def __exit__(self,exc_type,exc_value,exc_traceback):\n",
    "        self.end=time()\n",
    "        print(f'Tiempo de ejecución: {self.end-self.start}')\n"
   ]
  },
  {
   "cell_type": "code",
   "execution_count": 29,
   "metadata": {},
   "outputs": [
    {
     "name": "stdout",
     "output_type": "stream",
     "text": [
      "Tiempo de ejecución: 0.08101820945739746\n"
     ]
    }
   ],
   "source": [
    "with Timer():\n",
    "    for _ in range(1000000):\n",
    "        x = 2 ** 20 \n",
    "\n"
   ]
  },
  {
   "cell_type": "code",
   "execution_count": 30,
   "metadata": {},
   "outputs": [
    {
     "name": "stdout",
     "output_type": "stream",
     "text": [
      "Tiempo de ejecución: 0.17854690551757812\n"
     ]
    }
   ],
   "source": [
    "with Timer():\n",
    "    x =0\n",
    "    for _ in range(1000000):\n",
    "        x+=2**20"
   ]
  },
  {
   "cell_type": "code",
   "execution_count": 31,
   "metadata": {},
   "outputs": [],
   "source": [
    "# La clase cuenta\n",
    "from decimal import Decimal\n",
    "class Cuenta:\n",
    "    def __init__(self,nombre, saldo):\n",
    "        if saldo < Decimal(0):\n",
    "            raise ValueError('El saldo no puede ser negativo')\n",
    "        self.nombre=nombre\n",
    "        self.saldo=saldo\n",
    "    def deposito(self, monto):\n",
    "        if monto< Decimal(0):\n",
    "            raise ValueError('El monto no puede ser negativo')\n",
    "        self.saldo += monto \n",
    "    def retiro(self, monto):\n",
    "        if monto< Decimal(0):\n",
    "            raise ValueError('El monto no puede ser negativo')\n",
    "        self.saldo -= monto\n",
    "    def __str__(self):\n",
    "        return f'Nombre: {self.nombre} Saldo: {self.saldo}' \n",
    "        \n"
   ]
  },
  {
   "cell_type": "code",
   "execution_count": 32,
   "metadata": {},
   "outputs": [
    {
     "name": "stdout",
     "output_type": "stream",
     "text": [
      "Jose\n",
      "1000\n"
     ]
    }
   ],
   "source": [
    "cuenta1 = Cuenta('Jose', Decimal(1000))\n",
    "print(cuenta1.nombre)\n",
    "print(cuenta1.saldo)"
   ]
  },
  {
   "cell_type": "code",
   "execution_count": 33,
   "metadata": {},
   "outputs": [
    {
     "name": "stdout",
     "output_type": "stream",
     "text": [
      "1100\n"
     ]
    }
   ],
   "source": [
    "cuenta1.deposito(Decimal(100))\n",
    "print(cuenta1.saldo)"
   ]
  },
  {
   "cell_type": "code",
   "execution_count": 34,
   "metadata": {},
   "outputs": [
    {
     "name": "stdout",
     "output_type": "stream",
     "text": [
      "Nombre: Jose Saldo: 1100\n"
     ]
    }
   ],
   "source": [
    "print(str(cuenta1))"
   ]
  },
  {
   "cell_type": "code",
   "execution_count": 35,
   "metadata": {},
   "outputs": [],
   "source": [
    "cuenta2 = Cuenta('Laura', Decimal(2000))"
   ]
  },
  {
   "cell_type": "code",
   "execution_count": 36,
   "metadata": {},
   "outputs": [
    {
     "ename": "ValueError",
     "evalue": "El monto no puede ser negativo",
     "output_type": "error",
     "traceback": [
      "\u001b[1;31m---------------------------------------------------------------------------\u001b[0m",
      "\u001b[1;31mValueError\u001b[0m                                Traceback (most recent call last)",
      "Cell \u001b[1;32mIn [36], line 1\u001b[0m\n\u001b[1;32m----> 1\u001b[0m cuenta2\u001b[38;5;241m.\u001b[39mdeposito(\u001b[38;5;241m-\u001b[39m\u001b[38;5;241m10\u001b[39m)\n",
      "Cell \u001b[1;32mIn [31], line 11\u001b[0m, in \u001b[0;36mCuenta.deposito\u001b[1;34m(self, monto)\u001b[0m\n\u001b[0;32m      9\u001b[0m \u001b[38;5;28;01mdef\u001b[39;00m \u001b[38;5;21mdeposito\u001b[39m(\u001b[38;5;28mself\u001b[39m, monto):\n\u001b[0;32m     10\u001b[0m     \u001b[38;5;28;01mif\u001b[39;00m monto\u001b[38;5;241m<\u001b[39m Decimal(\u001b[38;5;241m0\u001b[39m):\n\u001b[1;32m---> 11\u001b[0m         \u001b[38;5;28;01mraise\u001b[39;00m \u001b[38;5;167;01mValueError\u001b[39;00m(\u001b[38;5;124m'\u001b[39m\u001b[38;5;124mEl monto no puede ser negativo\u001b[39m\u001b[38;5;124m'\u001b[39m)\n\u001b[0;32m     12\u001b[0m     \u001b[38;5;28mself\u001b[39m\u001b[38;5;241m.\u001b[39msaldo \u001b[38;5;241m+\u001b[39m\u001b[38;5;241m=\u001b[39m monto\n",
      "\u001b[1;31mValueError\u001b[0m: El monto no puede ser negativo"
     ]
    }
   ],
   "source": [
    "cuenta2.deposito(-10)"
   ]
  },
  {
   "cell_type": "code",
   "execution_count": null,
   "metadata": {},
   "outputs": [],
   "source": [
    "# Usando propiedades\n",
    "class Persona:\n",
    "    def __init__(self,nombre):\n",
    "        self.hidden_nombre=nombre\n",
    "    \n",
    "        @property   \n",
    "        def nombre(self):\n",
    "            print('Metodo geter')\n",
    "            return self.hidden_nombre   \n",
    "        \n",
    "        @nombre.setter \n",
    "        def nombre(self, nombre):\n",
    "            print('Metodo seter')\n",
    "            self.hidden_nombre=nombre\n",
    "            "
   ]
  },
  {
   "cell_type": "code",
   "execution_count": null,
   "metadata": {},
   "outputs": [],
   "source": [
    "juan = Persona('Juan1')\n",
    "juan.hidden_nombre  \n",
    "juan.hidden_nombre='Juan2'\n",
    "\n",
    "\n",
    "\n"
   ]
  },
  {
   "cell_type": "markdown",
   "metadata": {},
   "source": [
    "Herencia"
   ]
  },
  {
   "cell_type": "code",
   "execution_count": null,
   "metadata": {},
   "outputs": [],
   "source": [
    "# Herencia\n",
    "# Heredar de una clase \n",
    "class Personal:\n",
    "    pass\n",
    "    def __init__(self,nombre,apellido,cargo):\n",
    "        self.nombre=nombre\n",
    "        self.apellido=apellido\n",
    "        self.cargo=cargo\n",
    "    def detalle(self):\n",
    "        return f'{self.nombre} {self.apellido} trabaja como {self.cargo}'\n"
   ]
  },
  {
   "cell_type": "code",
   "execution_count": null,
   "metadata": {},
   "outputs": [],
   "source": [
    "persona1= Personal('Juan','Perez','Gerente')\n",
    "persona1.detalle()\n"
   ]
  },
  {
   "cell_type": "code",
   "execution_count": null,
   "metadata": {},
   "outputs": [],
   "source": [
    "# Clase pers_nuevo hereda de la clase Personal\n",
    "class pers_nuevo(Personal):\n",
    "    def contratacion(self,contrato):\n",
    "        return f'{self.nombre} {self.apellido} tiene contrato {contrato}.'\n",
    "    \n",
    "persona3=pers_nuevo('Laura','Gomez','Asistente')\n",
    "persona3.detalle()\n",
    "print(persona3.contratacion('temporal'))\n"
   ]
  },
  {
   "cell_type": "code",
   "execution_count": null,
   "metadata": {},
   "outputs": [],
   "source": [
    "# La clase cuenta ahora para herencia\n",
    "from decimal import Decimal\n",
    "class Cuenta:\n",
    "    def __init__(self,nombre, saldo):\n",
    "        if saldo < Decimal(0):\n",
    "            raise ValueError('El saldo no puede ser negativo')\n",
    "        self.nombre=nombre\n",
    "        self.saldo=saldo\n",
    "    def informacion(self):\n",
    "        return f'Nombre: {self.nombre} Saldo: {self.saldo}' \n",
    "    def __str__(self):\n",
    "        return f'Nombre: {self.nombre} Saldo: {self.saldo}' \n",
    "    \n",
    "class Ahorro(Cuenta):\n",
    "    def cantidad(self,deposito):\n",
    "        if deposito< Decimal(0):\n",
    "            raise ValueError('El monto no puede ser negativo')  \n",
    "        self.saldo += deposito\n",
    "        return f'{self.nombre} tiene ahora en su cuenta {self.saldo}'\n",
    "\n",
    "class Gasto(Cuenta):\n",
    "    def retiro(self, monto):\n",
    "        if monto< Decimal(0):\n",
    "            raise ValueError('El monto no puede ser negativo')\n",
    "        self.saldo -= monto\n",
    "        return f'{self.nombre} tiene en su cuenta {self.saldo}'\n"
   ]
  },
  {
   "cell_type": "code",
   "execution_count": null,
   "metadata": {},
   "outputs": [],
   "source": [
    "cuenta1 = Ahorro('Jose', Decimal(1000))\n",
    "print(str(cuenta1))\n",
    "print(cuenta1.informacion())\n",
    "cuenta1.cantidad(Decimal(100))\n",
    "cuenta2= Gasto('Jose', Decimal(1000))\n",
    "cuenta2.retiro(100)\n",
    "print(f'{cuenta2.saldo} es el saldo de la cuenta de {cuenta2.nombre}')"
   ]
  },
  {
   "cell_type": "code",
   "execution_count": null,
   "metadata": {},
   "outputs": [],
   "source": [
    "# Sobreescritura de métodos\n",
    "class Androide:\n",
    "    def encendido(self):\n",
    "        print('Encendido')\n",
    "    def apagado(self):\n",
    "        print('Apagado')\n",
    "\n",
    "class Andro(Androide):\n",
    "    def encendido(self):\n",
    "        print('Switch encendido')\n",
    "    def apagado(self):\n",
    "        print('Switch apagado')\n",
    "\n",
    "a1=Androide()\n",
    "a2=Andro()\n",
    "\n",
    "a1.encendido()\n",
    "a2.encendido()    "
   ]
  },
  {
   "cell_type": "code",
   "execution_count": null,
   "metadata": {},
   "outputs": [],
   "source": [
    "# Accediendo a la clase base \n",
    "class Androide:\n",
    "    def __init__(self,nombre):\n",
    "        self.nombre=nombre  \n",
    "\n",
    "class Andro(Androide):\n",
    "    def __init__(self,nombre,modelos):\n",
    "        super().__init__(nombre)\n",
    "        self.modelos=modelos\n",
    "\n",
    "a1 = Andro('andro1',['a1','a2','a3'])\n",
    "\n",
    "print(f'Androide {a1.nombre} tiene los modelos {a1.modelos}')\n"
   ]
  },
  {
   "cell_type": "markdown",
   "metadata": {},
   "source": [
    "POLIMORFISMO <BR>\n",
    "El polimorfismo se define como la capacidad que tienen los objetos, en diferentes clases, para\n",
    "usar un comportamiento o un atributo con el mismo nombre, pero con diferente valor."
   ]
  },
  {
   "cell_type": "code",
   "execution_count": null,
   "metadata": {},
   "outputs": [],
   "source": [
    "# Polimorfismo\n",
    "class Matematicas:\n",
    "    num_creditos = 8 \n",
    "    def creditos(self):\n",
    "        print('Matematicas 8 creditos')\n",
    "class Fisica:\n",
    "    num_creditos = 7 \n",
    "    def creditos(self):\n",
    "        print('Fisica 8 creditos')\n",
    "#Hay un objeto con diferentes valores\n",
    "#Hay dos clases con el mismo atributo  \n",
    "\n",
    "asignatura = Matematicas()\n"
   ]
  },
  {
   "cell_type": "code",
   "execution_count": null,
   "metadata": {},
   "outputs": [],
   "source": [
    "asignatura.creditos()"
   ]
  },
  {
   "cell_type": "code",
   "execution_count": null,
   "metadata": {},
   "outputs": [],
   "source": [
    "# Excepciones\n",
    "def intdiv(a,b):\n",
    "    return a // b\n",
    "intdiv (3,0)"
   ]
  },
  {
   "cell_type": "code",
   "execution_count": null,
   "metadata": {},
   "outputs": [],
   "source": [
    "# Excepciones\n",
    "def intdiv(a,b):\n",
    "    try:\n",
    "        return a // b\n",
    "    except ZeroDivisionError:\n",
    "        print('No se puede dividir entre cero')\n",
    "        \n",
    "intdiv (3,0)"
   ]
  },
  {
   "cell_type": "code",
   "execution_count": null,
   "metadata": {},
   "outputs": [],
   "source": [
    "# Excepciones\n",
    "def intdiv(a,b):\n",
    "    try:\n",
    "        return a // b\n",
    "    except TypeError:\n",
    "        print('Alguno de los argumentos no es un entero')\n",
    "    except ZeroDivisionError:\n",
    "        print('No se puede dividir entre cero')\n",
    "    except Exception as e:\n",
    "        print('Error desconocido', e)\n",
    "        \n",
    "intdiv (3,'df')"
   ]
  }
 ],
 "metadata": {
  "kernelspec": {
   "display_name": "Python 3.10.7 64-bit",
   "language": "python",
   "name": "python3"
  },
  "language_info": {
   "codemirror_mode": {
    "name": "ipython",
    "version": 3
   },
   "file_extension": ".py",
   "mimetype": "text/x-python",
   "name": "python",
   "nbconvert_exporter": "python",
   "pygments_lexer": "ipython3",
   "version": "3.10.7"
  },
  "orig_nbformat": 4,
  "vscode": {
   "interpreter": {
    "hash": "12012e29cfdd80c6232e78c9cc61e00b538a7283e7f08a6e0e05e20d023ad832"
   }
  }
 },
 "nbformat": 4,
 "nbformat_minor": 2
}
